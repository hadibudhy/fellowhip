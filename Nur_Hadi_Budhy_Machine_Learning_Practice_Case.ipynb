{
  "nbformat": 4,
  "nbformat_minor": 0,
  "metadata": {
    "colab": {
      "name": "Nur Hadi Budhy - Machine Learning Practice Case.ipynb",
      "provenance": [],
      "collapsed_sections": [
        "S7ZBfm152_Tr",
        "I-GwJOwz1MTs",
        "B3HGV00I0O7o",
        "AN14n9y304Wk",
        "wTVne6qv0TNc",
        "fKas5JWpcYB9",
        "CbBrwdps0nT8"
      ],
      "mount_file_id": "10aBfpEBI0qCyARkB2_14MKA8WFQm0zCX",
      "authorship_tag": "ABX9TyN+eYD6XsVQVA2EDlyEGpPd",
      "include_colab_link": true
    },
    "kernelspec": {
      "name": "python3",
      "display_name": "Python 3"
    }
  },
  "cells": [
    {
      "cell_type": "markdown",
      "metadata": {
        "id": "view-in-github",
        "colab_type": "text"
      },
      "source": [
        "<a href=\"https://colab.research.google.com/github/hadibudhy/fellowship/blob/main/Nur_Hadi_Budhy_Machine_Learning_Practice_Case.ipynb\" target=\"_parent\"><img src=\"https://colab.research.google.com/assets/colab-badge.svg\" alt=\"Open In Colab\"/></a>"
      ]
    },
    {
      "cell_type": "markdown",
      "metadata": {
        "id": "LvEKPu4V1yaC"
      },
      "source": [
        "Scenarios\r\n",
        "\r\n",
        "Suppose you are working in a consulting company, you meet with a client who is interested in implementing a data science project for the first time to solve their problem. You are provided with some problems to be solved, just to examine your capabilities :\r\n",
        "\r\n",
        "Dataset link: https://www.kaggle.com/mgmarques/customer-segmentation-and-market-basket-analysis/data\r\n",
        "\r\n",
        "Please select one of the cases above, and make your machine learning model. Do not forget to implement CRISP-DM steps! Please be creative and hopefully, you can implement best coding practices in your codes!"
      ]
    },
    {
      "cell_type": "markdown",
      "metadata": {
        "id": "CjZRf86R0XJo"
      },
      "source": [
        "## Data Preprocessing"
      ]
    },
    {
      "cell_type": "markdown",
      "metadata": {
        "id": "S7ZBfm152_Tr"
      },
      "source": [
        "### Import Library and Load Dataset"
      ]
    },
    {
      "cell_type": "code",
      "metadata": {
        "id": "hVQYyo8lz8b4"
      },
      "source": [
        "# Import Library\r\n",
        "import pandas as pd\r\n",
        "import numpy as np\r\n",
        "import datetime\r\n",
        "import math\r\n",
        "\r\n",
        "import seaborn as sns\r\n",
        "import matplotlib.pyplot as plt\r\n",
        "import plotly.express as px\r\n",
        "\r\n",
        "from sklearn.cluster import KMeans\r\n",
        "from sklearn import preprocessing\r\n",
        "from sklearn.metrics import davies_bouldin_score\r\n",
        "\r\n",
        "import warnings\r\n",
        "warnings.filterwarnings('ignore')"
      ],
      "execution_count": 1,
      "outputs": []
    },
    {
      "cell_type": "code",
      "metadata": {
        "colab": {
          "base_uri": "https://localhost:8080/",
          "height": 0
        },
        "id": "_M16o2iV3Exp",
        "outputId": "66a0ec3c-6ad5-472f-f7d1-1544508f1f20"
      },
      "source": [
        "# Load Dataset\r\n",
        "df_raw = pd.read_excel('/content/drive/MyDrive/Colab Notebooks/Fellowship/Online Retail.xlsx')\r\n",
        "df_raw.head()"
      ],
      "execution_count": 2,
      "outputs": [
        {
          "output_type": "execute_result",
          "data": {
            "text/html": [
              "<div>\n",
              "<style scoped>\n",
              "    .dataframe tbody tr th:only-of-type {\n",
              "        vertical-align: middle;\n",
              "    }\n",
              "\n",
              "    .dataframe tbody tr th {\n",
              "        vertical-align: top;\n",
              "    }\n",
              "\n",
              "    .dataframe thead th {\n",
              "        text-align: right;\n",
              "    }\n",
              "</style>\n",
              "<table border=\"1\" class=\"dataframe\">\n",
              "  <thead>\n",
              "    <tr style=\"text-align: right;\">\n",
              "      <th></th>\n",
              "      <th>InvoiceNo</th>\n",
              "      <th>StockCode</th>\n",
              "      <th>Description</th>\n",
              "      <th>Quantity</th>\n",
              "      <th>InvoiceDate</th>\n",
              "      <th>UnitPrice</th>\n",
              "      <th>CustomerID</th>\n",
              "      <th>Country</th>\n",
              "    </tr>\n",
              "  </thead>\n",
              "  <tbody>\n",
              "    <tr>\n",
              "      <th>0</th>\n",
              "      <td>536365</td>\n",
              "      <td>85123A</td>\n",
              "      <td>WHITE HANGING HEART T-LIGHT HOLDER</td>\n",
              "      <td>6</td>\n",
              "      <td>2010-12-01 08:26:00</td>\n",
              "      <td>2.55</td>\n",
              "      <td>17850.0</td>\n",
              "      <td>United Kingdom</td>\n",
              "    </tr>\n",
              "    <tr>\n",
              "      <th>1</th>\n",
              "      <td>536365</td>\n",
              "      <td>71053</td>\n",
              "      <td>WHITE METAL LANTERN</td>\n",
              "      <td>6</td>\n",
              "      <td>2010-12-01 08:26:00</td>\n",
              "      <td>3.39</td>\n",
              "      <td>17850.0</td>\n",
              "      <td>United Kingdom</td>\n",
              "    </tr>\n",
              "    <tr>\n",
              "      <th>2</th>\n",
              "      <td>536365</td>\n",
              "      <td>84406B</td>\n",
              "      <td>CREAM CUPID HEARTS COAT HANGER</td>\n",
              "      <td>8</td>\n",
              "      <td>2010-12-01 08:26:00</td>\n",
              "      <td>2.75</td>\n",
              "      <td>17850.0</td>\n",
              "      <td>United Kingdom</td>\n",
              "    </tr>\n",
              "    <tr>\n",
              "      <th>3</th>\n",
              "      <td>536365</td>\n",
              "      <td>84029G</td>\n",
              "      <td>KNITTED UNION FLAG HOT WATER BOTTLE</td>\n",
              "      <td>6</td>\n",
              "      <td>2010-12-01 08:26:00</td>\n",
              "      <td>3.39</td>\n",
              "      <td>17850.0</td>\n",
              "      <td>United Kingdom</td>\n",
              "    </tr>\n",
              "    <tr>\n",
              "      <th>4</th>\n",
              "      <td>536365</td>\n",
              "      <td>84029E</td>\n",
              "      <td>RED WOOLLY HOTTIE WHITE HEART.</td>\n",
              "      <td>6</td>\n",
              "      <td>2010-12-01 08:26:00</td>\n",
              "      <td>3.39</td>\n",
              "      <td>17850.0</td>\n",
              "      <td>United Kingdom</td>\n",
              "    </tr>\n",
              "  </tbody>\n",
              "</table>\n",
              "</div>"
            ],
            "text/plain": [
              "  InvoiceNo StockCode  ... CustomerID         Country\n",
              "0    536365    85123A  ...    17850.0  United Kingdom\n",
              "1    536365     71053  ...    17850.0  United Kingdom\n",
              "2    536365    84406B  ...    17850.0  United Kingdom\n",
              "3    536365    84029G  ...    17850.0  United Kingdom\n",
              "4    536365    84029E  ...    17850.0  United Kingdom\n",
              "\n",
              "[5 rows x 8 columns]"
            ]
          },
          "metadata": {
            "tags": []
          },
          "execution_count": 2
        }
      ]
    },
    {
      "cell_type": "code",
      "metadata": {
        "colab": {
          "base_uri": "https://localhost:8080/"
        },
        "id": "_bdPGaul3oZh",
        "outputId": "9db6f45d-94fb-4539-8227-bd3ea5e73b6c"
      },
      "source": [
        "#Check Data Type\r\n",
        "df_raw.info()"
      ],
      "execution_count": 3,
      "outputs": [
        {
          "output_type": "stream",
          "text": [
            "<class 'pandas.core.frame.DataFrame'>\n",
            "RangeIndex: 541909 entries, 0 to 541908\n",
            "Data columns (total 8 columns):\n",
            "InvoiceNo      541909 non-null object\n",
            "StockCode      541909 non-null object\n",
            "Description    540455 non-null object\n",
            "Quantity       541909 non-null int64\n",
            "InvoiceDate    541909 non-null datetime64[ns]\n",
            "UnitPrice      541909 non-null float64\n",
            "CustomerID     406829 non-null float64\n",
            "Country        541909 non-null object\n",
            "dtypes: datetime64[ns](1), float64(2), int64(1), object(4)\n",
            "memory usage: 33.1+ MB\n"
          ],
          "name": "stdout"
        }
      ]
    },
    {
      "cell_type": "code",
      "metadata": {
        "colab": {
          "base_uri": "https://localhost:8080/"
        },
        "id": "fMxbOVI736up",
        "outputId": "1bf936bc-2ddd-44ad-b35f-98eb4e586edc"
      },
      "source": [
        "# Check missing values\r\n",
        "missing_percentage = df_raw.isnull().sum() / df_raw.shape[0] * 100\r\n",
        "missing_percentage"
      ],
      "execution_count": 4,
      "outputs": [
        {
          "output_type": "execute_result",
          "data": {
            "text/plain": [
              "InvoiceNo       0.000000\n",
              "StockCode       0.000000\n",
              "Description     0.268311\n",
              "Quantity        0.000000\n",
              "InvoiceDate     0.000000\n",
              "UnitPrice       0.000000\n",
              "CustomerID     24.926694\n",
              "Country         0.000000\n",
              "dtype: float64"
            ]
          },
          "metadata": {
            "tags": []
          },
          "execution_count": 4
        }
      ]
    },
    {
      "cell_type": "markdown",
      "metadata": {
        "id": "PBQTEFyf56Uw"
      },
      "source": [
        "When looking at the number of null values in the data frame, it is interesting that ∼25% of the entries are not assigned to a particular customer. With the data available, it is impossible to impute values for the user and these entries are consequently useless for the current exercise."
      ]
    },
    {
      "cell_type": "markdown",
      "metadata": {
        "id": "I-GwJOwz1MTs"
      },
      "source": [
        "### Data Cleaning & Data Wrangling"
      ]
    },
    {
      "cell_type": "code",
      "metadata": {
        "colab": {
          "base_uri": "https://localhost:8080/"
        },
        "id": "2YNhJ5_61P1j",
        "outputId": "cc40b1be-fb01-427f-ebb8-67559cca147d"
      },
      "source": [
        "# Drop customer missing values\r\n",
        "df_raw2 = df_raw.copy(deep=True)\r\n",
        "df_raw2.dropna(axis = 0, subset = ['CustomerID'], inplace = True)\r\n",
        "df_raw2.info()"
      ],
      "execution_count": 5,
      "outputs": [
        {
          "output_type": "stream",
          "text": [
            "<class 'pandas.core.frame.DataFrame'>\n",
            "Int64Index: 406829 entries, 0 to 541908\n",
            "Data columns (total 8 columns):\n",
            "InvoiceNo      406829 non-null object\n",
            "StockCode      406829 non-null object\n",
            "Description    406829 non-null object\n",
            "Quantity       406829 non-null int64\n",
            "InvoiceDate    406829 non-null datetime64[ns]\n",
            "UnitPrice      406829 non-null float64\n",
            "CustomerID     406829 non-null float64\n",
            "Country        406829 non-null object\n",
            "dtypes: datetime64[ns](1), float64(2), int64(1), object(4)\n",
            "memory usage: 27.9+ MB\n"
          ],
          "name": "stdout"
        }
      ]
    },
    {
      "cell_type": "markdown",
      "metadata": {
        "id": "YPnJaMEy7RAX"
      },
      "source": [
        "As a result of eliminating CostumerId missing values, we now have a data frame that is 100% filled for all variables! "
      ]
    },
    {
      "cell_type": "code",
      "metadata": {
        "colab": {
          "base_uri": "https://localhost:8080/"
        },
        "id": "VywTyGBh7kyS",
        "outputId": "e663f99d-baea-4444-db03-e9940c9f3d29"
      },
      "source": [
        "#Duplicate Entries\r\n",
        "print('Entries Duplicate: {}'.format(df_raw2.duplicated().sum()))"
      ],
      "execution_count": 6,
      "outputs": [
        {
          "output_type": "stream",
          "text": [
            "Entries Duplicate: 5225\n"
          ],
          "name": "stdout"
        }
      ]
    },
    {
      "cell_type": "code",
      "metadata": {
        "colab": {
          "base_uri": "https://localhost:8080/"
        },
        "id": "plJ0_tup7vfX",
        "outputId": "fbb550e5-d1ec-4849-cc58-680cdd765c63"
      },
      "source": [
        "#Drop Duplicate\r\n",
        "df_raw3 = df_raw2.copy(deep=True)\r\n",
        "df_raw3.drop_duplicates(inplace = True)\r\n",
        "\r\n",
        "#Assign dtype\r\n",
        "df_raw3['CustomerID'] = df_raw3['CustomerID'].astype(np.int64)\r\n",
        "df_raw3.info()"
      ],
      "execution_count": 7,
      "outputs": [
        {
          "output_type": "stream",
          "text": [
            "<class 'pandas.core.frame.DataFrame'>\n",
            "Int64Index: 401604 entries, 0 to 541908\n",
            "Data columns (total 8 columns):\n",
            "InvoiceNo      401604 non-null object\n",
            "StockCode      401604 non-null object\n",
            "Description    401604 non-null object\n",
            "Quantity       401604 non-null int64\n",
            "InvoiceDate    401604 non-null datetime64[ns]\n",
            "UnitPrice      401604 non-null float64\n",
            "CustomerID     401604 non-null int64\n",
            "Country        401604 non-null object\n",
            "dtypes: datetime64[ns](1), float64(1), int64(2), object(4)\n",
            "memory usage: 27.6+ MB\n"
          ],
          "name": "stdout"
        }
      ]
    },
    {
      "cell_type": "code",
      "metadata": {
        "colab": {
          "base_uri": "https://localhost:8080/",
          "height": 0
        },
        "id": "HZ4lAH6FOI5E",
        "outputId": "09ac5c81-54f2-4d68-a933-a8df3ebc1dc9"
      },
      "source": [
        "df_raw3.describe()"
      ],
      "execution_count": 8,
      "outputs": [
        {
          "output_type": "execute_result",
          "data": {
            "text/html": [
              "<div>\n",
              "<style scoped>\n",
              "    .dataframe tbody tr th:only-of-type {\n",
              "        vertical-align: middle;\n",
              "    }\n",
              "\n",
              "    .dataframe tbody tr th {\n",
              "        vertical-align: top;\n",
              "    }\n",
              "\n",
              "    .dataframe thead th {\n",
              "        text-align: right;\n",
              "    }\n",
              "</style>\n",
              "<table border=\"1\" class=\"dataframe\">\n",
              "  <thead>\n",
              "    <tr style=\"text-align: right;\">\n",
              "      <th></th>\n",
              "      <th>Quantity</th>\n",
              "      <th>UnitPrice</th>\n",
              "      <th>CustomerID</th>\n",
              "    </tr>\n",
              "  </thead>\n",
              "  <tbody>\n",
              "    <tr>\n",
              "      <th>count</th>\n",
              "      <td>401604.000000</td>\n",
              "      <td>401604.000000</td>\n",
              "      <td>401604.000000</td>\n",
              "    </tr>\n",
              "    <tr>\n",
              "      <th>mean</th>\n",
              "      <td>12.183273</td>\n",
              "      <td>3.474064</td>\n",
              "      <td>15281.160818</td>\n",
              "    </tr>\n",
              "    <tr>\n",
              "      <th>std</th>\n",
              "      <td>250.283037</td>\n",
              "      <td>69.764035</td>\n",
              "      <td>1714.006089</td>\n",
              "    </tr>\n",
              "    <tr>\n",
              "      <th>min</th>\n",
              "      <td>-80995.000000</td>\n",
              "      <td>0.000000</td>\n",
              "      <td>12346.000000</td>\n",
              "    </tr>\n",
              "    <tr>\n",
              "      <th>25%</th>\n",
              "      <td>2.000000</td>\n",
              "      <td>1.250000</td>\n",
              "      <td>13939.000000</td>\n",
              "    </tr>\n",
              "    <tr>\n",
              "      <th>50%</th>\n",
              "      <td>5.000000</td>\n",
              "      <td>1.950000</td>\n",
              "      <td>15145.000000</td>\n",
              "    </tr>\n",
              "    <tr>\n",
              "      <th>75%</th>\n",
              "      <td>12.000000</td>\n",
              "      <td>3.750000</td>\n",
              "      <td>16784.000000</td>\n",
              "    </tr>\n",
              "    <tr>\n",
              "      <th>max</th>\n",
              "      <td>80995.000000</td>\n",
              "      <td>38970.000000</td>\n",
              "      <td>18287.000000</td>\n",
              "    </tr>\n",
              "  </tbody>\n",
              "</table>\n",
              "</div>"
            ],
            "text/plain": [
              "            Quantity      UnitPrice     CustomerID\n",
              "count  401604.000000  401604.000000  401604.000000\n",
              "mean       12.183273       3.474064   15281.160818\n",
              "std       250.283037      69.764035    1714.006089\n",
              "min    -80995.000000       0.000000   12346.000000\n",
              "25%         2.000000       1.250000   13939.000000\n",
              "50%         5.000000       1.950000   15145.000000\n",
              "75%        12.000000       3.750000   16784.000000\n",
              "max     80995.000000   38970.000000   18287.000000"
            ]
          },
          "metadata": {
            "tags": []
          },
          "execution_count": 8
        }
      ]
    },
    {
      "cell_type": "markdown",
      "metadata": {
        "id": "r29KPZt7Oig9"
      },
      "source": [
        "We can see that Quantity has negative values which may indicate that we have some return transactions in our results. Also, UnitPrice has zero value in the preceding output.\r\n",
        "We need to delete these records because our target is consumer segmentation and market basket analysis, but first, we'll see if any records are both negative or one that is negative and the other is zero. "
      ]
    },
    {
      "cell_type": "code",
      "metadata": {
        "colab": {
          "base_uri": "https://localhost:8080/"
        },
        "id": "zkUdVTc1Qpf-",
        "outputId": "8945a9c8-d7f1-4558-de89-be774d7389fe"
      },
      "source": [
        "# Check if we had negative quantity and prices at same register\r\n",
        "print('Check if we had negative quantity and prices at same register:',\r\n",
        "     'No' if df_raw3[(df_raw3.Quantity<0) & (df_raw3.UnitPrice<0)].shape[0] == 0 else 'Yes', '\\n')\r\n",
        "\r\n",
        "#Negative Quantity\r\n",
        "print('Negative Quantity: {:3.2%}'.format(df_raw3[(df_raw3.Quantity<0)].shape[0]/df_raw3.shape[0]))\r\n",
        "\r\n",
        "#Check register with negative quantity\r\n",
        "print('\\nAll register with negative quantity has Invoice start with:', \r\n",
        "      df_raw3.loc[(df_raw3.Quantity<0) & ~(df_raw3.CustomerID.isnull()), 'InvoiceNo'].apply(lambda x: x[0]).unique())"
      ],
      "execution_count": 9,
      "outputs": [
        {
          "output_type": "stream",
          "text": [
            "Check if we had negative quantity and prices at same register: No \n",
            "\n",
            "Negative Quantity: 2.21%\n",
            "\n",
            "All register with negative quantity has Invoice start with: ['C']\n"
          ],
          "name": "stdout"
        }
      ]
    },
    {
      "cell_type": "code",
      "metadata": {
        "colab": {
          "base_uri": "https://localhost:8080/",
          "height": 0
        },
        "id": "7Fno3RYiSt96",
        "outputId": "c1bdab5e-7f74-4a67-b74f-273f7015efde"
      },
      "source": [
        "print('Sales records with Customer ID and zero in Unit Price:',df_raw3[(df_raw3.UnitPrice==0)  & ~(df_raw3.CustomerID.isnull())].shape[0])\r\n",
        "df_raw3[(df_raw3.UnitPrice==0)  & ~(df_raw3.CustomerID.isnull())]"
      ],
      "execution_count": 10,
      "outputs": [
        {
          "output_type": "stream",
          "text": [
            "Sales records with Customer ID and zero in Unit Price: 40\n"
          ],
          "name": "stdout"
        },
        {
          "output_type": "execute_result",
          "data": {
            "text/html": [
              "<div>\n",
              "<style scoped>\n",
              "    .dataframe tbody tr th:only-of-type {\n",
              "        vertical-align: middle;\n",
              "    }\n",
              "\n",
              "    .dataframe tbody tr th {\n",
              "        vertical-align: top;\n",
              "    }\n",
              "\n",
              "    .dataframe thead th {\n",
              "        text-align: right;\n",
              "    }\n",
              "</style>\n",
              "<table border=\"1\" class=\"dataframe\">\n",
              "  <thead>\n",
              "    <tr style=\"text-align: right;\">\n",
              "      <th></th>\n",
              "      <th>InvoiceNo</th>\n",
              "      <th>StockCode</th>\n",
              "      <th>Description</th>\n",
              "      <th>Quantity</th>\n",
              "      <th>InvoiceDate</th>\n",
              "      <th>UnitPrice</th>\n",
              "      <th>CustomerID</th>\n",
              "      <th>Country</th>\n",
              "    </tr>\n",
              "  </thead>\n",
              "  <tbody>\n",
              "    <tr>\n",
              "      <th>9302</th>\n",
              "      <td>537197</td>\n",
              "      <td>22841</td>\n",
              "      <td>ROUND CAKE TIN VINTAGE GREEN</td>\n",
              "      <td>1</td>\n",
              "      <td>2010-12-05 14:02:00</td>\n",
              "      <td>0.0</td>\n",
              "      <td>12647</td>\n",
              "      <td>Germany</td>\n",
              "    </tr>\n",
              "    <tr>\n",
              "      <th>33576</th>\n",
              "      <td>539263</td>\n",
              "      <td>22580</td>\n",
              "      <td>ADVENT CALENDAR GINGHAM SACK</td>\n",
              "      <td>4</td>\n",
              "      <td>2010-12-16 14:36:00</td>\n",
              "      <td>0.0</td>\n",
              "      <td>16560</td>\n",
              "      <td>United Kingdom</td>\n",
              "    </tr>\n",
              "    <tr>\n",
              "      <th>40089</th>\n",
              "      <td>539722</td>\n",
              "      <td>22423</td>\n",
              "      <td>REGENCY CAKESTAND 3 TIER</td>\n",
              "      <td>10</td>\n",
              "      <td>2010-12-21 13:45:00</td>\n",
              "      <td>0.0</td>\n",
              "      <td>14911</td>\n",
              "      <td>EIRE</td>\n",
              "    </tr>\n",
              "    <tr>\n",
              "      <th>47068</th>\n",
              "      <td>540372</td>\n",
              "      <td>22090</td>\n",
              "      <td>PAPER BUNTING RETROSPOT</td>\n",
              "      <td>24</td>\n",
              "      <td>2011-01-06 16:41:00</td>\n",
              "      <td>0.0</td>\n",
              "      <td>13081</td>\n",
              "      <td>United Kingdom</td>\n",
              "    </tr>\n",
              "    <tr>\n",
              "      <th>47070</th>\n",
              "      <td>540372</td>\n",
              "      <td>22553</td>\n",
              "      <td>PLASTERS IN TIN SKULLS</td>\n",
              "      <td>24</td>\n",
              "      <td>2011-01-06 16:41:00</td>\n",
              "      <td>0.0</td>\n",
              "      <td>13081</td>\n",
              "      <td>United Kingdom</td>\n",
              "    </tr>\n",
              "    <tr>\n",
              "      <th>56674</th>\n",
              "      <td>541109</td>\n",
              "      <td>22168</td>\n",
              "      <td>ORGANISER WOOD ANTIQUE WHITE</td>\n",
              "      <td>1</td>\n",
              "      <td>2011-01-13 15:10:00</td>\n",
              "      <td>0.0</td>\n",
              "      <td>15107</td>\n",
              "      <td>United Kingdom</td>\n",
              "    </tr>\n",
              "    <tr>\n",
              "      <th>86789</th>\n",
              "      <td>543599</td>\n",
              "      <td>84535B</td>\n",
              "      <td>FAIRY CAKES NOTEBOOK A6 SIZE</td>\n",
              "      <td>16</td>\n",
              "      <td>2011-02-10 13:08:00</td>\n",
              "      <td>0.0</td>\n",
              "      <td>17560</td>\n",
              "      <td>United Kingdom</td>\n",
              "    </tr>\n",
              "    <tr>\n",
              "      <th>130188</th>\n",
              "      <td>547417</td>\n",
              "      <td>22062</td>\n",
              "      <td>CERAMIC BOWL WITH LOVE HEART DESIGN</td>\n",
              "      <td>36</td>\n",
              "      <td>2011-03-23 10:25:00</td>\n",
              "      <td>0.0</td>\n",
              "      <td>13239</td>\n",
              "      <td>United Kingdom</td>\n",
              "    </tr>\n",
              "    <tr>\n",
              "      <th>139453</th>\n",
              "      <td>548318</td>\n",
              "      <td>22055</td>\n",
              "      <td>MINI CAKE STAND  HANGING STRAWBERY</td>\n",
              "      <td>5</td>\n",
              "      <td>2011-03-30 12:45:00</td>\n",
              "      <td>0.0</td>\n",
              "      <td>13113</td>\n",
              "      <td>United Kingdom</td>\n",
              "    </tr>\n",
              "    <tr>\n",
              "      <th>145208</th>\n",
              "      <td>548871</td>\n",
              "      <td>22162</td>\n",
              "      <td>HEART GARLAND RUSTIC PADDED</td>\n",
              "      <td>2</td>\n",
              "      <td>2011-04-04 14:42:00</td>\n",
              "      <td>0.0</td>\n",
              "      <td>14410</td>\n",
              "      <td>United Kingdom</td>\n",
              "    </tr>\n",
              "    <tr>\n",
              "      <th>157042</th>\n",
              "      <td>550188</td>\n",
              "      <td>22636</td>\n",
              "      <td>CHILDS BREAKFAST SET CIRCUS PARADE</td>\n",
              "      <td>1</td>\n",
              "      <td>2011-04-14 18:57:00</td>\n",
              "      <td>0.0</td>\n",
              "      <td>12457</td>\n",
              "      <td>Switzerland</td>\n",
              "    </tr>\n",
              "    <tr>\n",
              "      <th>187613</th>\n",
              "      <td>553000</td>\n",
              "      <td>47566</td>\n",
              "      <td>PARTY BUNTING</td>\n",
              "      <td>4</td>\n",
              "      <td>2011-05-12 15:21:00</td>\n",
              "      <td>0.0</td>\n",
              "      <td>17667</td>\n",
              "      <td>United Kingdom</td>\n",
              "    </tr>\n",
              "    <tr>\n",
              "      <th>198383</th>\n",
              "      <td>554037</td>\n",
              "      <td>22619</td>\n",
              "      <td>SET OF 6 SOLDIER SKITTLES</td>\n",
              "      <td>80</td>\n",
              "      <td>2011-05-20 14:13:00</td>\n",
              "      <td>0.0</td>\n",
              "      <td>12415</td>\n",
              "      <td>Australia</td>\n",
              "    </tr>\n",
              "    <tr>\n",
              "      <th>279324</th>\n",
              "      <td>561284</td>\n",
              "      <td>22167</td>\n",
              "      <td>OVAL WALL MIRROR DIAMANTE</td>\n",
              "      <td>1</td>\n",
              "      <td>2011-07-26 12:24:00</td>\n",
              "      <td>0.0</td>\n",
              "      <td>16818</td>\n",
              "      <td>United Kingdom</td>\n",
              "    </tr>\n",
              "    <tr>\n",
              "      <th>282912</th>\n",
              "      <td>561669</td>\n",
              "      <td>22960</td>\n",
              "      <td>JAM MAKING SET WITH JARS</td>\n",
              "      <td>11</td>\n",
              "      <td>2011-07-28 17:09:00</td>\n",
              "      <td>0.0</td>\n",
              "      <td>12507</td>\n",
              "      <td>Spain</td>\n",
              "    </tr>\n",
              "    <tr>\n",
              "      <th>285657</th>\n",
              "      <td>561916</td>\n",
              "      <td>M</td>\n",
              "      <td>Manual</td>\n",
              "      <td>1</td>\n",
              "      <td>2011-08-01 11:44:00</td>\n",
              "      <td>0.0</td>\n",
              "      <td>15581</td>\n",
              "      <td>United Kingdom</td>\n",
              "    </tr>\n",
              "    <tr>\n",
              "      <th>298054</th>\n",
              "      <td>562973</td>\n",
              "      <td>23157</td>\n",
              "      <td>SET OF 6 NATIVITY MAGNETS</td>\n",
              "      <td>240</td>\n",
              "      <td>2011-08-11 11:42:00</td>\n",
              "      <td>0.0</td>\n",
              "      <td>14911</td>\n",
              "      <td>EIRE</td>\n",
              "    </tr>\n",
              "    <tr>\n",
              "      <th>314745</th>\n",
              "      <td>564651</td>\n",
              "      <td>23270</td>\n",
              "      <td>SET OF 2 CERAMIC PAINTED HEARTS</td>\n",
              "      <td>96</td>\n",
              "      <td>2011-08-26 14:19:00</td>\n",
              "      <td>0.0</td>\n",
              "      <td>14646</td>\n",
              "      <td>Netherlands</td>\n",
              "    </tr>\n",
              "    <tr>\n",
              "      <th>314746</th>\n",
              "      <td>564651</td>\n",
              "      <td>23268</td>\n",
              "      <td>SET OF 2 CERAMIC CHRISTMAS REINDEER</td>\n",
              "      <td>192</td>\n",
              "      <td>2011-08-26 14:19:00</td>\n",
              "      <td>0.0</td>\n",
              "      <td>14646</td>\n",
              "      <td>Netherlands</td>\n",
              "    </tr>\n",
              "    <tr>\n",
              "      <th>314747</th>\n",
              "      <td>564651</td>\n",
              "      <td>22955</td>\n",
              "      <td>36 FOIL STAR CAKE CASES</td>\n",
              "      <td>144</td>\n",
              "      <td>2011-08-26 14:19:00</td>\n",
              "      <td>0.0</td>\n",
              "      <td>14646</td>\n",
              "      <td>Netherlands</td>\n",
              "    </tr>\n",
              "    <tr>\n",
              "      <th>314748</th>\n",
              "      <td>564651</td>\n",
              "      <td>21786</td>\n",
              "      <td>POLKADOT RAIN HAT</td>\n",
              "      <td>144</td>\n",
              "      <td>2011-08-26 14:19:00</td>\n",
              "      <td>0.0</td>\n",
              "      <td>14646</td>\n",
              "      <td>Netherlands</td>\n",
              "    </tr>\n",
              "    <tr>\n",
              "      <th>358655</th>\n",
              "      <td>568158</td>\n",
              "      <td>PADS</td>\n",
              "      <td>PADS TO MATCH ALL CUSHIONS</td>\n",
              "      <td>1</td>\n",
              "      <td>2011-09-25 12:22:00</td>\n",
              "      <td>0.0</td>\n",
              "      <td>16133</td>\n",
              "      <td>United Kingdom</td>\n",
              "    </tr>\n",
              "    <tr>\n",
              "      <th>361825</th>\n",
              "      <td>568384</td>\n",
              "      <td>M</td>\n",
              "      <td>Manual</td>\n",
              "      <td>1</td>\n",
              "      <td>2011-09-27 09:46:00</td>\n",
              "      <td>0.0</td>\n",
              "      <td>12748</td>\n",
              "      <td>United Kingdom</td>\n",
              "    </tr>\n",
              "    <tr>\n",
              "      <th>379913</th>\n",
              "      <td>569716</td>\n",
              "      <td>22778</td>\n",
              "      <td>GLASS CLOCHE SMALL</td>\n",
              "      <td>2</td>\n",
              "      <td>2011-10-06 08:17:00</td>\n",
              "      <td>0.0</td>\n",
              "      <td>15804</td>\n",
              "      <td>United Kingdom</td>\n",
              "    </tr>\n",
              "    <tr>\n",
              "      <th>395529</th>\n",
              "      <td>571035</td>\n",
              "      <td>M</td>\n",
              "      <td>Manual</td>\n",
              "      <td>1</td>\n",
              "      <td>2011-10-13 12:50:00</td>\n",
              "      <td>0.0</td>\n",
              "      <td>12446</td>\n",
              "      <td>RSA</td>\n",
              "    </tr>\n",
              "    <tr>\n",
              "      <th>420404</th>\n",
              "      <td>572893</td>\n",
              "      <td>21208</td>\n",
              "      <td>PASTEL COLOUR HONEYCOMB FAN</td>\n",
              "      <td>5</td>\n",
              "      <td>2011-10-26 14:36:00</td>\n",
              "      <td>0.0</td>\n",
              "      <td>18059</td>\n",
              "      <td>United Kingdom</td>\n",
              "    </tr>\n",
              "    <tr>\n",
              "      <th>436428</th>\n",
              "      <td>574138</td>\n",
              "      <td>23234</td>\n",
              "      <td>BISCUIT TIN VINTAGE CHRISTMAS</td>\n",
              "      <td>216</td>\n",
              "      <td>2011-11-03 11:26:00</td>\n",
              "      <td>0.0</td>\n",
              "      <td>12415</td>\n",
              "      <td>Australia</td>\n",
              "    </tr>\n",
              "    <tr>\n",
              "      <th>436597</th>\n",
              "      <td>574175</td>\n",
              "      <td>22065</td>\n",
              "      <td>CHRISTMAS PUDDING TRINKET POT</td>\n",
              "      <td>12</td>\n",
              "      <td>2011-11-03 11:47:00</td>\n",
              "      <td>0.0</td>\n",
              "      <td>14110</td>\n",
              "      <td>United Kingdom</td>\n",
              "    </tr>\n",
              "    <tr>\n",
              "      <th>436961</th>\n",
              "      <td>574252</td>\n",
              "      <td>M</td>\n",
              "      <td>Manual</td>\n",
              "      <td>1</td>\n",
              "      <td>2011-11-03 13:24:00</td>\n",
              "      <td>0.0</td>\n",
              "      <td>12437</td>\n",
              "      <td>France</td>\n",
              "    </tr>\n",
              "    <tr>\n",
              "      <th>439361</th>\n",
              "      <td>574469</td>\n",
              "      <td>22385</td>\n",
              "      <td>JUMBO BAG SPACEBOY DESIGN</td>\n",
              "      <td>12</td>\n",
              "      <td>2011-11-04 11:55:00</td>\n",
              "      <td>0.0</td>\n",
              "      <td>12431</td>\n",
              "      <td>Australia</td>\n",
              "    </tr>\n",
              "    <tr>\n",
              "      <th>446125</th>\n",
              "      <td>574879</td>\n",
              "      <td>22625</td>\n",
              "      <td>RED KITCHEN SCALES</td>\n",
              "      <td>2</td>\n",
              "      <td>2011-11-07 13:22:00</td>\n",
              "      <td>0.0</td>\n",
              "      <td>13014</td>\n",
              "      <td>United Kingdom</td>\n",
              "    </tr>\n",
              "    <tr>\n",
              "      <th>446793</th>\n",
              "      <td>574920</td>\n",
              "      <td>22899</td>\n",
              "      <td>CHILDREN'S APRON DOLLY GIRL</td>\n",
              "      <td>1</td>\n",
              "      <td>2011-11-07 16:34:00</td>\n",
              "      <td>0.0</td>\n",
              "      <td>13985</td>\n",
              "      <td>United Kingdom</td>\n",
              "    </tr>\n",
              "    <tr>\n",
              "      <th>446794</th>\n",
              "      <td>574920</td>\n",
              "      <td>23480</td>\n",
              "      <td>MINI LIGHTS WOODLAND MUSHROOMS</td>\n",
              "      <td>1</td>\n",
              "      <td>2011-11-07 16:34:00</td>\n",
              "      <td>0.0</td>\n",
              "      <td>13985</td>\n",
              "      <td>United Kingdom</td>\n",
              "    </tr>\n",
              "    <tr>\n",
              "      <th>454463</th>\n",
              "      <td>575579</td>\n",
              "      <td>22437</td>\n",
              "      <td>SET OF 9 BLACK SKULL BALLOONS</td>\n",
              "      <td>20</td>\n",
              "      <td>2011-11-10 11:49:00</td>\n",
              "      <td>0.0</td>\n",
              "      <td>13081</td>\n",
              "      <td>United Kingdom</td>\n",
              "    </tr>\n",
              "    <tr>\n",
              "      <th>454464</th>\n",
              "      <td>575579</td>\n",
              "      <td>22089</td>\n",
              "      <td>PAPER BUNTING VINTAGE PAISLEY</td>\n",
              "      <td>24</td>\n",
              "      <td>2011-11-10 11:49:00</td>\n",
              "      <td>0.0</td>\n",
              "      <td>13081</td>\n",
              "      <td>United Kingdom</td>\n",
              "    </tr>\n",
              "    <tr>\n",
              "      <th>479079</th>\n",
              "      <td>577129</td>\n",
              "      <td>22464</td>\n",
              "      <td>HANGING METAL HEART LANTERN</td>\n",
              "      <td>4</td>\n",
              "      <td>2011-11-17 19:52:00</td>\n",
              "      <td>0.0</td>\n",
              "      <td>15602</td>\n",
              "      <td>United Kingdom</td>\n",
              "    </tr>\n",
              "    <tr>\n",
              "      <th>479546</th>\n",
              "      <td>577168</td>\n",
              "      <td>M</td>\n",
              "      <td>Manual</td>\n",
              "      <td>1</td>\n",
              "      <td>2011-11-18 10:42:00</td>\n",
              "      <td>0.0</td>\n",
              "      <td>12603</td>\n",
              "      <td>Germany</td>\n",
              "    </tr>\n",
              "    <tr>\n",
              "      <th>480649</th>\n",
              "      <td>577314</td>\n",
              "      <td>23407</td>\n",
              "      <td>SET OF 2 TRAYS HOME SWEET HOME</td>\n",
              "      <td>2</td>\n",
              "      <td>2011-11-18 13:23:00</td>\n",
              "      <td>0.0</td>\n",
              "      <td>12444</td>\n",
              "      <td>Norway</td>\n",
              "    </tr>\n",
              "    <tr>\n",
              "      <th>485985</th>\n",
              "      <td>577696</td>\n",
              "      <td>M</td>\n",
              "      <td>Manual</td>\n",
              "      <td>1</td>\n",
              "      <td>2011-11-21 11:57:00</td>\n",
              "      <td>0.0</td>\n",
              "      <td>16406</td>\n",
              "      <td>United Kingdom</td>\n",
              "    </tr>\n",
              "    <tr>\n",
              "      <th>502122</th>\n",
              "      <td>578841</td>\n",
              "      <td>84826</td>\n",
              "      <td>ASSTD DESIGN 3D PAPER STICKERS</td>\n",
              "      <td>12540</td>\n",
              "      <td>2011-11-25 15:57:00</td>\n",
              "      <td>0.0</td>\n",
              "      <td>13256</td>\n",
              "      <td>United Kingdom</td>\n",
              "    </tr>\n",
              "  </tbody>\n",
              "</table>\n",
              "</div>"
            ],
            "text/plain": [
              "       InvoiceNo StockCode  ... CustomerID         Country\n",
              "9302      537197     22841  ...      12647         Germany\n",
              "33576     539263     22580  ...      16560  United Kingdom\n",
              "40089     539722     22423  ...      14911            EIRE\n",
              "47068     540372     22090  ...      13081  United Kingdom\n",
              "47070     540372     22553  ...      13081  United Kingdom\n",
              "56674     541109     22168  ...      15107  United Kingdom\n",
              "86789     543599    84535B  ...      17560  United Kingdom\n",
              "130188    547417     22062  ...      13239  United Kingdom\n",
              "139453    548318     22055  ...      13113  United Kingdom\n",
              "145208    548871     22162  ...      14410  United Kingdom\n",
              "157042    550188     22636  ...      12457     Switzerland\n",
              "187613    553000     47566  ...      17667  United Kingdom\n",
              "198383    554037     22619  ...      12415       Australia\n",
              "279324    561284     22167  ...      16818  United Kingdom\n",
              "282912    561669     22960  ...      12507           Spain\n",
              "285657    561916         M  ...      15581  United Kingdom\n",
              "298054    562973     23157  ...      14911            EIRE\n",
              "314745    564651     23270  ...      14646     Netherlands\n",
              "314746    564651     23268  ...      14646     Netherlands\n",
              "314747    564651     22955  ...      14646     Netherlands\n",
              "314748    564651     21786  ...      14646     Netherlands\n",
              "358655    568158      PADS  ...      16133  United Kingdom\n",
              "361825    568384         M  ...      12748  United Kingdom\n",
              "379913    569716     22778  ...      15804  United Kingdom\n",
              "395529    571035         M  ...      12446             RSA\n",
              "420404    572893     21208  ...      18059  United Kingdom\n",
              "436428    574138     23234  ...      12415       Australia\n",
              "436597    574175     22065  ...      14110  United Kingdom\n",
              "436961    574252         M  ...      12437          France\n",
              "439361    574469     22385  ...      12431       Australia\n",
              "446125    574879     22625  ...      13014  United Kingdom\n",
              "446793    574920     22899  ...      13985  United Kingdom\n",
              "446794    574920     23480  ...      13985  United Kingdom\n",
              "454463    575579     22437  ...      13081  United Kingdom\n",
              "454464    575579     22089  ...      13081  United Kingdom\n",
              "479079    577129     22464  ...      15602  United Kingdom\n",
              "479546    577168         M  ...      12603         Germany\n",
              "480649    577314     23407  ...      12444          Norway\n",
              "485985    577696         M  ...      16406  United Kingdom\n",
              "502122    578841     84826  ...      13256  United Kingdom\n",
              "\n",
              "[40 rows x 8 columns]"
            ]
          },
          "metadata": {
            "tags": []
          },
          "execution_count": 10
        }
      ]
    },
    {
      "cell_type": "code",
      "metadata": {
        "colab": {
          "base_uri": "https://localhost:8080/",
          "height": 0
        },
        "id": "JBGnAyhyUOLp",
        "outputId": "630e2a83-9385-4c92-9e99-7f9630c15c1e"
      },
      "source": [
        "# Remove negative quantity and 0 unit price transactions\r\n",
        "df_raw4 = df_raw3.copy(deep=True)\r\n",
        "df_raw4 = df_raw4[~(df_raw4.Quantity<0)]\r\n",
        "df_raw4 = df_raw4[df_raw4.UnitPrice>0]\r\n",
        "df_raw4.describe()"
      ],
      "execution_count": 11,
      "outputs": [
        {
          "output_type": "execute_result",
          "data": {
            "text/html": [
              "<div>\n",
              "<style scoped>\n",
              "    .dataframe tbody tr th:only-of-type {\n",
              "        vertical-align: middle;\n",
              "    }\n",
              "\n",
              "    .dataframe tbody tr th {\n",
              "        vertical-align: top;\n",
              "    }\n",
              "\n",
              "    .dataframe thead th {\n",
              "        text-align: right;\n",
              "    }\n",
              "</style>\n",
              "<table border=\"1\" class=\"dataframe\">\n",
              "  <thead>\n",
              "    <tr style=\"text-align: right;\">\n",
              "      <th></th>\n",
              "      <th>Quantity</th>\n",
              "      <th>UnitPrice</th>\n",
              "      <th>CustomerID</th>\n",
              "    </tr>\n",
              "  </thead>\n",
              "  <tbody>\n",
              "    <tr>\n",
              "      <th>count</th>\n",
              "      <td>392692.000000</td>\n",
              "      <td>392692.000000</td>\n",
              "      <td>392692.000000</td>\n",
              "    </tr>\n",
              "    <tr>\n",
              "      <th>mean</th>\n",
              "      <td>13.119702</td>\n",
              "      <td>3.125914</td>\n",
              "      <td>15287.843865</td>\n",
              "    </tr>\n",
              "    <tr>\n",
              "      <th>std</th>\n",
              "      <td>180.492832</td>\n",
              "      <td>22.241836</td>\n",
              "      <td>1713.539549</td>\n",
              "    </tr>\n",
              "    <tr>\n",
              "      <th>min</th>\n",
              "      <td>1.000000</td>\n",
              "      <td>0.001000</td>\n",
              "      <td>12346.000000</td>\n",
              "    </tr>\n",
              "    <tr>\n",
              "      <th>25%</th>\n",
              "      <td>2.000000</td>\n",
              "      <td>1.250000</td>\n",
              "      <td>13955.000000</td>\n",
              "    </tr>\n",
              "    <tr>\n",
              "      <th>50%</th>\n",
              "      <td>6.000000</td>\n",
              "      <td>1.950000</td>\n",
              "      <td>15150.000000</td>\n",
              "    </tr>\n",
              "    <tr>\n",
              "      <th>75%</th>\n",
              "      <td>12.000000</td>\n",
              "      <td>3.750000</td>\n",
              "      <td>16791.000000</td>\n",
              "    </tr>\n",
              "    <tr>\n",
              "      <th>max</th>\n",
              "      <td>80995.000000</td>\n",
              "      <td>8142.750000</td>\n",
              "      <td>18287.000000</td>\n",
              "    </tr>\n",
              "  </tbody>\n",
              "</table>\n",
              "</div>"
            ],
            "text/plain": [
              "            Quantity      UnitPrice     CustomerID\n",
              "count  392692.000000  392692.000000  392692.000000\n",
              "mean       13.119702       3.125914   15287.843865\n",
              "std       180.492832      22.241836    1713.539549\n",
              "min         1.000000       0.001000   12346.000000\n",
              "25%         2.000000       1.250000   13955.000000\n",
              "50%         6.000000       1.950000   15150.000000\n",
              "75%        12.000000       3.750000   16791.000000\n",
              "max     80995.000000    8142.750000   18287.000000"
            ]
          },
          "metadata": {
            "tags": []
          },
          "execution_count": 11
        }
      ]
    },
    {
      "cell_type": "code",
      "metadata": {
        "colab": {
          "base_uri": "https://localhost:8080/",
          "height": 0
        },
        "id": "pfSd1N1rVF94",
        "outputId": "07189d50-ed39-4007-b096-2dbb867494b2"
      },
      "source": [
        "# Stock Code and Description Inconsistensies\r\n",
        "code_des_df = df_raw4.groupby(['StockCode','Description']).count().reset_index()\r\n",
        "display(code_des_df.StockCode.value_counts()[code_des_df.StockCode.value_counts()>1].reset_index().head())"
      ],
      "execution_count": 12,
      "outputs": [
        {
          "output_type": "display_data",
          "data": {
            "text/html": [
              "<div>\n",
              "<style scoped>\n",
              "    .dataframe tbody tr th:only-of-type {\n",
              "        vertical-align: middle;\n",
              "    }\n",
              "\n",
              "    .dataframe tbody tr th {\n",
              "        vertical-align: top;\n",
              "    }\n",
              "\n",
              "    .dataframe thead th {\n",
              "        text-align: right;\n",
              "    }\n",
              "</style>\n",
              "<table border=\"1\" class=\"dataframe\">\n",
              "  <thead>\n",
              "    <tr style=\"text-align: right;\">\n",
              "      <th></th>\n",
              "      <th>index</th>\n",
              "      <th>StockCode</th>\n",
              "    </tr>\n",
              "  </thead>\n",
              "  <tbody>\n",
              "    <tr>\n",
              "      <th>0</th>\n",
              "      <td>23196</td>\n",
              "      <td>4</td>\n",
              "    </tr>\n",
              "    <tr>\n",
              "      <th>1</th>\n",
              "      <td>23236</td>\n",
              "      <td>4</td>\n",
              "    </tr>\n",
              "    <tr>\n",
              "      <th>2</th>\n",
              "      <td>22776</td>\n",
              "      <td>3</td>\n",
              "    </tr>\n",
              "    <tr>\n",
              "      <th>3</th>\n",
              "      <td>23244</td>\n",
              "      <td>3</td>\n",
              "    </tr>\n",
              "    <tr>\n",
              "      <th>4</th>\n",
              "      <td>23126</td>\n",
              "      <td>3</td>\n",
              "    </tr>\n",
              "  </tbody>\n",
              "</table>\n",
              "</div>"
            ],
            "text/plain": [
              "   index  StockCode\n",
              "0  23196          4\n",
              "1  23236          4\n",
              "2  22776          3\n",
              "3  23244          3\n",
              "4  23126          3"
            ]
          },
          "metadata": {
            "tags": []
          }
        }
      ]
    },
    {
      "cell_type": "code",
      "metadata": {
        "colab": {
          "base_uri": "https://localhost:8080/"
        },
        "id": "IGvaD3NmVm9Y",
        "outputId": "13078efe-46e4-4a1e-a694-d3a244223da7"
      },
      "source": [
        "#Check Multiple Descriptions\r\n",
        "df_raw4[df_raw4['StockCode'] == code_des_df.StockCode.value_counts()[code_des_df.StockCode.value_counts()>1].reset_index()['index'][4]]['Description'].unique()"
      ],
      "execution_count": 13,
      "outputs": [
        {
          "output_type": "execute_result",
          "data": {
            "text/plain": [
              "array(['DOLLCRAFT GIRL AMELIE KIT', 'FELTCRAFT GIRL AMELIE KIT',\n",
              "       'DOLLCRAFT GIRL AMELIE'], dtype=object)"
            ]
          },
          "metadata": {
            "tags": []
          },
          "execution_count": 13
        }
      ]
    },
    {
      "cell_type": "code",
      "metadata": {
        "colab": {
          "base_uri": "https://localhost:8080/",
          "height": 0
        },
        "id": "Pya0rc8VWuh5",
        "outputId": "39f2df8d-6541-4723-de9a-e0505cdce2d8"
      },
      "source": [
        "#Make Unique Description\r\n",
        "unique_desc = df_raw4[['StockCode', 'Description']].groupby(by=['StockCode']).apply(pd.DataFrame.mode).reset_index(drop=True)\r\n",
        "\r\n",
        "#Handle Multiple Descriptions\r\n",
        "df_raw5 = pd.merge(unique_desc,df_raw4,on=['StockCode', 'Description'])\r\n",
        "df_raw5.sort_values(by=['InvoiceNo']).head()"
      ],
      "execution_count": 14,
      "outputs": [
        {
          "output_type": "execute_result",
          "data": {
            "text/html": [
              "<div>\n",
              "<style scoped>\n",
              "    .dataframe tbody tr th:only-of-type {\n",
              "        vertical-align: middle;\n",
              "    }\n",
              "\n",
              "    .dataframe tbody tr th {\n",
              "        vertical-align: top;\n",
              "    }\n",
              "\n",
              "    .dataframe thead th {\n",
              "        text-align: right;\n",
              "    }\n",
              "</style>\n",
              "<table border=\"1\" class=\"dataframe\">\n",
              "  <thead>\n",
              "    <tr style=\"text-align: right;\">\n",
              "      <th></th>\n",
              "      <th>StockCode</th>\n",
              "      <th>Description</th>\n",
              "      <th>InvoiceNo</th>\n",
              "      <th>Quantity</th>\n",
              "      <th>InvoiceDate</th>\n",
              "      <th>UnitPrice</th>\n",
              "      <th>CustomerID</th>\n",
              "      <th>Country</th>\n",
              "    </tr>\n",
              "  </thead>\n",
              "  <tbody>\n",
              "    <tr>\n",
              "      <th>366197</th>\n",
              "      <td>84406B</td>\n",
              "      <td>CREAM CUPID HEARTS COAT HANGER</td>\n",
              "      <td>536365</td>\n",
              "      <td>8</td>\n",
              "      <td>2010-12-01 08:26:00</td>\n",
              "      <td>2.75</td>\n",
              "      <td>17850</td>\n",
              "      <td>United Kingdom</td>\n",
              "    </tr>\n",
              "    <tr>\n",
              "      <th>364787</th>\n",
              "      <td>84029G</td>\n",
              "      <td>KNITTED UNION FLAG HOT WATER BOTTLE</td>\n",
              "      <td>536365</td>\n",
              "      <td>6</td>\n",
              "      <td>2010-12-01 08:26:00</td>\n",
              "      <td>3.39</td>\n",
              "      <td>17850</td>\n",
              "      <td>United Kingdom</td>\n",
              "    </tr>\n",
              "    <tr>\n",
              "      <th>364464</th>\n",
              "      <td>84029E</td>\n",
              "      <td>RED WOOLLY HOTTIE WHITE HEART.</td>\n",
              "      <td>536365</td>\n",
              "      <td>6</td>\n",
              "      <td>2010-12-01 08:26:00</td>\n",
              "      <td>3.39</td>\n",
              "      <td>17850</td>\n",
              "      <td>United Kingdom</td>\n",
              "    </tr>\n",
              "    <tr>\n",
              "      <th>67021</th>\n",
              "      <td>21730</td>\n",
              "      <td>GLASS STAR FROSTED T-LIGHT HOLDER</td>\n",
              "      <td>536365</td>\n",
              "      <td>6</td>\n",
              "      <td>2010-12-01 08:26:00</td>\n",
              "      <td>4.25</td>\n",
              "      <td>17850</td>\n",
              "      <td>United Kingdom</td>\n",
              "    </tr>\n",
              "    <tr>\n",
              "      <th>379877</th>\n",
              "      <td>85123A</td>\n",
              "      <td>WHITE HANGING HEART T-LIGHT HOLDER</td>\n",
              "      <td>536365</td>\n",
              "      <td>6</td>\n",
              "      <td>2010-12-01 08:26:00</td>\n",
              "      <td>2.55</td>\n",
              "      <td>17850</td>\n",
              "      <td>United Kingdom</td>\n",
              "    </tr>\n",
              "  </tbody>\n",
              "</table>\n",
              "</div>"
            ],
            "text/plain": [
              "       StockCode  ...         Country\n",
              "366197    84406B  ...  United Kingdom\n",
              "364787    84029G  ...  United Kingdom\n",
              "364464    84029E  ...  United Kingdom\n",
              "67021      21730  ...  United Kingdom\n",
              "379877    85123A  ...  United Kingdom\n",
              "\n",
              "[5 rows x 8 columns]"
            ]
          },
          "metadata": {
            "tags": []
          },
          "execution_count": 14
        }
      ]
    },
    {
      "cell_type": "code",
      "metadata": {
        "colab": {
          "base_uri": "https://localhost:8080/",
          "height": 0
        },
        "id": "QBz7_lJzZppp",
        "outputId": "d375bf46-a7f9-440e-9360-46b79d8486d8"
      },
      "source": [
        "# Add total price feature\r\n",
        "df_raw6 = df_raw5.copy(deep=True)\r\n",
        "df_raw6['TotalPrice'] = df_raw6.Quantity * df_raw6.UnitPrice\r\n",
        "df_raw6.head()"
      ],
      "execution_count": 15,
      "outputs": [
        {
          "output_type": "execute_result",
          "data": {
            "text/html": [
              "<div>\n",
              "<style scoped>\n",
              "    .dataframe tbody tr th:only-of-type {\n",
              "        vertical-align: middle;\n",
              "    }\n",
              "\n",
              "    .dataframe tbody tr th {\n",
              "        vertical-align: top;\n",
              "    }\n",
              "\n",
              "    .dataframe thead th {\n",
              "        text-align: right;\n",
              "    }\n",
              "</style>\n",
              "<table border=\"1\" class=\"dataframe\">\n",
              "  <thead>\n",
              "    <tr style=\"text-align: right;\">\n",
              "      <th></th>\n",
              "      <th>StockCode</th>\n",
              "      <th>Description</th>\n",
              "      <th>InvoiceNo</th>\n",
              "      <th>Quantity</th>\n",
              "      <th>InvoiceDate</th>\n",
              "      <th>UnitPrice</th>\n",
              "      <th>CustomerID</th>\n",
              "      <th>Country</th>\n",
              "      <th>TotalPrice</th>\n",
              "    </tr>\n",
              "  </thead>\n",
              "  <tbody>\n",
              "    <tr>\n",
              "      <th>0</th>\n",
              "      <td>10002</td>\n",
              "      <td>INFLATABLE POLITICAL GLOBE</td>\n",
              "      <td>536370</td>\n",
              "      <td>48</td>\n",
              "      <td>2010-12-01 08:45:00</td>\n",
              "      <td>0.85</td>\n",
              "      <td>12583</td>\n",
              "      <td>France</td>\n",
              "      <td>40.80</td>\n",
              "    </tr>\n",
              "    <tr>\n",
              "      <th>1</th>\n",
              "      <td>10002</td>\n",
              "      <td>INFLATABLE POLITICAL GLOBE</td>\n",
              "      <td>536382</td>\n",
              "      <td>12</td>\n",
              "      <td>2010-12-01 09:45:00</td>\n",
              "      <td>0.85</td>\n",
              "      <td>16098</td>\n",
              "      <td>United Kingdom</td>\n",
              "      <td>10.20</td>\n",
              "    </tr>\n",
              "    <tr>\n",
              "      <th>2</th>\n",
              "      <td>10002</td>\n",
              "      <td>INFLATABLE POLITICAL GLOBE</td>\n",
              "      <td>536863</td>\n",
              "      <td>1</td>\n",
              "      <td>2010-12-03 11:19:00</td>\n",
              "      <td>0.85</td>\n",
              "      <td>17967</td>\n",
              "      <td>United Kingdom</td>\n",
              "      <td>0.85</td>\n",
              "    </tr>\n",
              "    <tr>\n",
              "      <th>3</th>\n",
              "      <td>10002</td>\n",
              "      <td>INFLATABLE POLITICAL GLOBE</td>\n",
              "      <td>537047</td>\n",
              "      <td>1</td>\n",
              "      <td>2010-12-05 11:02:00</td>\n",
              "      <td>0.85</td>\n",
              "      <td>13069</td>\n",
              "      <td>United Kingdom</td>\n",
              "      <td>0.85</td>\n",
              "    </tr>\n",
              "    <tr>\n",
              "      <th>4</th>\n",
              "      <td>10002</td>\n",
              "      <td>INFLATABLE POLITICAL GLOBE</td>\n",
              "      <td>537227</td>\n",
              "      <td>24</td>\n",
              "      <td>2010-12-06 08:42:00</td>\n",
              "      <td>0.85</td>\n",
              "      <td>17677</td>\n",
              "      <td>United Kingdom</td>\n",
              "      <td>20.40</td>\n",
              "    </tr>\n",
              "  </tbody>\n",
              "</table>\n",
              "</div>"
            ],
            "text/plain": [
              "  StockCode                  Description  ...         Country  TotalPrice\n",
              "0     10002  INFLATABLE POLITICAL GLOBE   ...          France       40.80\n",
              "1     10002  INFLATABLE POLITICAL GLOBE   ...  United Kingdom       10.20\n",
              "2     10002  INFLATABLE POLITICAL GLOBE   ...  United Kingdom        0.85\n",
              "3     10002  INFLATABLE POLITICAL GLOBE   ...  United Kingdom        0.85\n",
              "4     10002  INFLATABLE POLITICAL GLOBE   ...  United Kingdom       20.40\n",
              "\n",
              "[5 rows x 9 columns]"
            ]
          },
          "metadata": {
            "tags": []
          },
          "execution_count": 15
        }
      ]
    },
    {
      "cell_type": "code",
      "metadata": {
        "id": "-C_u8Skk7QU7",
        "colab": {
          "base_uri": "https://localhost:8080/",
          "height": 0
        },
        "outputId": "d6437778-07b0-4e72-ccc5-c14a456c69dd"
      },
      "source": [
        "# Drop unrelevant items\r\n",
        "remove_items = ['POSTAGE', 'CARRIAGE', 'Manual', 'Bank Charges', 'PADS TO MATCH ALL CUSHIONS', 'DOTCOM POSTAGE']\r\n",
        "df = df_raw6[~df_raw6['Description'].isin(remove_items)]\r\n",
        "df.head()"
      ],
      "execution_count": 16,
      "outputs": [
        {
          "output_type": "execute_result",
          "data": {
            "text/html": [
              "<div>\n",
              "<style scoped>\n",
              "    .dataframe tbody tr th:only-of-type {\n",
              "        vertical-align: middle;\n",
              "    }\n",
              "\n",
              "    .dataframe tbody tr th {\n",
              "        vertical-align: top;\n",
              "    }\n",
              "\n",
              "    .dataframe thead th {\n",
              "        text-align: right;\n",
              "    }\n",
              "</style>\n",
              "<table border=\"1\" class=\"dataframe\">\n",
              "  <thead>\n",
              "    <tr style=\"text-align: right;\">\n",
              "      <th></th>\n",
              "      <th>StockCode</th>\n",
              "      <th>Description</th>\n",
              "      <th>InvoiceNo</th>\n",
              "      <th>Quantity</th>\n",
              "      <th>InvoiceDate</th>\n",
              "      <th>UnitPrice</th>\n",
              "      <th>CustomerID</th>\n",
              "      <th>Country</th>\n",
              "      <th>TotalPrice</th>\n",
              "    </tr>\n",
              "  </thead>\n",
              "  <tbody>\n",
              "    <tr>\n",
              "      <th>0</th>\n",
              "      <td>10002</td>\n",
              "      <td>INFLATABLE POLITICAL GLOBE</td>\n",
              "      <td>536370</td>\n",
              "      <td>48</td>\n",
              "      <td>2010-12-01 08:45:00</td>\n",
              "      <td>0.85</td>\n",
              "      <td>12583</td>\n",
              "      <td>France</td>\n",
              "      <td>40.80</td>\n",
              "    </tr>\n",
              "    <tr>\n",
              "      <th>1</th>\n",
              "      <td>10002</td>\n",
              "      <td>INFLATABLE POLITICAL GLOBE</td>\n",
              "      <td>536382</td>\n",
              "      <td>12</td>\n",
              "      <td>2010-12-01 09:45:00</td>\n",
              "      <td>0.85</td>\n",
              "      <td>16098</td>\n",
              "      <td>United Kingdom</td>\n",
              "      <td>10.20</td>\n",
              "    </tr>\n",
              "    <tr>\n",
              "      <th>2</th>\n",
              "      <td>10002</td>\n",
              "      <td>INFLATABLE POLITICAL GLOBE</td>\n",
              "      <td>536863</td>\n",
              "      <td>1</td>\n",
              "      <td>2010-12-03 11:19:00</td>\n",
              "      <td>0.85</td>\n",
              "      <td>17967</td>\n",
              "      <td>United Kingdom</td>\n",
              "      <td>0.85</td>\n",
              "    </tr>\n",
              "    <tr>\n",
              "      <th>3</th>\n",
              "      <td>10002</td>\n",
              "      <td>INFLATABLE POLITICAL GLOBE</td>\n",
              "      <td>537047</td>\n",
              "      <td>1</td>\n",
              "      <td>2010-12-05 11:02:00</td>\n",
              "      <td>0.85</td>\n",
              "      <td>13069</td>\n",
              "      <td>United Kingdom</td>\n",
              "      <td>0.85</td>\n",
              "    </tr>\n",
              "    <tr>\n",
              "      <th>4</th>\n",
              "      <td>10002</td>\n",
              "      <td>INFLATABLE POLITICAL GLOBE</td>\n",
              "      <td>537227</td>\n",
              "      <td>24</td>\n",
              "      <td>2010-12-06 08:42:00</td>\n",
              "      <td>0.85</td>\n",
              "      <td>17677</td>\n",
              "      <td>United Kingdom</td>\n",
              "      <td>20.40</td>\n",
              "    </tr>\n",
              "  </tbody>\n",
              "</table>\n",
              "</div>"
            ],
            "text/plain": [
              "  StockCode                  Description  ...         Country  TotalPrice\n",
              "0     10002  INFLATABLE POLITICAL GLOBE   ...          France       40.80\n",
              "1     10002  INFLATABLE POLITICAL GLOBE   ...  United Kingdom       10.20\n",
              "2     10002  INFLATABLE POLITICAL GLOBE   ...  United Kingdom        0.85\n",
              "3     10002  INFLATABLE POLITICAL GLOBE   ...  United Kingdom        0.85\n",
              "4     10002  INFLATABLE POLITICAL GLOBE   ...  United Kingdom       20.40\n",
              "\n",
              "[5 rows x 9 columns]"
            ]
          },
          "metadata": {
            "tags": []
          },
          "execution_count": 16
        }
      ]
    },
    {
      "cell_type": "markdown",
      "metadata": {
        "id": "B3HGV00I0O7o"
      },
      "source": [
        "## Exploratory Data Analysis"
      ]
    },
    {
      "cell_type": "markdown",
      "metadata": {
        "id": "-pGgWYB8DY0F"
      },
      "source": [
        "This dataframe contains 8 variables that correspond to:\r\n",
        "\r\n",
        "**InvoiceNo**: Invoice number. Nominal, a 6-digit integral number uniquely assigned to each transaction. \r\n",
        "\r\n",
        "**StockCode**: Product (item) code. Nominal, a 5-digit integral number uniquely assigned to each distinct product.\r\n",
        "\r\n",
        "**Description**: Product (item) name. Nominal.\r\n",
        "\r\n",
        "**Quantity**: The quantities of each product (item) per transaction. Numeric.\r\n",
        "\r\n",
        "**InvoiceDate**: Invice Date and time. Numeric, the day and time when each transaction was generated.\r\n",
        "\r\n",
        "**UnitPrice**: Unit price. Numeric, Product price per unit in sterling.\r\n",
        "\r\n",
        "**CustomerID**: Customer number. Nominal, a 5-digit integral number uniquely assigned to each customer.\r\n",
        "\r\n",
        "**Country**: Country name. Nominal, the name of the country where each customer resides.\r\n",
        "\r\n",
        "**TotalPrice**: Price Total. Numeric, Unit Price * Quantity in sterling.\r\n"
      ]
    },
    {
      "cell_type": "code",
      "metadata": {
        "colab": {
          "base_uri": "https://localhost:8080/",
          "height": 0
        },
        "id": "UUUTLmL6h7zY",
        "outputId": "656d8860-b2ed-4735-e42e-cfe9d5a7f289"
      },
      "source": [
        "g = df.groupby(['Country']).TotalPrice.sum().sort_values(ascending = False)\r\n",
        "fig = px.bar(g, x=g.index, y='TotalPrice', title='Amount Sales by Country')\r\n",
        "fig.show()"
      ],
      "execution_count": 17,
      "outputs": [
        {
          "output_type": "display_data",
          "data": {
            "text/html": [
              "<html>\n",
              "<head><meta charset=\"utf-8\" /></head>\n",
              "<body>\n",
              "    <div>\n",
              "            <script src=\"https://cdnjs.cloudflare.com/ajax/libs/mathjax/2.7.5/MathJax.js?config=TeX-AMS-MML_SVG\"></script><script type=\"text/javascript\">if (window.MathJax) {MathJax.Hub.Config({SVG: {font: \"STIX-Web\"}});}</script>\n",
              "                <script type=\"text/javascript\">window.PlotlyConfig = {MathJaxConfig: 'local'};</script>\n",
              "        <script src=\"https://cdn.plot.ly/plotly-latest.min.js\"></script>    \n",
              "            <div id=\"a1c729f5-cca5-443e-bc1b-7d318790b3c4\" class=\"plotly-graph-div\" style=\"height:525px; width:100%;\"></div>\n",
              "            <script type=\"text/javascript\">\n",
              "                \n",
              "                    window.PLOTLYENV=window.PLOTLYENV || {};\n",
              "                    \n",
              "                if (document.getElementById(\"a1c729f5-cca5-443e-bc1b-7d318790b3c4\")) {\n",
              "                    Plotly.newPlot(\n",
              "                        'a1c729f5-cca5-443e-bc1b-7d318790b3c4',\n",
              "                        [{\"alignmentgroup\": \"True\", \"hoverlabel\": {\"namelength\": 0}, \"hovertemplate\": \"x=%{x}<br>TotalPrice=%{y}\", \"legendgroup\": \"\", \"marker\": {\"color\": \"#636efa\"}, \"name\": \"\", \"offsetgroup\": \"\", \"orientation\": \"v\", \"showlegend\": false, \"textposition\": \"auto\", \"type\": \"bar\", \"x\": [\"United Kingdom\", \"Netherlands\", \"EIRE\", \"Germany\", \"France\", \"Australia\", \"Switzerland\", \"Spain\", \"Japan\", \"Sweden\", \"Belgium\", \"Norway\", \"Portugal\", \"Channel Islands\", \"Finland\", \"Denmark\", \"Italy\", \"Cyprus\", \"Singapore\", \"Austria\", \"Poland\", \"Israel\", \"Greece\", \"Iceland\", \"USA\", \"Canada\", \"Unspecified\", \"Malta\", \"United Arab Emirates\", \"Lebanon\", \"Lithuania\", \"European Community\", \"Brazil\", \"RSA\", \"Czech Republic\", \"Bahrain\", \"Saudi Arabia\"], \"xaxis\": \"x\", \"y\": [7071749.6200033855, 275793.9100000004, 251125.1399999977, 202349.24999999724, 181067.16999999835, 130721.13999999987, 52067.49000000015, 51627.36000000017, 37174.75000000003, 36602.26999999996, 36548.820000000065, 31934.92, 26154.15000000008, 19423.19000000001, 17560.879999999997, 17496.75999999998, 15427.840000000004, 13063.209999999986, 8924.370000000003, 8665.039999999999, 6875.049999999998, 6794.539999999999, 4410.22, 4242.5, 3548.3100000000013, 3095.039999999999, 2586.7200000000007, 2070.5899999999997, 1854.2800000000007, 1693.8800000000003, 1661.0599999999997, 1159.25, 1143.5999999999997, 979.8099999999997, 786.7400000000001, 548.3999999999999, 145.92000000000002], \"yaxis\": \"y\"}],\n",
              "                        {\"barmode\": \"relative\", \"legend\": {\"tracegroupgap\": 0}, \"template\": {\"data\": {\"bar\": [{\"error_x\": {\"color\": \"#2a3f5f\"}, \"error_y\": {\"color\": \"#2a3f5f\"}, \"marker\": {\"line\": {\"color\": \"#E5ECF6\", \"width\": 0.5}}, \"type\": \"bar\"}], \"barpolar\": [{\"marker\": {\"line\": {\"color\": \"#E5ECF6\", \"width\": 0.5}}, \"type\": \"barpolar\"}], \"carpet\": [{\"aaxis\": {\"endlinecolor\": \"#2a3f5f\", \"gridcolor\": \"white\", \"linecolor\": \"white\", \"minorgridcolor\": \"white\", \"startlinecolor\": \"#2a3f5f\"}, \"baxis\": {\"endlinecolor\": \"#2a3f5f\", \"gridcolor\": \"white\", \"linecolor\": \"white\", \"minorgridcolor\": \"white\", \"startlinecolor\": \"#2a3f5f\"}, \"type\": \"carpet\"}], \"choropleth\": [{\"colorbar\": {\"outlinewidth\": 0, \"ticks\": \"\"}, \"type\": \"choropleth\"}], \"contour\": [{\"colorbar\": {\"outlinewidth\": 0, \"ticks\": \"\"}, \"colorscale\": [[0.0, \"#0d0887\"], [0.1111111111111111, \"#46039f\"], [0.2222222222222222, \"#7201a8\"], [0.3333333333333333, \"#9c179e\"], [0.4444444444444444, \"#bd3786\"], [0.5555555555555556, \"#d8576b\"], [0.6666666666666666, \"#ed7953\"], [0.7777777777777778, \"#fb9f3a\"], [0.8888888888888888, \"#fdca26\"], [1.0, \"#f0f921\"]], \"type\": \"contour\"}], \"contourcarpet\": [{\"colorbar\": {\"outlinewidth\": 0, \"ticks\": \"\"}, \"type\": \"contourcarpet\"}], \"heatmap\": [{\"colorbar\": {\"outlinewidth\": 0, \"ticks\": \"\"}, \"colorscale\": [[0.0, \"#0d0887\"], [0.1111111111111111, \"#46039f\"], [0.2222222222222222, \"#7201a8\"], [0.3333333333333333, \"#9c179e\"], [0.4444444444444444, \"#bd3786\"], [0.5555555555555556, \"#d8576b\"], [0.6666666666666666, \"#ed7953\"], [0.7777777777777778, \"#fb9f3a\"], [0.8888888888888888, \"#fdca26\"], [1.0, \"#f0f921\"]], \"type\": \"heatmap\"}], \"heatmapgl\": [{\"colorbar\": {\"outlinewidth\": 0, \"ticks\": \"\"}, \"colorscale\": [[0.0, \"#0d0887\"], [0.1111111111111111, \"#46039f\"], [0.2222222222222222, \"#7201a8\"], [0.3333333333333333, \"#9c179e\"], [0.4444444444444444, \"#bd3786\"], [0.5555555555555556, \"#d8576b\"], [0.6666666666666666, \"#ed7953\"], [0.7777777777777778, \"#fb9f3a\"], [0.8888888888888888, \"#fdca26\"], [1.0, \"#f0f921\"]], \"type\": \"heatmapgl\"}], \"histogram\": [{\"marker\": {\"colorbar\": {\"outlinewidth\": 0, \"ticks\": \"\"}}, \"type\": \"histogram\"}], \"histogram2d\": [{\"colorbar\": {\"outlinewidth\": 0, \"ticks\": \"\"}, \"colorscale\": [[0.0, \"#0d0887\"], [0.1111111111111111, \"#46039f\"], [0.2222222222222222, \"#7201a8\"], [0.3333333333333333, \"#9c179e\"], [0.4444444444444444, \"#bd3786\"], [0.5555555555555556, \"#d8576b\"], [0.6666666666666666, \"#ed7953\"], [0.7777777777777778, \"#fb9f3a\"], [0.8888888888888888, \"#fdca26\"], [1.0, \"#f0f921\"]], \"type\": \"histogram2d\"}], \"histogram2dcontour\": [{\"colorbar\": {\"outlinewidth\": 0, \"ticks\": \"\"}, \"colorscale\": [[0.0, \"#0d0887\"], [0.1111111111111111, \"#46039f\"], [0.2222222222222222, \"#7201a8\"], [0.3333333333333333, \"#9c179e\"], [0.4444444444444444, \"#bd3786\"], [0.5555555555555556, \"#d8576b\"], [0.6666666666666666, \"#ed7953\"], [0.7777777777777778, \"#fb9f3a\"], [0.8888888888888888, \"#fdca26\"], [1.0, \"#f0f921\"]], \"type\": \"histogram2dcontour\"}], \"mesh3d\": [{\"colorbar\": {\"outlinewidth\": 0, \"ticks\": \"\"}, \"type\": \"mesh3d\"}], \"parcoords\": [{\"line\": {\"colorbar\": {\"outlinewidth\": 0, \"ticks\": \"\"}}, \"type\": \"parcoords\"}], \"pie\": [{\"automargin\": true, \"type\": \"pie\"}], \"scatter\": [{\"marker\": {\"colorbar\": {\"outlinewidth\": 0, \"ticks\": \"\"}}, \"type\": \"scatter\"}], \"scatter3d\": [{\"line\": {\"colorbar\": {\"outlinewidth\": 0, \"ticks\": \"\"}}, \"marker\": {\"colorbar\": {\"outlinewidth\": 0, \"ticks\": \"\"}}, \"type\": \"scatter3d\"}], \"scattercarpet\": [{\"marker\": {\"colorbar\": {\"outlinewidth\": 0, \"ticks\": \"\"}}, \"type\": \"scattercarpet\"}], \"scattergeo\": [{\"marker\": {\"colorbar\": {\"outlinewidth\": 0, \"ticks\": \"\"}}, \"type\": \"scattergeo\"}], \"scattergl\": [{\"marker\": {\"colorbar\": {\"outlinewidth\": 0, \"ticks\": \"\"}}, \"type\": \"scattergl\"}], \"scattermapbox\": [{\"marker\": {\"colorbar\": {\"outlinewidth\": 0, \"ticks\": \"\"}}, \"type\": \"scattermapbox\"}], \"scatterpolar\": [{\"marker\": {\"colorbar\": {\"outlinewidth\": 0, \"ticks\": \"\"}}, \"type\": \"scatterpolar\"}], \"scatterpolargl\": [{\"marker\": {\"colorbar\": {\"outlinewidth\": 0, \"ticks\": \"\"}}, \"type\": \"scatterpolargl\"}], \"scatterternary\": [{\"marker\": {\"colorbar\": {\"outlinewidth\": 0, \"ticks\": \"\"}}, \"type\": \"scatterternary\"}], \"surface\": [{\"colorbar\": {\"outlinewidth\": 0, \"ticks\": \"\"}, \"colorscale\": [[0.0, \"#0d0887\"], [0.1111111111111111, \"#46039f\"], [0.2222222222222222, \"#7201a8\"], [0.3333333333333333, \"#9c179e\"], [0.4444444444444444, \"#bd3786\"], [0.5555555555555556, \"#d8576b\"], [0.6666666666666666, \"#ed7953\"], [0.7777777777777778, \"#fb9f3a\"], [0.8888888888888888, \"#fdca26\"], [1.0, \"#f0f921\"]], \"type\": \"surface\"}], \"table\": [{\"cells\": {\"fill\": {\"color\": \"#EBF0F8\"}, \"line\": {\"color\": \"white\"}}, \"header\": {\"fill\": {\"color\": \"#C8D4E3\"}, \"line\": {\"color\": \"white\"}}, \"type\": \"table\"}]}, \"layout\": {\"annotationdefaults\": {\"arrowcolor\": \"#2a3f5f\", \"arrowhead\": 0, \"arrowwidth\": 1}, \"coloraxis\": {\"colorbar\": {\"outlinewidth\": 0, \"ticks\": \"\"}}, \"colorscale\": {\"diverging\": [[0, \"#8e0152\"], [0.1, \"#c51b7d\"], [0.2, \"#de77ae\"], [0.3, \"#f1b6da\"], [0.4, \"#fde0ef\"], [0.5, \"#f7f7f7\"], [0.6, \"#e6f5d0\"], [0.7, \"#b8e186\"], [0.8, \"#7fbc41\"], [0.9, \"#4d9221\"], [1, \"#276419\"]], \"sequential\": [[0.0, \"#0d0887\"], [0.1111111111111111, \"#46039f\"], [0.2222222222222222, \"#7201a8\"], [0.3333333333333333, \"#9c179e\"], [0.4444444444444444, \"#bd3786\"], [0.5555555555555556, \"#d8576b\"], [0.6666666666666666, \"#ed7953\"], [0.7777777777777778, \"#fb9f3a\"], [0.8888888888888888, \"#fdca26\"], [1.0, \"#f0f921\"]], \"sequentialminus\": [[0.0, \"#0d0887\"], [0.1111111111111111, \"#46039f\"], [0.2222222222222222, \"#7201a8\"], [0.3333333333333333, \"#9c179e\"], [0.4444444444444444, \"#bd3786\"], [0.5555555555555556, \"#d8576b\"], [0.6666666666666666, \"#ed7953\"], [0.7777777777777778, \"#fb9f3a\"], [0.8888888888888888, \"#fdca26\"], [1.0, \"#f0f921\"]]}, \"colorway\": [\"#636efa\", \"#EF553B\", \"#00cc96\", \"#ab63fa\", \"#FFA15A\", \"#19d3f3\", \"#FF6692\", \"#B6E880\", \"#FF97FF\", \"#FECB52\"], \"font\": {\"color\": \"#2a3f5f\"}, \"geo\": {\"bgcolor\": \"white\", \"lakecolor\": \"white\", \"landcolor\": \"#E5ECF6\", \"showlakes\": true, \"showland\": true, \"subunitcolor\": \"white\"}, \"hoverlabel\": {\"align\": \"left\"}, \"hovermode\": \"closest\", \"mapbox\": {\"style\": \"light\"}, \"paper_bgcolor\": \"white\", \"plot_bgcolor\": \"#E5ECF6\", \"polar\": {\"angularaxis\": {\"gridcolor\": \"white\", \"linecolor\": \"white\", \"ticks\": \"\"}, \"bgcolor\": \"#E5ECF6\", \"radialaxis\": {\"gridcolor\": \"white\", \"linecolor\": \"white\", \"ticks\": \"\"}}, \"scene\": {\"xaxis\": {\"backgroundcolor\": \"#E5ECF6\", \"gridcolor\": \"white\", \"gridwidth\": 2, \"linecolor\": \"white\", \"showbackground\": true, \"ticks\": \"\", \"zerolinecolor\": \"white\"}, \"yaxis\": {\"backgroundcolor\": \"#E5ECF6\", \"gridcolor\": \"white\", \"gridwidth\": 2, \"linecolor\": \"white\", \"showbackground\": true, \"ticks\": \"\", \"zerolinecolor\": \"white\"}, \"zaxis\": {\"backgroundcolor\": \"#E5ECF6\", \"gridcolor\": \"white\", \"gridwidth\": 2, \"linecolor\": \"white\", \"showbackground\": true, \"ticks\": \"\", \"zerolinecolor\": \"white\"}}, \"shapedefaults\": {\"line\": {\"color\": \"#2a3f5f\"}}, \"ternary\": {\"aaxis\": {\"gridcolor\": \"white\", \"linecolor\": \"white\", \"ticks\": \"\"}, \"baxis\": {\"gridcolor\": \"white\", \"linecolor\": \"white\", \"ticks\": \"\"}, \"bgcolor\": \"#E5ECF6\", \"caxis\": {\"gridcolor\": \"white\", \"linecolor\": \"white\", \"ticks\": \"\"}}, \"title\": {\"x\": 0.05}, \"xaxis\": {\"automargin\": true, \"gridcolor\": \"white\", \"linecolor\": \"white\", \"ticks\": \"\", \"title\": {\"standoff\": 15}, \"zerolinecolor\": \"white\", \"zerolinewidth\": 2}, \"yaxis\": {\"automargin\": true, \"gridcolor\": \"white\", \"linecolor\": \"white\", \"ticks\": \"\", \"title\": {\"standoff\": 15}, \"zerolinecolor\": \"white\", \"zerolinewidth\": 2}}}, \"title\": {\"text\": \"Amount Sales by Country\"}, \"xaxis\": {\"anchor\": \"y\", \"domain\": [0.0, 1.0], \"title\": {\"text\": \"x\"}}, \"yaxis\": {\"anchor\": \"x\", \"domain\": [0.0, 1.0], \"title\": {\"text\": \"TotalPrice\"}}},\n",
              "                        {\"responsive\": true}\n",
              "                    ).then(function(){\n",
              "                            \n",
              "var gd = document.getElementById('a1c729f5-cca5-443e-bc1b-7d318790b3c4');\n",
              "var x = new MutationObserver(function (mutations, observer) {{\n",
              "        var display = window.getComputedStyle(gd).display;\n",
              "        if (!display || display === 'none') {{\n",
              "            console.log([gd, 'removed!']);\n",
              "            Plotly.purge(gd);\n",
              "            observer.disconnect();\n",
              "        }}\n",
              "}});\n",
              "\n",
              "// Listen for the removal of the full notebook cells\n",
              "var notebookContainer = gd.closest('#notebook-container');\n",
              "if (notebookContainer) {{\n",
              "    x.observe(notebookContainer, {childList: true});\n",
              "}}\n",
              "\n",
              "// Listen for the clearing of the current output cell\n",
              "var outputEl = gd.closest('.output');\n",
              "if (outputEl) {{\n",
              "    x.observe(outputEl, {childList: true});\n",
              "}}\n",
              "\n",
              "                        })\n",
              "                };\n",
              "                \n",
              "            </script>\n",
              "        </div>\n",
              "</body>\n",
              "</html>"
            ]
          },
          "metadata": {
            "tags": []
          }
        }
      ]
    },
    {
      "cell_type": "code",
      "metadata": {
        "colab": {
          "base_uri": "https://localhost:8080/",
          "height": 0
        },
        "id": "XzEKdc8PuCdl",
        "outputId": "0e1229f0-da14-47f6-9b7c-a160e362d561"
      },
      "source": [
        "df['Local'] = df.Country.apply(lambda x: 'Yes (UK)' if x=='United Kingdom' else 'No (Outside UK)' )\r\n",
        "market = df.groupby(['Local']).TotalPrice.sum().sort_values(ascending = False)\r\n",
        "fig = px.pie(market, values='TotalPrice', names=market.index, title='Local Market')\r\n",
        "fig.show()"
      ],
      "execution_count": 18,
      "outputs": [
        {
          "output_type": "display_data",
          "data": {
            "text/html": [
              "<html>\n",
              "<head><meta charset=\"utf-8\" /></head>\n",
              "<body>\n",
              "    <div>\n",
              "            <script src=\"https://cdnjs.cloudflare.com/ajax/libs/mathjax/2.7.5/MathJax.js?config=TeX-AMS-MML_SVG\"></script><script type=\"text/javascript\">if (window.MathJax) {MathJax.Hub.Config({SVG: {font: \"STIX-Web\"}});}</script>\n",
              "                <script type=\"text/javascript\">window.PlotlyConfig = {MathJaxConfig: 'local'};</script>\n",
              "        <script src=\"https://cdn.plot.ly/plotly-latest.min.js\"></script>    \n",
              "            <div id=\"83342de9-cde2-4024-9997-905fabc4edb5\" class=\"plotly-graph-div\" style=\"height:525px; width:100%;\"></div>\n",
              "            <script type=\"text/javascript\">\n",
              "                \n",
              "                    window.PLOTLYENV=window.PLOTLYENV || {};\n",
              "                    \n",
              "                if (document.getElementById(\"83342de9-cde2-4024-9997-905fabc4edb5\")) {\n",
              "                    Plotly.newPlot(\n",
              "                        '83342de9-cde2-4024-9997-905fabc4edb5',\n",
              "                        [{\"domain\": {\"x\": [0.0, 1.0], \"y\": [0.0, 1.0]}, \"hoverlabel\": {\"namelength\": 0}, \"hovertemplate\": \"label=%{label}<br>TotalPrice=%{value}\", \"labels\": [\"Yes (UK)\", \"No (Outside UK)\"], \"legendgroup\": \"\", \"name\": \"\", \"showlegend\": true, \"type\": \"pie\", \"values\": [7071749.6200033855, 1457323.5699999891]}],\n",
              "                        {\"legend\": {\"tracegroupgap\": 0}, \"template\": {\"data\": {\"bar\": [{\"error_x\": {\"color\": \"#2a3f5f\"}, \"error_y\": {\"color\": \"#2a3f5f\"}, \"marker\": {\"line\": {\"color\": \"#E5ECF6\", \"width\": 0.5}}, \"type\": \"bar\"}], \"barpolar\": [{\"marker\": {\"line\": {\"color\": \"#E5ECF6\", \"width\": 0.5}}, \"type\": \"barpolar\"}], \"carpet\": [{\"aaxis\": {\"endlinecolor\": \"#2a3f5f\", \"gridcolor\": \"white\", \"linecolor\": \"white\", \"minorgridcolor\": \"white\", \"startlinecolor\": \"#2a3f5f\"}, \"baxis\": {\"endlinecolor\": \"#2a3f5f\", \"gridcolor\": \"white\", \"linecolor\": \"white\", \"minorgridcolor\": \"white\", \"startlinecolor\": \"#2a3f5f\"}, \"type\": \"carpet\"}], \"choropleth\": [{\"colorbar\": {\"outlinewidth\": 0, \"ticks\": \"\"}, \"type\": \"choropleth\"}], \"contour\": [{\"colorbar\": {\"outlinewidth\": 0, \"ticks\": \"\"}, \"colorscale\": [[0.0, \"#0d0887\"], [0.1111111111111111, \"#46039f\"], [0.2222222222222222, \"#7201a8\"], [0.3333333333333333, \"#9c179e\"], [0.4444444444444444, \"#bd3786\"], [0.5555555555555556, \"#d8576b\"], [0.6666666666666666, \"#ed7953\"], [0.7777777777777778, \"#fb9f3a\"], [0.8888888888888888, \"#fdca26\"], [1.0, \"#f0f921\"]], \"type\": \"contour\"}], \"contourcarpet\": [{\"colorbar\": {\"outlinewidth\": 0, \"ticks\": \"\"}, \"type\": \"contourcarpet\"}], \"heatmap\": [{\"colorbar\": {\"outlinewidth\": 0, \"ticks\": \"\"}, \"colorscale\": [[0.0, \"#0d0887\"], [0.1111111111111111, \"#46039f\"], [0.2222222222222222, \"#7201a8\"], [0.3333333333333333, \"#9c179e\"], [0.4444444444444444, \"#bd3786\"], [0.5555555555555556, \"#d8576b\"], [0.6666666666666666, \"#ed7953\"], [0.7777777777777778, \"#fb9f3a\"], [0.8888888888888888, \"#fdca26\"], [1.0, \"#f0f921\"]], \"type\": \"heatmap\"}], \"heatmapgl\": [{\"colorbar\": {\"outlinewidth\": 0, \"ticks\": \"\"}, \"colorscale\": [[0.0, \"#0d0887\"], [0.1111111111111111, \"#46039f\"], [0.2222222222222222, \"#7201a8\"], [0.3333333333333333, \"#9c179e\"], [0.4444444444444444, \"#bd3786\"], [0.5555555555555556, \"#d8576b\"], [0.6666666666666666, \"#ed7953\"], [0.7777777777777778, \"#fb9f3a\"], [0.8888888888888888, \"#fdca26\"], [1.0, \"#f0f921\"]], \"type\": \"heatmapgl\"}], \"histogram\": [{\"marker\": {\"colorbar\": {\"outlinewidth\": 0, \"ticks\": \"\"}}, \"type\": \"histogram\"}], \"histogram2d\": [{\"colorbar\": {\"outlinewidth\": 0, \"ticks\": \"\"}, \"colorscale\": [[0.0, \"#0d0887\"], [0.1111111111111111, \"#46039f\"], [0.2222222222222222, \"#7201a8\"], [0.3333333333333333, \"#9c179e\"], [0.4444444444444444, \"#bd3786\"], [0.5555555555555556, \"#d8576b\"], [0.6666666666666666, \"#ed7953\"], [0.7777777777777778, \"#fb9f3a\"], [0.8888888888888888, \"#fdca26\"], [1.0, \"#f0f921\"]], \"type\": \"histogram2d\"}], \"histogram2dcontour\": [{\"colorbar\": {\"outlinewidth\": 0, \"ticks\": \"\"}, \"colorscale\": [[0.0, \"#0d0887\"], [0.1111111111111111, \"#46039f\"], [0.2222222222222222, \"#7201a8\"], [0.3333333333333333, \"#9c179e\"], [0.4444444444444444, \"#bd3786\"], [0.5555555555555556, \"#d8576b\"], [0.6666666666666666, \"#ed7953\"], [0.7777777777777778, \"#fb9f3a\"], [0.8888888888888888, \"#fdca26\"], [1.0, \"#f0f921\"]], \"type\": \"histogram2dcontour\"}], \"mesh3d\": [{\"colorbar\": {\"outlinewidth\": 0, \"ticks\": \"\"}, \"type\": \"mesh3d\"}], \"parcoords\": [{\"line\": {\"colorbar\": {\"outlinewidth\": 0, \"ticks\": \"\"}}, \"type\": \"parcoords\"}], \"pie\": [{\"automargin\": true, \"type\": \"pie\"}], \"scatter\": [{\"marker\": {\"colorbar\": {\"outlinewidth\": 0, \"ticks\": \"\"}}, \"type\": \"scatter\"}], \"scatter3d\": [{\"line\": {\"colorbar\": {\"outlinewidth\": 0, \"ticks\": \"\"}}, \"marker\": {\"colorbar\": {\"outlinewidth\": 0, \"ticks\": \"\"}}, \"type\": \"scatter3d\"}], \"scattercarpet\": [{\"marker\": {\"colorbar\": {\"outlinewidth\": 0, \"ticks\": \"\"}}, \"type\": \"scattercarpet\"}], \"scattergeo\": [{\"marker\": {\"colorbar\": {\"outlinewidth\": 0, \"ticks\": \"\"}}, \"type\": \"scattergeo\"}], \"scattergl\": [{\"marker\": {\"colorbar\": {\"outlinewidth\": 0, \"ticks\": \"\"}}, \"type\": \"scattergl\"}], \"scattermapbox\": [{\"marker\": {\"colorbar\": {\"outlinewidth\": 0, \"ticks\": \"\"}}, \"type\": \"scattermapbox\"}], \"scatterpolar\": [{\"marker\": {\"colorbar\": {\"outlinewidth\": 0, \"ticks\": \"\"}}, \"type\": \"scatterpolar\"}], \"scatterpolargl\": [{\"marker\": {\"colorbar\": {\"outlinewidth\": 0, \"ticks\": \"\"}}, \"type\": \"scatterpolargl\"}], \"scatterternary\": [{\"marker\": {\"colorbar\": {\"outlinewidth\": 0, \"ticks\": \"\"}}, \"type\": \"scatterternary\"}], \"surface\": [{\"colorbar\": {\"outlinewidth\": 0, \"ticks\": \"\"}, \"colorscale\": [[0.0, \"#0d0887\"], [0.1111111111111111, \"#46039f\"], [0.2222222222222222, \"#7201a8\"], [0.3333333333333333, \"#9c179e\"], [0.4444444444444444, \"#bd3786\"], [0.5555555555555556, \"#d8576b\"], [0.6666666666666666, \"#ed7953\"], [0.7777777777777778, \"#fb9f3a\"], [0.8888888888888888, \"#fdca26\"], [1.0, \"#f0f921\"]], \"type\": \"surface\"}], \"table\": [{\"cells\": {\"fill\": {\"color\": \"#EBF0F8\"}, \"line\": {\"color\": \"white\"}}, \"header\": {\"fill\": {\"color\": \"#C8D4E3\"}, \"line\": {\"color\": \"white\"}}, \"type\": \"table\"}]}, \"layout\": {\"annotationdefaults\": {\"arrowcolor\": \"#2a3f5f\", \"arrowhead\": 0, \"arrowwidth\": 1}, \"coloraxis\": {\"colorbar\": {\"outlinewidth\": 0, \"ticks\": \"\"}}, \"colorscale\": {\"diverging\": [[0, \"#8e0152\"], [0.1, \"#c51b7d\"], [0.2, \"#de77ae\"], [0.3, \"#f1b6da\"], [0.4, \"#fde0ef\"], [0.5, \"#f7f7f7\"], [0.6, \"#e6f5d0\"], [0.7, \"#b8e186\"], [0.8, \"#7fbc41\"], [0.9, \"#4d9221\"], [1, \"#276419\"]], \"sequential\": [[0.0, \"#0d0887\"], [0.1111111111111111, \"#46039f\"], [0.2222222222222222, \"#7201a8\"], [0.3333333333333333, \"#9c179e\"], [0.4444444444444444, \"#bd3786\"], [0.5555555555555556, \"#d8576b\"], [0.6666666666666666, \"#ed7953\"], [0.7777777777777778, \"#fb9f3a\"], [0.8888888888888888, \"#fdca26\"], [1.0, \"#f0f921\"]], \"sequentialminus\": [[0.0, \"#0d0887\"], [0.1111111111111111, \"#46039f\"], [0.2222222222222222, \"#7201a8\"], [0.3333333333333333, \"#9c179e\"], [0.4444444444444444, \"#bd3786\"], [0.5555555555555556, \"#d8576b\"], [0.6666666666666666, \"#ed7953\"], [0.7777777777777778, \"#fb9f3a\"], [0.8888888888888888, \"#fdca26\"], [1.0, \"#f0f921\"]]}, \"colorway\": [\"#636efa\", \"#EF553B\", \"#00cc96\", \"#ab63fa\", \"#FFA15A\", \"#19d3f3\", \"#FF6692\", \"#B6E880\", \"#FF97FF\", \"#FECB52\"], \"font\": {\"color\": \"#2a3f5f\"}, \"geo\": {\"bgcolor\": \"white\", \"lakecolor\": \"white\", \"landcolor\": \"#E5ECF6\", \"showlakes\": true, \"showland\": true, \"subunitcolor\": \"white\"}, \"hoverlabel\": {\"align\": \"left\"}, \"hovermode\": \"closest\", \"mapbox\": {\"style\": \"light\"}, \"paper_bgcolor\": \"white\", \"plot_bgcolor\": \"#E5ECF6\", \"polar\": {\"angularaxis\": {\"gridcolor\": \"white\", \"linecolor\": \"white\", \"ticks\": \"\"}, \"bgcolor\": \"#E5ECF6\", \"radialaxis\": {\"gridcolor\": \"white\", \"linecolor\": \"white\", \"ticks\": \"\"}}, \"scene\": {\"xaxis\": {\"backgroundcolor\": \"#E5ECF6\", \"gridcolor\": \"white\", \"gridwidth\": 2, \"linecolor\": \"white\", \"showbackground\": true, \"ticks\": \"\", \"zerolinecolor\": \"white\"}, \"yaxis\": {\"backgroundcolor\": \"#E5ECF6\", \"gridcolor\": \"white\", \"gridwidth\": 2, \"linecolor\": \"white\", \"showbackground\": true, \"ticks\": \"\", \"zerolinecolor\": \"white\"}, \"zaxis\": {\"backgroundcolor\": \"#E5ECF6\", \"gridcolor\": \"white\", \"gridwidth\": 2, \"linecolor\": \"white\", \"showbackground\": true, \"ticks\": \"\", \"zerolinecolor\": \"white\"}}, \"shapedefaults\": {\"line\": {\"color\": \"#2a3f5f\"}}, \"ternary\": {\"aaxis\": {\"gridcolor\": \"white\", \"linecolor\": \"white\", \"ticks\": \"\"}, \"baxis\": {\"gridcolor\": \"white\", \"linecolor\": \"white\", \"ticks\": \"\"}, \"bgcolor\": \"#E5ECF6\", \"caxis\": {\"gridcolor\": \"white\", \"linecolor\": \"white\", \"ticks\": \"\"}}, \"title\": {\"x\": 0.05}, \"xaxis\": {\"automargin\": true, \"gridcolor\": \"white\", \"linecolor\": \"white\", \"ticks\": \"\", \"title\": {\"standoff\": 15}, \"zerolinecolor\": \"white\", \"zerolinewidth\": 2}, \"yaxis\": {\"automargin\": true, \"gridcolor\": \"white\", \"linecolor\": \"white\", \"ticks\": \"\", \"title\": {\"standoff\": 15}, \"zerolinecolor\": \"white\", \"zerolinewidth\": 2}}}, \"title\": {\"text\": \"Local Market\"}},\n",
              "                        {\"responsive\": true}\n",
              "                    ).then(function(){\n",
              "                            \n",
              "var gd = document.getElementById('83342de9-cde2-4024-9997-905fabc4edb5');\n",
              "var x = new MutationObserver(function (mutations, observer) {{\n",
              "        var display = window.getComputedStyle(gd).display;\n",
              "        if (!display || display === 'none') {{\n",
              "            console.log([gd, 'removed!']);\n",
              "            Plotly.purge(gd);\n",
              "            observer.disconnect();\n",
              "        }}\n",
              "}});\n",
              "\n",
              "// Listen for the removal of the full notebook cells\n",
              "var notebookContainer = gd.closest('#notebook-container');\n",
              "if (notebookContainer) {{\n",
              "    x.observe(notebookContainer, {childList: true});\n",
              "}}\n",
              "\n",
              "// Listen for the clearing of the current output cell\n",
              "var outputEl = gd.closest('.output');\n",
              "if (outputEl) {{\n",
              "    x.observe(outputEl, {childList: true});\n",
              "}}\n",
              "\n",
              "                        })\n",
              "                };\n",
              "                \n",
              "            </script>\n",
              "        </div>\n",
              "</body>\n",
              "</html>"
            ]
          },
          "metadata": {
            "tags": []
          }
        }
      ]
    },
    {
      "cell_type": "code",
      "metadata": {
        "colab": {
          "base_uri": "https://localhost:8080/",
          "height": 0
        },
        "id": "VTYtKUdauxxV",
        "outputId": "11f4bd1a-3eb3-48df-ca3f-98f1905ac2c8"
      },
      "source": [
        "fig = plt.figure(figsize=(25, 7))\r\n",
        "f1 = fig.add_subplot(121)\r\n",
        "PercentSales =  np.round((df.groupby(['CustomerID']).TotalPrice.sum().\\\r\n",
        "                          sort_values(ascending = False)[:10].sum()/df.groupby(['CustomerID']).\\\r\n",
        "                          TotalPrice.sum().sort_values(ascending = False).sum()) * 100, 2)\r\n",
        "g = df.groupby(['CustomerID']).TotalPrice.sum().sort_values(ascending = False)[:10]\\\r\n",
        "    .plot(kind='bar', title='Top 10 Customers: {:3.2f}% Sales Amont'.format(PercentSales))\r\n",
        "f1 = fig.add_subplot(122)\r\n",
        "PercentSales =  np.round((df.groupby(['CustomerID']).TotalPrice.count().\\\r\n",
        "                          sort_values(ascending = False)[:10].sum()/df.groupby(['CustomerID']).\\\r\n",
        "                          TotalPrice.count().sort_values(ascending = False).sum()) * 100, 2)\r\n",
        "g = df.groupby(['CustomerID']).TotalPrice.count().sort_values(ascending = False)[:10].\\\r\n",
        "    plot(kind='bar', title='Top 10 Customers: {:3.2f}% Event Sales'.format(PercentSales))"
      ],
      "execution_count": 19,
      "outputs": [
        {
          "output_type": "display_data",
          "data": {
            "image/png": "[encoded data removed]",
            "text/plain": [
              "<Figure size 1800x504 with 2 Axes>"
            ]
          },
          "metadata": {
            "tags": [],
            "needs_background": "light"
          }
        }
      ]
    },
    {
      "cell_type": "code",
      "metadata": {
        "colab": {
          "base_uri": "https://localhost:8080/",
          "height": 0
        },
        "id": "n5Z1oQrqv6yx",
        "outputId": "f952a120-ca04-4ee7-d83f-98709bf1d686"
      },
      "source": [
        "AmountSum = df.groupby(['Description']).TotalPrice.sum().sort_values(ascending = False)\r\n",
        "inv = df[['Description', 'InvoiceNo']].groupby(['Description']).InvoiceNo.unique().\\\r\n",
        "      agg(np.size).sort_values(ascending = False)\r\n",
        "\r\n",
        "fig = plt.figure(figsize=(25, 7))\r\n",
        "f1 = fig.add_subplot(121)\r\n",
        "Top10 = list(AmountSum[:10].index)\r\n",
        "PercentSales =  np.round((AmountSum[Top10].sum()/AmountSum.sum()) * 100, 2)\r\n",
        "PercentEvents = np.round((inv[Top10].sum()/inv.sum()) * 100, 2)\r\n",
        "g = AmountSum[Top10].\\\r\n",
        "    plot(kind='bar', title='Top 10 Products in Sales Amount: {:3.2f}% of Amount and {:3.2f}% of Events'.\\\r\n",
        "                       format(PercentSales, PercentEvents))\r\n",
        "\r\n",
        "f1 = fig.add_subplot(122)\r\n",
        "Top10Ev = list(inv[:10].index)\r\n",
        "PercentSales =  np.round((AmountSum[Top10Ev].sum()/AmountSum.sum()) * 100, 2)\r\n",
        "PercentEvents = np.round((inv[Top10Ev].sum()/inv.sum()) * 100, 2)\r\n",
        "g = inv[Top10Ev].\\\r\n",
        "    plot(kind='bar', title='Events of top 10 most sold products: {:3.2f}% of Amount and {:3.2f}% of Events'.\\\r\n",
        "                       format(PercentSales, PercentEvents))"
      ],
      "execution_count": 20,
      "outputs": [
        {
          "output_type": "display_data",
          "data": {
            "image/png": "[encoded data removed]",
            "text/plain": [
              "<Figure size 1800x504 with 2 Axes>"
            ]
          },
          "metadata": {
            "tags": [],
            "needs_background": "light"
          }
        }
      ]
    },
    {
      "cell_type": "markdown",
      "metadata": {
        "id": "AN14n9y304Wk"
      },
      "source": [
        "\r\n",
        "### Correlation Between Variables"
      ]
    },
    {
      "cell_type": "code",
      "metadata": {
        "colab": {
          "base_uri": "https://localhost:8080/",
          "height": 0
        },
        "id": "mJA4jmRcw8Ai",
        "outputId": "287b7e94-a38f-491b-ed94-935414635926"
      },
      "source": [
        "corr = df.corr()\r\n",
        "mask = np.zeros_like(corr)\r\n",
        "mask[np.triu_indices_from(mask)] = True\r\n",
        "with sns.axes_style('white'):\r\n",
        "    f, ax = plt.subplots(figsize=(7, 5))\r\n",
        "    ax = sns.heatmap(corr, mask=mask, vmax=.3, square=True)"
      ],
      "execution_count": 21,
      "outputs": [
        {
          "output_type": "display_data",
          "data": {
            "image/png": "[encoded data removed]",
            "text/plain": [
              "<Figure size 504x360 with 2 Axes>"
            ]
          },
          "metadata": {
            "tags": []
          }
        }
      ]
    },
    {
      "cell_type": "markdown",
      "metadata": {
        "id": "F7QFsx441bOc"
      },
      "source": [
        "## Feature Selection & Feature Engineering"
      ]
    },
    {
      "cell_type": "markdown",
      "metadata": {
        "id": "7WZ3xB21DNoy"
      },
      "source": [
        "Since our dataset is limited to the sales records and didn´t include another's information about our customers, we will use an RFM,*Recency, Frequency and Monetary Value, based model of customer value for finding our customer segments. The RFM model will take the transactions of a customer and calculate three important informational attributes about each customer:\r\n",
        "\r\n",
        "* **Recency**: The value of how recently a customer purchased at the establishment\r\n",
        "* **Frequency**: How frequent the customer’s transactions are at the establishment\r\n",
        "* **Monetary value**: The dollar (or pounds in our case) value of all the transactions that the customer made at the establishment\r\n"
      ]
    },
    {
      "cell_type": "markdown",
      "metadata": {
        "id": "AfhmQ0MqEYcO"
      },
      "source": [
        "Recency"
      ]
    },
    {
      "cell_type": "markdown",
      "metadata": {
        "id": "DdTrrvQBEbrN"
      },
      "source": [
        "To create the recency feature variable, we need to decide the reference date for our analysis. Usually, we make use of the last transaction date plus one day. Then, we will construct the recency variable as the number of days before the reference date when a customer last made a purchase."
      ]
    },
    {
      "cell_type": "code",
      "metadata": {
        "id": "nupr42K80mu0",
        "colab": {
          "base_uri": "https://localhost:8080/",
          "height": 0
        },
        "outputId": "85225041-9b96-4c92-a14b-df5840a31f15"
      },
      "source": [
        "refrence_date = df.InvoiceDate.max() + datetime.timedelta(days = 1)\r\n",
        "print('Reference Date:', refrence_date)\r\n",
        "df['days_since_last_purchase'] = (refrence_date - df.InvoiceDate).astype('timedelta64[D]')\r\n",
        "cust_df =  df[['CustomerID', 'days_since_last_purchase']].groupby('CustomerID').min().reset_index()\r\n",
        "cust_df.rename(columns={'days_since_last_purchase':'recency'}, inplace=True)\r\n",
        "cust_df.describe().transpose()"
      ],
      "execution_count": 22,
      "outputs": [
        {
          "output_type": "stream",
          "text": [
            "Reference Date: 2011-12-10 12:50:00\n"
          ],
          "name": "stdout"
        },
        {
          "output_type": "execute_result",
          "data": {
            "text/html": [
              "<div>\n",
              "<style scoped>\n",
              "    .dataframe tbody tr th:only-of-type {\n",
              "        vertical-align: middle;\n",
              "    }\n",
              "\n",
              "    .dataframe tbody tr th {\n",
              "        vertical-align: top;\n",
              "    }\n",
              "\n",
              "    .dataframe thead th {\n",
              "        text-align: right;\n",
              "    }\n",
              "</style>\n",
              "<table border=\"1\" class=\"dataframe\">\n",
              "  <thead>\n",
              "    <tr style=\"text-align: right;\">\n",
              "      <th></th>\n",
              "      <th>count</th>\n",
              "      <th>mean</th>\n",
              "      <th>std</th>\n",
              "      <th>min</th>\n",
              "      <th>25%</th>\n",
              "      <th>50%</th>\n",
              "      <th>75%</th>\n",
              "      <th>max</th>\n",
              "    </tr>\n",
              "  </thead>\n",
              "  <tbody>\n",
              "    <tr>\n",
              "      <th>CustomerID</th>\n",
              "      <td>4330.0</td>\n",
              "      <td>15299.184988</td>\n",
              "      <td>1721.798056</td>\n",
              "      <td>12346.0</td>\n",
              "      <td>13812.25</td>\n",
              "      <td>15297.5</td>\n",
              "      <td>16778.75</td>\n",
              "      <td>18287.0</td>\n",
              "    </tr>\n",
              "    <tr>\n",
              "      <th>recency</th>\n",
              "      <td>4330.0</td>\n",
              "      <td>92.534411</td>\n",
              "      <td>100.013165</td>\n",
              "      <td>1.0</td>\n",
              "      <td>18.00</td>\n",
              "      <td>51.0</td>\n",
              "      <td>142.00</td>\n",
              "      <td>374.0</td>\n",
              "    </tr>\n",
              "  </tbody>\n",
              "</table>\n",
              "</div>"
            ],
            "text/plain": [
              "             count          mean          std  ...      50%       75%      max\n",
              "CustomerID  4330.0  15299.184988  1721.798056  ...  15297.5  16778.75  18287.0\n",
              "recency     4330.0     92.534411   100.013165  ...     51.0    142.00    374.0\n",
              "\n",
              "[2 rows x 8 columns]"
            ]
          },
          "metadata": {
            "tags": []
          },
          "execution_count": 22
        }
      ]
    },
    {
      "cell_type": "markdown",
      "metadata": {
        "id": "Hmba2x93FTm-"
      },
      "source": [
        "Frequency"
      ]
    },
    {
      "cell_type": "code",
      "metadata": {
        "colab": {
          "base_uri": "https://localhost:8080/",
          "height": 0
        },
        "id": "BWbUPz80FYP1",
        "outputId": "0068cc38-ac10-4bcc-ce39-a52fc4aa34d7"
      },
      "source": [
        "customer_freq = (df[['CustomerID', 'InvoiceNo']].groupby(['CustomerID', 'InvoiceNo']).count().reset_index()).\\\r\n",
        "                groupby(['CustomerID']).count().reset_index()\r\n",
        "customer_freq.rename(columns={'InvoiceNo':'frequency'},inplace=True)\r\n",
        "cust_df = cust_df.merge(customer_freq)\r\n",
        "cust_df.describe().transpose()"
      ],
      "execution_count": 23,
      "outputs": [
        {
          "output_type": "execute_result",
          "data": {
            "text/html": [
              "<div>\n",
              "<style scoped>\n",
              "    .dataframe tbody tr th:only-of-type {\n",
              "        vertical-align: middle;\n",
              "    }\n",
              "\n",
              "    .dataframe tbody tr th {\n",
              "        vertical-align: top;\n",
              "    }\n",
              "\n",
              "    .dataframe thead th {\n",
              "        text-align: right;\n",
              "    }\n",
              "</style>\n",
              "<table border=\"1\" class=\"dataframe\">\n",
              "  <thead>\n",
              "    <tr style=\"text-align: right;\">\n",
              "      <th></th>\n",
              "      <th>count</th>\n",
              "      <th>mean</th>\n",
              "      <th>std</th>\n",
              "      <th>min</th>\n",
              "      <th>25%</th>\n",
              "      <th>50%</th>\n",
              "      <th>75%</th>\n",
              "      <th>max</th>\n",
              "    </tr>\n",
              "  </thead>\n",
              "  <tbody>\n",
              "    <tr>\n",
              "      <th>CustomerID</th>\n",
              "      <td>4330.0</td>\n",
              "      <td>15299.184988</td>\n",
              "      <td>1721.798056</td>\n",
              "      <td>12346.0</td>\n",
              "      <td>13812.25</td>\n",
              "      <td>15297.5</td>\n",
              "      <td>16778.75</td>\n",
              "      <td>18287.0</td>\n",
              "    </tr>\n",
              "    <tr>\n",
              "      <th>recency</th>\n",
              "      <td>4330.0</td>\n",
              "      <td>92.534411</td>\n",
              "      <td>100.013165</td>\n",
              "      <td>1.0</td>\n",
              "      <td>18.00</td>\n",
              "      <td>51.0</td>\n",
              "      <td>142.00</td>\n",
              "      <td>374.0</td>\n",
              "    </tr>\n",
              "    <tr>\n",
              "      <th>frequency</th>\n",
              "      <td>4330.0</td>\n",
              "      <td>4.238337</td>\n",
              "      <td>7.612345</td>\n",
              "      <td>1.0</td>\n",
              "      <td>1.00</td>\n",
              "      <td>2.0</td>\n",
              "      <td>5.00</td>\n",
              "      <td>206.0</td>\n",
              "    </tr>\n",
              "  </tbody>\n",
              "</table>\n",
              "</div>"
            ],
            "text/plain": [
              "             count          mean          std  ...      50%       75%      max\n",
              "CustomerID  4330.0  15299.184988  1721.798056  ...  15297.5  16778.75  18287.0\n",
              "recency     4330.0     92.534411   100.013165  ...     51.0    142.00    374.0\n",
              "frequency   4330.0      4.238337     7.612345  ...      2.0      5.00    206.0\n",
              "\n",
              "[3 rows x 8 columns]"
            ]
          },
          "metadata": {
            "tags": []
          },
          "execution_count": 23
        }
      ]
    },
    {
      "cell_type": "markdown",
      "metadata": {
        "id": "wYniAGX7FuUt"
      },
      "source": [
        "Monetary Value"
      ]
    },
    {
      "cell_type": "code",
      "metadata": {
        "colab": {
          "base_uri": "https://localhost:8080/",
          "height": 0
        },
        "id": "DKFfPp-UFx_O",
        "outputId": "351dac98-c456-4bc6-fb93-23471b142235"
      },
      "source": [
        "customer_monetary_val = df[['CustomerID', 'TotalPrice']].groupby('CustomerID').sum().reset_index()\r\n",
        "customer_monetary_val.rename(columns={'TotalPrice':'monetary'},inplace=True)\r\n",
        "cust_df = cust_df.merge(customer_monetary_val)\r\n",
        "cust_df.describe().transpose()"
      ],
      "execution_count": 24,
      "outputs": [
        {
          "output_type": "execute_result",
          "data": {
            "text/html": [
              "<div>\n",
              "<style scoped>\n",
              "    .dataframe tbody tr th:only-of-type {\n",
              "        vertical-align: middle;\n",
              "    }\n",
              "\n",
              "    .dataframe tbody tr th {\n",
              "        vertical-align: top;\n",
              "    }\n",
              "\n",
              "    .dataframe thead th {\n",
              "        text-align: right;\n",
              "    }\n",
              "</style>\n",
              "<table border=\"1\" class=\"dataframe\">\n",
              "  <thead>\n",
              "    <tr style=\"text-align: right;\">\n",
              "      <th></th>\n",
              "      <th>count</th>\n",
              "      <th>mean</th>\n",
              "      <th>std</th>\n",
              "      <th>min</th>\n",
              "      <th>25%</th>\n",
              "      <th>50%</th>\n",
              "      <th>75%</th>\n",
              "      <th>max</th>\n",
              "    </tr>\n",
              "  </thead>\n",
              "  <tbody>\n",
              "    <tr>\n",
              "      <th>CustomerID</th>\n",
              "      <td>4330.0</td>\n",
              "      <td>15299.184988</td>\n",
              "      <td>1721.798056</td>\n",
              "      <td>12346.00</td>\n",
              "      <td>13812.2500</td>\n",
              "      <td>15297.500</td>\n",
              "      <td>16778.75</td>\n",
              "      <td>18287.00</td>\n",
              "    </tr>\n",
              "    <tr>\n",
              "      <th>recency</th>\n",
              "      <td>4330.0</td>\n",
              "      <td>92.534411</td>\n",
              "      <td>100.013165</td>\n",
              "      <td>1.00</td>\n",
              "      <td>18.0000</td>\n",
              "      <td>51.000</td>\n",
              "      <td>142.00</td>\n",
              "      <td>374.00</td>\n",
              "    </tr>\n",
              "    <tr>\n",
              "      <th>frequency</th>\n",
              "      <td>4330.0</td>\n",
              "      <td>4.238337</td>\n",
              "      <td>7.612345</td>\n",
              "      <td>1.00</td>\n",
              "      <td>1.0000</td>\n",
              "      <td>2.000</td>\n",
              "      <td>5.00</td>\n",
              "      <td>206.00</td>\n",
              "    </tr>\n",
              "    <tr>\n",
              "      <th>monetary</th>\n",
              "      <td>4330.0</td>\n",
              "      <td>1969.762861</td>\n",
              "      <td>8681.165888</td>\n",
              "      <td>3.75</td>\n",
              "      <td>300.0425</td>\n",
              "      <td>655.665</td>\n",
              "      <td>1595.36</td>\n",
              "      <td>271072.69</td>\n",
              "    </tr>\n",
              "  </tbody>\n",
              "</table>\n",
              "</div>"
            ],
            "text/plain": [
              "             count          mean          std  ...        50%       75%        max\n",
              "CustomerID  4330.0  15299.184988  1721.798056  ...  15297.500  16778.75   18287.00\n",
              "recency     4330.0     92.534411   100.013165  ...     51.000    142.00     374.00\n",
              "frequency   4330.0      4.238337     7.612345  ...      2.000      5.00     206.00\n",
              "monetary    4330.0   1969.762861  8681.165888  ...    655.665   1595.36  271072.69\n",
              "\n",
              "[4 rows x 8 columns]"
            ]
          },
          "metadata": {
            "tags": []
          },
          "execution_count": 24
        }
      ]
    },
    {
      "cell_type": "markdown",
      "metadata": {
        "id": "XamvnTrZFY6V"
      },
      "source": [
        "Standardize the data"
      ]
    },
    {
      "cell_type": "code",
      "metadata": {
        "colab": {
          "base_uri": "https://localhost:8080/",
          "height": 0
        },
        "id": "GuoiGnQ2IPsF",
        "outputId": "ba390f95-d9fc-47df-9420-c9fe2ca10e1f"
      },
      "source": [
        "cust_df['recency_log'] = cust_df['recency'].apply(math.log)\r\n",
        "cust_df['frequency_log'] = cust_df['frequency'].apply(math.log)\r\n",
        "cust_df['monetary_log'] = cust_df['monetary'].apply(math.log)\r\n",
        "feature_vector = ['monetary_log', 'recency_log','frequency_log']\r\n",
        "X_subset = cust_df[feature_vector] #.as_matrix()\r\n",
        "scaler = preprocessing.StandardScaler().fit(X_subset)\r\n",
        "X_scaled = scaler.transform(X_subset)\r\n",
        "pd.DataFrame(X_scaled, columns=X_subset.columns).describe().T"
      ],
      "execution_count": 25,
      "outputs": [
        {
          "output_type": "execute_result",
          "data": {
            "text/html": [
              "<div>\n",
              "<style scoped>\n",
              "    .dataframe tbody tr th:only-of-type {\n",
              "        vertical-align: middle;\n",
              "    }\n",
              "\n",
              "    .dataframe tbody tr th {\n",
              "        vertical-align: top;\n",
              "    }\n",
              "\n",
              "    .dataframe thead th {\n",
              "        text-align: right;\n",
              "    }\n",
              "</style>\n",
              "<table border=\"1\" class=\"dataframe\">\n",
              "  <thead>\n",
              "    <tr style=\"text-align: right;\">\n",
              "      <th></th>\n",
              "      <th>count</th>\n",
              "      <th>mean</th>\n",
              "      <th>std</th>\n",
              "      <th>min</th>\n",
              "      <th>25%</th>\n",
              "      <th>50%</th>\n",
              "      <th>75%</th>\n",
              "      <th>max</th>\n",
              "    </tr>\n",
              "  </thead>\n",
              "  <tbody>\n",
              "    <tr>\n",
              "      <th>monetary_log</th>\n",
              "      <td>4330.0</td>\n",
              "      <td>3.110932e-16</td>\n",
              "      <td>1.000115</td>\n",
              "      <td>-4.172472</td>\n",
              "      <td>-0.680183</td>\n",
              "      <td>-0.057201</td>\n",
              "      <td>0.651435</td>\n",
              "      <td>4.743908</td>\n",
              "    </tr>\n",
              "    <tr>\n",
              "      <th>recency_log</th>\n",
              "      <td>4330.0</td>\n",
              "      <td>-4.851857e-17</td>\n",
              "      <td>1.000115</td>\n",
              "      <td>-2.631069</td>\n",
              "      <td>-0.612673</td>\n",
              "      <td>0.114591</td>\n",
              "      <td>0.829669</td>\n",
              "      <td>1.505939</td>\n",
              "    </tr>\n",
              "    <tr>\n",
              "      <th>frequency_log</th>\n",
              "      <td>4330.0</td>\n",
              "      <td>-3.517843e-17</td>\n",
              "      <td>1.000115</td>\n",
              "      <td>-1.044491</td>\n",
              "      <td>-1.044491</td>\n",
              "      <td>-0.273201</td>\n",
              "      <td>0.746390</td>\n",
              "      <td>4.884034</td>\n",
              "    </tr>\n",
              "  </tbody>\n",
              "</table>\n",
              "</div>"
            ],
            "text/plain": [
              "                count          mean       std  ...       50%       75%       max\n",
              "monetary_log   4330.0  3.110932e-16  1.000115  ... -0.057201  0.651435  4.743908\n",
              "recency_log    4330.0 -4.851857e-17  1.000115  ...  0.114591  0.829669  1.505939\n",
              "frequency_log  4330.0 -3.517843e-17  1.000115  ... -0.273201  0.746390  4.884034\n",
              "\n",
              "[3 rows x 8 columns]"
            ]
          },
          "metadata": {
            "tags": []
          },
          "execution_count": 25
        }
      ]
    },
    {
      "cell_type": "markdown",
      "metadata": {
        "id": "wTVne6qv0TNc"
      },
      "source": [
        "## Data Modelling"
      ]
    },
    {
      "cell_type": "markdown",
      "metadata": {
        "id": "fKas5JWpcYB9"
      },
      "source": [
        "### Clustering Customers"
      ]
    },
    {
      "cell_type": "code",
      "metadata": {
        "id": "G6Uily2JK_N6"
      },
      "source": [
        "# compute SSE each K\r\n",
        "sse = []\r\n",
        "K = range(1,11)\r\n",
        "for k in K:\r\n",
        "    kMeansModel = KMeans(n_clusters=k).fit(cust_df)\r\n",
        "    clusters = kMeansModel.labels_\r\n",
        "    sse.append(kMeansModel.inertia_)"
      ],
      "execution_count": 26,
      "outputs": []
    },
    {
      "cell_type": "code",
      "metadata": {
        "colab": {
          "base_uri": "https://localhost:8080/",
          "height": 0
        },
        "id": "Mdrq3JsiLjcl",
        "outputId": "79c7d77b-edef-49d9-b344-56849f625290"
      },
      "source": [
        "# plot the SSE for elbow method\r\n",
        "fig = plt.figure(figsize=(12, 8), dpi=100)\r\n",
        "plt.plot(K, sse, 'bx-')\r\n",
        "plt.xlabel('K')\r\n",
        "plt.ylabel('SSE')\r\n",
        "plt.title('Elbow Method')"
      ],
      "execution_count": 27,
      "outputs": [
        {
          "output_type": "execute_result",
          "data": {
            "text/plain": [
              "Text(0.5, 1.0, 'Elbow Method')"
            ]
          },
          "metadata": {
            "tags": []
          },
          "execution_count": 27
        },
        {
          "output_type": "display_data",
          "data": {
            "image/png": "[encoded data removed]",
            "text/plain": [
              "<Figure size 1200x800 with 1 Axes>"
            ]
          },
          "metadata": {
            "tags": [],
            "needs_background": "light"
          }
        }
      ]
    },
    {
      "cell_type": "code",
      "metadata": {
        "id": "Kt_4EXsqLsRY"
      },
      "source": [
        "kmeans_model = KMeans(n_clusters=3)\r\n",
        "labels = kmeans_model.fit_predict(cust_df)"
      ],
      "execution_count": 28,
      "outputs": []
    },
    {
      "cell_type": "code",
      "metadata": {
        "colab": {
          "base_uri": "https://localhost:8080/",
          "height": 0
        },
        "id": "-zpGl03OLy8a",
        "outputId": "b64142e2-7cce-4f58-f58c-3c61b6cc736f"
      },
      "source": [
        "cust_df['clusters'] = labels\r\n",
        "cust_df.head()"
      ],
      "execution_count": 29,
      "outputs": [
        {
          "output_type": "execute_result",
          "data": {
            "text/html": [
              "<div>\n",
              "<style scoped>\n",
              "    .dataframe tbody tr th:only-of-type {\n",
              "        vertical-align: middle;\n",
              "    }\n",
              "\n",
              "    .dataframe tbody tr th {\n",
              "        vertical-align: top;\n",
              "    }\n",
              "\n",
              "    .dataframe thead th {\n",
              "        text-align: right;\n",
              "    }\n",
              "</style>\n",
              "<table border=\"1\" class=\"dataframe\">\n",
              "  <thead>\n",
              "    <tr style=\"text-align: right;\">\n",
              "      <th></th>\n",
              "      <th>CustomerID</th>\n",
              "      <th>recency</th>\n",
              "      <th>frequency</th>\n",
              "      <th>monetary</th>\n",
              "      <th>recency_log</th>\n",
              "      <th>frequency_log</th>\n",
              "      <th>monetary_log</th>\n",
              "      <th>clusters</th>\n",
              "    </tr>\n",
              "  </thead>\n",
              "  <tbody>\n",
              "    <tr>\n",
              "      <th>0</th>\n",
              "      <td>12346</td>\n",
              "      <td>326.0</td>\n",
              "      <td>1</td>\n",
              "      <td>77183.60</td>\n",
              "      <td>5.786897</td>\n",
              "      <td>0.000000</td>\n",
              "      <td>11.253942</td>\n",
              "      <td>2</td>\n",
              "    </tr>\n",
              "    <tr>\n",
              "      <th>1</th>\n",
              "      <td>12347</td>\n",
              "      <td>2.0</td>\n",
              "      <td>7</td>\n",
              "      <td>4242.50</td>\n",
              "      <td>0.693147</td>\n",
              "      <td>1.945910</td>\n",
              "      <td>8.352908</td>\n",
              "      <td>0</td>\n",
              "    </tr>\n",
              "    <tr>\n",
              "      <th>2</th>\n",
              "      <td>12348</td>\n",
              "      <td>75.0</td>\n",
              "      <td>4</td>\n",
              "      <td>1437.24</td>\n",
              "      <td>4.317488</td>\n",
              "      <td>1.386294</td>\n",
              "      <td>7.270480</td>\n",
              "      <td>0</td>\n",
              "    </tr>\n",
              "    <tr>\n",
              "      <th>3</th>\n",
              "      <td>12349</td>\n",
              "      <td>19.0</td>\n",
              "      <td>1</td>\n",
              "      <td>1412.55</td>\n",
              "      <td>2.944439</td>\n",
              "      <td>0.000000</td>\n",
              "      <td>7.253152</td>\n",
              "      <td>0</td>\n",
              "    </tr>\n",
              "    <tr>\n",
              "      <th>4</th>\n",
              "      <td>12350</td>\n",
              "      <td>310.0</td>\n",
              "      <td>1</td>\n",
              "      <td>294.40</td>\n",
              "      <td>5.736572</td>\n",
              "      <td>0.000000</td>\n",
              "      <td>5.684939</td>\n",
              "      <td>0</td>\n",
              "    </tr>\n",
              "  </tbody>\n",
              "</table>\n",
              "</div>"
            ],
            "text/plain": [
              "   CustomerID  recency  frequency  ...  frequency_log  monetary_log  clusters\n",
              "0       12346    326.0          1  ...       0.000000     11.253942         2\n",
              "1       12347      2.0          7  ...       1.945910      8.352908         0\n",
              "2       12348     75.0          4  ...       1.386294      7.270480         0\n",
              "3       12349     19.0          1  ...       0.000000      7.253152         0\n",
              "4       12350    310.0          1  ...       0.000000      5.684939         0\n",
              "\n",
              "[5 rows x 8 columns]"
            ]
          },
          "metadata": {
            "tags": []
          },
          "execution_count": 29
        }
      ]
    },
    {
      "cell_type": "code",
      "metadata": {
        "colab": {
          "base_uri": "https://localhost:8080/",
          "height": 0
        },
        "id": "Ma10TrR-Sdk9",
        "outputId": "c3d4af9f-cae9-42ef-a7d3-fa1697854867"
      },
      "source": [
        "fig = px.box(cust_df, y='recency', x='clusters', title='Recency Boxplot')\r\n",
        "fig.show()"
      ],
      "execution_count": 30,
      "outputs": [
        {
          "output_type": "display_data",
          "data": {
            "text/html": [
              "<html>\n",
              "<head><meta charset=\"utf-8\" /></head>\n",
              "<body>\n",
              "    <div>\n",
              "            <script src=\"https://cdnjs.cloudflare.com/ajax/libs/mathjax/2.7.5/MathJax.js?config=TeX-AMS-MML_SVG\"></script><script type=\"text/javascript\">if (window.MathJax) {MathJax.Hub.Config({SVG: {font: \"STIX-Web\"}});}</script>\n",
              "                <script type=\"text/javascript\">window.PlotlyConfig = {MathJaxConfig: 'local'};</script>\n",
              "        <script src=\"https://cdn.plot.ly/plotly-latest.min.js\"></script>    \n",
              "            <div id=\"1b62e0b0-44c9-4794-a0b3-bb02f6fa9d1e\" class=\"plotly-graph-div\" style=\"height:525px; width:100%;\"></div>\n",
              "            <script type=\"text/javascript\">\n",
              "                \n",
              "                    window.PLOTLYENV=window.PLOTLYENV || {};\n",
              "                    \n",
              "                if (document.getElementById(\"1b62e0b0-44c9-4794-a0b3-bb02f6fa9d1e\")) {\n",
              "                    Plotly.newPlot(\n",
              "                        '1b62e0b0-44c9-4794-a0b3-bb02f6fa9d1e',\n",
              "                        [{\"alignmentgroup\": \"True\", \"hoverlabel\": {\"namelength\": 0}, \"hovertemplate\": \"clusters=%{x}<br>recency=%{y}\", \"legendgroup\": \"\", \"marker\": {\"color\": \"#636efa\"}, \"name\": \"\", \"notched\": false, \"offsetgroup\": \"\", \"orientation\": \"v\", \"showlegend\": false, \"type\": \"box\", \"x\": [2, 0, 0, 0, 0, 0, 0, 0, 0, 0, 0, 0, 0, 0, 0, 0, 0, 0, 0, 0, 0, 0, 0, 0, 0, 0, 0, 0, 0, 0, 0, 0, 0, 0, 0, 0, 0, 0, 0, 0, 0, 0, 0, 0, 0, 0, 0, 0, 0, 0, 0, 0, 0, 0, 0, 2, 0, 0, 0, 0, 0, 0, 0, 0, 0, 0, 0, 0, 0, 0, 0, 0, 0, 0, 0, 0, 0, 0, 0, 0, 0, 0, 0, 0, 0, 0, 0, 0, 0, 0, 0, 0, 0, 0, 0, 0, 0, 0, 0, 0, 0, 0, 0, 0, 0, 0, 0, 0, 0, 0, 0, 0, 0, 0, 0, 0, 0, 0, 0, 0, 0, 0, 0, 0, 0, 0, 0, 0, 0, 0, 0, 0, 0, 0, 0, 0, 0, 0, 0, 0, 0, 0, 0, 0, 0, 0, 0, 0, 0, 0, 0, 0, 0, 0, 0, 0, 0, 0, 0, 0, 0, 0, 0, 0, 0, 0, 0, 0, 0, 0, 0, 0, 0, 0, 0, 0, 0, 0, 0, 0, 0, 0, 0, 0, 0, 0, 0, 0, 0, 0, 0, 0, 0, 0, 0, 0, 0, 0, 0, 0, 0, 0, 0, 0, 0, 0, 0, 0, 0, 0, 0, 0, 0, 0, 0, 0, 0, 0, 0, 0, 0, 0, 0, 0, 0, 0, 0, 0, 0, 0, 0, 0, 0, 0, 0, 0, 0, 0, 0, 0, 0, 0, 0, 0, 0, 0, 0, 0, 0, 0, 0, 0, 0, 0, 0, 0, 0, 0, 0, 0, 0, 0, 0, 0, 0, 0, 0, 0, 0, 0, 0, 0, 0, 0, 0, 0, 0, 0, 0, 0, 0, 0, 0, 0, 0, 0, 0, 0, 0, 0, 0, 0, 0, 0, 0, 0, 0, 0, 0, 0, 0, 0, 0, 0, 0, 0, 0, 0, 0, 0, 0, 0, 0, 0, 0, 0, 0, 0, 0, 0, 0, 0, 0, 0, 0, 0, 2, 0, 0, 0, 0, 0, 0, 0, 0, 0, 0, 0, 0, 0, 0, 0, 0, 0, 0, 0, 0, 0, 0, 0, 0, 0, 0, 0, 0, 0, 0, 0, 0, 0, 0, 0, 0, 0, 0, 0, 0, 0, 0, 0, 0, 0, 0, 0, 0, 0, 0, 0, 0, 0, 0, 0, 0, 0, 0, 0, 0, 0, 0, 0, 0, 0, 0, 0, 0, 0, 0, 0, 0, 0, 0, 0, 0, 0, 0, 0, 0, 0, 0, 0, 0, 0, 0, 0, 0, 0, 0, 0, 0, 0, 0, 0, 0, 0, 0, 0, 0, 0, 0, 0, 0, 0, 0, 0, 0, 0, 0, 0, 0, 0, 0, 0, 0, 0, 0, 0, 0, 0, 0, 0, 0, 0, 0, 2, 0, 0, 0, 0, 0, 0, 0, 0, 0, 0, 0, 0, 0, 0, 0, 0, 0, 0, 0, 0, 0, 0, 0, 0, 0, 0, 0, 0, 0, 0, 0, 0, 0, 0, 0, 0, 0, 0, 0, 0, 0, 0, 0, 0, 0, 0, 0, 0, 0, 0, 0, 0, 0, 0, 0, 0, 0, 0, 0, 0, 0, 0, 0, 0, 0, 0, 0, 0, 0, 0, 0, 0, 0, 0, 0, 0, 0, 0, 0, 0, 0, 0, 0, 0, 0, 0, 0, 0, 0, 0, 0, 0, 0, 0, 0, 0, 0, 0, 0, 0, 0, 0, 0, 0, 0, 0, 0, 0, 2, 0, 0, 0, 0, 0, 0, 0, 0, 0, 0, 0, 0, 0, 0, 0, 0, 0, 0, 0, 0, 0, 0, 0, 0, 0, 0, 0, 0, 0, 0, 0, 0, 0, 0, 0, 0, 0, 0, 0, 0, 0, 0, 0, 0, 0, 0, 0, 0, 0, 0, 0, 0, 0, 0, 0, 0, 0, 0, 0, 0, 0, 0, 0, 0, 0, 0, 0, 0, 0, 0, 0, 0, 0, 0, 0, 0, 0, 0, 0, 0, 0, 0, 0, 0, 0, 0, 0, 0, 0, 0, 0, 0, 0, 0, 0, 0, 0, 0, 0, 0, 0, 0, 0, 0, 0, 0, 0, 0, 0, 0, 0, 0, 0, 0, 0, 0, 0, 0, 0, 0, 0, 0, 0, 0, 0, 0, 0, 0, 0, 0, 0, 0, 0, 0, 0, 0, 0, 0, 0, 0, 0, 0, 0, 0, 0, 0, 0, 0, 0, 0, 0, 0, 0, 0, 0, 0, 0, 0, 0, 0, 0, 0, 0, 0, 0, 0, 0, 0, 0, 0, 0, 0, 0, 0, 0, 0, 0, 0, 0, 0, 0, 0, 0, 0, 0, 0, 0, 0, 0, 0, 0, 0, 0, 0, 0, 0, 0, 0, 0, 0, 0, 0, 0, 0, 0, 0, 0, 0, 0, 0, 0, 0, 0, 0, 0, 0, 0, 0, 0, 0, 0, 0, 0, 0, 0, 0, 0, 0, 0, 0, 0, 0, 0, 0, 0, 0, 0, 0, 0, 0, 0, 0, 0, 0, 0, 0, 0, 0, 0, 0, 0, 0, 0, 0, 0, 0, 0, 0, 0, 0, 0, 0, 0, 0, 0, 0, 0, 0, 0, 0, 0, 0, 0, 0, 0, 0, 0, 0, 0, 0, 0, 0, 0, 0, 0, 0, 0, 0, 0, 0, 0, 0, 0, 0, 0, 0, 0, 0, 0, 0, 0, 0, 0, 0, 0, 0, 0, 0, 0, 0, 0, 0, 0, 0, 0, 0, 0, 0, 0, 0, 0, 0, 0, 0, 0, 0, 0, 0, 0, 0, 0, 0, 0, 0, 0, 0, 0, 0, 0, 0, 0, 0, 0, 0, 0, 0, 0, 0, 0, 0, 0, 0, 0, 0, 0, 0, 0, 0, 0, 0, 0, 0, 0, 0, 0, 0, 0, 0, 0, 0, 0, 0, 0, 0, 0, 0, 0, 0, 0, 0, 0, 0, 0, 0, 0, 0, 0, 0, 0, 0, 0, 0, 0, 0, 0, 0, 0, 0, 0, 0, 0, 0, 0, 0, 0, 0, 0, 0, 0, 0, 0, 0, 0, 0, 0, 0, 0, 0, 0, 0, 0, 0, 0, 0, 0, 0, 0, 0, 0, 0, 0, 0, 2, 0, 0, 0, 0, 0, 0, 0, 0, 0, 0, 0, 0, 0, 0, 0, 0, 0, 0, 0, 0, 0, 0, 0, 0, 0, 0, 0, 0, 0, 0, 0, 0, 0, 0, 0, 0, 0, 0, 0, 0, 0, 0, 0, 0, 0, 0, 0, 0, 0, 0, 0, 0, 0, 0, 0, 0, 0, 0, 0, 0, 0, 0, 0, 0, 0, 0, 0, 0, 0, 0, 0, 0, 2, 0, 0, 0, 0, 0, 0, 0, 0, 0, 0, 0, 0, 0, 0, 0, 0, 0, 0, 0, 0, 0, 0, 0, 0, 0, 0, 0, 0, 0, 0, 0, 0, 0, 0, 0, 0, 0, 0, 0, 0, 0, 0, 0, 0, 0, 0, 0, 0, 0, 0, 0, 0, 0, 0, 0, 0, 0, 0, 0, 0, 0, 0, 0, 0, 0, 0, 0, 0, 0, 0, 0, 0, 0, 0, 0, 0, 0, 0, 0, 0, 0, 0, 0, 0, 0, 0, 0, 0, 0, 0, 0, 0, 0, 0, 0, 0, 0, 0, 0, 0, 0, 0, 0, 0, 0, 0, 0, 0, 0, 0, 0, 0, 0, 0, 0, 0, 0, 0, 0, 0, 0, 0, 0, 0, 0, 0, 0, 0, 0, 0, 0, 0, 0, 0, 0, 0, 0, 0, 0, 0, 0, 0, 0, 0, 0, 0, 0, 0, 0, 0, 0, 0, 0, 0, 0, 0, 0, 0, 0, 0, 0, 0, 0, 0, 0, 0, 0, 0, 0, 0, 0, 0, 0, 0, 0, 0, 0, 0, 0, 0, 0, 0, 0, 0, 0, 0, 0, 0, 0, 0, 0, 0, 0, 0, 0, 0, 0, 0, 0, 0, 0, 0, 0, 0, 0, 0, 0, 0, 0, 0, 0, 0, 0, 0, 2, 0, 0, 0, 2, 0, 0, 0, 0, 0, 0, 0, 0, 0, 0, 0, 0, 0, 0, 0, 0, 0, 0, 0, 0, 0, 0, 0, 0, 0, 0, 0, 0, 0, 0, 0, 0, 0, 0, 0, 0, 0, 0, 0, 0, 0, 0, 0, 2, 0, 0, 0, 0, 0, 0, 0, 0, 0, 0, 0, 0, 0, 0, 0, 0, 0, 0, 0, 0, 0, 0, 0, 0, 0, 0, 0, 0, 0, 0, 0, 0, 0, 0, 0, 0, 0, 0, 0, 0, 0, 0, 0, 0, 0, 0, 0, 0, 0, 0, 0, 0, 0, 0, 0, 0, 0, 0, 0, 0, 0, 0, 0, 0, 0, 0, 0, 0, 0, 0, 0, 0, 0, 0, 0, 0, 0, 0, 0, 0, 0, 0, 0, 0, 0, 0, 0, 0, 0, 0, 0, 0, 0, 0, 0, 0, 0, 0, 0, 0, 2, 0, 0, 0, 0, 0, 0, 0, 0, 0, 0, 0, 0, 0, 0, 0, 0, 0, 0, 0, 0, 0, 0, 0, 0, 0, 0, 0, 0, 0, 0, 0, 0, 0, 0, 0, 0, 0, 0, 0, 0, 0, 0, 0, 0, 0, 0, 0, 0, 0, 0, 0, 0, 0, 0, 0, 0, 0, 0, 0, 0, 0, 0, 0, 0, 0, 0, 0, 0, 0, 0, 0, 0, 0, 0, 0, 0, 0, 0, 0, 0, 0, 0, 0, 0, 0, 0, 0, 0, 0, 0, 0, 0, 0, 0, 0, 0, 0, 0, 0, 0, 0, 0, 0, 0, 0, 0, 0, 0, 0, 0, 0, 0, 0, 0, 0, 0, 0, 0, 0, 0, 0, 0, 0, 0, 0, 0, 0, 0, 0, 0, 0, 0, 0, 0, 0, 0, 0, 0, 0, 0, 0, 0, 0, 0, 0, 0, 0, 0, 0, 0, 0, 0, 0, 0, 0, 0, 0, 0, 0, 0, 0, 0, 0, 0, 0, 0, 0, 0, 0, 0, 0, 0, 0, 0, 0, 0, 0, 0, 0, 0, 0, 0, 0, 0, 0, 0, 0, 0, 0, 0, 0, 0, 0, 0, 0, 0, 0, 0, 0, 0, 0, 0, 0, 0, 0, 0, 0, 0, 0, 0, 0, 0, 0, 0, 0, 0, 0, 0, 0, 0, 0, 0, 0, 0, 0, 0, 0, 0, 0, 0, 0, 0, 0, 0, 0, 0, 0, 0, 0, 0, 0, 0, 0, 0, 0, 0, 0, 0, 0, 0, 0, 0, 0, 0, 1, 0, 0, 0, 0, 0, 0, 0, 0, 0, 0, 0, 0, 0, 0, 0, 0, 0, 0, 0, 0, 0, 0, 0, 0, 0, 0, 0, 0, 0, 0, 0, 0, 0, 0, 0, 0, 0, 0, 0, 0, 0, 0, 0, 0, 0, 0, 0, 0, 0, 0, 0, 0, 0, 0, 0, 0, 0, 0, 0, 0, 0, 0, 0, 0, 0, 0, 0, 0, 0, 0, 0, 0, 0, 0, 0, 0, 0, 0, 0, 0, 0, 0, 0, 0, 0, 0, 0, 0, 0, 0, 0, 0, 0, 0, 0, 0, 0, 0, 0, 0, 0, 0, 0, 0, 0, 0, 0, 0, 0, 0, 0, 0, 0, 0, 0, 0, 0, 0, 0, 0, 0, 0, 0, 0, 0, 0, 0, 0, 0, 0, 0, 0, 0, 0, 0, 0, 0, 0, 0, 0, 0, 0, 0, 0, 0, 0, 0, 0, 0, 0, 0, 0, 0, 0, 0, 0, 0, 0, 0, 0, 0, 0, 0, 0, 0, 0, 0, 0, 0, 0, 0, 0, 0, 0, 0, 0, 0, 0, 0, 0, 0, 0, 0, 0, 0, 0, 0, 0, 0, 2, 0, 0, 0, 0, 0, 0, 0, 0, 0, 0, 0, 0, 0, 0, 0, 0, 0, 0, 0, 0, 0, 0, 0, 0, 0, 0, 0, 0, 0, 0, 0, 0, 0, 0, 0, 0, 0, 0, 0, 0, 0, 0, 0, 0, 0, 0, 0, 0, 0, 0, 0, 0, 0, 0, 0, 0, 0, 0, 0, 0, 0, 0, 0, 0, 0, 0, 0, 0, 0, 0, 0, 0, 0, 0, 0, 0, 0, 0, 0, 0, 0, 0, 0, 0, 0, 0, 0, 0, 0, 0, 0, 0, 0, 0, 0, 0, 0, 0, 0, 0, 0, 0, 0, 2, 0, 0, 0, 0, 0, 0, 0, 0, 0, 0, 0, 0, 0, 0, 0, 0, 0, 0, 0, 0, 0, 0, 0, 0, 0, 0, 0, 0, 0, 0, 0, 0, 0, 0, 0, 0, 0, 0, 0, 0, 0, 0, 0, 0, 0, 0, 0, 0, 0, 0, 0, 0, 0, 0, 0, 0, 0, 0, 0, 0, 0, 0, 0, 0, 0, 0, 0, 0, 0, 0, 0, 0, 0, 0, 0, 0, 0, 0, 0, 0, 0, 0, 0, 0, 0, 0, 0, 0, 0, 0, 0, 0, 0, 0, 0, 0, 0, 0, 0, 0, 0, 0, 0, 0, 0, 0, 0, 0, 0, 0, 0, 0, 0, 0, 0, 0, 0, 0, 0, 0, 0, 0, 0, 0, 0, 0, 0, 0, 0, 0, 0, 0, 0, 0, 0, 0, 0, 0, 0, 0, 0, 0, 0, 0, 0, 0, 0, 0, 0, 0, 0, 0, 0, 0, 0, 0, 0, 0, 0, 0, 0, 0, 0, 0, 0, 0, 0, 0, 0, 0, 0, 0, 0, 0, 0, 0, 0, 0, 0, 0, 0, 0, 0, 0, 0, 0, 0, 0, 0, 0, 0, 0, 2, 0, 0, 0, 0, 0, 0, 0, 0, 0, 0, 0, 0, 0, 0, 0, 0, 0, 0, 0, 0, 0, 0, 0, 0, 0, 0, 0, 0, 0, 0, 0, 0, 0, 0, 0, 0, 0, 0, 0, 0, 0, 0, 0, 0, 0, 0, 0, 0, 0, 0, 0, 0, 0, 0, 0, 0, 0, 0, 0, 0, 0, 0, 0, 0, 0, 0, 0, 0, 0, 0, 0, 0, 0, 0, 0, 0, 0, 0, 0, 0, 0, 0, 0, 0, 0, 0, 0, 0, 0, 0, 0, 0, 0, 0, 0, 0, 0, 0, 0, 0, 0, 0, 0, 0, 0, 0, 0, 0, 0, 0, 0, 0, 0, 0, 0, 0, 0, 0, 0, 0, 0, 0, 0, 0, 0, 0, 0, 0, 0, 0, 0, 0, 0, 0, 0, 0, 0, 0, 0, 0, 0, 0, 0, 0, 0, 0, 0, 0, 0, 0, 0, 0, 0, 0, 0, 0, 0, 0, 0, 0, 0, 0, 0, 0, 0, 0, 0, 0, 0, 0, 0, 0, 0, 0, 0, 0, 0, 0, 0, 0, 0, 0, 0, 0, 0, 0, 0, 0, 0, 0, 0, 0, 0, 0, 0, 0, 0, 0, 0, 0, 0, 0, 0, 0, 0, 0, 0, 0, 0, 0, 0, 0, 0, 0, 0, 0, 0, 0, 0, 0, 0, 0, 0, 0, 0, 0, 0, 0, 0, 0, 0, 0, 0, 0, 0, 0, 0, 0, 0, 0, 0, 0, 0, 0, 0, 0, 0, 0, 0, 0, 0, 0, 0, 0, 0, 0, 0, 0, 0, 0, 0, 0, 0, 0, 0, 0, 0, 0, 0, 0, 0, 0, 0, 0, 0, 0, 0, 0, 0, 0, 0, 0, 0, 0, 0, 0, 0, 0, 0, 0, 0, 0, 0, 0, 0, 0, 0, 0, 0, 0, 0, 0, 0, 0, 0, 0, 0, 0, 0, 0, 0, 0, 0, 0, 0, 0, 0, 0, 0, 0, 0, 0, 0, 0, 0, 2, 0, 0, 0, 0, 0, 0, 0, 0, 0, 0, 0, 0, 0, 0, 2, 0, 0, 0, 0, 0, 0, 0, 0, 0, 0, 0, 0, 0, 0, 0, 0, 0, 0, 0, 0, 0, 0, 0, 0, 0, 0, 0, 0, 0, 0, 0, 0, 0, 0, 0, 0, 0, 0, 0, 0, 0, 0, 0, 0, 0, 0, 0, 0, 0, 0, 2, 0, 0, 0, 0, 0, 0, 0, 0, 0, 0, 0, 0, 0, 0, 0, 0, 0, 0, 0, 0, 0, 0, 0, 0, 0, 0, 0, 0, 0, 0, 0, 0, 0, 0, 0, 0, 0, 0, 0, 0, 0, 0, 0, 0, 0, 0, 0, 0, 0, 0, 0, 0, 0, 0, 0, 0, 0, 0, 0, 0, 0, 0, 0, 0, 0, 0, 0, 0, 0, 0, 0, 0, 0, 0, 0, 0, 0, 0, 0, 0, 0, 0, 0, 0, 0, 0, 0, 0, 0, 0, 0, 0, 0, 0, 0, 0, 0, 0, 0, 0, 0, 0, 0, 0, 0, 0, 0, 0, 0, 0, 0, 0, 0, 0, 0, 0, 0, 2, 0, 0, 0, 0, 0, 0, 0, 0, 0, 0, 0, 0, 0, 2, 0, 0, 0, 0, 0, 0, 0, 0, 0, 0, 0, 0, 0, 0, 0, 0, 0, 0, 0, 0, 0, 0, 0, 0, 0, 0, 0, 0, 0, 0, 0, 0, 0, 0, 0, 0, 0, 0, 0, 0, 0, 0, 0, 0, 0, 0, 0, 0, 0, 0, 0, 0, 0, 0, 0, 0, 0, 0, 0, 0, 0, 0, 0, 0, 0, 0, 0, 0, 0, 0, 0, 0, 0, 0, 0, 0, 0, 0, 0, 0, 0, 0, 0, 0, 0, 0, 0, 0, 0, 0, 0, 0, 0, 0, 0, 0, 0, 0, 0, 0, 0, 0, 0, 0, 0, 0, 0, 0, 0, 0, 0, 0, 0, 0, 0, 0, 0, 0, 0, 0, 0, 0, 0, 0, 0, 0, 0, 0, 0, 0, 0, 0, 0, 0, 0, 0, 0, 0, 0, 0, 0, 0, 0, 0, 0, 0, 0, 0, 0, 0, 0, 0, 0, 0, 0, 0, 0, 0, 0, 0, 0, 0, 0, 0, 0, 0, 0, 0, 0, 0, 0, 0, 0, 0, 0, 0, 0, 0, 0, 0, 0, 0, 0, 0, 0, 0, 0, 0, 0, 0, 0, 0, 0, 0, 0, 0, 0, 0, 0, 0, 0, 0, 0, 0, 0, 0, 0, 0, 0, 0, 0, 0, 0, 0, 0, 0, 0, 0, 0, 0, 0, 0, 0, 0, 0, 0, 0, 0, 0, 0, 0, 0, 0, 0, 0, 0, 0, 0, 0, 0, 0, 0, 0, 0, 0, 0, 0, 0, 0, 0, 0, 0, 0, 0, 0, 0, 0, 0, 0, 0, 0, 0, 0, 0, 0, 0, 0, 0, 0, 0, 0, 0, 0, 0, 0, 0, 0, 0, 0, 0, 0, 0, 0, 0, 0, 0, 2, 0, 0, 0, 0, 0, 0, 0, 0, 0, 0, 0, 0, 0, 0, 0, 0, 0, 1, 0, 0, 0, 0, 0, 0, 0, 0, 0, 0, 0, 0, 0, 0, 0, 0, 0, 0, 0, 0, 0, 0, 0, 0, 0, 0, 0, 0, 0, 0, 0, 0, 0, 0, 0, 0, 0, 0, 0, 0, 0, 0, 0, 0, 0, 0, 0, 0, 0, 0, 0, 0, 0, 0, 0, 0, 0, 0, 0, 0, 0, 0, 0, 0, 0, 0, 0, 0, 0, 0, 0, 0, 0, 0, 0, 0, 0, 0, 0, 0, 0, 0, 0, 0, 0, 0, 0, 0, 0, 0, 0, 0, 0, 0, 0, 0, 0, 0, 0, 0, 0, 0, 0, 0, 0, 0, 0, 0, 0, 0, 0, 0, 0, 0, 0, 0, 0, 0, 0, 0, 0, 0, 0, 0, 0, 0, 0, 0, 0, 0, 0, 0, 0, 0, 0, 0, 0, 0, 0, 0, 0, 0, 0, 0, 0, 0, 0, 0, 0, 0, 0, 0, 0, 0, 0, 0, 0, 0, 0, 0, 0, 0, 0, 0, 0, 0, 0, 2, 0, 0, 0, 0, 0, 0, 0, 0, 0, 0, 0, 0, 0, 0, 0, 0, 0, 0, 0, 0, 0, 0, 0, 0, 0, 0, 0, 0, 0, 0, 0, 0, 0, 0, 0, 0, 0, 0, 0, 0, 0, 0, 0, 0, 0, 0, 0, 0, 0, 0, 0, 0, 0, 0, 0, 0, 0, 0, 0, 0, 0, 0, 0, 0, 0, 0, 0, 0, 0, 0, 0, 0, 0, 0, 0, 0, 0, 0, 0, 0, 0, 0, 0, 0, 0, 0, 0, 0, 0, 0, 0, 0, 0, 0, 0, 0, 0, 0, 0, 0, 0, 0, 0, 0, 0, 0, 0, 0, 0, 0, 0, 0, 0, 0, 0, 0, 0, 0, 0, 0, 0, 0, 0, 0, 0, 0, 0, 0, 0, 0, 0, 0, 0, 0, 0, 0, 0, 0, 0, 0, 0, 0, 0, 0, 0, 0, 0, 0, 0, 0, 0, 0, 0, 0, 0, 0, 0, 0, 0, 0, 0, 0, 0, 0, 0, 0, 0, 0, 0, 0, 0, 0, 0, 0, 0, 0, 0, 0, 0, 0, 0, 0, 0, 0, 0, 0, 0, 0, 0, 0, 0, 0, 0, 0, 0, 0, 0, 0, 0, 0, 0, 0, 0, 0, 0, 0, 0, 0, 0, 0, 0, 0, 0, 0, 0, 0, 0, 0, 0, 0, 0, 0, 0, 0, 0, 0, 0, 0, 0, 0, 0, 0, 0, 0, 0, 0, 0, 0, 0, 0, 0, 0, 0, 0, 0, 0, 0, 0, 0, 0, 0, 0, 0, 0, 0, 0, 0, 0, 0, 0, 0, 0, 0, 0, 0, 0, 0, 0, 0, 0, 0, 0, 0, 0, 0, 0, 0, 0, 0, 0, 0, 0, 0, 0, 0, 0, 0, 0, 0, 0, 0, 0, 0, 0, 0, 0, 0, 0, 0, 0, 0, 0, 0, 0, 0, 0, 0, 0, 0, 0, 0, 0, 0, 0, 0, 0, 0, 0, 0, 0, 0, 0, 0, 0, 0, 0, 0, 0, 0, 0, 0, 0, 0, 0, 0, 0, 0, 0, 0, 0, 0, 0, 0, 0, 0, 0, 0, 0, 0, 0, 0, 0, 0, 0, 0, 0, 0, 0, 0, 0, 0, 0, 0, 0, 0, 0, 0, 0, 0, 0, 0, 0, 0, 0, 0, 0, 0, 0, 0, 0, 0, 0, 0, 0, 0, 0, 0, 0, 0, 0, 0, 0, 0, 0, 0, 0, 0, 0, 0, 0, 0, 0, 0, 0, 0, 0, 0, 0, 0, 0, 0, 0, 0, 0, 0, 0, 0, 0, 0, 0, 0, 0, 0, 0, 0, 0, 0, 0, 0, 0, 0, 0, 0, 0, 0, 0, 0, 0, 0, 0, 0, 0, 0, 0, 0, 0, 0, 0, 0, 0, 0, 0, 0, 0, 0, 0, 0, 0, 0, 0, 0, 0, 0, 0, 0, 0, 0, 0, 0, 0, 0, 0, 0, 0, 0, 0, 0, 0, 0, 0, 0, 0, 0, 0, 0, 0, 0, 0, 0, 0, 0, 0, 0, 0, 0, 0, 0, 0, 0, 0, 0, 0, 0, 0, 0, 2, 0, 0, 0, 0, 0, 0, 0, 0, 0, 2, 0, 0, 0, 0, 0, 0, 0, 0, 0, 0, 0, 0, 0, 0, 0, 0, 0, 0, 0, 0, 0, 0, 0, 0, 0, 0, 0, 0, 0, 0, 0, 0, 0, 0, 1, 0, 0, 0, 0, 0, 0, 0, 0, 0, 0, 0, 0, 0, 0, 0, 0, 0, 0, 0, 0, 0, 0, 0, 0, 0, 0, 0, 0, 0, 0, 0, 0, 0, 0, 0, 0, 0, 0, 0, 0, 0, 0, 2, 0, 0, 0, 0, 0, 0, 0, 0, 0, 0, 0, 0, 0, 0, 0, 0, 0, 0, 0, 0, 0, 0, 0, 0, 0, 0, 0, 0, 0, 0, 0, 0, 0, 0, 0, 0, 0, 0, 0, 0, 0, 0, 0, 0, 0, 0, 0, 0, 0, 0, 0, 0, 0, 0, 0, 0, 0, 0, 0, 0, 0, 0, 0, 0, 0, 0, 0, 0, 0, 0, 0, 0, 0, 0, 0, 0, 0, 0, 0, 0, 0, 0, 0, 0, 0, 0, 0, 0, 0, 0, 0, 0, 0, 0, 0, 0, 0, 0, 0, 0, 0, 0, 0, 0, 0, 0, 0, 0, 0, 0, 0, 0, 0, 0, 0, 0, 0, 0, 0, 0, 0, 0, 0, 0, 0, 0, 0, 0, 0, 0, 0, 0, 0, 0, 0, 0, 0, 0, 0, 0, 0, 0, 0, 0, 0, 0, 0, 0, 0, 0, 0, 0, 0, 0, 0, 0, 0, 0, 0, 0, 0, 0, 0, 0, 0, 0, 0, 0, 0, 0, 0, 0, 0, 0, 0, 0, 0, 0, 0, 0, 0, 0, 0, 0, 0, 0, 0, 0, 0, 0, 0, 0, 0, 0, 0, 0, 0, 0, 0, 0, 0, 0, 0, 0, 0, 0, 0, 0, 0, 0, 0, 0, 0, 0, 0, 0, 0, 0, 0, 0, 0, 0, 0, 0, 0, 0, 0, 0, 0, 0, 0, 0, 0, 0, 0, 0, 0, 0, 2, 0, 0, 0, 0, 0, 0, 0, 0, 0, 0, 0, 0, 0, 0, 0, 0, 0, 0, 0, 0, 0, 0, 0, 0, 0, 0, 0, 0, 0, 0, 0, 0, 0, 0, 0, 0, 0, 0, 0, 0, 0, 0, 0, 0, 0, 0, 0, 0, 0, 0, 0, 0, 0, 0, 0, 0, 0, 0, 0, 0, 0, 0, 0, 0, 0, 0, 0, 0, 0, 0, 0, 0, 0, 0, 0, 0, 0, 0, 0, 0, 0, 2, 0, 0, 0, 0, 0, 0, 0, 0, 0, 0, 0, 0, 0, 0, 0, 0, 0, 0, 0, 0, 0, 0, 0, 0, 0, 0, 0, 0, 0, 0, 0, 0, 0, 0, 0, 0, 0, 0, 0, 0, 0, 0, 0, 0, 0, 0, 0, 0, 0, 0, 0, 0, 0, 0, 0, 0, 0, 0, 0, 0, 0, 0, 0, 0, 0, 0, 0, 0, 0, 0, 0, 0, 0, 0, 0, 0, 0, 0, 0, 0, 0, 0, 0, 0, 0, 0, 0, 0, 0, 0, 0, 0, 0, 0, 0, 0, 0, 0, 0, 0, 0, 0, 0, 0, 0, 0, 0, 1, 0, 0, 0, 0, 0, 0, 0, 0, 0, 0, 0, 0, 0, 0, 0, 0, 0, 0, 0, 0, 0, 0, 0, 0, 0, 0, 0, 0, 0, 0, 0, 0, 0, 0, 0, 0, 0, 0, 0, 0, 0, 0, 0, 0, 0, 0, 0, 0, 0, 0, 0, 0, 0, 0, 0, 0, 0, 0, 0, 0, 0, 0, 0, 0, 0, 0, 0, 0, 0, 0, 0, 0, 0, 0, 0, 0, 0, 0, 0, 0, 0, 0, 0, 0, 0, 0, 0, 0, 0, 0, 0, 0, 0, 0, 0, 0, 0, 0, 0, 0, 0, 0, 0, 0, 0, 0, 0, 0, 0, 0, 0, 0, 0, 0, 0, 0, 0, 0, 0, 0, 0, 0, 0, 0, 0, 0, 0, 0, 0, 0, 0, 0, 0, 0, 0], \"x0\": \" \", \"xaxis\": \"x\", \"y\": [326.0, 2.0, 75.0, 19.0, 310.0, 36.0, 204.0, 232.0, 214.0, 23.0, 33.0, 2.0, 58.0, 52.0, 287.0, 3.0, 110.0, 8.0, 291.0, 4.0, 51.0, 60.0, 72.0, 311.0, 25.0, 11.0, 315.0, 130.0, 82.0, 22.0, 5.0, 185.0, 29.0, 338.0, 16.0, 80.0, 22.0, 72.0, 64.0, 19.0, 36.0, 46.0, 119.0, 303.0, 323.0, 50.0, 149.0, 22.0, 50.0, 33.0, 79.0, 309.0, 75.0, 67.0, 217.0, 24.0, 3.0, 113.0, 64.0, 16.0, 96.0, 1.0, 163.0, 78.0, 195.0, 22.0, 26.0, 9.0, 43.0, 36.0, 43.0, 1.0, 85.0, 80.0, 100.0, 2.0, 14.0, 367.0, 3.0, 21.0, 22.0, 58.0, 243.0, 44.0, 22.0, 156.0, 11.0, 17.0, 134.0, 56.0, 73.0, 44.0, 66.0, 71.0, 155.0, 19.0, 53.0, 10.0, 17.0, 188.0, 2.0, 32.0, 54.0, 17.0, 54.0, 16.0, 23.0, 4.0, 11.0, 28.0, 23.0, 17.0, 35.0, 10.0, 336.0, 5.0, 39.0, 63.0, 166.0, 16.0, 82.0, 21.0, 23.0, 337.0, 96.0, 18.0, 233.0, 134.0, 26.0, 284.0, 143.0, 66.0, 113.0, 267.0, 353.0, 78.0, 28.0, 1.0, 64.0, 79.0, 143.0, 39.0, 19.0, 9.0, 1.0, 82.0, 9.0, 60.0, 15.0, 30.0, 131.0, 92.0, 59.0, 29.0, 22.0, 20.0, 30.0, 36.0, 75.0, 47.0, 198.0, 166.0, 79.0, 358.0, 40.0, 8.0, 50.0, 16.0, 8.0, 311.0, 5.0, 303.0, 8.0, 261.0, 289.0, 86.0, 23.0, 2.0, 40.0, 9.0, 227.0, 316.0, 36.0, 35.0, 21.0, 78.0, 247.0, 40.0, 239.0, 3.0, 4.0, 234.0, 17.0, 8.0, 39.0, 29.0, 211.0, 317.0, 92.0, 109.0, 38.0, 51.0, 19.0, 10.0, 29.0, 29.0, 190.0, 59.0, 22.0, 79.0, 60.0, 78.0, 23.0, 52.0, 74.0, 57.0, 278.0, 2.0, 95.0, 29.0, 22.0, 16.0, 15.0, 2.0, 232.0, 276.0, 106.0, 212.0, 23.0, 11.0, 4.0, 10.0, 57.0, 59.0, 90.0, 67.0, 33.0, 239.0, 24.0, 115.0, 25.0, 128.0, 130.0, 34.0, 5.0, 22.0, 155.0, 107.0, 3.0, 335.0, 331.0, 149.0, 11.0, 17.0, 11.0, 19.0, 30.0, 11.0, 1.0, 8.0, 325.0, 58.0, 12.0, 151.0, 10.0, 330.0, 5.0, 39.0, 25.0, 42.0, 59.0, 1.0, 15.0, 4.0, 4.0, 8.0, 28.0, 372.0, 114.0, 26.0, 206.0, 28.0, 127.0, 70.0, 7.0, 29.0, 8.0, 80.0, 20.0, 71.0, 7.0, 15.0, 292.0, 30.0, 15.0, 97.0, 29.0, 1.0, 9.0, 106.0, 4.0, 151.0, 71.0, 5.0, 3.0, 32.0, 85.0, 4.0, 5.0, 371.0, 28.0, 11.0, 71.0, 114.0, 24.0, 180.0, 234.0, 353.0, 315.0, 333.0, 372.0, 99.0, 64.0, 134.0, 56.0, 2.0, 1.0, 4.0, 129.0, 81.0, 23.0, 236.0, 281.0, 87.0, 16.0, 117.0, 52.0, 8.0, 138.0, 317.0, 4.0, 239.0, 211.0, 60.0, 17.0, 20.0, 38.0, 64.0, 5.0, 2.0, 15.0, 364.0, 10.0, 65.0, 192.0, 374.0, 257.0, 335.0, 53.0, 19.0, 366.0, 10.0, 187.0, 37.0, 178.0, 262.0, 45.0, 102.0, 148.0, 96.0, 281.0, 262.0, 3.0, 214.0, 71.0, 75.0, 60.0, 3.0, 6.0, 3.0, 337.0, 38.0, 262.0, 32.0, 145.0, 283.0, 59.0, 173.0, 34.0, 3.0, 144.0, 5.0, 70.0, 66.0, 29.0, 267.0, 22.0, 31.0, 97.0, 295.0, 135.0, 79.0, 373.0, 8.0, 211.0, 52.0, 138.0, 26.0, 283.0, 26.0, 186.0, 84.0, 327.0, 282.0, 143.0, 58.0, 4.0, 236.0, 45.0, 276.0, 9.0, 25.0, 88.0, 63.0, 68.0, 214.0, 24.0, 186.0, 31.0, 42.0, 205.0, 9.0, 265.0, 18.0, 12.0, 176.0, 40.0, 23.0, 3.0, 5.0, 149.0, 139.0, 128.0, 8.0, 17.0, 9.0, 161.0, 64.0, 88.0, 5.0, 35.0, 312.0, 78.0, 22.0, 24.0, 2.0, 17.0, 15.0, 26.0, 64.0, 55.0, 131.0, 36.0, 288.0, 144.0, 16.0, 31.0, 2.0, 9.0, 6.0, 10.0, 1.0, 306.0, 10.0, 7.0, 8.0, 89.0, 10.0, 372.0, 112.0, 7.0, 4.0, 198.0, 212.0, 156.0, 158.0, 30.0, 243.0, 19.0, 1.0, 74.0, 292.0, 3.0, 31.0, 23.0, 23.0, 4.0, 85.0, 22.0, 196.0, 107.0, 4.0, 318.0, 106.0, 12.0, 174.0, 56.0, 323.0, 372.0, 9.0, 1.0, 11.0, 53.0, 73.0, 7.0, 16.0, 4.0, 64.0, 1.0, 114.0, 23.0, 31.0, 11.0, 52.0, 357.0, 55.0, 74.0, 138.0, 80.0, 9.0, 273.0, 291.0, 99.0, 31.0, 57.0, 14.0, 64.0, 15.0, 212.0, 78.0, 25.0, 250.0, 254.0, 72.0, 191.0, 13.0, 373.0, 24.0, 82.0, 10.0, 1.0, 192.0, 267.0, 130.0, 1.0, 3.0, 4.0, 179.0, 12.0, 126.0, 4.0, 158.0, 3.0, 9.0, 28.0, 71.0, 276.0, 21.0, 71.0, 33.0, 1.0, 99.0, 234.0, 1.0, 40.0, 3.0, 133.0, 44.0, 373.0, 60.0, 31.0, 1.0, 12.0, 138.0, 22.0, 20.0, 239.0, 269.0, 94.0, 90.0, 5.0, 78.0, 94.0, 23.0, 262.0, 274.0, 86.0, 56.0, 11.0, 22.0, 16.0, 108.0, 85.0, 19.0, 333.0, 40.0, 26.0, 10.0, 29.0, 14.0, 296.0, 6.0, 33.0, 49.0, 95.0, 9.0, 22.0, 313.0, 122.0, 46.0, 283.0, 19.0, 36.0, 64.0, 27.0, 22.0, 4.0, 16.0, 46.0, 65.0, 26.0, 45.0, 8.0, 15.0, 268.0, 40.0, 337.0, 11.0, 19.0, 95.0, 61.0, 136.0, 11.0, 10.0, 4.0, 19.0, 10.0, 15.0, 59.0, 30.0, 94.0, 10.0, 20.0, 57.0, 268.0, 122.0, 127.0, 78.0, 240.0, 200.0, 60.0, 3.0, 273.0, 202.0, 81.0, 226.0, 4.0, 13.0, 74.0, 212.0, 25.0, 17.0, 262.0, 96.0, 112.0, 203.0, 93.0, 51.0, 18.0, 18.0, 125.0, 92.0, 157.0, 9.0, 12.0, 62.0, 61.0, 269.0, 263.0, 1.0, 53.0, 11.0, 3.0, 18.0, 1.0, 366.0, 37.0, 31.0, 113.0, 64.0, 16.0, 41.0, 78.0, 122.0, 18.0, 60.0, 331.0, 23.0, 156.0, 39.0, 190.0, 360.0, 137.0, 8.0, 1.0, 268.0, 169.0, 104.0, 155.0, 351.0, 4.0, 120.0, 23.0, 7.0, 28.0, 4.0, 22.0, 2.0, 37.0, 66.0, 1.0, 5.0, 78.0, 72.0, 17.0, 3.0, 36.0, 82.0, 39.0, 316.0, 32.0, 93.0, 14.0, 82.0, 77.0, 158.0, 201.0, 45.0, 261.0, 178.0, 68.0, 288.0, 70.0, 64.0, 11.0, 16.0, 66.0, 60.0, 71.0, 122.0, 80.0, 257.0, 269.0, 64.0, 9.0, 18.0, 71.0, 34.0, 50.0, 257.0, 366.0, 372.0, 90.0, 61.0, 89.0, 99.0, 26.0, 32.0, 281.0, 31.0, 330.0, 131.0, 11.0, 75.0, 204.0, 2.0, 185.0, 29.0, 73.0, 192.0, 127.0, 18.0, 1.0, 204.0, 2.0, 24.0, 107.0, 134.0, 44.0, 5.0, 12.0, 64.0, 150.0, 40.0, 64.0, 108.0, 1.0, 19.0, 10.0, 11.0, 19.0, 67.0, 74.0, 5.0, 2.0, 14.0, 255.0, 92.0, 23.0, 17.0, 24.0, 27.0, 26.0, 259.0, 166.0, 25.0, 18.0, 7.0, 29.0, 39.0, 253.0, 58.0, 184.0, 11.0, 2.0, 99.0, 1.0, 61.0, 236.0, 191.0, 179.0, 38.0, 201.0, 46.0, 232.0, 66.0, 241.0, 233.0, 78.0, 58.0, 17.0, 105.0, 52.0, 136.0, 275.0, 312.0, 8.0, 11.0, 283.0, 18.0, 23.0, 288.0, 17.0, 71.0, 64.0, 73.0, 316.0, 3.0, 244.0, 9.0, 1.0, 261.0, 127.0, 74.0, 73.0, 21.0, 60.0, 86.0, 78.0, 59.0, 1.0, 30.0, 33.0, 41.0, 15.0, 34.0, 79.0, 205.0, 34.0, 183.0, 2.0, 1.0, 43.0, 86.0, 40.0, 12.0, 96.0, 26.0, 319.0, 66.0, 74.0, 28.0, 6.0, 7.0, 216.0, 82.0, 84.0, 354.0, 19.0, 41.0, 173.0, 17.0, 243.0, 13.0, 206.0, 50.0, 23.0, 10.0, 25.0, 15.0, 309.0, 156.0, 307.0, 64.0, 16.0, 15.0, 11.0, 65.0, 36.0, 108.0, 53.0, 6.0, 47.0, 1.0, 312.0, 45.0, 65.0, 26.0, 29.0, 40.0, 12.0, 89.0, 24.0, 319.0, 40.0, 174.0, 117.0, 31.0, 253.0, 59.0, 23.0, 5.0, 100.0, 25.0, 33.0, 68.0, 37.0, 52.0, 16.0, 74.0, 216.0, 31.0, 16.0, 120.0, 10.0, 257.0, 17.0, 40.0, 46.0, 43.0, 114.0, 165.0, 11.0, 10.0, 206.0, 86.0, 179.0, 60.0, 149.0, 3.0, 51.0, 75.0, 301.0, 19.0, 151.0, 152.0, 1.0, 18.0, 187.0, 286.0, 3.0, 183.0, 63.0, 59.0, 25.0, 4.0, 31.0, 39.0, 155.0, 26.0, 318.0, 5.0, 8.0, 303.0, 267.0, 271.0, 4.0, 32.0, 219.0, 247.0, 281.0, 269.0, 32.0, 246.0, 15.0, 117.0, 36.0, 132.0, 217.0, 50.0, 39.0, 29.0, 37.0, 136.0, 219.0, 28.0, 25.0, 5.0, 200.0, 18.0, 241.0, 72.0, 17.0, 3.0, 95.0, 162.0, 374.0, 96.0, 54.0, 288.0, 124.0, 288.0, 152.0, 4.0, 2.0, 12.0, 33.0, 54.0, 50.0, 219.0, 63.0, 71.0, 2.0, 2.0, 64.0, 34.0, 82.0, 1.0, 103.0, 7.0, 251.0, 13.0, 10.0, 367.0, 76.0, 4.0, 128.0, 66.0, 1.0, 117.0, 310.0, 67.0, 139.0, 255.0, 31.0, 52.0, 64.0, 367.0, 6.0, 305.0, 29.0, 184.0, 42.0, 40.0, 92.0, 22.0, 24.0, 29.0, 302.0, 145.0, 6.0, 19.0, 33.0, 176.0, 58.0, 22.0, 16.0, 19.0, 159.0, 25.0, 212.0, 6.0, 253.0, 59.0, 11.0, 65.0, 25.0, 92.0, 52.0, 129.0, 96.0, 57.0, 9.0, 169.0, 57.0, 326.0, 1.0, 18.0, 248.0, 58.0, 74.0, 31.0, 7.0, 123.0, 2.0, 23.0, 120.0, 358.0, 54.0, 64.0, 86.0, 55.0, 21.0, 4.0, 3.0, 11.0, 7.0, 189.0, 71.0, 204.0, 120.0, 93.0, 1.0, 27.0, 298.0, 24.0, 28.0, 50.0, 326.0, 16.0, 183.0, 72.0, 37.0, 80.0, 57.0, 12.0, 50.0, 50.0, 59.0, 352.0, 54.0, 2.0, 93.0, 23.0, 75.0, 11.0, 169.0, 58.0, 96.0, 295.0, 109.0, 264.0, 180.0, 169.0, 35.0, 23.0, 17.0, 22.0, 79.0, 65.0, 361.0, 3.0, 11.0, 176.0, 218.0, 7.0, 2.0, 154.0, 5.0, 79.0, 21.0, 22.0, 308.0, 146.0, 7.0, 19.0, 71.0, 287.0, 49.0, 31.0, 207.0, 15.0, 73.0, 60.0, 39.0, 30.0, 27.0, 4.0, 17.0, 20.0, 66.0, 213.0, 12.0, 30.0, 43.0, 4.0, 15.0, 10.0, 211.0, 46.0, 134.0, 43.0, 10.0, 116.0, 198.0, 278.0, 110.0, 77.0, 53.0, 162.0, 47.0, 17.0, 155.0, 225.0, 7.0, 122.0, 61.0, 63.0, 18.0, 7.0, 2.0, 22.0, 29.0, 285.0, 176.0, 78.0, 33.0, 41.0, 266.0, 27.0, 109.0, 284.0, 9.0, 305.0, 17.0, 32.0, 1.0, 20.0, 124.0, 65.0, 106.0, 1.0, 24.0, 267.0, 5.0, 10.0, 29.0, 267.0, 64.0, 320.0, 4.0, 32.0, 5.0, 129.0, 41.0, 102.0, 125.0, 33.0, 302.0, 365.0, 4.0, 2.0, 3.0, 10.0, 57.0, 8.0, 12.0, 4.0, 37.0, 16.0, 138.0, 74.0, 5.0, 155.0, 239.0, 52.0, 31.0, 73.0, 4.0, 14.0, 23.0, 4.0, 274.0, 20.0, 144.0, 4.0, 84.0, 11.0, 8.0, 123.0, 61.0, 2.0, 319.0, 2.0, 130.0, 2.0, 2.0, 46.0, 4.0, 3.0, 373.0, 134.0, 47.0, 9.0, 78.0, 234.0, 221.0, 36.0, 75.0, 239.0, 266.0, 10.0, 20.0, 40.0, 20.0, 216.0, 174.0, 87.0, 71.0, 276.0, 39.0, 98.0, 11.0, 33.0, 60.0, 297.0, 86.0, 9.0, 41.0, 11.0, 67.0, 331.0, 31.0, 2.0, 2.0, 68.0, 5.0, 202.0, 107.0, 18.0, 218.0, 60.0, 2.0, 17.0, 239.0, 95.0, 11.0, 106.0, 53.0, 90.0, 31.0, 12.0, 3.0, 2.0, 43.0, 4.0, 247.0, 42.0, 177.0, 92.0, 110.0, 29.0, 26.0, 52.0, 184.0, 43.0, 49.0, 22.0, 75.0, 81.0, 373.0, 326.0, 43.0, 30.0, 184.0, 235.0, 9.0, 220.0, 111.0, 278.0, 318.0, 7.0, 2.0, 260.0, 64.0, 9.0, 142.0, 51.0, 8.0, 155.0, 109.0, 163.0, 332.0, 226.0, 74.0, 51.0, 99.0, 15.0, 197.0, 3.0, 31.0, 21.0, 24.0, 8.0, 213.0, 9.0, 11.0, 2.0, 8.0, 3.0, 40.0, 18.0, 8.0, 8.0, 19.0, 117.0, 223.0, 71.0, 51.0, 89.0, 8.0, 243.0, 47.0, 107.0, 45.0, 65.0, 207.0, 11.0, 115.0, 242.0, 163.0, 17.0, 124.0, 23.0, 68.0, 17.0, 16.0, 17.0, 161.0, 243.0, 219.0, 45.0, 21.0, 127.0, 39.0, 121.0, 260.0, 10.0, 274.0, 165.0, 157.0, 215.0, 6.0, 366.0, 80.0, 43.0, 19.0, 32.0, 22.0, 109.0, 8.0, 320.0, 295.0, 358.0, 185.0, 191.0, 44.0, 52.0, 26.0, 38.0, 9.0, 297.0, 33.0, 10.0, 65.0, 10.0, 218.0, 2.0, 65.0, 3.0, 149.0, 4.0, 130.0, 34.0, 119.0, 107.0, 11.0, 71.0, 92.0, 311.0, 43.0, 362.0, 92.0, 1.0, 22.0, 4.0, 11.0, 99.0, 57.0, 1.0, 218.0, 18.0, 24.0, 50.0, 7.0, 303.0, 10.0, 22.0, 99.0, 366.0, 306.0, 320.0, 8.0, 1.0, 205.0, 54.0, 1.0, 19.0, 9.0, 19.0, 181.0, 60.0, 11.0, 190.0, 5.0, 311.0, 155.0, 110.0, 148.0, 66.0, 98.0, 247.0, 29.0, 18.0, 12.0, 104.0, 74.0, 46.0, 72.0, 257.0, 20.0, 254.0, 11.0, 165.0, 18.0, 282.0, 50.0, 39.0, 27.0, 68.0, 207.0, 175.0, 7.0, 26.0, 51.0, 312.0, 309.0, 43.0, 26.0, 88.0, 184.0, 20.0, 3.0, 47.0, 17.0, 17.0, 24.0, 22.0, 11.0, 188.0, 101.0, 61.0, 18.0, 33.0, 64.0, 2.0, 24.0, 108.0, 32.0, 20.0, 3.0, 37.0, 60.0, 26.0, 236.0, 25.0, 3.0, 60.0, 260.0, 58.0, 65.0, 16.0, 10.0, 59.0, 186.0, 29.0, 24.0, 5.0, 4.0, 151.0, 311.0, 11.0, 18.0, 152.0, 19.0, 10.0, 57.0, 85.0, 7.0, 76.0, 4.0, 96.0, 111.0, 57.0, 1.0, 281.0, 3.0, 180.0, 372.0, 13.0, 3.0, 17.0, 41.0, 6.0, 169.0, 50.0, 277.0, 19.0, 372.0, 15.0, 35.0, 22.0, 7.0, 20.0, 11.0, 44.0, 306.0, 11.0, 275.0, 1.0, 16.0, 4.0, 72.0, 243.0, 9.0, 246.0, 206.0, 1.0, 185.0, 32.0, 57.0, 196.0, 24.0, 91.0, 4.0, 51.0, 263.0, 266.0, 36.0, 51.0, 52.0, 24.0, 22.0, 59.0, 170.0, 68.0, 157.0, 2.0, 201.0, 5.0, 67.0, 77.0, 1.0, 8.0, 169.0, 18.0, 5.0, 9.0, 87.0, 27.0, 29.0, 20.0, 61.0, 24.0, 11.0, 242.0, 280.0, 235.0, 3.0, 16.0, 31.0, 25.0, 71.0, 188.0, 26.0, 107.0, 8.0, 209.0, 44.0, 31.0, 137.0, 265.0, 4.0, 218.0, 2.0, 214.0, 32.0, 11.0, 1.0, 15.0, 20.0, 199.0, 3.0, 15.0, 14.0, 10.0, 29.0, 9.0, 24.0, 25.0, 43.0, 2.0, 6.0, 147.0, 10.0, 25.0, 274.0, 374.0, 1.0, 47.0, 8.0, 16.0, 4.0, 4.0, 43.0, 4.0, 197.0, 12.0, 16.0, 113.0, 249.0, 29.0, 44.0, 87.0, 45.0, 10.0, 15.0, 75.0, 145.0, 5.0, 297.0, 59.0, 264.0, 47.0, 29.0, 8.0, 17.0, 3.0, 232.0, 112.0, 58.0, 51.0, 127.0, 281.0, 55.0, 320.0, 26.0, 10.0, 7.0, 29.0, 17.0, 64.0, 21.0, 3.0, 166.0, 1.0, 53.0, 51.0, 48.0, 61.0, 162.0, 9.0, 15.0, 75.0, 40.0, 41.0, 370.0, 37.0, 197.0, 200.0, 74.0, 64.0, 21.0, 367.0, 180.0, 10.0, 4.0, 197.0, 29.0, 53.0, 18.0, 10.0, 90.0, 268.0, 53.0, 44.0, 64.0, 149.0, 22.0, 312.0, 23.0, 58.0, 24.0, 78.0, 119.0, 36.0, 60.0, 13.0, 19.0, 52.0, 26.0, 29.0, 7.0, 11.0, 186.0, 3.0, 9.0, 262.0, 3.0, 210.0, 108.0, 13.0, 77.0, 20.0, 27.0, 19.0, 132.0, 253.0, 79.0, 207.0, 336.0, 254.0, 148.0, 10.0, 85.0, 8.0, 205.0, 8.0, 23.0, 11.0, 26.0, 21.0, 2.0, 158.0, 3.0, 74.0, 3.0, 1.0, 17.0, 36.0, 91.0, 71.0, 116.0, 213.0, 30.0, 51.0, 246.0, 32.0, 109.0, 5.0, 366.0, 82.0, 297.0, 34.0, 57.0, 30.0, 14.0, 72.0, 23.0, 19.0, 79.0, 60.0, 25.0, 12.0, 253.0, 147.0, 64.0, 8.0, 11.0, 271.0, 10.0, 247.0, 96.0, 15.0, 50.0, 30.0, 68.0, 35.0, 128.0, 107.0, 37.0, 57.0, 57.0, 72.0, 246.0, 19.0, 198.0, 16.0, 212.0, 39.0, 46.0, 170.0, 48.0, 116.0, 147.0, 16.0, 51.0, 159.0, 12.0, 36.0, 54.0, 43.0, 173.0, 34.0, 39.0, 267.0, 9.0, 12.0, 3.0, 10.0, 33.0, 80.0, 31.0, 8.0, 72.0, 4.0, 256.0, 5.0, 16.0, 90.0, 72.0, 59.0, 10.0, 170.0, 199.0, 31.0, 19.0, 152.0, 9.0, 270.0, 65.0, 274.0, 25.0, 23.0, 319.0, 5.0, 12.0, 275.0, 25.0, 41.0, 8.0, 4.0, 71.0, 213.0, 38.0, 53.0, 78.0, 46.0, 179.0, 373.0, 94.0, 10.0, 105.0, 78.0, 173.0, 7.0, 213.0, 22.0, 257.0, 282.0, 21.0, 10.0, 308.0, 68.0, 215.0, 18.0, 104.0, 43.0, 4.0, 182.0, 84.0, 334.0, 9.0, 31.0, 197.0, 18.0, 18.0, 311.0, 142.0, 246.0, 24.0, 29.0, 10.0, 30.0, 18.0, 18.0, 15.0, 134.0, 246.0, 134.0, 50.0, 114.0, 7.0, 23.0, 25.0, 66.0, 60.0, 50.0, 170.0, 18.0, 128.0, 15.0, 239.0, 3.0, 240.0, 52.0, 46.0, 226.0, 8.0, 4.0, 165.0, 240.0, 11.0, 134.0, 17.0, 10.0, 31.0, 75.0, 1.0, 4.0, 45.0, 2.0, 357.0, 18.0, 69.0, 373.0, 321.0, 26.0, 331.0, 9.0, 323.0, 72.0, 260.0, 18.0, 367.0, 66.0, 154.0, 29.0, 70.0, 14.0, 2.0, 1.0, 120.0, 61.0, 3.0, 3.0, 11.0, 92.0, 59.0, 87.0, 26.0, 357.0, 85.0, 10.0, 1.0, 225.0, 60.0, 241.0, 319.0, 2.0, 47.0, 88.0, 11.0, 176.0, 52.0, 366.0, 319.0, 226.0, 358.0, 234.0, 311.0, 37.0, 66.0, 239.0, 113.0, 277.0, 218.0, 299.0, 2.0, 29.0, 10.0, 45.0, 67.0, 74.0, 65.0, 134.0, 238.0, 122.0, 32.0, 9.0, 36.0, 16.0, 127.0, 67.0, 149.0, 283.0, 169.0, 100.0, 135.0, 324.0, 107.0, 64.0, 151.0, 338.0, 22.0, 24.0, 16.0, 7.0, 57.0, 4.0, 38.0, 66.0, 47.0, 355.0, 172.0, 59.0, 50.0, 22.0, 43.0, 29.0, 5.0, 26.0, 201.0, 51.0, 10.0, 2.0, 67.0, 64.0, 51.0, 290.0, 61.0, 64.0, 96.0, 274.0, 1.0, 75.0, 110.0, 199.0, 64.0, 327.0, 4.0, 284.0, 44.0, 71.0, 86.0, 104.0, 334.0, 53.0, 39.0, 32.0, 366.0, 208.0, 157.0, 54.0, 66.0, 81.0, 130.0, 87.0, 1.0, 46.0, 333.0, 366.0, 72.0, 158.0, 373.0, 12.0, 255.0, 29.0, 31.0, 5.0, 40.0, 362.0, 373.0, 96.0, 26.0, 75.0, 57.0, 21.0, 41.0, 137.0, 8.0, 129.0, 40.0, 169.0, 9.0, 214.0, 15.0, 170.0, 40.0, 186.0, 270.0, 172.0, 5.0, 16.0, 10.0, 326.0, 113.0, 290.0, 16.0, 1.0, 92.0, 149.0, 189.0, 31.0, 34.0, 264.0, 84.0, 26.0, 171.0, 10.0, 313.0, 65.0, 85.0, 25.0, 59.0, 323.0, 38.0, 254.0, 19.0, 33.0, 15.0, 27.0, 23.0, 214.0, 8.0, 22.0, 12.0, 262.0, 131.0, 55.0, 249.0, 2.0, 9.0, 264.0, 331.0, 313.0, 26.0, 30.0, 30.0, 2.0, 362.0, 283.0, 262.0, 25.0, 354.0, 94.0, 29.0, 338.0, 20.0, 85.0, 9.0, 51.0, 50.0, 2.0, 113.0, 14.0, 77.0, 40.0, 116.0, 16.0, 161.0, 1.0, 30.0, 93.0, 23.0, 95.0, 28.0, 33.0, 21.0, 18.0, 3.0, 8.0, 16.0, 363.0, 81.0, 53.0, 23.0, 172.0, 189.0, 331.0, 12.0, 156.0, 33.0, 12.0, 45.0, 233.0, 64.0, 2.0, 40.0, 33.0, 84.0, 25.0, 2.0, 33.0, 19.0, 254.0, 23.0, 22.0, 8.0, 25.0, 19.0, 173.0, 163.0, 7.0, 11.0, 114.0, 288.0, 9.0, 54.0, 7.0, 77.0, 4.0, 37.0, 217.0, 60.0, 278.0, 12.0, 24.0, 29.0, 12.0, 352.0, 22.0, 50.0, 19.0, 3.0, 104.0, 7.0, 12.0, 5.0, 32.0, 178.0, 38.0, 151.0, 162.0, 69.0, 156.0, 25.0, 24.0, 177.0, 50.0, 256.0, 47.0, 71.0, 16.0, 101.0, 35.0, 53.0, 27.0, 11.0, 8.0, 79.0, 52.0, 36.0, 61.0, 337.0, 28.0, 184.0, 52.0, 10.0, 36.0, 10.0, 33.0, 11.0, 57.0, 4.0, 43.0, 141.0, 117.0, 104.0, 75.0, 5.0, 45.0, 16.0, 17.0, 90.0, 53.0, 134.0, 4.0, 105.0, 192.0, 166.0, 19.0, 158.0, 204.0, 336.0, 37.0, 91.0, 93.0, 9.0, 243.0, 45.0, 23.0, 190.0, 44.0, 25.0, 317.0, 106.0, 51.0, 168.0, 40.0, 218.0, 40.0, 297.0, 19.0, 88.0, 73.0, 81.0, 19.0, 49.0, 53.0, 24.0, 9.0, 25.0, 117.0, 9.0, 120.0, 4.0, 252.0, 28.0, 1.0, 267.0, 33.0, 18.0, 172.0, 2.0, 265.0, 140.0, 201.0, 64.0, 35.0, 41.0, 284.0, 9.0, 143.0, 12.0, 146.0, 234.0, 33.0, 24.0, 12.0, 36.0, 365.0, 201.0, 15.0, 17.0, 213.0, 66.0, 212.0, 283.0, 115.0, 15.0, 19.0, 66.0, 49.0, 16.0, 78.0, 19.0, 134.0, 13.0, 40.0, 235.0, 3.0, 40.0, 305.0, 51.0, 10.0, 61.0, 66.0, 25.0, 218.0, 65.0, 32.0, 88.0, 64.0, 116.0, 7.0, 6.0, 69.0, 245.0, 133.0, 241.0, 184.0, 25.0, 10.0, 11.0, 33.0, 46.0, 26.0, 358.0, 10.0, 44.0, 15.0, 150.0, 1.0, 113.0, 76.0, 107.0, 46.0, 51.0, 1.0, 23.0, 46.0, 50.0, 306.0, 36.0, 79.0, 22.0, 107.0, 208.0, 17.0, 64.0, 49.0, 320.0, 44.0, 3.0, 172.0, 56.0, 73.0, 99.0, 38.0, 58.0, 254.0, 70.0, 44.0, 50.0, 65.0, 11.0, 33.0, 59.0, 73.0, 304.0, 46.0, 18.0, 38.0, 19.0, 187.0, 52.0, 4.0, 137.0, 4.0, 19.0, 16.0, 41.0, 12.0, 8.0, 26.0, 22.0, 41.0, 101.0, 5.0, 277.0, 33.0, 15.0, 64.0, 2.0, 369.0, 312.0, 199.0, 2.0, 93.0, 60.0, 81.0, 157.0, 227.0, 253.0, 150.0, 194.0, 1.0, 369.0, 24.0, 17.0, 10.0, 8.0, 20.0, 4.0, 174.0, 1.0, 178.0, 16.0, 248.0, 191.0, 20.0, 154.0, 173.0, 373.0, 373.0, 194.0, 67.0, 4.0, 21.0, 239.0, 64.0, 112.0, 90.0, 311.0, 134.0, 277.0, 365.0, 83.0, 8.0, 17.0, 32.0, 9.0, 34.0, 15.0, 24.0, 32.0, 74.0, 20.0, 17.0, 23.0, 3.0, 304.0, 18.0, 367.0, 39.0, 84.0, 165.0, 17.0, 77.0, 89.0, 25.0, 22.0, 3.0, 123.0, 30.0, 12.0, 19.0, 44.0, 4.0, 9.0, 55.0, 88.0, 37.0, 3.0, 30.0, 12.0, 211.0, 48.0, 24.0, 22.0, 246.0, 8.0, 35.0, 4.0, 38.0, 4.0, 3.0, 47.0, 39.0, 47.0, 17.0, 260.0, 46.0, 12.0, 30.0, 43.0, 92.0, 39.0, 310.0, 92.0, 6.0, 196.0, 87.0, 270.0, 8.0, 65.0, 31.0, 22.0, 38.0, 120.0, 373.0, 40.0, 174.0, 54.0, 33.0, 145.0, 221.0, 45.0, 16.0, 66.0, 10.0, 260.0, 365.0, 17.0, 22.0, 45.0, 288.0, 297.0, 3.0, 284.0, 17.0, 82.0, 56.0, 101.0, 299.0, 23.0, 59.0, 155.0, 115.0, 107.0, 12.0, 264.0, 240.0, 88.0, 50.0, 71.0, 42.0, 7.0, 62.0, 249.0, 66.0, 18.0, 85.0, 219.0, 45.0, 143.0, 183.0, 171.0, 10.0, 212.0, 190.0, 8.0, 59.0, 57.0, 73.0, 52.0, 317.0, 367.0, 29.0, 39.0, 18.0, 52.0, 4.0, 22.0, 263.0, 60.0, 19.0, 66.0, 88.0, 250.0, 3.0, 247.0, 9.0, 157.0, 134.0, 5.0, 43.0, 269.0, 50.0, 9.0, 16.0, 282.0, 65.0, 2.0, 252.0, 232.0, 17.0, 11.0, 8.0, 51.0, 59.0, 95.0, 16.0, 126.0, 94.0, 50.0, 138.0, 61.0, 100.0, 73.0, 72.0, 67.0, 64.0, 17.0, 23.0, 32.0, 45.0, 16.0, 40.0, 3.0, 237.0, 75.0, 4.0, 3.0, 361.0, 59.0, 23.0, 31.0, 55.0, 25.0, 45.0, 89.0, 2.0, 89.0, 19.0, 79.0, 171.0, 81.0, 267.0, 235.0, 30.0, 37.0, 318.0, 57.0, 45.0, 203.0, 225.0, 87.0, 190.0, 44.0, 71.0, 41.0, 78.0, 57.0, 24.0, 10.0, 8.0, 34.0, 212.0, 24.0, 170.0, 62.0, 53.0, 261.0, 67.0, 17.0, 267.0, 177.0, 45.0, 51.0, 17.0, 9.0, 74.0, 71.0, 353.0, 16.0, 117.0, 373.0, 197.0, 177.0, 100.0, 21.0, 72.0, 340.0, 6.0, 31.0, 170.0, 122.0, 22.0, 10.0, 269.0, 23.0, 127.0, 26.0, 139.0, 214.0, 38.0, 106.0, 18.0, 3.0, 331.0, 64.0, 120.0, 35.0, 218.0, 172.0, 72.0, 1.0, 196.0, 128.0, 47.0, 6.0, 14.0, 18.0, 28.0, 8.0, 37.0, 157.0, 284.0, 107.0, 25.0, 75.0, 16.0, 158.0, 44.0, 11.0, 32.0, 291.0, 21.0, 333.0, 18.0, 4.0, 63.0, 198.0, 33.0, 1.0, 7.0, 5.0, 10.0, 32.0, 53.0, 12.0, 18.0, 19.0, 37.0, 2.0, 18.0, 82.0, 33.0, 66.0, 9.0, 267.0, 247.0, 4.0, 61.0, 75.0, 90.0, 60.0, 29.0, 323.0, 53.0, 270.0, 2.0, 57.0, 61.0, 154.0, 19.0, 95.0, 1.0, 265.0, 312.0, 70.0, 302.0, 19.0, 13.0, 36.0, 19.0, 54.0, 57.0, 22.0, 44.0, 27.0, 45.0, 113.0, 17.0, 25.0, 191.0, 302.0, 2.0, 263.0, 106.0, 57.0, 213.0, 64.0, 28.0, 29.0, 6.0, 8.0, 67.0, 2.0, 46.0, 34.0, 1.0, 136.0, 198.0, 198.0, 150.0, 88.0, 64.0, 64.0, 99.0, 218.0, 3.0, 28.0, 178.0, 74.0, 21.0, 20.0, 34.0, 74.0, 24.0, 52.0, 275.0, 165.0, 7.0, 88.0, 64.0, 25.0, 10.0, 76.0, 16.0, 192.0, 174.0, 77.0, 33.0, 47.0, 80.0, 297.0, 3.0, 9.0, 50.0, 161.0, 360.0, 5.0, 107.0, 25.0, 32.0, 20.0, 297.0, 372.0, 22.0, 5.0, 52.0, 30.0, 277.0, 61.0, 25.0, 186.0, 2.0, 2.0, 172.0, 81.0, 4.0, 190.0, 22.0, 18.0, 19.0, 5.0, 110.0, 3.0, 54.0, 165.0, 291.0, 10.0, 109.0, 96.0, 243.0, 163.0, 42.0, 35.0, 67.0, 24.0, 1.0, 27.0, 6.0, 54.0, 364.0, 15.0, 194.0, 3.0, 15.0, 27.0, 127.0, 85.0, 71.0, 183.0, 113.0, 374.0, 80.0, 249.0, 232.0, 71.0, 69.0, 4.0, 51.0, 75.0, 61.0, 16.0, 4.0, 286.0, 4.0, 41.0, 36.0, 75.0, 18.0, 15.0, 219.0, 186.0, 33.0, 70.0, 183.0, 15.0, 236.0, 31.0, 264.0, 4.0, 52.0, 246.0, 81.0, 275.0, 1.0, 79.0, 30.0, 74.0, 17.0, 223.0, 32.0, 23.0, 31.0, 106.0, 5.0, 246.0, 178.0, 170.0, 43.0, 72.0, 59.0, 16.0, 141.0, 18.0, 22.0, 10.0, 368.0, 189.0, 16.0, 362.0, 19.0, 68.0, 15.0, 24.0, 17.0, 28.0, 2.0, 55.0, 34.0, 3.0, 366.0, 43.0, 73.0, 5.0, 4.0, 61.0, 47.0, 1.0, 76.0, 72.0, 256.0, 69.0, 135.0, 241.0, 227.0, 9.0, 9.0, 1.0, 37.0, 46.0, 85.0, 19.0, 3.0, 9.0, 19.0, 317.0, 78.0, 267.0, 24.0, 369.0, 15.0, 26.0, 262.0, 17.0, 91.0, 302.0, 26.0, 364.0, 46.0, 38.0, 52.0, 32.0, 52.0, 79.0, 53.0, 298.0, 177.0, 29.0, 11.0, 87.0, 5.0, 38.0, 18.0, 45.0, 31.0, 373.0, 58.0, 372.0, 114.0, 215.0, 319.0, 65.0, 8.0, 97.0, 20.0, 199.0, 4.0, 294.0, 273.0, 31.0, 48.0, 260.0, 58.0, 33.0, 57.0, 68.0, 10.0, 60.0, 80.0, 74.0, 2.0, 100.0, 372.0, 10.0, 20.0, 123.0, 8.0, 4.0, 29.0, 282.0, 57.0, 1.0, 365.0, 89.0, 11.0, 163.0, 65.0, 23.0, 174.0, 103.0, 143.0, 99.0, 23.0, 192.0, 5.0, 361.0, 8.0, 14.0, 103.0, 3.0, 11.0, 96.0, 227.0, 16.0, 39.0, 51.0, 112.0, 157.0, 39.0, 184.0, 1.0, 228.0, 128.0, 40.0, 31.0, 197.0, 9.0, 37.0, 101.0, 43.0, 50.0, 43.0, 53.0, 187.0, 334.0, 4.0, 10.0, 24.0, 15.0, 369.0, 145.0, 60.0, 31.0, 141.0, 23.0, 22.0, 77.0, 5.0, 67.0, 12.0, 84.0, 31.0, 67.0, 67.0, 187.0, 38.0, 15.0, 35.0, 195.0, 2.0, 1.0, 367.0, 65.0, 299.0, 26.0, 8.0, 17.0, 116.0, 29.0, 4.0, 5.0, 82.0, 29.0, 72.0, 4.0, 29.0, 290.0, 36.0, 9.0, 24.0, 277.0, 50.0, 156.0, 61.0, 12.0, 21.0, 371.0, 116.0, 80.0, 4.0, 26.0, 5.0, 53.0, 1.0, 55.0, 26.0, 9.0, 52.0, 13.0, 212.0, 22.0, 236.0, 139.0, 4.0, 57.0, 135.0, 109.0, 30.0, 1.0, 185.0, 18.0, 239.0, 87.0, 39.0, 116.0, 187.0, 227.0, 8.0, 189.0, 4.0, 39.0, 38.0, 267.0, 78.0, 4.0, 255.0, 61.0, 13.0, 88.0, 17.0, 30.0, 3.0, 5.0, 79.0, 219.0, 11.0, 30.0, 288.0, 150.0, 23.0, 1.0, 86.0, 46.0, 5.0, 51.0, 18.0, 30.0, 8.0, 29.0, 3.0, 41.0, 11.0, 31.0, 45.0, 61.0, 185.0, 79.0, 111.0, 64.0, 12.0, 86.0, 16.0, 246.0, 88.0, 30.0, 138.0, 27.0, 3.0, 32.0, 25.0, 113.0, 157.0, 85.0, 118.0, 3.0, 96.0, 194.0, 28.0, 131.0, 28.0, 82.0, 30.0, 266.0, 74.0, 314.0, 21.0, 59.0, 12.0, 28.0, 114.0, 28.0, 18.0, 18.0, 36.0, 36.0, 78.0, 22.0, 25.0, 33.0, 109.0, 35.0, 123.0, 7.0, 28.0, 4.0, 3.0, 50.0, 322.0, 23.0, 15.0, 2.0, 18.0, 10.0, 262.0, 159.0, 33.0, 29.0, 165.0, 47.0, 6.0, 8.0, 288.0, 318.0, 3.0, 233.0, 119.0, 162.0, 185.0, 50.0, 152.0, 335.0, 5.0, 16.0, 107.0, 16.0, 276.0, 16.0, 247.0, 239.0, 1.0, 106.0, 23.0, 52.0, 195.0, 24.0, 75.0, 18.0, 8.0, 32.0, 22.0, 31.0, 29.0, 22.0, 33.0, 284.0, 39.0, 58.0, 289.0, 79.0, 5.0, 218.0, 44.0, 202.0, 178.0, 56.0, 57.0, 8.0, 47.0, 227.0, 11.0, 106.0, 59.0, 28.0, 36.0, 361.0, 30.0, 24.0, 54.0, 36.0, 175.0, 54.0, 53.0, 27.0, 253.0, 40.0, 60.0, 234.0, 4.0, 32.0, 24.0, 7.0, 65.0, 310.0, 309.0, 19.0, 16.0, 96.0, 264.0, 12.0, 3.0, 35.0, 183.0, 25.0, 13.0, 11.0, 3.0, 313.0, 108.0, 1.0, 53.0, 205.0, 15.0, 120.0, 4.0, 363.0, 117.0, 18.0, 5.0, 41.0, 107.0, 148.0, 52.0, 208.0, 139.0, 2.0, 127.0, 108.0, 42.0, 35.0, 228.0, 241.0, 58.0, 130.0, 60.0, 22.0, 26.0, 9.0, 32.0, 4.0, 308.0, 8.0, 29.0, 17.0, 101.0, 12.0, 21.0, 15.0, 361.0, 11.0, 95.0, 78.0, 139.0, 31.0, 25.0, 2.0, 46.0, 100.0, 8.0, 15.0, 18.0, 280.0, 14.0, 23.0, 124.0, 86.0, 302.0, 151.0, 17.0, 94.0, 30.0, 157.0, 355.0, 46.0, 15.0, 4.0, 86.0, 15.0, 179.0, 8.0, 36.0, 129.0, 51.0, 312.0, 24.0, 303.0, 11.0, 17.0, 49.0, 239.0, 1.0, 13.0, 238.0, 23.0, 73.0, 17.0, 41.0, 40.0, 219.0, 199.0, 71.0, 24.0, 11.0, 9.0, 65.0, 4.0, 19.0, 15.0, 8.0, 20.0, 78.0, 1.0, 164.0, 307.0, 219.0, 39.0, 22.0, 115.0, 126.0, 5.0, 36.0, 4.0, 1.0, 333.0, 163.0, 185.0, 16.0, 12.0, 3.0, 44.0, 80.0, 30.0, 42.0, 11.0, 50.0, 16.0, 46.0, 19.0, 8.0, 72.0, 1.0, 128.0, 33.0, 313.0, 18.0, 88.0, 2.0, 2.0, 254.0, 157.0, 37.0, 220.0, 152.0, 177.0, 40.0, 2.0, 8.0, 1.0, 18.0, 192.0, 204.0, 365.0, 127.0, 15.0, 43.0, 94.0, 23.0, 60.0, 16.0, 158.0, 10.0, 10.0, 16.0, 45.0, 191.0, 79.0, 78.0, 4.0, 65.0, 261.0, 59.0, 1.0, 1.0, 248.0, 8.0, 359.0, 76.0, 290.0, 17.0, 221.0, 9.0, 3.0, 206.0, 162.0, 76.0, 262.0, 281.0, 58.0, 25.0, 3.0, 29.0, 72.0, 128.0, 31.0, 15.0, 309.0, 17.0, 54.0, 30.0, 2.0, 11.0, 361.0, 360.0, 5.0, 54.0, 1.0, 1.0, 190.0, 54.0, 280.0, 177.0, 30.0, 26.0, 25.0, 270.0, 43.0, 234.0, 24.0, 197.0, 359.0, 60.0, 130.0, 1.0, 20.0, 206.0, 14.0, 95.0, 19.0, 14.0, 24.0, 8.0, 7.0, 332.0, 50.0, 71.0, 29.0, 243.0, 8.0, 218.0, 5.0, 253.0, 1.0, 236.0, 7.0, 109.0, 100.0, 60.0, 2.0, 73.0, 4.0, 85.0, 12.0, 23.0, 214.0, 18.0, 239.0, 2.0, 78.0, 217.0, 33.0, 41.0, 7.0, 53.0, 23.0, 57.0, 130.0, 174.0, 6.0, 312.0, 60.0, 21.0, 33.0, 15.0, 18.0, 81.0, 6.0, 170.0, 2.0, 31.0, 36.0, 19.0, 31.0, 276.0, 87.0, 120.0, 373.0, 1.0, 219.0, 65.0, 61.0, 138.0, 21.0, 12.0, 25.0, 37.0, 277.0, 11.0, 73.0, 26.0, 17.0, 141.0, 26.0, 19.0, 4.0, 66.0, 1.0, 43.0, 228.0, 16.0, 50.0, 2.0, 74.0, 1.0, 4.0, 2.0, 264.0, 53.0, 24.0, 10.0, 44.0, 17.0, 7.0, 30.0, 358.0, 127.0, 137.0, 142.0, 132.0, 38.0, 236.0, 261.0, 17.0, 253.0, 30.0, 35.0, 169.0, 3.0, 4.0, 185.0, 188.0, 170.0, 11.0, 45.0, 321.0, 201.0, 23.0, 232.0, 38.0, 26.0, 96.0, 127.0, 71.0, 16.0, 15.0, 4.0, 3.0, 79.0, 373.0, 39.0, 54.0, 2.0, 9.0, 9.0, 19.0, 12.0, 113.0, 4.0, 240.0, 113.0, 178.0, 5.0, 359.0, 1.0, 1.0, 19.0, 17.0, 22.0, 33.0, 263.0, 51.0, 159.0, 15.0, 8.0, 13.0, 199.0, 57.0, 11.0, 97.0, 255.0, 25.0, 21.0, 159.0, 72.0, 53.0, 85.0, 153.0, 74.0, 281.0, 27.0, 30.0, 25.0, 180.0, 40.0, 22.0, 22.0, 37.0, 82.0, 74.0, 11.0, 16.0, 4.0, 13.0, 14.0, 37.0, 4.0, 72.0, 51.0, 5.0, 23.0, 299.0, 2.0, 33.0, 50.0, 3.0, 47.0, 42.0, 27.0, 42.0, 2.0, 303.0, 107.0, 81.0, 218.0, 372.0, 12.0, 185.0, 373.0, 2.0, 4.0, 6.0, 305.0, 369.0, 3.0, 324.0, 59.0, 13.0, 31.0, 143.0, 30.0, 107.0, 2.0, 205.0, 80.0, 185.0, 170.0, 44.0, 174.0, 365.0, 304.0, 3.0, 4.0, 12.0, 32.0, 129.0, 21.0, 212.0, 323.0, 162.0, 56.0, 225.0, 72.0, 44.0, 23.0, 173.0, 85.0, 159.0, 190.0, 29.0, 21.0, 71.0, 247.0, 374.0, 9.0, 310.0, 59.0, 4.0, 45.0, 88.0, 4.0, 64.0, 282.0, 12.0, 373.0, 133.0, 45.0, 11.0, 36.0, 134.0, 29.0, 52.0, 138.0, 5.0, 9.0, 160.0, 49.0, 131.0, 8.0, 233.0, 37.0, 147.0, 1.0, 72.0, 40.0, 5.0, 199.0, 249.0, 66.0, 117.0, 171.0, 21.0, 142.0, 32.0, 38.0, 38.0, 372.0, 374.0, 166.0, 211.0, 242.0, 52.0, 25.0, 15.0, 372.0, 29.0, 365.0, 36.0, 166.0, 145.0, 22.0, 56.0, 185.0, 12.0, 237.0, 225.0, 122.0, 282.0, 74.0, 37.0, 12.0, 362.0, 4.0, 23.0, 70.0, 235.0, 257.0, 373.0, 155.0, 28.0, 4.0, 32.0, 81.0, 108.0, 52.0, 36.0, 153.0, 99.0, 4.0, 334.0, 65.0, 22.0, 36.0, 32.0, 154.0, 19.0, 12.0, 54.0, 25.0, 4.0, 45.0, 203.0, 359.0, 71.0, 7.0, 288.0, 10.0, 23.0, 22.0, 173.0, 133.0, 6.0, 75.0, 40.0, 289.0, 26.0, 258.0, 186.0, 114.0, 374.0, 23.0, 8.0, 217.0, 45.0, 19.0, 36.0, 26.0, 16.0, 330.0, 274.0, 291.0, 61.0, 2.0, 93.0, 82.0, 313.0, 12.0, 8.0, 127.0, 11.0, 1.0, 37.0, 38.0, 330.0, 254.0, 2.0, 20.0, 12.0, 290.0, 68.0, 26.0, 11.0, 368.0, 214.0, 149.0, 8.0, 24.0, 30.0, 61.0, 19.0, 243.0, 15.0, 212.0, 29.0, 63.0, 295.0, 18.0, 157.0, 117.0, 8.0, 13.0, 141.0, 46.0, 51.0, 32.0, 135.0, 3.0, 75.0, 13.0, 9.0, 301.0, 57.0, 15.0, 37.0, 177.0, 23.0, 176.0, 61.0, 33.0, 59.0, 15.0, 87.0, 7.0, 358.0, 31.0, 129.0, 9.0, 5.0, 24.0, 227.0, 15.0, 249.0, 15.0, 78.0, 192.0, 262.0, 72.0, 165.0, 82.0, 95.0, 4.0, 106.0, 200.0, 157.0, 71.0, 36.0, 29.0, 2.0, 26.0, 326.0, 237.0, 89.0, 31.0, 29.0, 211.0, 3.0, 227.0, 22.0, 93.0, 5.0, 264.0, 3.0, 44.0, 218.0, 57.0, 12.0, 9.0, 192.0, 82.0, 326.0, 72.0, 30.0, 3.0, 219.0, 46.0, 10.0, 72.0, 7.0, 24.0, 123.0, 17.0, 310.0, 87.0, 51.0, 89.0, 39.0, 25.0, 173.0, 43.0, 140.0, 26.0, 72.0, 134.0, 366.0, 38.0, 3.0, 2.0, 30.0, 44.0, 58.0, 74.0, 278.0, 181.0, 8.0, 4.0, 43.0], \"y0\": \" \", \"yaxis\": \"y\"}],\n",
              "                        {\"boxmode\": \"group\", \"legend\": {\"tracegroupgap\": 0}, \"template\": {\"data\": {\"bar\": [{\"error_x\": {\"color\": \"#2a3f5f\"}, \"error_y\": {\"color\": \"#2a3f5f\"}, \"marker\": {\"line\": {\"color\": \"#E5ECF6\", \"width\": 0.5}}, \"type\": \"bar\"}], \"barpolar\": [{\"marker\": {\"line\": {\"color\": \"#E5ECF6\", \"width\": 0.5}}, \"type\": \"barpolar\"}], \"carpet\": [{\"aaxis\": {\"endlinecolor\": \"#2a3f5f\", \"gridcolor\": \"white\", \"linecolor\": \"white\", \"minorgridcolor\": \"white\", \"startlinecolor\": \"#2a3f5f\"}, \"baxis\": {\"endlinecolor\": \"#2a3f5f\", \"gridcolor\": \"white\", \"linecolor\": \"white\", \"minorgridcolor\": \"white\", \"startlinecolor\": \"#2a3f5f\"}, \"type\": \"carpet\"}], \"choropleth\": [{\"colorbar\": {\"outlinewidth\": 0, \"ticks\": \"\"}, \"type\": \"choropleth\"}], \"contour\": [{\"colorbar\": {\"outlinewidth\": 0, \"ticks\": \"\"}, \"colorscale\": [[0.0, \"#0d0887\"], [0.1111111111111111, \"#46039f\"], [0.2222222222222222, \"#7201a8\"], [0.3333333333333333, \"#9c179e\"], [0.4444444444444444, \"#bd3786\"], [0.5555555555555556, \"#d8576b\"], [0.6666666666666666, \"#ed7953\"], [0.7777777777777778, \"#fb9f3a\"], [0.8888888888888888, \"#fdca26\"], [1.0, \"#f0f921\"]], \"type\": \"contour\"}], \"contourcarpet\": [{\"colorbar\": {\"outlinewidth\": 0, \"ticks\": \"\"}, \"type\": \"contourcarpet\"}], \"heatmap\": [{\"colorbar\": {\"outlinewidth\": 0, \"ticks\": \"\"}, \"colorscale\": [[0.0, \"#0d0887\"], [0.1111111111111111, \"#46039f\"], [0.2222222222222222, \"#7201a8\"], [0.3333333333333333, \"#9c179e\"], [0.4444444444444444, \"#bd3786\"], [0.5555555555555556, \"#d8576b\"], [0.6666666666666666, \"#ed7953\"], [0.7777777777777778, \"#fb9f3a\"], [0.8888888888888888, \"#fdca26\"], [1.0, \"#f0f921\"]], \"type\": \"heatmap\"}], \"heatmapgl\": [{\"colorbar\": {\"outlinewidth\": 0, \"ticks\": \"\"}, \"colorscale\": [[0.0, \"#0d0887\"], [0.1111111111111111, \"#46039f\"], [0.2222222222222222, \"#7201a8\"], [0.3333333333333333, \"#9c179e\"], [0.4444444444444444, \"#bd3786\"], [0.5555555555555556, \"#d8576b\"], [0.6666666666666666, \"#ed7953\"], [0.7777777777777778, \"#fb9f3a\"], [0.8888888888888888, \"#fdca26\"], [1.0, \"#f0f921\"]], \"type\": \"heatmapgl\"}], \"histogram\": [{\"marker\": {\"colorbar\": {\"outlinewidth\": 0, \"ticks\": \"\"}}, \"type\": \"histogram\"}], \"histogram2d\": [{\"colorbar\": {\"outlinewidth\": 0, \"ticks\": \"\"}, \"colorscale\": [[0.0, \"#0d0887\"], [0.1111111111111111, \"#46039f\"], [0.2222222222222222, \"#7201a8\"], [0.3333333333333333, \"#9c179e\"], [0.4444444444444444, \"#bd3786\"], [0.5555555555555556, \"#d8576b\"], [0.6666666666666666, \"#ed7953\"], [0.7777777777777778, \"#fb9f3a\"], [0.8888888888888888, \"#fdca26\"], [1.0, \"#f0f921\"]], \"type\": \"histogram2d\"}], \"histogram2dcontour\": [{\"colorbar\": {\"outlinewidth\": 0, \"ticks\": \"\"}, \"colorscale\": [[0.0, \"#0d0887\"], [0.1111111111111111, \"#46039f\"], [0.2222222222222222, \"#7201a8\"], [0.3333333333333333, \"#9c179e\"], [0.4444444444444444, \"#bd3786\"], [0.5555555555555556, \"#d8576b\"], [0.6666666666666666, \"#ed7953\"], [0.7777777777777778, \"#fb9f3a\"], [0.8888888888888888, \"#fdca26\"], [1.0, \"#f0f921\"]], \"type\": \"histogram2dcontour\"}], \"mesh3d\": [{\"colorbar\": {\"outlinewidth\": 0, \"ticks\": \"\"}, \"type\": \"mesh3d\"}], \"parcoords\": [{\"line\": {\"colorbar\": {\"outlinewidth\": 0, \"ticks\": \"\"}}, \"type\": \"parcoords\"}], \"pie\": [{\"automargin\": true, \"type\": \"pie\"}], \"scatter\": [{\"marker\": {\"colorbar\": {\"outlinewidth\": 0, \"ticks\": \"\"}}, \"type\": \"scatter\"}], \"scatter3d\": [{\"line\": {\"colorbar\": {\"outlinewidth\": 0, \"ticks\": \"\"}}, \"marker\": {\"colorbar\": {\"outlinewidth\": 0, \"ticks\": \"\"}}, \"type\": \"scatter3d\"}], \"scattercarpet\": [{\"marker\": {\"colorbar\": {\"outlinewidth\": 0, \"ticks\": \"\"}}, \"type\": \"scattercarpet\"}], \"scattergeo\": [{\"marker\": {\"colorbar\": {\"outlinewidth\": 0, \"ticks\": \"\"}}, \"type\": \"scattergeo\"}], \"scattergl\": [{\"marker\": {\"colorbar\": {\"outlinewidth\": 0, \"ticks\": \"\"}}, \"type\": \"scattergl\"}], \"scattermapbox\": [{\"marker\": {\"colorbar\": {\"outlinewidth\": 0, \"ticks\": \"\"}}, \"type\": \"scattermapbox\"}], \"scatterpolar\": [{\"marker\": {\"colorbar\": {\"outlinewidth\": 0, \"ticks\": \"\"}}, \"type\": \"scatterpolar\"}], \"scatterpolargl\": [{\"marker\": {\"colorbar\": {\"outlinewidth\": 0, \"ticks\": \"\"}}, \"type\": \"scatterpolargl\"}], \"scatterternary\": [{\"marker\": {\"colorbar\": {\"outlinewidth\": 0, \"ticks\": \"\"}}, \"type\": \"scatterternary\"}], \"surface\": [{\"colorbar\": {\"outlinewidth\": 0, \"ticks\": \"\"}, \"colorscale\": [[0.0, \"#0d0887\"], [0.1111111111111111, \"#46039f\"], [0.2222222222222222, \"#7201a8\"], [0.3333333333333333, \"#9c179e\"], [0.4444444444444444, \"#bd3786\"], [0.5555555555555556, \"#d8576b\"], [0.6666666666666666, \"#ed7953\"], [0.7777777777777778, \"#fb9f3a\"], [0.8888888888888888, \"#fdca26\"], [1.0, \"#f0f921\"]], \"type\": \"surface\"}], \"table\": [{\"cells\": {\"fill\": {\"color\": \"#EBF0F8\"}, \"line\": {\"color\": \"white\"}}, \"header\": {\"fill\": {\"color\": \"#C8D4E3\"}, \"line\": {\"color\": \"white\"}}, \"type\": \"table\"}]}, \"layout\": {\"annotationdefaults\": {\"arrowcolor\": \"#2a3f5f\", \"arrowhead\": 0, \"arrowwidth\": 1}, \"coloraxis\": {\"colorbar\": {\"outlinewidth\": 0, \"ticks\": \"\"}}, \"colorscale\": {\"diverging\": [[0, \"#8e0152\"], [0.1, \"#c51b7d\"], [0.2, \"#de77ae\"], [0.3, \"#f1b6da\"], [0.4, \"#fde0ef\"], [0.5, \"#f7f7f7\"], [0.6, \"#e6f5d0\"], [0.7, \"#b8e186\"], [0.8, \"#7fbc41\"], [0.9, \"#4d9221\"], [1, \"#276419\"]], \"sequential\": [[0.0, \"#0d0887\"], [0.1111111111111111, \"#46039f\"], [0.2222222222222222, \"#7201a8\"], [0.3333333333333333, \"#9c179e\"], [0.4444444444444444, \"#bd3786\"], [0.5555555555555556, \"#d8576b\"], [0.6666666666666666, \"#ed7953\"], [0.7777777777777778, \"#fb9f3a\"], [0.8888888888888888, \"#fdca26\"], [1.0, \"#f0f921\"]], \"sequentialminus\": [[0.0, \"#0d0887\"], [0.1111111111111111, \"#46039f\"], [0.2222222222222222, \"#7201a8\"], [0.3333333333333333, \"#9c179e\"], [0.4444444444444444, \"#bd3786\"], [0.5555555555555556, \"#d8576b\"], [0.6666666666666666, \"#ed7953\"], [0.7777777777777778, \"#fb9f3a\"], [0.8888888888888888, \"#fdca26\"], [1.0, \"#f0f921\"]]}, \"colorway\": [\"#636efa\", \"#EF553B\", \"#00cc96\", \"#ab63fa\", \"#FFA15A\", \"#19d3f3\", \"#FF6692\", \"#B6E880\", \"#FF97FF\", \"#FECB52\"], \"font\": {\"color\": \"#2a3f5f\"}, \"geo\": {\"bgcolor\": \"white\", \"lakecolor\": \"white\", \"landcolor\": \"#E5ECF6\", \"showlakes\": true, \"showland\": true, \"subunitcolor\": \"white\"}, \"hoverlabel\": {\"align\": \"left\"}, \"hovermode\": \"closest\", \"mapbox\": {\"style\": \"light\"}, \"paper_bgcolor\": \"white\", \"plot_bgcolor\": \"#E5ECF6\", \"polar\": {\"angularaxis\": {\"gridcolor\": \"white\", \"linecolor\": \"white\", \"ticks\": \"\"}, \"bgcolor\": \"#E5ECF6\", \"radialaxis\": {\"gridcolor\": \"white\", \"linecolor\": \"white\", \"ticks\": \"\"}}, \"scene\": {\"xaxis\": {\"backgroundcolor\": \"#E5ECF6\", \"gridcolor\": \"white\", \"gridwidth\": 2, \"linecolor\": \"white\", \"showbackground\": true, \"ticks\": \"\", \"zerolinecolor\": \"white\"}, \"yaxis\": {\"backgroundcolor\": \"#E5ECF6\", \"gridcolor\": \"white\", \"gridwidth\": 2, \"linecolor\": \"white\", \"showbackground\": true, \"ticks\": \"\", \"zerolinecolor\": \"white\"}, \"zaxis\": {\"backgroundcolor\": \"#E5ECF6\", \"gridcolor\": \"white\", \"gridwidth\": 2, \"linecolor\": \"white\", \"showbackground\": true, \"ticks\": \"\", \"zerolinecolor\": \"white\"}}, \"shapedefaults\": {\"line\": {\"color\": \"#2a3f5f\"}}, \"ternary\": {\"aaxis\": {\"gridcolor\": \"white\", \"linecolor\": \"white\", \"ticks\": \"\"}, \"baxis\": {\"gridcolor\": \"white\", \"linecolor\": \"white\", \"ticks\": \"\"}, \"bgcolor\": \"#E5ECF6\", \"caxis\": {\"gridcolor\": \"white\", \"linecolor\": \"white\", \"ticks\": \"\"}}, \"title\": {\"x\": 0.05}, \"xaxis\": {\"automargin\": true, \"gridcolor\": \"white\", \"linecolor\": \"white\", \"ticks\": \"\", \"title\": {\"standoff\": 15}, \"zerolinecolor\": \"white\", \"zerolinewidth\": 2}, \"yaxis\": {\"automargin\": true, \"gridcolor\": \"white\", \"linecolor\": \"white\", \"ticks\": \"\", \"title\": {\"standoff\": 15}, \"zerolinecolor\": \"white\", \"zerolinewidth\": 2}}}, \"title\": {\"text\": \"Recency Boxplot\"}, \"xaxis\": {\"anchor\": \"y\", \"domain\": [0.0, 1.0], \"title\": {\"text\": \"clusters\"}}, \"yaxis\": {\"anchor\": \"x\", \"domain\": [0.0, 1.0], \"title\": {\"text\": \"recency\"}}},\n",
              "                        {\"responsive\": true}\n",
              "                    ).then(function(){\n",
              "                            \n",
              "var gd = document.getElementById('1b62e0b0-44c9-4794-a0b3-bb02f6fa9d1e');\n",
              "var x = new MutationObserver(function (mutations, observer) {{\n",
              "        var display = window.getComputedStyle(gd).display;\n",
              "        if (!display || display === 'none') {{\n",
              "            console.log([gd, 'removed!']);\n",
              "            Plotly.purge(gd);\n",
              "            observer.disconnect();\n",
              "        }}\n",
              "}});\n",
              "\n",
              "// Listen for the removal of the full notebook cells\n",
              "var notebookContainer = gd.closest('#notebook-container');\n",
              "if (notebookContainer) {{\n",
              "    x.observe(notebookContainer, {childList: true});\n",
              "}}\n",
              "\n",
              "// Listen for the clearing of the current output cell\n",
              "var outputEl = gd.closest('.output');\n",
              "if (outputEl) {{\n",
              "    x.observe(outputEl, {childList: true});\n",
              "}}\n",
              "\n",
              "                        })\n",
              "                };\n",
              "                \n",
              "            </script>\n",
              "        </div>\n",
              "</body>\n",
              "</html>"
            ]
          },
          "metadata": {
            "tags": []
          }
        }
      ]
    },
    {
      "cell_type": "code",
      "metadata": {
        "colab": {
          "base_uri": "https://localhost:8080/",
          "height": 0
        },
        "id": "yFmtZkZ4ZoEQ",
        "outputId": "6393aa41-dcc4-493b-fe65-34e0bbb4fc84"
      },
      "source": [
        "fig = px.box(cust_df, y='frequency', x='clusters', title='Frequency Boxplot')\r\n",
        "fig.show()"
      ],
      "execution_count": 31,
      "outputs": [
        {
          "output_type": "display_data",
          "data": {
            "text/html": [
              "<html>\n",
              "<head><meta charset=\"utf-8\" /></head>\n",
              "<body>\n",
              "    <div>\n",
              "            <script src=\"https://cdnjs.cloudflare.com/ajax/libs/mathjax/2.7.5/MathJax.js?config=TeX-AMS-MML_SVG\"></script><script type=\"text/javascript\">if (window.MathJax) {MathJax.Hub.Config({SVG: {font: \"STIX-Web\"}});}</script>\n",
              "                <script type=\"text/javascript\">window.PlotlyConfig = {MathJaxConfig: 'local'};</script>\n",
              "        <script src=\"https://cdn.plot.ly/plotly-latest.min.js\"></script>    \n",
              "            <div id=\"2b4dcd99-caef-4dee-a75e-3176cc0f5fb7\" class=\"plotly-graph-div\" style=\"height:525px; width:100%;\"></div>\n",
              "            <script type=\"text/javascript\">\n",
              "                \n",
              "                    window.PLOTLYENV=window.PLOTLYENV || {};\n",
              "                    \n",
              "                if (document.getElementById(\"2b4dcd99-caef-4dee-a75e-3176cc0f5fb7\")) {\n",
              "                    Plotly.newPlot(\n",
              "                        '2b4dcd99-caef-4dee-a75e-3176cc0f5fb7',\n",
              "                        [{\"alignmentgroup\": \"True\", \"hoverlabel\": {\"namelength\": 0}, \"hovertemplate\": \"clusters=%{x}<br>frequency=%{y}\", \"legendgroup\": \"\", \"marker\": {\"color\": \"#636efa\"}, \"name\": \"\", \"notched\": false, \"offsetgroup\": \"\", \"orientation\": \"v\", \"showlegend\": false, \"type\": \"box\", \"x\": [2, 0, 0, 0, 0, 0, 0, 0, 0, 0, 0, 0, 0, 0, 0, 0, 0, 0, 0, 0, 0, 0, 0, 0, 0, 0, 0, 0, 0, 0, 0, 0, 0, 0, 0, 0, 0, 0, 0, 0, 0, 0, 0, 0, 0, 0, 0, 0, 0, 0, 0, 0, 0, 0, 0, 2, 0, 0, 0, 0, 0, 0, 0, 0, 0, 0, 0, 0, 0, 0, 0, 0, 0, 0, 0, 0, 0, 0, 0, 0, 0, 0, 0, 0, 0, 0, 0, 0, 0, 0, 0, 0, 0, 0, 0, 0, 0, 0, 0, 0, 0, 0, 0, 0, 0, 0, 0, 0, 0, 0, 0, 0, 0, 0, 0, 0, 0, 0, 0, 0, 0, 0, 0, 0, 0, 0, 0, 0, 0, 0, 0, 0, 0, 0, 0, 0, 0, 0, 0, 0, 0, 0, 0, 0, 0, 0, 0, 0, 0, 0, 0, 0, 0, 0, 0, 0, 0, 0, 0, 0, 0, 0, 0, 0, 0, 0, 0, 0, 0, 0, 0, 0, 0, 0, 0, 0, 0, 0, 0, 0, 0, 0, 0, 0, 0, 0, 0, 0, 0, 0, 0, 0, 0, 0, 0, 0, 0, 0, 0, 0, 0, 0, 0, 0, 0, 0, 0, 0, 0, 0, 0, 0, 0, 0, 0, 0, 0, 0, 0, 0, 0, 0, 0, 0, 0, 0, 0, 0, 0, 0, 0, 0, 0, 0, 0, 0, 0, 0, 0, 0, 0, 0, 0, 0, 0, 0, 0, 0, 0, 0, 0, 0, 0, 0, 0, 0, 0, 0, 0, 0, 0, 0, 0, 0, 0, 0, 0, 0, 0, 0, 0, 0, 0, 0, 0, 0, 0, 0, 0, 0, 0, 0, 0, 0, 0, 0, 0, 0, 0, 0, 0, 0, 0, 0, 0, 0, 0, 0, 0, 0, 0, 0, 0, 0, 0, 0, 0, 0, 0, 0, 0, 0, 0, 0, 0, 0, 0, 0, 0, 0, 0, 0, 0, 0, 0, 0, 2, 0, 0, 0, 0, 0, 0, 0, 0, 0, 0, 0, 0, 0, 0, 0, 0, 0, 0, 0, 0, 0, 0, 0, 0, 0, 0, 0, 0, 0, 0, 0, 0, 0, 0, 0, 0, 0, 0, 0, 0, 0, 0, 0, 0, 0, 0, 0, 0, 0, 0, 0, 0, 0, 0, 0, 0, 0, 0, 0, 0, 0, 0, 0, 0, 0, 0, 0, 0, 0, 0, 0, 0, 0, 0, 0, 0, 0, 0, 0, 0, 0, 0, 0, 0, 0, 0, 0, 0, 0, 0, 0, 0, 0, 0, 0, 0, 0, 0, 0, 0, 0, 0, 0, 0, 0, 0, 0, 0, 0, 0, 0, 0, 0, 0, 0, 0, 0, 0, 0, 0, 0, 0, 0, 0, 0, 0, 2, 0, 0, 0, 0, 0, 0, 0, 0, 0, 0, 0, 0, 0, 0, 0, 0, 0, 0, 0, 0, 0, 0, 0, 0, 0, 0, 0, 0, 0, 0, 0, 0, 0, 0, 0, 0, 0, 0, 0, 0, 0, 0, 0, 0, 0, 0, 0, 0, 0, 0, 0, 0, 0, 0, 0, 0, 0, 0, 0, 0, 0, 0, 0, 0, 0, 0, 0, 0, 0, 0, 0, 0, 0, 0, 0, 0, 0, 0, 0, 0, 0, 0, 0, 0, 0, 0, 0, 0, 0, 0, 0, 0, 0, 0, 0, 0, 0, 0, 0, 0, 0, 0, 0, 0, 0, 0, 0, 0, 2, 0, 0, 0, 0, 0, 0, 0, 0, 0, 0, 0, 0, 0, 0, 0, 0, 0, 0, 0, 0, 0, 0, 0, 0, 0, 0, 0, 0, 0, 0, 0, 0, 0, 0, 0, 0, 0, 0, 0, 0, 0, 0, 0, 0, 0, 0, 0, 0, 0, 0, 0, 0, 0, 0, 0, 0, 0, 0, 0, 0, 0, 0, 0, 0, 0, 0, 0, 0, 0, 0, 0, 0, 0, 0, 0, 0, 0, 0, 0, 0, 0, 0, 0, 0, 0, 0, 0, 0, 0, 0, 0, 0, 0, 0, 0, 0, 0, 0, 0, 0, 0, 0, 0, 0, 0, 0, 0, 0, 0, 0, 0, 0, 0, 0, 0, 0, 0, 0, 0, 0, 0, 0, 0, 0, 0, 0, 0, 0, 0, 0, 0, 0, 0, 0, 0, 0, 0, 0, 0, 0, 0, 0, 0, 0, 0, 0, 0, 0, 0, 0, 0, 0, 0, 0, 0, 0, 0, 0, 0, 0, 0, 0, 0, 0, 0, 0, 0, 0, 0, 0, 0, 0, 0, 0, 0, 0, 0, 0, 0, 0, 0, 0, 0, 0, 0, 0, 0, 0, 0, 0, 0, 0, 0, 0, 0, 0, 0, 0, 0, 0, 0, 0, 0, 0, 0, 0, 0, 0, 0, 0, 0, 0, 0, 0, 0, 0, 0, 0, 0, 0, 0, 0, 0, 0, 0, 0, 0, 0, 0, 0, 0, 0, 0, 0, 0, 0, 0, 0, 0, 0, 0, 0, 0, 0, 0, 0, 0, 0, 0, 0, 0, 0, 0, 0, 0, 0, 0, 0, 0, 0, 0, 0, 0, 0, 0, 0, 0, 0, 0, 0, 0, 0, 0, 0, 0, 0, 0, 0, 0, 0, 0, 0, 0, 0, 0, 0, 0, 0, 0, 0, 0, 0, 0, 0, 0, 0, 0, 0, 0, 0, 0, 0, 0, 0, 0, 0, 0, 0, 0, 0, 0, 0, 0, 0, 0, 0, 0, 0, 0, 0, 0, 0, 0, 0, 0, 0, 0, 0, 0, 0, 0, 0, 0, 0, 0, 0, 0, 0, 0, 0, 0, 0, 0, 0, 0, 0, 0, 0, 0, 0, 0, 0, 0, 0, 0, 0, 0, 0, 0, 0, 0, 0, 0, 0, 0, 0, 0, 0, 0, 0, 0, 0, 0, 0, 0, 0, 0, 0, 0, 0, 0, 0, 0, 0, 0, 0, 0, 0, 0, 0, 0, 0, 0, 0, 0, 0, 0, 0, 0, 0, 0, 0, 0, 0, 0, 0, 0, 0, 0, 0, 0, 0, 0, 0, 0, 0, 0, 0, 0, 0, 0, 0, 0, 0, 0, 0, 0, 0, 0, 0, 0, 0, 2, 0, 0, 0, 0, 0, 0, 0, 0, 0, 0, 0, 0, 0, 0, 0, 0, 0, 0, 0, 0, 0, 0, 0, 0, 0, 0, 0, 0, 0, 0, 0, 0, 0, 0, 0, 0, 0, 0, 0, 0, 0, 0, 0, 0, 0, 0, 0, 0, 0, 0, 0, 0, 0, 0, 0, 0, 0, 0, 0, 0, 0, 0, 0, 0, 0, 0, 0, 0, 0, 0, 0, 0, 2, 0, 0, 0, 0, 0, 0, 0, 0, 0, 0, 0, 0, 0, 0, 0, 0, 0, 0, 0, 0, 0, 0, 0, 0, 0, 0, 0, 0, 0, 0, 0, 0, 0, 0, 0, 0, 0, 0, 0, 0, 0, 0, 0, 0, 0, 0, 0, 0, 0, 0, 0, 0, 0, 0, 0, 0, 0, 0, 0, 0, 0, 0, 0, 0, 0, 0, 0, 0, 0, 0, 0, 0, 0, 0, 0, 0, 0, 0, 0, 0, 0, 0, 0, 0, 0, 0, 0, 0, 0, 0, 0, 0, 0, 0, 0, 0, 0, 0, 0, 0, 0, 0, 0, 0, 0, 0, 0, 0, 0, 0, 0, 0, 0, 0, 0, 0, 0, 0, 0, 0, 0, 0, 0, 0, 0, 0, 0, 0, 0, 0, 0, 0, 0, 0, 0, 0, 0, 0, 0, 0, 0, 0, 0, 0, 0, 0, 0, 0, 0, 0, 0, 0, 0, 0, 0, 0, 0, 0, 0, 0, 0, 0, 0, 0, 0, 0, 0, 0, 0, 0, 0, 0, 0, 0, 0, 0, 0, 0, 0, 0, 0, 0, 0, 0, 0, 0, 0, 0, 0, 0, 0, 0, 0, 0, 0, 0, 0, 0, 0, 0, 0, 0, 0, 0, 0, 0, 0, 0, 0, 0, 0, 0, 0, 0, 2, 0, 0, 0, 2, 0, 0, 0, 0, 0, 0, 0, 0, 0, 0, 0, 0, 0, 0, 0, 0, 0, 0, 0, 0, 0, 0, 0, 0, 0, 0, 0, 0, 0, 0, 0, 0, 0, 0, 0, 0, 0, 0, 0, 0, 0, 0, 0, 2, 0, 0, 0, 0, 0, 0, 0, 0, 0, 0, 0, 0, 0, 0, 0, 0, 0, 0, 0, 0, 0, 0, 0, 0, 0, 0, 0, 0, 0, 0, 0, 0, 0, 0, 0, 0, 0, 0, 0, 0, 0, 0, 0, 0, 0, 0, 0, 0, 0, 0, 0, 0, 0, 0, 0, 0, 0, 0, 0, 0, 0, 0, 0, 0, 0, 0, 0, 0, 0, 0, 0, 0, 0, 0, 0, 0, 0, 0, 0, 0, 0, 0, 0, 0, 0, 0, 0, 0, 0, 0, 0, 0, 0, 0, 0, 0, 0, 0, 0, 0, 2, 0, 0, 0, 0, 0, 0, 0, 0, 0, 0, 0, 0, 0, 0, 0, 0, 0, 0, 0, 0, 0, 0, 0, 0, 0, 0, 0, 0, 0, 0, 0, 0, 0, 0, 0, 0, 0, 0, 0, 0, 0, 0, 0, 0, 0, 0, 0, 0, 0, 0, 0, 0, 0, 0, 0, 0, 0, 0, 0, 0, 0, 0, 0, 0, 0, 0, 0, 0, 0, 0, 0, 0, 0, 0, 0, 0, 0, 0, 0, 0, 0, 0, 0, 0, 0, 0, 0, 0, 0, 0, 0, 0, 0, 0, 0, 0, 0, 0, 0, 0, 0, 0, 0, 0, 0, 0, 0, 0, 0, 0, 0, 0, 0, 0, 0, 0, 0, 0, 0, 0, 0, 0, 0, 0, 0, 0, 0, 0, 0, 0, 0, 0, 0, 0, 0, 0, 0, 0, 0, 0, 0, 0, 0, 0, 0, 0, 0, 0, 0, 0, 0, 0, 0, 0, 0, 0, 0, 0, 0, 0, 0, 0, 0, 0, 0, 0, 0, 0, 0, 0, 0, 0, 0, 0, 0, 0, 0, 0, 0, 0, 0, 0, 0, 0, 0, 0, 0, 0, 0, 0, 0, 0, 0, 0, 0, 0, 0, 0, 0, 0, 0, 0, 0, 0, 0, 0, 0, 0, 0, 0, 0, 0, 0, 0, 0, 0, 0, 0, 0, 0, 0, 0, 0, 0, 0, 0, 0, 0, 0, 0, 0, 0, 0, 0, 0, 0, 0, 0, 0, 0, 0, 0, 0, 0, 0, 0, 0, 0, 0, 0, 0, 0, 0, 0, 1, 0, 0, 0, 0, 0, 0, 0, 0, 0, 0, 0, 0, 0, 0, 0, 0, 0, 0, 0, 0, 0, 0, 0, 0, 0, 0, 0, 0, 0, 0, 0, 0, 0, 0, 0, 0, 0, 0, 0, 0, 0, 0, 0, 0, 0, 0, 0, 0, 0, 0, 0, 0, 0, 0, 0, 0, 0, 0, 0, 0, 0, 0, 0, 0, 0, 0, 0, 0, 0, 0, 0, 0, 0, 0, 0, 0, 0, 0, 0, 0, 0, 0, 0, 0, 0, 0, 0, 0, 0, 0, 0, 0, 0, 0, 0, 0, 0, 0, 0, 0, 0, 0, 0, 0, 0, 0, 0, 0, 0, 0, 0, 0, 0, 0, 0, 0, 0, 0, 0, 0, 0, 0, 0, 0, 0, 0, 0, 0, 0, 0, 0, 0, 0, 0, 0, 0, 0, 0, 0, 0, 0, 0, 0, 0, 0, 0, 0, 0, 0, 0, 0, 0, 0, 0, 0, 0, 0, 0, 0, 0, 0, 0, 0, 0, 0, 0, 0, 0, 0, 0, 0, 0, 0, 0, 0, 0, 0, 0, 0, 0, 0, 0, 0, 0, 0, 0, 0, 0, 0, 2, 0, 0, 0, 0, 0, 0, 0, 0, 0, 0, 0, 0, 0, 0, 0, 0, 0, 0, 0, 0, 0, 0, 0, 0, 0, 0, 0, 0, 0, 0, 0, 0, 0, 0, 0, 0, 0, 0, 0, 0, 0, 0, 0, 0, 0, 0, 0, 0, 0, 0, 0, 0, 0, 0, 0, 0, 0, 0, 0, 0, 0, 0, 0, 0, 0, 0, 0, 0, 0, 0, 0, 0, 0, 0, 0, 0, 0, 0, 0, 0, 0, 0, 0, 0, 0, 0, 0, 0, 0, 0, 0, 0, 0, 0, 0, 0, 0, 0, 0, 0, 0, 0, 0, 2, 0, 0, 0, 0, 0, 0, 0, 0, 0, 0, 0, 0, 0, 0, 0, 0, 0, 0, 0, 0, 0, 0, 0, 0, 0, 0, 0, 0, 0, 0, 0, 0, 0, 0, 0, 0, 0, 0, 0, 0, 0, 0, 0, 0, 0, 0, 0, 0, 0, 0, 0, 0, 0, 0, 0, 0, 0, 0, 0, 0, 0, 0, 0, 0, 0, 0, 0, 0, 0, 0, 0, 0, 0, 0, 0, 0, 0, 0, 0, 0, 0, 0, 0, 0, 0, 0, 0, 0, 0, 0, 0, 0, 0, 0, 0, 0, 0, 0, 0, 0, 0, 0, 0, 0, 0, 0, 0, 0, 0, 0, 0, 0, 0, 0, 0, 0, 0, 0, 0, 0, 0, 0, 0, 0, 0, 0, 0, 0, 0, 0, 0, 0, 0, 0, 0, 0, 0, 0, 0, 0, 0, 0, 0, 0, 0, 0, 0, 0, 0, 0, 0, 0, 0, 0, 0, 0, 0, 0, 0, 0, 0, 0, 0, 0, 0, 0, 0, 0, 0, 0, 0, 0, 0, 0, 0, 0, 0, 0, 0, 0, 0, 0, 0, 0, 0, 0, 0, 0, 0, 0, 0, 0, 2, 0, 0, 0, 0, 0, 0, 0, 0, 0, 0, 0, 0, 0, 0, 0, 0, 0, 0, 0, 0, 0, 0, 0, 0, 0, 0, 0, 0, 0, 0, 0, 0, 0, 0, 0, 0, 0, 0, 0, 0, 0, 0, 0, 0, 0, 0, 0, 0, 0, 0, 0, 0, 0, 0, 0, 0, 0, 0, 0, 0, 0, 0, 0, 0, 0, 0, 0, 0, 0, 0, 0, 0, 0, 0, 0, 0, 0, 0, 0, 0, 0, 0, 0, 0, 0, 0, 0, 0, 0, 0, 0, 0, 0, 0, 0, 0, 0, 0, 0, 0, 0, 0, 0, 0, 0, 0, 0, 0, 0, 0, 0, 0, 0, 0, 0, 0, 0, 0, 0, 0, 0, 0, 0, 0, 0, 0, 0, 0, 0, 0, 0, 0, 0, 0, 0, 0, 0, 0, 0, 0, 0, 0, 0, 0, 0, 0, 0, 0, 0, 0, 0, 0, 0, 0, 0, 0, 0, 0, 0, 0, 0, 0, 0, 0, 0, 0, 0, 0, 0, 0, 0, 0, 0, 0, 0, 0, 0, 0, 0, 0, 0, 0, 0, 0, 0, 0, 0, 0, 0, 0, 0, 0, 0, 0, 0, 0, 0, 0, 0, 0, 0, 0, 0, 0, 0, 0, 0, 0, 0, 0, 0, 0, 0, 0, 0, 0, 0, 0, 0, 0, 0, 0, 0, 0, 0, 0, 0, 0, 0, 0, 0, 0, 0, 0, 0, 0, 0, 0, 0, 0, 0, 0, 0, 0, 0, 0, 0, 0, 0, 0, 0, 0, 0, 0, 0, 0, 0, 0, 0, 0, 0, 0, 0, 0, 0, 0, 0, 0, 0, 0, 0, 0, 0, 0, 0, 0, 0, 0, 0, 0, 0, 0, 0, 0, 0, 0, 0, 0, 0, 0, 0, 0, 0, 0, 0, 0, 0, 0, 0, 0, 0, 0, 0, 0, 0, 0, 0, 0, 0, 0, 0, 0, 0, 0, 0, 0, 0, 0, 0, 0, 0, 0, 0, 0, 0, 2, 0, 0, 0, 0, 0, 0, 0, 0, 0, 0, 0, 0, 0, 0, 2, 0, 0, 0, 0, 0, 0, 0, 0, 0, 0, 0, 0, 0, 0, 0, 0, 0, 0, 0, 0, 0, 0, 0, 0, 0, 0, 0, 0, 0, 0, 0, 0, 0, 0, 0, 0, 0, 0, 0, 0, 0, 0, 0, 0, 0, 0, 0, 0, 0, 0, 2, 0, 0, 0, 0, 0, 0, 0, 0, 0, 0, 0, 0, 0, 0, 0, 0, 0, 0, 0, 0, 0, 0, 0, 0, 0, 0, 0, 0, 0, 0, 0, 0, 0, 0, 0, 0, 0, 0, 0, 0, 0, 0, 0, 0, 0, 0, 0, 0, 0, 0, 0, 0, 0, 0, 0, 0, 0, 0, 0, 0, 0, 0, 0, 0, 0, 0, 0, 0, 0, 0, 0, 0, 0, 0, 0, 0, 0, 0, 0, 0, 0, 0, 0, 0, 0, 0, 0, 0, 0, 0, 0, 0, 0, 0, 0, 0, 0, 0, 0, 0, 0, 0, 0, 0, 0, 0, 0, 0, 0, 0, 0, 0, 0, 0, 0, 0, 0, 2, 0, 0, 0, 0, 0, 0, 0, 0, 0, 0, 0, 0, 0, 2, 0, 0, 0, 0, 0, 0, 0, 0, 0, 0, 0, 0, 0, 0, 0, 0, 0, 0, 0, 0, 0, 0, 0, 0, 0, 0, 0, 0, 0, 0, 0, 0, 0, 0, 0, 0, 0, 0, 0, 0, 0, 0, 0, 0, 0, 0, 0, 0, 0, 0, 0, 0, 0, 0, 0, 0, 0, 0, 0, 0, 0, 0, 0, 0, 0, 0, 0, 0, 0, 0, 0, 0, 0, 0, 0, 0, 0, 0, 0, 0, 0, 0, 0, 0, 0, 0, 0, 0, 0, 0, 0, 0, 0, 0, 0, 0, 0, 0, 0, 0, 0, 0, 0, 0, 0, 0, 0, 0, 0, 0, 0, 0, 0, 0, 0, 0, 0, 0, 0, 0, 0, 0, 0, 0, 0, 0, 0, 0, 0, 0, 0, 0, 0, 0, 0, 0, 0, 0, 0, 0, 0, 0, 0, 0, 0, 0, 0, 0, 0, 0, 0, 0, 0, 0, 0, 0, 0, 0, 0, 0, 0, 0, 0, 0, 0, 0, 0, 0, 0, 0, 0, 0, 0, 0, 0, 0, 0, 0, 0, 0, 0, 0, 0, 0, 0, 0, 0, 0, 0, 0, 0, 0, 0, 0, 0, 0, 0, 0, 0, 0, 0, 0, 0, 0, 0, 0, 0, 0, 0, 0, 0, 0, 0, 0, 0, 0, 0, 0, 0, 0, 0, 0, 0, 0, 0, 0, 0, 0, 0, 0, 0, 0, 0, 0, 0, 0, 0, 0, 0, 0, 0, 0, 0, 0, 0, 0, 0, 0, 0, 0, 0, 0, 0, 0, 0, 0, 0, 0, 0, 0, 0, 0, 0, 0, 0, 0, 0, 0, 0, 0, 0, 0, 0, 0, 0, 0, 0, 0, 0, 0, 0, 0, 0, 0, 0, 0, 2, 0, 0, 0, 0, 0, 0, 0, 0, 0, 0, 0, 0, 0, 0, 0, 0, 0, 1, 0, 0, 0, 0, 0, 0, 0, 0, 0, 0, 0, 0, 0, 0, 0, 0, 0, 0, 0, 0, 0, 0, 0, 0, 0, 0, 0, 0, 0, 0, 0, 0, 0, 0, 0, 0, 0, 0, 0, 0, 0, 0, 0, 0, 0, 0, 0, 0, 0, 0, 0, 0, 0, 0, 0, 0, 0, 0, 0, 0, 0, 0, 0, 0, 0, 0, 0, 0, 0, 0, 0, 0, 0, 0, 0, 0, 0, 0, 0, 0, 0, 0, 0, 0, 0, 0, 0, 0, 0, 0, 0, 0, 0, 0, 0, 0, 0, 0, 0, 0, 0, 0, 0, 0, 0, 0, 0, 0, 0, 0, 0, 0, 0, 0, 0, 0, 0, 0, 0, 0, 0, 0, 0, 0, 0, 0, 0, 0, 0, 0, 0, 0, 0, 0, 0, 0, 0, 0, 0, 0, 0, 0, 0, 0, 0, 0, 0, 0, 0, 0, 0, 0, 0, 0, 0, 0, 0, 0, 0, 0, 0, 0, 0, 0, 0, 0, 0, 2, 0, 0, 0, 0, 0, 0, 0, 0, 0, 0, 0, 0, 0, 0, 0, 0, 0, 0, 0, 0, 0, 0, 0, 0, 0, 0, 0, 0, 0, 0, 0, 0, 0, 0, 0, 0, 0, 0, 0, 0, 0, 0, 0, 0, 0, 0, 0, 0, 0, 0, 0, 0, 0, 0, 0, 0, 0, 0, 0, 0, 0, 0, 0, 0, 0, 0, 0, 0, 0, 0, 0, 0, 0, 0, 0, 0, 0, 0, 0, 0, 0, 0, 0, 0, 0, 0, 0, 0, 0, 0, 0, 0, 0, 0, 0, 0, 0, 0, 0, 0, 0, 0, 0, 0, 0, 0, 0, 0, 0, 0, 0, 0, 0, 0, 0, 0, 0, 0, 0, 0, 0, 0, 0, 0, 0, 0, 0, 0, 0, 0, 0, 0, 0, 0, 0, 0, 0, 0, 0, 0, 0, 0, 0, 0, 0, 0, 0, 0, 0, 0, 0, 0, 0, 0, 0, 0, 0, 0, 0, 0, 0, 0, 0, 0, 0, 0, 0, 0, 0, 0, 0, 0, 0, 0, 0, 0, 0, 0, 0, 0, 0, 0, 0, 0, 0, 0, 0, 0, 0, 0, 0, 0, 0, 0, 0, 0, 0, 0, 0, 0, 0, 0, 0, 0, 0, 0, 0, 0, 0, 0, 0, 0, 0, 0, 0, 0, 0, 0, 0, 0, 0, 0, 0, 0, 0, 0, 0, 0, 0, 0, 0, 0, 0, 0, 0, 0, 0, 0, 0, 0, 0, 0, 0, 0, 0, 0, 0, 0, 0, 0, 0, 0, 0, 0, 0, 0, 0, 0, 0, 0, 0, 0, 0, 0, 0, 0, 0, 0, 0, 0, 0, 0, 0, 0, 0, 0, 0, 0, 0, 0, 0, 0, 0, 0, 0, 0, 0, 0, 0, 0, 0, 0, 0, 0, 0, 0, 0, 0, 0, 0, 0, 0, 0, 0, 0, 0, 0, 0, 0, 0, 0, 0, 0, 0, 0, 0, 0, 0, 0, 0, 0, 0, 0, 0, 0, 0, 0, 0, 0, 0, 0, 0, 0, 0, 0, 0, 0, 0, 0, 0, 0, 0, 0, 0, 0, 0, 0, 0, 0, 0, 0, 0, 0, 0, 0, 0, 0, 0, 0, 0, 0, 0, 0, 0, 0, 0, 0, 0, 0, 0, 0, 0, 0, 0, 0, 0, 0, 0, 0, 0, 0, 0, 0, 0, 0, 0, 0, 0, 0, 0, 0, 0, 0, 0, 0, 0, 0, 0, 0, 0, 0, 0, 0, 0, 0, 0, 0, 0, 0, 0, 0, 0, 0, 0, 0, 0, 0, 0, 0, 0, 0, 0, 0, 0, 0, 0, 0, 0, 0, 0, 0, 0, 0, 0, 0, 0, 0, 0, 0, 0, 0, 0, 0, 0, 0, 0, 0, 0, 0, 0, 0, 0, 0, 0, 0, 0, 0, 0, 0, 0, 0, 0, 0, 0, 0, 0, 0, 0, 0, 0, 0, 0, 0, 0, 0, 0, 0, 0, 0, 0, 0, 0, 0, 0, 0, 0, 0, 0, 0, 0, 0, 0, 0, 0, 0, 0, 0, 0, 0, 0, 0, 0, 0, 0, 0, 2, 0, 0, 0, 0, 0, 0, 0, 0, 0, 2, 0, 0, 0, 0, 0, 0, 0, 0, 0, 0, 0, 0, 0, 0, 0, 0, 0, 0, 0, 0, 0, 0, 0, 0, 0, 0, 0, 0, 0, 0, 0, 0, 0, 0, 1, 0, 0, 0, 0, 0, 0, 0, 0, 0, 0, 0, 0, 0, 0, 0, 0, 0, 0, 0, 0, 0, 0, 0, 0, 0, 0, 0, 0, 0, 0, 0, 0, 0, 0, 0, 0, 0, 0, 0, 0, 0, 0, 2, 0, 0, 0, 0, 0, 0, 0, 0, 0, 0, 0, 0, 0, 0, 0, 0, 0, 0, 0, 0, 0, 0, 0, 0, 0, 0, 0, 0, 0, 0, 0, 0, 0, 0, 0, 0, 0, 0, 0, 0, 0, 0, 0, 0, 0, 0, 0, 0, 0, 0, 0, 0, 0, 0, 0, 0, 0, 0, 0, 0, 0, 0, 0, 0, 0, 0, 0, 0, 0, 0, 0, 0, 0, 0, 0, 0, 0, 0, 0, 0, 0, 0, 0, 0, 0, 0, 0, 0, 0, 0, 0, 0, 0, 0, 0, 0, 0, 0, 0, 0, 0, 0, 0, 0, 0, 0, 0, 0, 0, 0, 0, 0, 0, 0, 0, 0, 0, 0, 0, 0, 0, 0, 0, 0, 0, 0, 0, 0, 0, 0, 0, 0, 0, 0, 0, 0, 0, 0, 0, 0, 0, 0, 0, 0, 0, 0, 0, 0, 0, 0, 0, 0, 0, 0, 0, 0, 0, 0, 0, 0, 0, 0, 0, 0, 0, 0, 0, 0, 0, 0, 0, 0, 0, 0, 0, 0, 0, 0, 0, 0, 0, 0, 0, 0, 0, 0, 0, 0, 0, 0, 0, 0, 0, 0, 0, 0, 0, 0, 0, 0, 0, 0, 0, 0, 0, 0, 0, 0, 0, 0, 0, 0, 0, 0, 0, 0, 0, 0, 0, 0, 0, 0, 0, 0, 0, 0, 0, 0, 0, 0, 0, 0, 0, 0, 0, 0, 0, 0, 2, 0, 0, 0, 0, 0, 0, 0, 0, 0, 0, 0, 0, 0, 0, 0, 0, 0, 0, 0, 0, 0, 0, 0, 0, 0, 0, 0, 0, 0, 0, 0, 0, 0, 0, 0, 0, 0, 0, 0, 0, 0, 0, 0, 0, 0, 0, 0, 0, 0, 0, 0, 0, 0, 0, 0, 0, 0, 0, 0, 0, 0, 0, 0, 0, 0, 0, 0, 0, 0, 0, 0, 0, 0, 0, 0, 0, 0, 0, 0, 0, 0, 2, 0, 0, 0, 0, 0, 0, 0, 0, 0, 0, 0, 0, 0, 0, 0, 0, 0, 0, 0, 0, 0, 0, 0, 0, 0, 0, 0, 0, 0, 0, 0, 0, 0, 0, 0, 0, 0, 0, 0, 0, 0, 0, 0, 0, 0, 0, 0, 0, 0, 0, 0, 0, 0, 0, 0, 0, 0, 0, 0, 0, 0, 0, 0, 0, 0, 0, 0, 0, 0, 0, 0, 0, 0, 0, 0, 0, 0, 0, 0, 0, 0, 0, 0, 0, 0, 0, 0, 0, 0, 0, 0, 0, 0, 0, 0, 0, 0, 0, 0, 0, 0, 0, 0, 0, 0, 0, 0, 1, 0, 0, 0, 0, 0, 0, 0, 0, 0, 0, 0, 0, 0, 0, 0, 0, 0, 0, 0, 0, 0, 0, 0, 0, 0, 0, 0, 0, 0, 0, 0, 0, 0, 0, 0, 0, 0, 0, 0, 0, 0, 0, 0, 0, 0, 0, 0, 0, 0, 0, 0, 0, 0, 0, 0, 0, 0, 0, 0, 0, 0, 0, 0, 0, 0, 0, 0, 0, 0, 0, 0, 0, 0, 0, 0, 0, 0, 0, 0, 0, 0, 0, 0, 0, 0, 0, 0, 0, 0, 0, 0, 0, 0, 0, 0, 0, 0, 0, 0, 0, 0, 0, 0, 0, 0, 0, 0, 0, 0, 0, 0, 0, 0, 0, 0, 0, 0, 0, 0, 0, 0, 0, 0, 0, 0, 0, 0, 0, 0, 0, 0, 0, 0, 0, 0], \"x0\": \" \", \"xaxis\": \"x\", \"y\": [1, 7, 4, 1, 1, 7, 1, 1, 1, 3, 1, 2, 4, 3, 1, 10, 2, 4, 1, 1, 4, 1, 3, 1, 1, 2, 2, 1, 2, 4, 3, 5, 2, 2, 6, 1, 1, 4, 2, 12, 2, 1, 4, 1, 1, 1, 1, 2, 5, 5, 3, 2, 3, 3, 3, 20, 9, 1, 1, 4, 3, 8, 2, 1, 1, 3, 8, 4, 1, 15, 4, 7, 2, 2, 1, 18, 2, 1, 1, 5, 1, 1, 1, 1, 4, 2, 5, 1, 1, 1, 5, 3, 6, 2, 1, 2, 4, 8, 2, 2, 27, 7, 3, 18, 1, 11, 6, 1, 1, 4, 10, 8, 4, 3, 1, 10, 1, 2, 2, 7, 1, 3, 11, 1, 5, 2, 1, 3, 2, 1, 2, 2, 1, 1, 1, 2, 4, 5, 1, 5, 1, 2, 11, 8, 3, 3, 6, 4, 1, 1, 1, 2, 1, 1, 4, 17, 3, 1, 2, 2, 2, 1, 1, 1, 1, 10, 2, 4, 1, 2, 2, 1, 7, 1, 1, 1, 10, 31, 2, 2, 1, 1, 5, 3, 2, 1, 1, 1, 2, 15, 9, 2, 1, 1, 1, 2, 1, 1, 2, 3, 9, 2, 4, 7, 7, 10, 5, 1, 1, 2, 1, 3, 4, 1, 1, 4, 1, 4, 2, 1, 1, 8, 3, 19, 1, 1, 2, 2, 9, 6, 3, 2, 1, 4, 2, 8, 1, 1, 3, 1, 3, 6, 1, 4, 2, 12, 1, 3, 1, 1, 1, 2, 5, 5, 4, 1, 1, 1, 11, 8, 1, 1, 4, 2, 5, 1, 2, 4, 6, 9, 4, 4, 22, 31, 14, 6, 6, 1, 1, 2, 1, 5, 4, 2, 4, 3, 4, 2, 1, 1, 8, 8, 1, 10, 15, 3, 13, 1, 5, 1, 2, 2, 1, 2, 25, 6, 4, 5, 4, 1, 7, 7, 4, 1, 12, 1, 1, 1, 2, 1, 1, 1, 1, 2, 4, 11, 206, 5, 1, 1, 6, 3, 2, 1, 9, 2, 3, 2, 2, 1, 7, 1, 1, 1, 5, 6, 8, 2, 5, 4, 1, 1, 3, 1, 1, 1, 1, 2, 2, 1, 1, 3, 1, 3, 1, 2, 1, 1, 2, 2, 1, 1, 4, 1, 2, 5, 1, 7, 3, 6, 2, 6, 1, 2, 1, 1, 4, 1, 2, 14, 4, 25, 2, 8, 2, 4, 1, 2, 1, 1, 6, 3, 1, 6, 2, 1, 1, 2, 1, 7, 6, 2, 2, 1, 2, 2, 12, 2, 3, 1, 2, 4, 1, 3, 2, 2, 1, 3, 1, 2, 2, 28, 1, 2, 5, 2, 5, 7, 5, 5, 2, 4, 1, 6, 1, 37, 1, 1, 4, 2, 5, 1, 2, 14, 3, 7, 4, 4, 1, 8, 2, 3, 2, 1, 6, 7, 8, 3, 6, 4, 1, 11, 1, 8, 2, 8, 1, 1, 1, 1, 4, 86, 1, 1, 1, 9, 2, 1, 1, 2, 2, 1, 15, 3, 2, 4, 3, 1, 4, 3, 3, 13, 1, 3, 18, 2, 1, 1, 1, 8, 13, 10, 5, 3, 1, 28, 9, 2, 5, 6, 2, 3, 2, 2, 1, 2, 2, 3, 3, 2, 1, 1, 1, 2, 9, 4, 2, 17, 1, 3, 3, 1, 1, 1, 1, 4, 1, 2, 1, 2, 24, 1, 1, 1, 4, 26, 5, 1, 11, 9, 2, 2, 97, 13, 1, 5, 8, 11, 1, 10, 28, 1, 1, 24, 1, 6, 1, 4, 1, 2, 7, 24, 4, 1, 8, 5, 1, 1, 2, 3, 8, 1, 1, 3, 1, 2, 4, 5, 8, 6, 7, 3, 5, 1, 1, 4, 1, 4, 12, 4, 1, 1, 4, 4, 4, 4, 1, 1, 3, 2, 1, 4, 4, 2, 1, 3, 2, 3, 1, 1, 11, 1, 9, 10, 1, 3, 1, 1, 2, 2, 1, 1, 4, 6, 37, 4, 4, 2, 5, 8, 1, 3, 3, 5, 1, 3, 1, 4, 2, 2, 2, 7, 1, 1, 1, 1, 14, 7, 2, 1, 2, 4, 1, 4, 3, 1, 1, 1, 6, 4, 2, 3, 2, 2, 3, 1, 1, 2, 1, 34, 5, 12, 19, 10, 15, 1, 1, 2, 1, 2, 4, 1, 1, 3, 3, 2, 1, 4, 1, 2, 2, 1, 1, 4, 1, 1, 1, 4, 1, 1, 10, 1, 3, 5, 3, 2, 5, 3, 4, 6, 3, 25, 4, 2, 1, 5, 10, 1, 8, 1, 2, 3, 1, 3, 1, 1, 1, 7, 1, 1, 3, 1, 1, 1, 1, 2, 1, 1, 1, 1, 1, 1, 1, 1, 4, 2, 1, 2, 1, 2, 1, 1, 1, 3, 1, 3, 3, 6, 1, 7, 1, 2, 3, 1, 1, 8, 1, 2, 5, 1, 2, 1, 2, 2, 59, 5, 1, 3, 2, 2, 18, 1, 2, 2, 1, 3, 10, 3, 1, 4, 2, 2, 2, 7, 1, 7, 1, 1, 3, 6, 1, 6, 5, 2, 2, 2, 6, 14, 2, 3, 1, 1, 1, 2, 37, 2, 4, 2, 1, 4, 2, 6, 2, 5, 1, 1, 1, 1, 3, 3, 13, 4, 10, 3, 2, 1, 5, 2, 2, 5, 3, 1, 3, 1, 1, 4, 2, 4, 1, 6, 4, 1, 1, 1, 4, 3, 3, 1, 1, 6, 3, 1, 5, 5, 2, 7, 2, 2, 1, 3, 25, 7, 7, 3, 2, 3, 2, 7, 1, 12, 4, 2, 4, 1, 1, 3, 2, 2, 2, 2, 1, 2, 1, 12, 1, 2, 5, 18, 4, 2, 1, 1, 1, 1, 9, 2, 6, 3, 4, 5, 1, 2, 1, 21, 1, 2, 1, 1, 3, 1, 7, 3, 4, 1, 3, 1, 1, 5, 1, 5, 11, 7, 11, 5, 5, 1, 5, 3, 1, 1, 1, 3, 4, 1, 4, 2, 6, 1, 3, 6, 2, 2, 2, 5, 2, 3, 1, 3, 1, 21, 2, 1, 2, 2, 2, 1, 4, 4, 1, 1, 7, 1, 1, 1, 3, 50, 15, 1, 1, 10, 1, 9, 3, 1, 2, 1, 13, 1, 2, 1, 5, 1, 6, 2, 5, 4, 1, 3, 1, 8, 2, 2, 6, 2, 2, 1, 4, 2, 1, 1, 1, 3, 12, 7, 2, 1, 1, 5, 5, 1, 6, 1, 2, 9, 14, 7, 2, 2, 2, 1, 1, 3, 37, 10, 4, 3, 1, 33, 1, 2, 1, 6, 11, 1, 2, 1, 2, 2, 57, 2, 1, 1, 3, 1, 7, 2, 1, 1, 5, 1, 2, 2, 3, 4, 2, 4, 2, 2, 3, 2, 2, 2, 5, 1, 3, 1, 6, 1, 1, 4, 2, 4, 1, 9, 1, 1, 3, 3, 2, 1, 3, 1, 25, 3, 1, 1, 5, 8, 1, 4, 1, 3, 2, 4, 8, 12, 3, 1, 5, 1, 1, 1, 13, 20, 5, 5, 5, 2, 1, 1, 2, 1, 10, 4, 1, 3, 4, 1, 1, 2, 3, 5, 2, 4, 9, 2, 2, 2, 2, 1, 1, 6, 4, 1, 1, 4, 2, 2, 2, 1, 2, 1, 1, 1, 1, 3, 4, 5, 3, 1, 1, 6, 4, 3, 2, 7, 2, 2, 5, 3, 2, 2, 4, 1, 18, 8, 2, 1, 1, 6, 1, 2, 1, 1, 4, 12, 5, 15, 1, 6, 2, 1, 6, 1, 9, 6, 5, 12, 1, 3, 2, 7, 5, 3, 2, 1, 3, 1, 1, 4, 3, 2, 3, 1, 2, 2, 1, 2, 8, 19, 11, 3, 5, 1, 2, 3, 1, 12, 1, 4, 4, 1, 5, 1, 4, 2, 23, 1, 2, 1, 1, 23, 16, 1, 19, 12, 5, 1, 2, 1, 8, 1, 3, 1, 5, 6, 1, 1, 2, 1, 9, 18, 1, 13, 1, 14, 1, 17, 1, 11, 1, 6, 5, 2, 1, 7, 2, 1, 12, 4, 6, 4, 2, 5, 1, 4, 1, 3, 3, 3, 2, 5, 1, 11, 3, 15, 2, 1, 2, 4, 1, 1, 4, 5, 2, 1, 1, 2, 2, 2, 1, 54, 2, 1, 11, 3, 2, 4, 2, 1, 4, 1, 4, 1, 3, 4, 4, 7, 2, 25, 1, 1, 6, 15, 13, 2, 21, 2, 1, 4, 1, 7, 1, 2, 1, 1, 6, 6, 9, 1, 5, 6, 4, 17, 1, 1, 2, 9, 1, 3, 4, 5, 10, 3, 3, 5, 4, 4, 5, 2, 1, 1, 11, 2, 1, 2, 10, 2, 3, 1, 1, 3, 5, 2, 5, 9, 1, 2, 8, 2, 2, 3, 1, 1, 2, 4, 3, 3, 1, 15, 2, 4, 3, 3, 1, 6, 5, 11, 9, 4, 1, 4, 43, 9, 1, 1, 1, 3, 2, 6, 9, 1, 6, 1, 6, 1, 2, 5, 2, 1, 1, 7, 2, 3, 1, 8, 2, 4, 2, 1, 1, 8, 4, 8, 1, 2, 1, 1, 1, 1, 4, 1, 2, 1, 2, 1, 3, 4, 1, 8, 16, 1, 1, 1, 1, 2, 2, 1, 1, 3, 3, 1, 3, 8, 2, 9, 1, 9, 2, 19, 1, 13, 4, 6, 1, 5, 7, 6, 9, 1, 2, 1, 7, 13, 2, 3, 6, 1, 2, 6, 1, 1, 10, 2, 5, 1, 6, 6, 1, 1, 1, 1, 5, 4, 2, 4, 4, 5, 2, 4, 3, 2, 2, 1, 9, 1, 1, 3, 3, 11, 3, 3, 7, 4, 2, 8, 2, 1, 3, 1, 4, 2, 1, 2, 6, 1, 1, 1, 6, 1, 1, 2, 5, 1, 2, 2, 1, 5, 3, 3, 2, 11, 6, 4, 8, 5, 6, 2, 5, 2, 3, 3, 6, 2, 1, 2, 4, 1, 9, 9, 55, 1, 3, 6, 4, 7, 18, 3, 1, 1, 2, 2, 3, 8, 1, 16, 2, 5, 8, 2, 1, 2, 2, 1, 5, 4, 2, 1, 22, 3, 18, 4, 1, 2, 1, 2, 7, 9, 1, 4, 1, 1, 1, 5, 4, 1, 1, 9, 1, 4, 3, 3, 2, 6, 2, 1, 1, 1, 1, 90, 12, 4, 4, 3, 3, 1, 2, 5, 1, 5, 2, 2, 4, 2, 2, 3, 1, 1, 2, 1, 6, 6, 1, 1, 2, 2, 2, 71, 1, 4, 2, 1, 7, 4, 2, 4, 2, 9, 2, 1, 4, 2, 5, 1, 25, 3, 2, 2, 5, 1, 6, 16, 3, 2, 5, 1, 21, 1, 2, 5, 4, 1, 7, 2, 5, 1, 3, 9, 17, 1, 7, 1, 3, 13, 4, 11, 3, 11, 1, 4, 2, 5, 3, 1, 6, 1, 1, 1, 8, 3, 8, 12, 29, 3, 7, 7, 3, 6, 7, 5, 1, 5, 1, 1, 2, 11, 1, 1, 4, 3, 1, 2, 1, 1, 3, 6, 2, 8, 2, 1, 3, 11, 2, 3, 2, 1, 2, 2, 2, 1, 4, 1, 1, 7, 1, 17, 3, 1, 12, 1, 3, 1, 4, 1, 8, 11, 2, 2, 1, 2, 3, 2, 4, 1, 3, 4, 12, 3, 4, 1, 6, 3, 4, 1, 6, 4, 4, 1, 25, 1, 2, 6, 2, 7, 2, 3, 2, 4, 1, 1, 2, 1, 2, 11, 3, 8, 2, 1, 4, 1, 2, 9, 3, 1, 2, 6, 1, 1, 1, 1, 1, 1, 2, 2, 1, 20, 2, 4, 6, 9, 1, 5, 2, 2, 7, 1, 4, 198, 2, 4, 2, 4, 2, 2, 2, 1, 1, 1, 3, 4, 1, 2, 1, 8, 3, 11, 1, 2, 6, 1, 1, 11, 1, 1, 1, 3, 4, 2, 9, 1, 5, 1, 2, 1, 1, 1, 4, 3, 1, 3, 1, 1, 6, 5, 1, 2, 2, 2, 1, 2, 3, 2, 1, 4, 1, 28, 1, 1, 3, 1, 2, 2, 1, 1, 3, 1, 9, 4, 11, 10, 1, 3, 4, 4, 2, 4, 3, 10, 8, 1, 3, 6, 47, 1, 1, 1, 17, 2, 15, 1, 4, 1, 3, 3, 1, 3, 2, 2, 11, 9, 4, 48, 4, 1, 4, 1, 3, 2, 1, 1, 2, 3, 1, 1, 1, 32, 4, 5, 1, 1, 2, 6, 1, 1, 2, 6, 4, 1, 1, 1, 1, 3, 2, 2, 2, 7, 5, 6, 3, 1, 4, 3, 3, 10, 1, 4, 5, 1, 1, 1, 2, 3, 2, 2, 14, 1, 4, 11, 1, 5, 3, 8, 1, 4, 2, 7, 1, 1, 17, 4, 2, 1, 1, 1, 10, 13, 1, 1, 3, 3, 1, 29, 1, 2, 3, 1, 1, 1, 1, 5, 1, 1, 1, 5, 1, 3, 2, 2, 1, 2, 15, 41, 3, 1, 15, 1, 3, 2, 4, 5, 6, 1, 2, 4, 5, 1, 2, 1, 2, 8, 3, 1, 11, 1, 6, 1, 1, 2, 2, 1, 1, 5, 4, 2, 2, 1, 12, 1, 4, 3, 2, 5, 8, 1, 2, 3, 2, 1, 13, 11, 2, 5, 1, 1, 1, 1, 2, 7, 1, 1, 1, 1, 2, 1, 5, 1, 7, 15, 2, 2, 1, 1, 1, 1, 1, 9, 1, 2, 5, 3, 18, 14, 1, 6, 3, 12, 6, 1, 12, 1, 8, 3, 1, 1, 91, 4, 1, 1, 2, 1, 1, 1, 1, 3, 1, 1, 1, 1, 3, 2, 4, 1, 3, 1, 2, 1, 1, 1, 3, 1, 1, 1, 1, 2, 1, 7, 2, 2, 10, 22, 1, 1, 1, 2, 7, 2, 4, 1, 7, 1, 12, 1, 3, 7, 5, 2, 6, 2, 1, 1, 1, 1, 4, 2, 4, 1, 1, 1, 2, 3, 5, 2, 1, 2, 4, 1, 8, 4, 1, 3, 1, 4, 1, 1, 4, 2, 1, 2, 5, 3, 1, 2, 1, 2, 5, 1, 3, 1, 1, 3, 1, 7, 2, 1, 1, 1, 3, 1, 3, 7, 1, 3, 1, 1, 1, 3, 1, 1, 18, 1, 3, 2, 2, 1, 1, 7, 1, 2, 1, 11, 4, 4, 3, 1, 3, 6, 2, 5, 2, 2, 26, 4, 10, 1, 1, 5, 3, 1, 6, 1, 5, 2, 19, 11, 3, 1, 8, 1, 8, 2, 1, 1, 3, 2, 8, 1, 11, 4, 2, 4, 3, 4, 1, 1, 1, 1, 1, 9, 2, 14, 3, 4, 1, 1, 1, 1, 16, 1, 1, 4, 1, 3, 2, 1, 3, 5, 12, 4, 7, 2, 4, 1, 3, 1, 2, 10, 3, 4, 1, 4, 3, 1, 1, 5, 5, 1, 1, 2, 14, 9, 1, 1, 5, 9, 1, 4, 1, 1, 11, 2, 23, 4, 1, 3, 4, 8, 1, 4, 4, 2, 9, 2, 8, 1, 2, 1, 1, 15, 4, 3, 4, 1, 3, 2, 2, 3, 1, 2, 2, 1, 4, 1, 5, 1, 8, 2, 1, 1, 2, 1, 1, 4, 1, 7, 4, 4, 3, 3, 1, 1, 4, 3, 4, 1, 9, 2, 2, 1, 1, 13, 2, 8, 1, 2, 4, 1, 4, 1, 4, 4, 7, 1, 5, 2, 2, 4, 1, 13, 1, 1, 5, 1, 2, 1, 7, 1, 3, 2, 1, 2, 8, 16, 1, 1, 4, 1, 4, 1, 3, 1, 3, 8, 7, 1, 3, 6, 4, 2, 1, 3, 2, 2, 6, 1, 3, 26, 1, 1, 1, 1, 4, 3, 3, 3, 1, 5, 3, 3, 1, 1, 2, 3, 1, 8, 3, 3, 2, 3, 1, 13, 17, 3, 3, 4, 5, 4, 6, 5, 2, 4, 5, 4, 1, 2, 2, 1, 3, 14, 2, 1, 3, 1, 4, 4, 1, 1, 19, 3, 2, 4, 1, 1, 8, 2, 2, 2, 1, 12, 5, 27, 1, 5, 8, 8, 4, 2, 6, 3, 1, 15, 2, 1, 2, 7, 2, 1, 5, 4, 2, 1, 1, 1, 2, 1, 2, 1, 2, 5, 1, 1, 3, 7, 1, 7, 3, 1, 8, 2, 8, 1, 2, 2, 3, 1, 1, 1, 1, 1, 8, 3, 1, 1, 5, 14, 1, 1, 1, 1, 1, 2, 2, 4, 2, 4, 8, 14, 1, 1, 2, 4, 2, 3, 1, 12, 1, 7, 1, 2, 2, 1, 3, 8, 4, 10, 2, 1, 7, 1, 2, 1, 7, 1, 6, 5, 3, 5, 4, 1, 4, 3, 4, 3, 16, 3, 47, 3, 3, 8, 1, 2, 9, 3, 1, 3, 1, 1, 1, 6, 62, 1, 2, 20, 3, 2, 3, 3, 3, 3, 5, 4, 4, 2, 3, 1, 1, 2, 1, 1, 1, 7, 6, 4, 1, 1, 5, 2, 1, 1, 1, 10, 1, 3, 2, 5, 2, 1, 5, 5, 2, 3, 1, 4, 1, 1, 7, 3, 1, 3, 6, 1, 1, 1, 7, 1, 2, 3, 4, 1, 1, 8, 1, 1, 2, 4, 2, 4, 1, 1, 1, 4, 1, 5, 6, 33, 2, 1, 3, 3, 2, 1, 1, 6, 1, 11, 3, 1, 2, 5, 1, 5, 8, 3, 1, 2, 19, 1, 2, 3, 27, 4, 6, 1, 5, 6, 3, 4, 1, 1, 1, 8, 1, 4, 1, 6, 2, 12, 15, 4, 2, 1, 13, 1, 1, 2, 4, 1, 4, 1, 4, 4, 1, 2, 5, 17, 1, 2, 1, 3, 1, 1, 2, 7, 3, 1, 4, 5, 3, 1, 2, 2, 4, 3, 4, 1, 2, 2, 13, 7, 2, 2, 3, 1, 1, 5, 2, 2, 8, 1, 1, 5, 1, 4, 9, 7, 2, 1, 4, 1, 1, 1, 1, 1, 3, 1, 1, 5, 2, 1, 1, 10, 4, 1, 3, 1, 3, 1, 6, 4, 2, 2, 2, 1, 8, 3, 1, 1, 2, 5, 2, 1, 3, 3, 14, 6, 3, 7, 22, 1, 1, 1, 1, 4, 4, 2, 1, 1, 2, 7, 1, 4, 1, 2, 23, 2, 3, 3, 4, 9, 6, 4, 5, 1, 2, 9, 1, 2, 2, 3, 4, 2, 2, 2, 1, 3, 4, 1, 2, 2, 3, 2, 1, 4, 1, 13, 5, 5, 2, 2, 1, 12, 2, 1, 1, 2, 1, 10, 5, 2, 1, 1, 2, 1, 3, 3, 6, 51, 1, 1, 1, 10, 2, 1, 1, 3, 1, 1, 7, 5, 5, 2, 3, 4, 1, 2, 1, 1, 2, 1, 1, 1, 7, 5, 1, 18, 3, 1, 3, 4, 3, 7, 1, 4, 4, 1, 3, 7, 4, 7, 3, 2, 1, 1, 1, 2, 1, 3, 1, 4, 1, 3, 3, 6, 2, 2, 6, 4, 1, 1, 2, 1, 1, 3, 4, 5, 1, 1, 2, 2, 3, 21, 26, 1, 1, 1, 1, 7, 3, 3, 1, 1, 4, 1, 1, 2, 10, 5, 3, 2, 12, 3, 2, 7, 2, 20, 2, 2, 1, 1, 5, 2, 1, 10, 3, 3, 2, 1, 1, 1, 1, 2, 1, 1, 3, 1, 16, 3, 1, 1, 2, 1, 1, 6, 1, 1, 2, 14, 7, 1, 1, 4, 1, 1, 2, 1, 5, 1, 2, 4, 1, 2, 1, 17, 1, 5, 2, 6, 2, 4, 10, 3, 1, 2, 1, 2, 2, 1, 1, 7, 2, 4, 6, 15, 4, 1, 1, 4, 1, 1, 2, 6, 2, 11, 3, 20, 2, 4, 11, 1, 1, 6, 5, 28, 2, 7, 4, 2, 2, 2, 2, 4, 1, 2, 13, 13, 19, 3, 1, 5, 10, 5, 11, 15, 2, 1, 2, 6, 1, 7, 1, 1, 13, 2, 6, 5, 1, 4, 21, 3, 1, 3, 5, 1, 1, 1, 7, 7, 17, 18, 2, 5, 5, 1, 1, 1, 1, 3, 1, 1, 1, 3, 1, 3, 1, 13, 1, 2, 11, 3, 1, 5, 5, 1, 4, 11, 1, 2, 2, 22, 2, 1, 13, 1, 2, 1, 6, 7, 2, 1, 10, 1, 1, 1, 4, 1, 3, 2, 4, 3, 2, 5, 1, 2, 1, 10, 21, 4, 9, 11, 1, 1, 2, 2, 1, 1, 1, 1, 3, 4, 1, 2, 2, 11, 2, 34, 6, 3, 16, 1, 1, 1, 1, 1, 3, 2, 2, 1, 1, 2, 2, 2, 3, 4, 6, 3, 6, 5, 6, 1, 7, 1, 3, 2, 2, 3, 1, 3, 5, 5, 1, 1, 2, 3, 6, 3, 1, 1, 15, 7, 4, 5, 1, 8, 11, 1, 1, 6, 2, 1, 6, 11, 1, 19, 3, 1, 3, 17, 7, 3, 21, 1, 2, 2, 1, 4, 3, 9, 3, 19, 1, 3, 6, 3, 3, 2, 1, 9, 4, 1, 2, 1, 3, 1, 1, 1, 7, 1, 2, 3, 1, 1, 1, 6, 2, 1, 7, 2, 10, 2, 7, 1, 3, 1, 5, 6, 3, 4, 2, 11, 3, 2, 4, 6, 1, 1, 3, 3, 20, 2, 4, 1, 3, 3, 2, 6, 2, 1, 2, 3, 3, 2, 1, 1, 1, 3, 5, 4, 1, 3, 1, 3, 3, 9, 6, 1, 1, 1, 5, 3, 5, 1, 11, 4, 7, 3, 21, 9, 1, 9, 4, 4, 3, 2, 1, 2, 2, 2, 3, 2, 5, 6, 4, 7, 9, 4, 1, 3, 4, 8, 2, 4, 1, 2, 6, 6, 1, 1, 8, 3, 1, 1, 2, 1, 1, 1, 1, 1, 5, 1, 5, 7, 2, 7, 1, 12, 1, 1, 2, 3, 4, 1, 3, 1, 1, 2, 2, 3, 3, 6, 10, 2, 7, 1, 2, 2, 1, 1, 8, 1, 4, 1, 3, 4, 2, 6, 2, 1, 7, 2, 2, 7, 7, 1, 1, 3, 1, 6, 4, 1, 1, 8, 1, 7, 6, 1, 10, 1, 14, 2, 1, 2, 1, 6, 8, 2, 8, 10, 2, 1, 1, 2, 6, 2, 17, 1, 2, 26, 1, 1, 1, 1, 2, 1, 2, 1, 2, 2, 2, 2, 5, 1, 2, 3, 2, 4, 4, 1, 2, 1, 1, 3, 6, 1, 7, 7, 3, 2, 1, 9, 3, 1, 2, 4, 1, 5, 1, 19, 1, 2, 3, 1, 8, 36, 3, 3, 2, 7, 4, 1, 2, 2, 1, 1, 2, 4, 8, 2, 11, 3, 1, 1, 4, 15, 1, 5, 1, 4, 3, 2, 1, 1, 2, 2, 1, 3, 3, 2, 11, 8, 1, 8, 4, 3, 8, 4, 2, 3, 2, 20, 1, 29, 1, 1, 2, 1, 6, 2, 4, 34, 2, 2, 1, 7, 2, 3, 5, 12, 1, 13, 3, 3, 1, 2, 5, 3, 7, 2, 1, 7, 2, 12, 3, 6, 2, 2, 6, 1, 27, 3, 2, 1, 2, 1, 7, 2, 1, 3, 6, 1, 2, 2, 2, 7, 45, 7, 2, 4, 1, 1, 5, 1, 2, 6, 3, 2, 5, 1, 2, 2, 5, 5, 3, 1, 1, 4, 3, 1, 2, 7, 10, 1, 2, 1, 1, 1, 3, 2, 4, 2, 9, 2, 1, 2, 1, 8, 1, 31, 10, 1, 1, 4, 5, 1, 6, 1, 3, 5, 4, 1, 1, 4, 4, 8, 10, 1, 1, 1, 1, 2, 1, 2, 1, 3, 1, 2, 3, 1, 4, 1, 5, 2, 1, 3, 4, 1, 7, 3, 2, 8, 1, 4, 4, 3, 1, 19, 1, 3, 3, 25, 1, 2, 4, 3, 4, 3, 7, 5, 2, 2, 7, 1, 1, 1, 6, 1, 2, 2, 5, 15, 6, 14, 1, 3, 3, 3, 1, 1, 3, 1, 2, 4, 1, 8, 2, 3, 4, 9, 1, 2, 1, 1, 2, 1, 10, 3, 1, 4, 1, 1, 10, 12, 4, 1, 7, 5, 2, 12, 1, 7, 2, 2, 5, 2, 7, 1, 4, 2, 6, 2, 31, 6, 30, 1, 2, 1, 6, 1, 7, 7, 15, 2, 4, 1, 1, 2, 8, 1, 1, 4, 1, 4, 3, 2, 9, 17, 2, 2, 1, 2, 1, 1, 1, 11, 1, 15, 4, 4, 6, 3, 11, 1, 3, 13, 4, 1, 2, 3, 19, 3, 2, 4, 7, 2, 6, 1, 1, 2, 9, 1, 5, 30, 8, 3, 2, 1, 1, 2, 3, 1, 3, 10, 5, 2, 2, 4, 1, 3, 3, 2, 2, 1, 2, 4, 2, 1, 14, 1, 1, 2, 4, 3, 10, 9, 3, 1, 1, 12, 39, 4, 5, 4, 3, 7, 1, 5, 4, 1, 3, 1, 1, 3, 1, 8, 5, 1, 124, 1, 1, 9, 4, 34, 2, 2, 1, 4, 22, 12, 1, 1, 8, 1, 6, 3, 20, 1, 6, 5, 12, 1, 5, 6, 1, 1, 1, 1, 1, 4, 4, 1, 3, 1, 8, 2, 2, 1, 3, 1, 8, 1, 1, 3, 2, 1, 2, 1, 1, 4, 1, 1, 1, 5, 2, 1, 3, 1, 17, 4, 1, 7, 1, 2, 2, 4, 5, 2, 3, 2, 2, 1, 7, 1, 9, 1, 1, 2, 1, 1, 38, 3, 3, 12, 4, 1, 1, 1, 1, 39, 1, 2, 14, 5, 1, 1, 2, 1, 1, 1, 3, 13, 1, 1, 1, 4, 3, 1, 1, 1, 1, 7, 3, 2, 4, 1, 8, 2, 2, 1, 2, 1, 8, 1, 1, 1, 2, 1, 1, 5, 3, 2, 1, 1, 2, 1, 2, 1, 1, 2, 3, 3, 6, 2, 21, 1, 3, 10, 1, 2, 1, 1, 10, 1, 1, 3, 10, 3, 2, 14, 1, 1, 1, 5, 2, 1, 12, 1, 10, 11, 2, 4, 2, 3, 1, 1, 2, 1, 1, 1, 11, 4, 7, 2, 3, 6, 1, 2, 60, 1, 1, 1, 1, 26, 1, 2, 1, 8, 1, 26, 1, 1, 2, 6, 2, 4, 1, 3, 1, 3, 1, 5, 3, 1, 6, 2, 2, 12, 4, 2, 2, 3, 3, 2, 2, 3, 2, 2, 1, 2, 5, 1, 1, 3, 6, 1, 3, 5, 19, 4, 1, 1, 6, 4, 6, 6, 1, 2, 1, 1, 3, 2, 2, 1, 1, 1, 1, 2, 17, 1, 3, 1, 3, 2, 1, 6, 5, 1, 1, 1, 1, 2, 2, 10, 1, 5, 1, 14, 1, 12, 11, 1, 2, 20, 7, 5, 4, 1, 3, 6, 5, 5, 1, 17, 4, 7, 2, 2, 1, 1, 1, 2, 1, 8, 3, 6, 2, 1, 3, 2, 1, 1, 2, 6, 3, 1, 1, 1, 1, 1, 1, 2, 16, 3], \"y0\": \" \", \"yaxis\": \"y\"}],\n",
              "                        {\"boxmode\": \"group\", \"legend\": {\"tracegroupgap\": 0}, \"template\": {\"data\": {\"bar\": [{\"error_x\": {\"color\": \"#2a3f5f\"}, \"error_y\": {\"color\": \"#2a3f5f\"}, \"marker\": {\"line\": {\"color\": \"#E5ECF6\", \"width\": 0.5}}, \"type\": \"bar\"}], \"barpolar\": [{\"marker\": {\"line\": {\"color\": \"#E5ECF6\", \"width\": 0.5}}, \"type\": \"barpolar\"}], \"carpet\": [{\"aaxis\": {\"endlinecolor\": \"#2a3f5f\", \"gridcolor\": \"white\", \"linecolor\": \"white\", \"minorgridcolor\": \"white\", \"startlinecolor\": \"#2a3f5f\"}, \"baxis\": {\"endlinecolor\": \"#2a3f5f\", \"gridcolor\": \"white\", \"linecolor\": \"white\", \"minorgridcolor\": \"white\", \"startlinecolor\": \"#2a3f5f\"}, \"type\": \"carpet\"}], \"choropleth\": [{\"colorbar\": {\"outlinewidth\": 0, \"ticks\": \"\"}, \"type\": \"choropleth\"}], \"contour\": [{\"colorbar\": {\"outlinewidth\": 0, \"ticks\": \"\"}, \"colorscale\": [[0.0, \"#0d0887\"], [0.1111111111111111, \"#46039f\"], [0.2222222222222222, \"#7201a8\"], [0.3333333333333333, \"#9c179e\"], [0.4444444444444444, \"#bd3786\"], [0.5555555555555556, \"#d8576b\"], [0.6666666666666666, \"#ed7953\"], [0.7777777777777778, \"#fb9f3a\"], [0.8888888888888888, \"#fdca26\"], [1.0, \"#f0f921\"]], \"type\": \"contour\"}], \"contourcarpet\": [{\"colorbar\": {\"outlinewidth\": 0, \"ticks\": \"\"}, \"type\": \"contourcarpet\"}], \"heatmap\": [{\"colorbar\": {\"outlinewidth\": 0, \"ticks\": \"\"}, \"colorscale\": [[0.0, \"#0d0887\"], [0.1111111111111111, \"#46039f\"], [0.2222222222222222, \"#7201a8\"], [0.3333333333333333, \"#9c179e\"], [0.4444444444444444, \"#bd3786\"], [0.5555555555555556, \"#d8576b\"], [0.6666666666666666, \"#ed7953\"], [0.7777777777777778, \"#fb9f3a\"], [0.8888888888888888, \"#fdca26\"], [1.0, \"#f0f921\"]], \"type\": \"heatmap\"}], \"heatmapgl\": [{\"colorbar\": {\"outlinewidth\": 0, \"ticks\": \"\"}, \"colorscale\": [[0.0, \"#0d0887\"], [0.1111111111111111, \"#46039f\"], [0.2222222222222222, \"#7201a8\"], [0.3333333333333333, \"#9c179e\"], [0.4444444444444444, \"#bd3786\"], [0.5555555555555556, \"#d8576b\"], [0.6666666666666666, \"#ed7953\"], [0.7777777777777778, \"#fb9f3a\"], [0.8888888888888888, \"#fdca26\"], [1.0, \"#f0f921\"]], \"type\": \"heatmapgl\"}], \"histogram\": [{\"marker\": {\"colorbar\": {\"outlinewidth\": 0, \"ticks\": \"\"}}, \"type\": \"histogram\"}], \"histogram2d\": [{\"colorbar\": {\"outlinewidth\": 0, \"ticks\": \"\"}, \"colorscale\": [[0.0, \"#0d0887\"], [0.1111111111111111, \"#46039f\"], [0.2222222222222222, \"#7201a8\"], [0.3333333333333333, \"#9c179e\"], [0.4444444444444444, \"#bd3786\"], [0.5555555555555556, \"#d8576b\"], [0.6666666666666666, \"#ed7953\"], [0.7777777777777778, \"#fb9f3a\"], [0.8888888888888888, \"#fdca26\"], [1.0, \"#f0f921\"]], \"type\": \"histogram2d\"}], \"histogram2dcontour\": [{\"colorbar\": {\"outlinewidth\": 0, \"ticks\": \"\"}, \"colorscale\": [[0.0, \"#0d0887\"], [0.1111111111111111, \"#46039f\"], [0.2222222222222222, \"#7201a8\"], [0.3333333333333333, \"#9c179e\"], [0.4444444444444444, \"#bd3786\"], [0.5555555555555556, \"#d8576b\"], [0.6666666666666666, \"#ed7953\"], [0.7777777777777778, \"#fb9f3a\"], [0.8888888888888888, \"#fdca26\"], [1.0, \"#f0f921\"]], \"type\": \"histogram2dcontour\"}], \"mesh3d\": [{\"colorbar\": {\"outlinewidth\": 0, \"ticks\": \"\"}, \"type\": \"mesh3d\"}], \"parcoords\": [{\"line\": {\"colorbar\": {\"outlinewidth\": 0, \"ticks\": \"\"}}, \"type\": \"parcoords\"}], \"pie\": [{\"automargin\": true, \"type\": \"pie\"}], \"scatter\": [{\"marker\": {\"colorbar\": {\"outlinewidth\": 0, \"ticks\": \"\"}}, \"type\": \"scatter\"}], \"scatter3d\": [{\"line\": {\"colorbar\": {\"outlinewidth\": 0, \"ticks\": \"\"}}, \"marker\": {\"colorbar\": {\"outlinewidth\": 0, \"ticks\": \"\"}}, \"type\": \"scatter3d\"}], \"scattercarpet\": [{\"marker\": {\"colorbar\": {\"outlinewidth\": 0, \"ticks\": \"\"}}, \"type\": \"scattercarpet\"}], \"scattergeo\": [{\"marker\": {\"colorbar\": {\"outlinewidth\": 0, \"ticks\": \"\"}}, \"type\": \"scattergeo\"}], \"scattergl\": [{\"marker\": {\"colorbar\": {\"outlinewidth\": 0, \"ticks\": \"\"}}, \"type\": \"scattergl\"}], \"scattermapbox\": [{\"marker\": {\"colorbar\": {\"outlinewidth\": 0, \"ticks\": \"\"}}, \"type\": \"scattermapbox\"}], \"scatterpolar\": [{\"marker\": {\"colorbar\": {\"outlinewidth\": 0, \"ticks\": \"\"}}, \"type\": \"scatterpolar\"}], \"scatterpolargl\": [{\"marker\": {\"colorbar\": {\"outlinewidth\": 0, \"ticks\": \"\"}}, \"type\": \"scatterpolargl\"}], \"scatterternary\": [{\"marker\": {\"colorbar\": {\"outlinewidth\": 0, \"ticks\": \"\"}}, \"type\": \"scatterternary\"}], \"surface\": [{\"colorbar\": {\"outlinewidth\": 0, \"ticks\": \"\"}, \"colorscale\": [[0.0, \"#0d0887\"], [0.1111111111111111, \"#46039f\"], [0.2222222222222222, \"#7201a8\"], [0.3333333333333333, \"#9c179e\"], [0.4444444444444444, \"#bd3786\"], [0.5555555555555556, \"#d8576b\"], [0.6666666666666666, \"#ed7953\"], [0.7777777777777778, \"#fb9f3a\"], [0.8888888888888888, \"#fdca26\"], [1.0, \"#f0f921\"]], \"type\": \"surface\"}], \"table\": [{\"cells\": {\"fill\": {\"color\": \"#EBF0F8\"}, \"line\": {\"color\": \"white\"}}, \"header\": {\"fill\": {\"color\": \"#C8D4E3\"}, \"line\": {\"color\": \"white\"}}, \"type\": \"table\"}]}, \"layout\": {\"annotationdefaults\": {\"arrowcolor\": \"#2a3f5f\", \"arrowhead\": 0, \"arrowwidth\": 1}, \"coloraxis\": {\"colorbar\": {\"outlinewidth\": 0, \"ticks\": \"\"}}, \"colorscale\": {\"diverging\": [[0, \"#8e0152\"], [0.1, \"#c51b7d\"], [0.2, \"#de77ae\"], [0.3, \"#f1b6da\"], [0.4, \"#fde0ef\"], [0.5, \"#f7f7f7\"], [0.6, \"#e6f5d0\"], [0.7, \"#b8e186\"], [0.8, \"#7fbc41\"], [0.9, \"#4d9221\"], [1, \"#276419\"]], \"sequential\": [[0.0, \"#0d0887\"], [0.1111111111111111, \"#46039f\"], [0.2222222222222222, \"#7201a8\"], [0.3333333333333333, \"#9c179e\"], [0.4444444444444444, \"#bd3786\"], [0.5555555555555556, \"#d8576b\"], [0.6666666666666666, \"#ed7953\"], [0.7777777777777778, \"#fb9f3a\"], [0.8888888888888888, \"#fdca26\"], [1.0, \"#f0f921\"]], \"sequentialminus\": [[0.0, \"#0d0887\"], [0.1111111111111111, \"#46039f\"], [0.2222222222222222, \"#7201a8\"], [0.3333333333333333, \"#9c179e\"], [0.4444444444444444, \"#bd3786\"], [0.5555555555555556, \"#d8576b\"], [0.6666666666666666, \"#ed7953\"], [0.7777777777777778, \"#fb9f3a\"], [0.8888888888888888, \"#fdca26\"], [1.0, \"#f0f921\"]]}, \"colorway\": [\"#636efa\", \"#EF553B\", \"#00cc96\", \"#ab63fa\", \"#FFA15A\", \"#19d3f3\", \"#FF6692\", \"#B6E880\", \"#FF97FF\", \"#FECB52\"], \"font\": {\"color\": \"#2a3f5f\"}, \"geo\": {\"bgcolor\": \"white\", \"lakecolor\": \"white\", \"landcolor\": \"#E5ECF6\", \"showlakes\": true, \"showland\": true, \"subunitcolor\": \"white\"}, \"hoverlabel\": {\"align\": \"left\"}, \"hovermode\": \"closest\", \"mapbox\": {\"style\": \"light\"}, \"paper_bgcolor\": \"white\", \"plot_bgcolor\": \"#E5ECF6\", \"polar\": {\"angularaxis\": {\"gridcolor\": \"white\", \"linecolor\": \"white\", \"ticks\": \"\"}, \"bgcolor\": \"#E5ECF6\", \"radialaxis\": {\"gridcolor\": \"white\", \"linecolor\": \"white\", \"ticks\": \"\"}}, \"scene\": {\"xaxis\": {\"backgroundcolor\": \"#E5ECF6\", \"gridcolor\": \"white\", \"gridwidth\": 2, \"linecolor\": \"white\", \"showbackground\": true, \"ticks\": \"\", \"zerolinecolor\": \"white\"}, \"yaxis\": {\"backgroundcolor\": \"#E5ECF6\", \"gridcolor\": \"white\", \"gridwidth\": 2, \"linecolor\": \"white\", \"showbackground\": true, \"ticks\": \"\", \"zerolinecolor\": \"white\"}, \"zaxis\": {\"backgroundcolor\": \"#E5ECF6\", \"gridcolor\": \"white\", \"gridwidth\": 2, \"linecolor\": \"white\", \"showbackground\": true, \"ticks\": \"\", \"zerolinecolor\": \"white\"}}, \"shapedefaults\": {\"line\": {\"color\": \"#2a3f5f\"}}, \"ternary\": {\"aaxis\": {\"gridcolor\": \"white\", \"linecolor\": \"white\", \"ticks\": \"\"}, \"baxis\": {\"gridcolor\": \"white\", \"linecolor\": \"white\", \"ticks\": \"\"}, \"bgcolor\": \"#E5ECF6\", \"caxis\": {\"gridcolor\": \"white\", \"linecolor\": \"white\", \"ticks\": \"\"}}, \"title\": {\"x\": 0.05}, \"xaxis\": {\"automargin\": true, \"gridcolor\": \"white\", \"linecolor\": \"white\", \"ticks\": \"\", \"title\": {\"standoff\": 15}, \"zerolinecolor\": \"white\", \"zerolinewidth\": 2}, \"yaxis\": {\"automargin\": true, \"gridcolor\": \"white\", \"linecolor\": \"white\", \"ticks\": \"\", \"title\": {\"standoff\": 15}, \"zerolinecolor\": \"white\", \"zerolinewidth\": 2}}}, \"title\": {\"text\": \"Frequency Boxplot\"}, \"xaxis\": {\"anchor\": \"y\", \"domain\": [0.0, 1.0], \"title\": {\"text\": \"clusters\"}}, \"yaxis\": {\"anchor\": \"x\", \"domain\": [0.0, 1.0], \"title\": {\"text\": \"frequency\"}}},\n",
              "                        {\"responsive\": true}\n",
              "                    ).then(function(){\n",
              "                            \n",
              "var gd = document.getElementById('2b4dcd99-caef-4dee-a75e-3176cc0f5fb7');\n",
              "var x = new MutationObserver(function (mutations, observer) {{\n",
              "        var display = window.getComputedStyle(gd).display;\n",
              "        if (!display || display === 'none') {{\n",
              "            console.log([gd, 'removed!']);\n",
              "            Plotly.purge(gd);\n",
              "            observer.disconnect();\n",
              "        }}\n",
              "}});\n",
              "\n",
              "// Listen for the removal of the full notebook cells\n",
              "var notebookContainer = gd.closest('#notebook-container');\n",
              "if (notebookContainer) {{\n",
              "    x.observe(notebookContainer, {childList: true});\n",
              "}}\n",
              "\n",
              "// Listen for the clearing of the current output cell\n",
              "var outputEl = gd.closest('.output');\n",
              "if (outputEl) {{\n",
              "    x.observe(outputEl, {childList: true});\n",
              "}}\n",
              "\n",
              "                        })\n",
              "                };\n",
              "                \n",
              "            </script>\n",
              "        </div>\n",
              "</body>\n",
              "</html>"
            ]
          },
          "metadata": {
            "tags": []
          }
        }
      ]
    },
    {
      "cell_type": "code",
      "metadata": {
        "colab": {
          "base_uri": "https://localhost:8080/",
          "height": 0
        },
        "id": "2Fw8rgM5ZuDR",
        "outputId": "5d647c50-fbb5-4d42-8d37-0162f5b805cc"
      },
      "source": [
        "fig = px.box(cust_df, y='monetary', x='clusters', title='Monetary Boxplot')\r\n",
        "fig.show()"
      ],
      "execution_count": 32,
      "outputs": [
        {
          "output_type": "display_data",
          "data": {
            "text/html": [
              "<html>\n",
              "<head><meta charset=\"utf-8\" /></head>\n",
              "<body>\n",
              "    <div>\n",
              "            <script src=\"https://cdnjs.cloudflare.com/ajax/libs/mathjax/2.7.5/MathJax.js?config=TeX-AMS-MML_SVG\"></script><script type=\"text/javascript\">if (window.MathJax) {MathJax.Hub.Config({SVG: {font: \"STIX-Web\"}});}</script>\n",
              "                <script type=\"text/javascript\">window.PlotlyConfig = {MathJaxConfig: 'local'};</script>\n",
              "        <script src=\"https://cdn.plot.ly/plotly-latest.min.js\"></script>    \n",
              "            <div id=\"eae95f39-df90-4583-b338-297d1f48c8a3\" class=\"plotly-graph-div\" style=\"height:525px; width:100%;\"></div>\n",
              "            <script type=\"text/javascript\">\n",
              "                \n",
              "                    window.PLOTLYENV=window.PLOTLYENV || {};\n",
              "                    \n",
              "                if (document.getElementById(\"eae95f39-df90-4583-b338-297d1f48c8a3\")) {\n",
              "                    Plotly.newPlot(\n",
              "                        'eae95f39-df90-4583-b338-297d1f48c8a3',\n",
              "                        [{\"alignmentgroup\": \"True\", \"hoverlabel\": {\"namelength\": 0}, \"hovertemplate\": \"clusters=%{x}<br>monetary=%{y}\", \"legendgroup\": \"\", \"marker\": {\"color\": \"#636efa\"}, \"name\": \"\", \"notched\": false, \"offsetgroup\": \"\", \"orientation\": \"v\", \"showlegend\": false, \"type\": \"box\", \"x\": [2, 0, 0, 0, 0, 0, 0, 0, 0, 0, 0, 0, 0, 0, 0, 0, 0, 0, 0, 0, 0, 0, 0, 0, 0, 0, 0, 0, 0, 0, 0, 0, 0, 0, 0, 0, 0, 0, 0, 0, 0, 0, 0, 0, 0, 0, 0, 0, 0, 0, 0, 0, 0, 0, 0, 2, 0, 0, 0, 0, 0, 0, 0, 0, 0, 0, 0, 0, 0, 0, 0, 0, 0, 0, 0, 0, 0, 0, 0, 0, 0, 0, 0, 0, 0, 0, 0, 0, 0, 0, 0, 0, 0, 0, 0, 0, 0, 0, 0, 0, 0, 0, 0, 0, 0, 0, 0, 0, 0, 0, 0, 0, 0, 0, 0, 0, 0, 0, 0, 0, 0, 0, 0, 0, 0, 0, 0, 0, 0, 0, 0, 0, 0, 0, 0, 0, 0, 0, 0, 0, 0, 0, 0, 0, 0, 0, 0, 0, 0, 0, 0, 0, 0, 0, 0, 0, 0, 0, 0, 0, 0, 0, 0, 0, 0, 0, 0, 0, 0, 0, 0, 0, 0, 0, 0, 0, 0, 0, 0, 0, 0, 0, 0, 0, 0, 0, 0, 0, 0, 0, 0, 0, 0, 0, 0, 0, 0, 0, 0, 0, 0, 0, 0, 0, 0, 0, 0, 0, 0, 0, 0, 0, 0, 0, 0, 0, 0, 0, 0, 0, 0, 0, 0, 0, 0, 0, 0, 0, 0, 0, 0, 0, 0, 0, 0, 0, 0, 0, 0, 0, 0, 0, 0, 0, 0, 0, 0, 0, 0, 0, 0, 0, 0, 0, 0, 0, 0, 0, 0, 0, 0, 0, 0, 0, 0, 0, 0, 0, 0, 0, 0, 0, 0, 0, 0, 0, 0, 0, 0, 0, 0, 0, 0, 0, 0, 0, 0, 0, 0, 0, 0, 0, 0, 0, 0, 0, 0, 0, 0, 0, 0, 0, 0, 0, 0, 0, 0, 0, 0, 0, 0, 0, 0, 0, 0, 0, 0, 0, 0, 0, 0, 0, 0, 0, 0, 0, 2, 0, 0, 0, 0, 0, 0, 0, 0, 0, 0, 0, 0, 0, 0, 0, 0, 0, 0, 0, 0, 0, 0, 0, 0, 0, 0, 0, 0, 0, 0, 0, 0, 0, 0, 0, 0, 0, 0, 0, 0, 0, 0, 0, 0, 0, 0, 0, 0, 0, 0, 0, 0, 0, 0, 0, 0, 0, 0, 0, 0, 0, 0, 0, 0, 0, 0, 0, 0, 0, 0, 0, 0, 0, 0, 0, 0, 0, 0, 0, 0, 0, 0, 0, 0, 0, 0, 0, 0, 0, 0, 0, 0, 0, 0, 0, 0, 0, 0, 0, 0, 0, 0, 0, 0, 0, 0, 0, 0, 0, 0, 0, 0, 0, 0, 0, 0, 0, 0, 0, 0, 0, 0, 0, 0, 0, 0, 2, 0, 0, 0, 0, 0, 0, 0, 0, 0, 0, 0, 0, 0, 0, 0, 0, 0, 0, 0, 0, 0, 0, 0, 0, 0, 0, 0, 0, 0, 0, 0, 0, 0, 0, 0, 0, 0, 0, 0, 0, 0, 0, 0, 0, 0, 0, 0, 0, 0, 0, 0, 0, 0, 0, 0, 0, 0, 0, 0, 0, 0, 0, 0, 0, 0, 0, 0, 0, 0, 0, 0, 0, 0, 0, 0, 0, 0, 0, 0, 0, 0, 0, 0, 0, 0, 0, 0, 0, 0, 0, 0, 0, 0, 0, 0, 0, 0, 0, 0, 0, 0, 0, 0, 0, 0, 0, 0, 0, 2, 0, 0, 0, 0, 0, 0, 0, 0, 0, 0, 0, 0, 0, 0, 0, 0, 0, 0, 0, 0, 0, 0, 0, 0, 0, 0, 0, 0, 0, 0, 0, 0, 0, 0, 0, 0, 0, 0, 0, 0, 0, 0, 0, 0, 0, 0, 0, 0, 0, 0, 0, 0, 0, 0, 0, 0, 0, 0, 0, 0, 0, 0, 0, 0, 0, 0, 0, 0, 0, 0, 0, 0, 0, 0, 0, 0, 0, 0, 0, 0, 0, 0, 0, 0, 0, 0, 0, 0, 0, 0, 0, 0, 0, 0, 0, 0, 0, 0, 0, 0, 0, 0, 0, 0, 0, 0, 0, 0, 0, 0, 0, 0, 0, 0, 0, 0, 0, 0, 0, 0, 0, 0, 0, 0, 0, 0, 0, 0, 0, 0, 0, 0, 0, 0, 0, 0, 0, 0, 0, 0, 0, 0, 0, 0, 0, 0, 0, 0, 0, 0, 0, 0, 0, 0, 0, 0, 0, 0, 0, 0, 0, 0, 0, 0, 0, 0, 0, 0, 0, 0, 0, 0, 0, 0, 0, 0, 0, 0, 0, 0, 0, 0, 0, 0, 0, 0, 0, 0, 0, 0, 0, 0, 0, 0, 0, 0, 0, 0, 0, 0, 0, 0, 0, 0, 0, 0, 0, 0, 0, 0, 0, 0, 0, 0, 0, 0, 0, 0, 0, 0, 0, 0, 0, 0, 0, 0, 0, 0, 0, 0, 0, 0, 0, 0, 0, 0, 0, 0, 0, 0, 0, 0, 0, 0, 0, 0, 0, 0, 0, 0, 0, 0, 0, 0, 0, 0, 0, 0, 0, 0, 0, 0, 0, 0, 0, 0, 0, 0, 0, 0, 0, 0, 0, 0, 0, 0, 0, 0, 0, 0, 0, 0, 0, 0, 0, 0, 0, 0, 0, 0, 0, 0, 0, 0, 0, 0, 0, 0, 0, 0, 0, 0, 0, 0, 0, 0, 0, 0, 0, 0, 0, 0, 0, 0, 0, 0, 0, 0, 0, 0, 0, 0, 0, 0, 0, 0, 0, 0, 0, 0, 0, 0, 0, 0, 0, 0, 0, 0, 0, 0, 0, 0, 0, 0, 0, 0, 0, 0, 0, 0, 0, 0, 0, 0, 0, 0, 0, 0, 0, 0, 0, 0, 0, 0, 0, 0, 0, 0, 0, 0, 0, 0, 0, 0, 0, 0, 0, 0, 0, 0, 0, 0, 0, 0, 0, 0, 0, 0, 0, 0, 0, 0, 0, 0, 0, 0, 0, 0, 0, 0, 0, 0, 0, 0, 0, 0, 0, 0, 0, 0, 0, 0, 0, 0, 0, 0, 0, 0, 0, 0, 0, 0, 0, 0, 0, 0, 0, 0, 0, 0, 0, 0, 2, 0, 0, 0, 0, 0, 0, 0, 0, 0, 0, 0, 0, 0, 0, 0, 0, 0, 0, 0, 0, 0, 0, 0, 0, 0, 0, 0, 0, 0, 0, 0, 0, 0, 0, 0, 0, 0, 0, 0, 0, 0, 0, 0, 0, 0, 0, 0, 0, 0, 0, 0, 0, 0, 0, 0, 0, 0, 0, 0, 0, 0, 0, 0, 0, 0, 0, 0, 0, 0, 0, 0, 0, 2, 0, 0, 0, 0, 0, 0, 0, 0, 0, 0, 0, 0, 0, 0, 0, 0, 0, 0, 0, 0, 0, 0, 0, 0, 0, 0, 0, 0, 0, 0, 0, 0, 0, 0, 0, 0, 0, 0, 0, 0, 0, 0, 0, 0, 0, 0, 0, 0, 0, 0, 0, 0, 0, 0, 0, 0, 0, 0, 0, 0, 0, 0, 0, 0, 0, 0, 0, 0, 0, 0, 0, 0, 0, 0, 0, 0, 0, 0, 0, 0, 0, 0, 0, 0, 0, 0, 0, 0, 0, 0, 0, 0, 0, 0, 0, 0, 0, 0, 0, 0, 0, 0, 0, 0, 0, 0, 0, 0, 0, 0, 0, 0, 0, 0, 0, 0, 0, 0, 0, 0, 0, 0, 0, 0, 0, 0, 0, 0, 0, 0, 0, 0, 0, 0, 0, 0, 0, 0, 0, 0, 0, 0, 0, 0, 0, 0, 0, 0, 0, 0, 0, 0, 0, 0, 0, 0, 0, 0, 0, 0, 0, 0, 0, 0, 0, 0, 0, 0, 0, 0, 0, 0, 0, 0, 0, 0, 0, 0, 0, 0, 0, 0, 0, 0, 0, 0, 0, 0, 0, 0, 0, 0, 0, 0, 0, 0, 0, 0, 0, 0, 0, 0, 0, 0, 0, 0, 0, 0, 0, 0, 0, 0, 0, 0, 2, 0, 0, 0, 2, 0, 0, 0, 0, 0, 0, 0, 0, 0, 0, 0, 0, 0, 0, 0, 0, 0, 0, 0, 0, 0, 0, 0, 0, 0, 0, 0, 0, 0, 0, 0, 0, 0, 0, 0, 0, 0, 0, 0, 0, 0, 0, 0, 2, 0, 0, 0, 0, 0, 0, 0, 0, 0, 0, 0, 0, 0, 0, 0, 0, 0, 0, 0, 0, 0, 0, 0, 0, 0, 0, 0, 0, 0, 0, 0, 0, 0, 0, 0, 0, 0, 0, 0, 0, 0, 0, 0, 0, 0, 0, 0, 0, 0, 0, 0, 0, 0, 0, 0, 0, 0, 0, 0, 0, 0, 0, 0, 0, 0, 0, 0, 0, 0, 0, 0, 0, 0, 0, 0, 0, 0, 0, 0, 0, 0, 0, 0, 0, 0, 0, 0, 0, 0, 0, 0, 0, 0, 0, 0, 0, 0, 0, 0, 0, 2, 0, 0, 0, 0, 0, 0, 0, 0, 0, 0, 0, 0, 0, 0, 0, 0, 0, 0, 0, 0, 0, 0, 0, 0, 0, 0, 0, 0, 0, 0, 0, 0, 0, 0, 0, 0, 0, 0, 0, 0, 0, 0, 0, 0, 0, 0, 0, 0, 0, 0, 0, 0, 0, 0, 0, 0, 0, 0, 0, 0, 0, 0, 0, 0, 0, 0, 0, 0, 0, 0, 0, 0, 0, 0, 0, 0, 0, 0, 0, 0, 0, 0, 0, 0, 0, 0, 0, 0, 0, 0, 0, 0, 0, 0, 0, 0, 0, 0, 0, 0, 0, 0, 0, 0, 0, 0, 0, 0, 0, 0, 0, 0, 0, 0, 0, 0, 0, 0, 0, 0, 0, 0, 0, 0, 0, 0, 0, 0, 0, 0, 0, 0, 0, 0, 0, 0, 0, 0, 0, 0, 0, 0, 0, 0, 0, 0, 0, 0, 0, 0, 0, 0, 0, 0, 0, 0, 0, 0, 0, 0, 0, 0, 0, 0, 0, 0, 0, 0, 0, 0, 0, 0, 0, 0, 0, 0, 0, 0, 0, 0, 0, 0, 0, 0, 0, 0, 0, 0, 0, 0, 0, 0, 0, 0, 0, 0, 0, 0, 0, 0, 0, 0, 0, 0, 0, 0, 0, 0, 0, 0, 0, 0, 0, 0, 0, 0, 0, 0, 0, 0, 0, 0, 0, 0, 0, 0, 0, 0, 0, 0, 0, 0, 0, 0, 0, 0, 0, 0, 0, 0, 0, 0, 0, 0, 0, 0, 0, 0, 0, 0, 0, 0, 0, 0, 1, 0, 0, 0, 0, 0, 0, 0, 0, 0, 0, 0, 0, 0, 0, 0, 0, 0, 0, 0, 0, 0, 0, 0, 0, 0, 0, 0, 0, 0, 0, 0, 0, 0, 0, 0, 0, 0, 0, 0, 0, 0, 0, 0, 0, 0, 0, 0, 0, 0, 0, 0, 0, 0, 0, 0, 0, 0, 0, 0, 0, 0, 0, 0, 0, 0, 0, 0, 0, 0, 0, 0, 0, 0, 0, 0, 0, 0, 0, 0, 0, 0, 0, 0, 0, 0, 0, 0, 0, 0, 0, 0, 0, 0, 0, 0, 0, 0, 0, 0, 0, 0, 0, 0, 0, 0, 0, 0, 0, 0, 0, 0, 0, 0, 0, 0, 0, 0, 0, 0, 0, 0, 0, 0, 0, 0, 0, 0, 0, 0, 0, 0, 0, 0, 0, 0, 0, 0, 0, 0, 0, 0, 0, 0, 0, 0, 0, 0, 0, 0, 0, 0, 0, 0, 0, 0, 0, 0, 0, 0, 0, 0, 0, 0, 0, 0, 0, 0, 0, 0, 0, 0, 0, 0, 0, 0, 0, 0, 0, 0, 0, 0, 0, 0, 0, 0, 0, 0, 0, 0, 2, 0, 0, 0, 0, 0, 0, 0, 0, 0, 0, 0, 0, 0, 0, 0, 0, 0, 0, 0, 0, 0, 0, 0, 0, 0, 0, 0, 0, 0, 0, 0, 0, 0, 0, 0, 0, 0, 0, 0, 0, 0, 0, 0, 0, 0, 0, 0, 0, 0, 0, 0, 0, 0, 0, 0, 0, 0, 0, 0, 0, 0, 0, 0, 0, 0, 0, 0, 0, 0, 0, 0, 0, 0, 0, 0, 0, 0, 0, 0, 0, 0, 0, 0, 0, 0, 0, 0, 0, 0, 0, 0, 0, 0, 0, 0, 0, 0, 0, 0, 0, 0, 0, 0, 2, 0, 0, 0, 0, 0, 0, 0, 0, 0, 0, 0, 0, 0, 0, 0, 0, 0, 0, 0, 0, 0, 0, 0, 0, 0, 0, 0, 0, 0, 0, 0, 0, 0, 0, 0, 0, 0, 0, 0, 0, 0, 0, 0, 0, 0, 0, 0, 0, 0, 0, 0, 0, 0, 0, 0, 0, 0, 0, 0, 0, 0, 0, 0, 0, 0, 0, 0, 0, 0, 0, 0, 0, 0, 0, 0, 0, 0, 0, 0, 0, 0, 0, 0, 0, 0, 0, 0, 0, 0, 0, 0, 0, 0, 0, 0, 0, 0, 0, 0, 0, 0, 0, 0, 0, 0, 0, 0, 0, 0, 0, 0, 0, 0, 0, 0, 0, 0, 0, 0, 0, 0, 0, 0, 0, 0, 0, 0, 0, 0, 0, 0, 0, 0, 0, 0, 0, 0, 0, 0, 0, 0, 0, 0, 0, 0, 0, 0, 0, 0, 0, 0, 0, 0, 0, 0, 0, 0, 0, 0, 0, 0, 0, 0, 0, 0, 0, 0, 0, 0, 0, 0, 0, 0, 0, 0, 0, 0, 0, 0, 0, 0, 0, 0, 0, 0, 0, 0, 0, 0, 0, 0, 0, 2, 0, 0, 0, 0, 0, 0, 0, 0, 0, 0, 0, 0, 0, 0, 0, 0, 0, 0, 0, 0, 0, 0, 0, 0, 0, 0, 0, 0, 0, 0, 0, 0, 0, 0, 0, 0, 0, 0, 0, 0, 0, 0, 0, 0, 0, 0, 0, 0, 0, 0, 0, 0, 0, 0, 0, 0, 0, 0, 0, 0, 0, 0, 0, 0, 0, 0, 0, 0, 0, 0, 0, 0, 0, 0, 0, 0, 0, 0, 0, 0, 0, 0, 0, 0, 0, 0, 0, 0, 0, 0, 0, 0, 0, 0, 0, 0, 0, 0, 0, 0, 0, 0, 0, 0, 0, 0, 0, 0, 0, 0, 0, 0, 0, 0, 0, 0, 0, 0, 0, 0, 0, 0, 0, 0, 0, 0, 0, 0, 0, 0, 0, 0, 0, 0, 0, 0, 0, 0, 0, 0, 0, 0, 0, 0, 0, 0, 0, 0, 0, 0, 0, 0, 0, 0, 0, 0, 0, 0, 0, 0, 0, 0, 0, 0, 0, 0, 0, 0, 0, 0, 0, 0, 0, 0, 0, 0, 0, 0, 0, 0, 0, 0, 0, 0, 0, 0, 0, 0, 0, 0, 0, 0, 0, 0, 0, 0, 0, 0, 0, 0, 0, 0, 0, 0, 0, 0, 0, 0, 0, 0, 0, 0, 0, 0, 0, 0, 0, 0, 0, 0, 0, 0, 0, 0, 0, 0, 0, 0, 0, 0, 0, 0, 0, 0, 0, 0, 0, 0, 0, 0, 0, 0, 0, 0, 0, 0, 0, 0, 0, 0, 0, 0, 0, 0, 0, 0, 0, 0, 0, 0, 0, 0, 0, 0, 0, 0, 0, 0, 0, 0, 0, 0, 0, 0, 0, 0, 0, 0, 0, 0, 0, 0, 0, 0, 0, 0, 0, 0, 0, 0, 0, 0, 0, 0, 0, 0, 0, 0, 0, 0, 0, 0, 0, 0, 0, 0, 0, 0, 0, 0, 0, 0, 0, 0, 0, 0, 0, 0, 0, 0, 0, 0, 0, 0, 0, 2, 0, 0, 0, 0, 0, 0, 0, 0, 0, 0, 0, 0, 0, 0, 2, 0, 0, 0, 0, 0, 0, 0, 0, 0, 0, 0, 0, 0, 0, 0, 0, 0, 0, 0, 0, 0, 0, 0, 0, 0, 0, 0, 0, 0, 0, 0, 0, 0, 0, 0, 0, 0, 0, 0, 0, 0, 0, 0, 0, 0, 0, 0, 0, 0, 0, 2, 0, 0, 0, 0, 0, 0, 0, 0, 0, 0, 0, 0, 0, 0, 0, 0, 0, 0, 0, 0, 0, 0, 0, 0, 0, 0, 0, 0, 0, 0, 0, 0, 0, 0, 0, 0, 0, 0, 0, 0, 0, 0, 0, 0, 0, 0, 0, 0, 0, 0, 0, 0, 0, 0, 0, 0, 0, 0, 0, 0, 0, 0, 0, 0, 0, 0, 0, 0, 0, 0, 0, 0, 0, 0, 0, 0, 0, 0, 0, 0, 0, 0, 0, 0, 0, 0, 0, 0, 0, 0, 0, 0, 0, 0, 0, 0, 0, 0, 0, 0, 0, 0, 0, 0, 0, 0, 0, 0, 0, 0, 0, 0, 0, 0, 0, 0, 0, 2, 0, 0, 0, 0, 0, 0, 0, 0, 0, 0, 0, 0, 0, 2, 0, 0, 0, 0, 0, 0, 0, 0, 0, 0, 0, 0, 0, 0, 0, 0, 0, 0, 0, 0, 0, 0, 0, 0, 0, 0, 0, 0, 0, 0, 0, 0, 0, 0, 0, 0, 0, 0, 0, 0, 0, 0, 0, 0, 0, 0, 0, 0, 0, 0, 0, 0, 0, 0, 0, 0, 0, 0, 0, 0, 0, 0, 0, 0, 0, 0, 0, 0, 0, 0, 0, 0, 0, 0, 0, 0, 0, 0, 0, 0, 0, 0, 0, 0, 0, 0, 0, 0, 0, 0, 0, 0, 0, 0, 0, 0, 0, 0, 0, 0, 0, 0, 0, 0, 0, 0, 0, 0, 0, 0, 0, 0, 0, 0, 0, 0, 0, 0, 0, 0, 0, 0, 0, 0, 0, 0, 0, 0, 0, 0, 0, 0, 0, 0, 0, 0, 0, 0, 0, 0, 0, 0, 0, 0, 0, 0, 0, 0, 0, 0, 0, 0, 0, 0, 0, 0, 0, 0, 0, 0, 0, 0, 0, 0, 0, 0, 0, 0, 0, 0, 0, 0, 0, 0, 0, 0, 0, 0, 0, 0, 0, 0, 0, 0, 0, 0, 0, 0, 0, 0, 0, 0, 0, 0, 0, 0, 0, 0, 0, 0, 0, 0, 0, 0, 0, 0, 0, 0, 0, 0, 0, 0, 0, 0, 0, 0, 0, 0, 0, 0, 0, 0, 0, 0, 0, 0, 0, 0, 0, 0, 0, 0, 0, 0, 0, 0, 0, 0, 0, 0, 0, 0, 0, 0, 0, 0, 0, 0, 0, 0, 0, 0, 0, 0, 0, 0, 0, 0, 0, 0, 0, 0, 0, 0, 0, 0, 0, 0, 0, 0, 0, 0, 0, 0, 0, 0, 0, 0, 0, 0, 0, 0, 0, 0, 0, 0, 2, 0, 0, 0, 0, 0, 0, 0, 0, 0, 0, 0, 0, 0, 0, 0, 0, 0, 1, 0, 0, 0, 0, 0, 0, 0, 0, 0, 0, 0, 0, 0, 0, 0, 0, 0, 0, 0, 0, 0, 0, 0, 0, 0, 0, 0, 0, 0, 0, 0, 0, 0, 0, 0, 0, 0, 0, 0, 0, 0, 0, 0, 0, 0, 0, 0, 0, 0, 0, 0, 0, 0, 0, 0, 0, 0, 0, 0, 0, 0, 0, 0, 0, 0, 0, 0, 0, 0, 0, 0, 0, 0, 0, 0, 0, 0, 0, 0, 0, 0, 0, 0, 0, 0, 0, 0, 0, 0, 0, 0, 0, 0, 0, 0, 0, 0, 0, 0, 0, 0, 0, 0, 0, 0, 0, 0, 0, 0, 0, 0, 0, 0, 0, 0, 0, 0, 0, 0, 0, 0, 0, 0, 0, 0, 0, 0, 0, 0, 0, 0, 0, 0, 0, 0, 0, 0, 0, 0, 0, 0, 0, 0, 0, 0, 0, 0, 0, 0, 0, 0, 0, 0, 0, 0, 0, 0, 0, 0, 0, 0, 0, 0, 0, 0, 0, 0, 2, 0, 0, 0, 0, 0, 0, 0, 0, 0, 0, 0, 0, 0, 0, 0, 0, 0, 0, 0, 0, 0, 0, 0, 0, 0, 0, 0, 0, 0, 0, 0, 0, 0, 0, 0, 0, 0, 0, 0, 0, 0, 0, 0, 0, 0, 0, 0, 0, 0, 0, 0, 0, 0, 0, 0, 0, 0, 0, 0, 0, 0, 0, 0, 0, 0, 0, 0, 0, 0, 0, 0, 0, 0, 0, 0, 0, 0, 0, 0, 0, 0, 0, 0, 0, 0, 0, 0, 0, 0, 0, 0, 0, 0, 0, 0, 0, 0, 0, 0, 0, 0, 0, 0, 0, 0, 0, 0, 0, 0, 0, 0, 0, 0, 0, 0, 0, 0, 0, 0, 0, 0, 0, 0, 0, 0, 0, 0, 0, 0, 0, 0, 0, 0, 0, 0, 0, 0, 0, 0, 0, 0, 0, 0, 0, 0, 0, 0, 0, 0, 0, 0, 0, 0, 0, 0, 0, 0, 0, 0, 0, 0, 0, 0, 0, 0, 0, 0, 0, 0, 0, 0, 0, 0, 0, 0, 0, 0, 0, 0, 0, 0, 0, 0, 0, 0, 0, 0, 0, 0, 0, 0, 0, 0, 0, 0, 0, 0, 0, 0, 0, 0, 0, 0, 0, 0, 0, 0, 0, 0, 0, 0, 0, 0, 0, 0, 0, 0, 0, 0, 0, 0, 0, 0, 0, 0, 0, 0, 0, 0, 0, 0, 0, 0, 0, 0, 0, 0, 0, 0, 0, 0, 0, 0, 0, 0, 0, 0, 0, 0, 0, 0, 0, 0, 0, 0, 0, 0, 0, 0, 0, 0, 0, 0, 0, 0, 0, 0, 0, 0, 0, 0, 0, 0, 0, 0, 0, 0, 0, 0, 0, 0, 0, 0, 0, 0, 0, 0, 0, 0, 0, 0, 0, 0, 0, 0, 0, 0, 0, 0, 0, 0, 0, 0, 0, 0, 0, 0, 0, 0, 0, 0, 0, 0, 0, 0, 0, 0, 0, 0, 0, 0, 0, 0, 0, 0, 0, 0, 0, 0, 0, 0, 0, 0, 0, 0, 0, 0, 0, 0, 0, 0, 0, 0, 0, 0, 0, 0, 0, 0, 0, 0, 0, 0, 0, 0, 0, 0, 0, 0, 0, 0, 0, 0, 0, 0, 0, 0, 0, 0, 0, 0, 0, 0, 0, 0, 0, 0, 0, 0, 0, 0, 0, 0, 0, 0, 0, 0, 0, 0, 0, 0, 0, 0, 0, 0, 0, 0, 0, 0, 0, 0, 0, 0, 0, 0, 0, 0, 0, 0, 0, 0, 0, 0, 0, 0, 0, 0, 0, 0, 0, 0, 0, 0, 0, 0, 0, 0, 0, 0, 0, 0, 0, 0, 0, 0, 0, 0, 0, 0, 0, 0, 0, 0, 0, 0, 0, 0, 0, 0, 0, 0, 0, 0, 0, 0, 0, 0, 0, 0, 0, 0, 0, 0, 0, 0, 0, 0, 0, 0, 0, 0, 0, 0, 0, 0, 0, 0, 0, 0, 0, 0, 0, 0, 0, 0, 0, 0, 0, 0, 0, 0, 0, 0, 0, 0, 0, 0, 0, 0, 0, 0, 0, 0, 0, 0, 2, 0, 0, 0, 0, 0, 0, 0, 0, 0, 2, 0, 0, 0, 0, 0, 0, 0, 0, 0, 0, 0, 0, 0, 0, 0, 0, 0, 0, 0, 0, 0, 0, 0, 0, 0, 0, 0, 0, 0, 0, 0, 0, 0, 0, 1, 0, 0, 0, 0, 0, 0, 0, 0, 0, 0, 0, 0, 0, 0, 0, 0, 0, 0, 0, 0, 0, 0, 0, 0, 0, 0, 0, 0, 0, 0, 0, 0, 0, 0, 0, 0, 0, 0, 0, 0, 0, 0, 2, 0, 0, 0, 0, 0, 0, 0, 0, 0, 0, 0, 0, 0, 0, 0, 0, 0, 0, 0, 0, 0, 0, 0, 0, 0, 0, 0, 0, 0, 0, 0, 0, 0, 0, 0, 0, 0, 0, 0, 0, 0, 0, 0, 0, 0, 0, 0, 0, 0, 0, 0, 0, 0, 0, 0, 0, 0, 0, 0, 0, 0, 0, 0, 0, 0, 0, 0, 0, 0, 0, 0, 0, 0, 0, 0, 0, 0, 0, 0, 0, 0, 0, 0, 0, 0, 0, 0, 0, 0, 0, 0, 0, 0, 0, 0, 0, 0, 0, 0, 0, 0, 0, 0, 0, 0, 0, 0, 0, 0, 0, 0, 0, 0, 0, 0, 0, 0, 0, 0, 0, 0, 0, 0, 0, 0, 0, 0, 0, 0, 0, 0, 0, 0, 0, 0, 0, 0, 0, 0, 0, 0, 0, 0, 0, 0, 0, 0, 0, 0, 0, 0, 0, 0, 0, 0, 0, 0, 0, 0, 0, 0, 0, 0, 0, 0, 0, 0, 0, 0, 0, 0, 0, 0, 0, 0, 0, 0, 0, 0, 0, 0, 0, 0, 0, 0, 0, 0, 0, 0, 0, 0, 0, 0, 0, 0, 0, 0, 0, 0, 0, 0, 0, 0, 0, 0, 0, 0, 0, 0, 0, 0, 0, 0, 0, 0, 0, 0, 0, 0, 0, 0, 0, 0, 0, 0, 0, 0, 0, 0, 0, 0, 0, 0, 0, 0, 0, 0, 0, 2, 0, 0, 0, 0, 0, 0, 0, 0, 0, 0, 0, 0, 0, 0, 0, 0, 0, 0, 0, 0, 0, 0, 0, 0, 0, 0, 0, 0, 0, 0, 0, 0, 0, 0, 0, 0, 0, 0, 0, 0, 0, 0, 0, 0, 0, 0, 0, 0, 0, 0, 0, 0, 0, 0, 0, 0, 0, 0, 0, 0, 0, 0, 0, 0, 0, 0, 0, 0, 0, 0, 0, 0, 0, 0, 0, 0, 0, 0, 0, 0, 0, 2, 0, 0, 0, 0, 0, 0, 0, 0, 0, 0, 0, 0, 0, 0, 0, 0, 0, 0, 0, 0, 0, 0, 0, 0, 0, 0, 0, 0, 0, 0, 0, 0, 0, 0, 0, 0, 0, 0, 0, 0, 0, 0, 0, 0, 0, 0, 0, 0, 0, 0, 0, 0, 0, 0, 0, 0, 0, 0, 0, 0, 0, 0, 0, 0, 0, 0, 0, 0, 0, 0, 0, 0, 0, 0, 0, 0, 0, 0, 0, 0, 0, 0, 0, 0, 0, 0, 0, 0, 0, 0, 0, 0, 0, 0, 0, 0, 0, 0, 0, 0, 0, 0, 0, 0, 0, 0, 0, 1, 0, 0, 0, 0, 0, 0, 0, 0, 0, 0, 0, 0, 0, 0, 0, 0, 0, 0, 0, 0, 0, 0, 0, 0, 0, 0, 0, 0, 0, 0, 0, 0, 0, 0, 0, 0, 0, 0, 0, 0, 0, 0, 0, 0, 0, 0, 0, 0, 0, 0, 0, 0, 0, 0, 0, 0, 0, 0, 0, 0, 0, 0, 0, 0, 0, 0, 0, 0, 0, 0, 0, 0, 0, 0, 0, 0, 0, 0, 0, 0, 0, 0, 0, 0, 0, 0, 0, 0, 0, 0, 0, 0, 0, 0, 0, 0, 0, 0, 0, 0, 0, 0, 0, 0, 0, 0, 0, 0, 0, 0, 0, 0, 0, 0, 0, 0, 0, 0, 0, 0, 0, 0, 0, 0, 0, 0, 0, 0, 0, 0, 0, 0, 0, 0, 0], \"x0\": \" \", \"xaxis\": \"x\", \"y\": [77183.6, 4242.5, 1437.24, 1412.55, 294.40000000000003, 1385.7400000000002, 89.0, 1079.3999999999999, 459.40000000000003, 2487.430000000001, 6182.589999999998, 928.06, 6274.3300000000045, 2302.059999999999, 174.9, 4717.730000000005, 552.0000000000001, 1208.1, 320.69, 150.9, 3386.5399999999995, 1508.1600000000005, 1185.54, 324.6, 622.93, 377.50000000000006, 1425.7200000000007, 3992.119999999999, 759.8999999999999, 2427.809999999999, 1474.8100000000009, 1628.5600000000002, 425.2700000000001, 401.9, 2763.3199999999993, 504.8400000000002, 417.00999999999976, 1521.1, 1080.48, 2682.6299999999983, 2156.1600000000008, 1425.1599999999999, 996.3500000000001, 69.30000000000001, 176.10000000000002, 391.70000000000005, 1330.8099999999997, 3300.3999999999996, 1507.1200000000003, 2554.3499999999995, 11072.670000000004, 533.3299999999999, 1083.0800000000002, 686.0999999999998, 442.4100000000001, 117382.43999999983, 3193.1000000000017, 668.5799999999999, 590.19, 639.0400000000001, 683.5599999999998, 1624.1099999999997, 1760.9600000000003, 777.2, 510.72999999999996, 699.8000000000001, 6280.120000000002, 3287.4200000000005, 216.39999999999998, 6220.209999999997, 4354.28, 12876.189999999991, 779.1400000000001, 7401.49, 429.01000000000005, 4402.41, 2451.8500000000004, 155.55, 144.06, 4085.4600000000005, 77.4, 979.8099999999997, 431.49, 365.45, 3554.0500000000015, 115.38000000000001, 8954.720000000003, 348.57, 654.3499999999999, 3430.54, 2281.76, 2581.04, 2043.23, 787.4000000000001, 626.8800000000002, 907.5900000000001, 1145.08, 957.0499999999998, 682.1900000000002, 657.5400000000002, 17286.40999999998, 5887.330000000001, 2564.930000000001, 6638.590000000002, 669.38, 5877.620000000003, 13089.839999999991, 530.6900000000002, 473.2, 2871.71, 4739.440000000005, 1887.5800000000002, 3918.92, 1244.66, 298.92999999999995, 4779.330000000004, 424.40000000000003, 227.21000000000004, 363.24, 1017.0600000000004, 953.1, 349.7, 4044.820000000001, 1914.3899999999987, 2956.2700000000013, 316.09999999999997, 73.50000000000001, 1052.81, 397.88, 158.5, 814.5700000000002, 132.17999999999998, 558.29, 983.1799999999998, 278.70000000000005, 1186.06, 2289.1000000000017, 1840.889999999999, 276.84, 2326.759999999999, 528.28, 156.71999999999997, 1625.3200000000006, 3899.2200000000034, 1172.6600000000003, 330.71000000000004, 1615.4800000000002, 1477.7799999999995, 125.22, 313.83, 981.1799999999996, 701.3499999999999, 4260.210000000002, 344.44999999999993, 5524.8499999999985, 11549.339999999986, 810.5800000000003, 316.7, 832.39, 1021.5000000000005, 151.8, 67.19999999999999, 814.3299999999999, 148.5, 298.02, 3233.279999999999, 594.5299999999997, 8458.34, 264.92, 525.71, 1918.01, 238.85000000000002, 3344.1400000000026, 402.9, 145.92000000000002, 297.6500000000001, 8467.38, 2983.24, 519.6099999999999, 912.4199999999997, 160.54000000000002, 182.45000000000002, 1296.0299999999997, 609.15, 2367.7100000000005, 386.4200000000001, 379.70000000000005, 179.70999999999998, 351.3599999999999, 6620.779999999996, 2236.450000000001, 1810.6000000000001, 196.94000000000005, 104.0, 174.9, 574.6799999999997, 8910.66, 368.84999999999997, 401.5999999999999, 382.09999999999997, 3008.4199999999987, 440.0700000000001, 3146.770000000002, 2807.079999999998, 888.5800000000006, 2311.040000000001, 487.06000000000006, 153.12, 613.1999999999999, 236.17999999999992, 1579.5100000000002, 964.8500000000001, 1747.540000000001, 1193.32, 668.04, 3092.379999999998, 315.6, 2093.190000000001, 641.3, 343.03, 137.31, 2945.56, 1303.4099999999996, 12127.029999999982, 151.89999999999998, 269.1, 569.13, 2294.0199999999995, 5867.3799999999965, 4057.6300000000015, 732.46, 1013.18, 480.5000000000001, 1929.98, 1459.38, 5778.230000000003, 511.69, 366.0999999999999, 994.5799999999999, 145.9, 905.2600000000003, 3041.6400000000003, 453.01000000000005, 1631.1799999999998, 1319.93, 3104.8199999999997, 300.05, 569.51, 242.44, 113.99999999999999, 793.9799999999999, 1910.3300000000002, 529.98, 3579.570000000001, 1368.68, 616.7499999999999, 73.68, 227.10000000000002, 3523.980000000001, 3810.3, 45.0, 460.12999999999994, 3127.350000000001, 1417.5299999999997, 2744.0499999999993, 225.9, 566.02, 1844.6000000000006, 1091.3899999999999, 15572.360000000008, 868.0200000000001, 790.81, 12169.399999999992, 10698.09999999999, 7521.069999999996, 2073.629999999999, 2554.08, 71.13999999999999, 4752.030000000001, 1139.6099999999997, 318.50999999999993, 927.8000000000001, 692.11, 761.6700000000001, 562.6, 732.69, 4421.550000000004, 712.2100000000002, 201.0, 265.54999999999995, 1740.8399999999997, 6364.95, 603.42, 2390.1700000000005, 9390.320000000002, 1023.0200000000001, 3928.1300000000006, 789.5100000000001, 4194.2599999999975, 263.36, 938.5900000000004, 830.98, 202.24999999999997, 572.9500000000002, 4943.09, 2294.9300000000007, 979.6299999999998, 687.5700000000002, 906.9100000000001, 371.79999999999995, 2411.0999999999995, 3430.5, 728.3300000000002, 417.0100000000001, 18751.91, 218.26, 383.95000000000005, 110.4, 689.5699999999999, 144.0, 137.35, 965.0400000000001, 427.6, 536.8799999999998, 8924.370000000003, 4178.110000000001, 31368.460000000534, 3980.7400000000025, 250.98000000000002, 4366.780000000001, 21188.189999999995, 3010.320000000001, 3811.9499999999994, 112.08000000000001, 4001.8000000000065, 2781.0899999999997, 1401.2400000000002, 1611.9199999999998, 494.08000000000004, 1693.8800000000003, 6403.829999999998, 1143.5999999999997, 1351.4499999999998, 752.4700000000001, 1261.1400000000003, 693.2300000000001, 3951.360000000002, 786.7400000000001, 1897.5200000000004, 1295.8700000000008, 476.8199999999998, 219.95, 418.6600000000001, 76.85000000000001, 294.91999999999996, 177.60000000000002, 344.5399999999999, 378.98, 860.4099999999999, 318.47999999999996, 226.02999999999997, 6977.04, 397.58, 455.6500000000001, 405.30999999999995, 458.84999999999997, 229.63999999999996, 85.92, 838.5600000000001, 452.2, 126.03999999999999, 1182.0800000000002, 942.3400000000001, 92.72, 948.88, 1759.5, 380.62000000000006, 1458.2199999999993, 430.15, 1018.7099999999998, 293.0, 6814.640000000002, 215.04999999999998, 383.03, 417.38000000000005, 312.38000000000005, 2610.3600000000006, 134.10000000000002, 660.3499999999999, 5369.12, 2660.7699999999995, 3960.1299999999987, 1118.9899999999996, 1697.7099999999998, 317.66, 354.09, 804.0400000000001, 953.0500000000001, 131.80999999999995, 311.55, 1919.8000000000004, 1311.7000000000003, 38.1, 2170.7800000000025, 1106.3999999999996, 521.2, 147.11999999999998, 1543.3299999999997, 499.12000000000006, 3863.749999999993, 1593.5600000000015, 380.64, 595.0199999999996, 374.0, 343.2300000000001, 2032.22, 1534.120000000001, 854.9899999999999, 573.22, 298.0, 1373.6399999999999, 645.6700000000002, 309.05, 1158.7200000000003, 1378.4000000000005, 354.12, 364.57, 331.0, 176.54999999999995, 372.80000000000007, 216.5, 17654.540000000005, 138.68, 496.0599999999997, 2656.71, 750.0, 2091.3200000000006, 2918.139999999999, 1662.2999999999997, 2377.31, 363.65, 2917.9499999999994, 594.0, 1335.1899999999996, 162.78, 15857.789999999994, 405.38000000000005, 171.57000000000005, 925.7500000000001, 689.01, 2013.1999999999996, 117.85000000000001, 415.79999999999995, 39148.96, 607.5299999999999, 2160.700000000001, 1063.8999999999994, 1504.27, 114.14, 10849.56, 899.6899999999995, 631.7999999999998, 604.51, 462.94999999999993, 1576.9900000000011, 2064.9500000000007, 4110.72, 1843.0000000000005, 1043.2700000000004, 1371.2899999999997, 329.85, 4709.76, 108.07000000000002, 4001.9400000000032, 266.39, 1808.3299999999995, 743.41, 160.18, 1368.4, 135.95, 405.46999999999997, 11149.70999999999, 144.8, 738.5999999999999, 39.239999999999995, 7374.900000000001, 321.0399999999999, 380.3399999999999, 97.5, 1234.3400000000001, 558.7, 505.81999999999994, 6808.31, 409.50000000000006, 318.56, 414.76, 974.4200000000001, 211.32, 1211.8899999999999, 455.87999999999994, 534.8500000000001, 9668.40000000002, 101.14999999999999, 149.04999999999998, 5451.53, 513.6999999999999, 81.57, 189.87, 50.550000000000004, 1646.8400000000006, 4793.600000000001, 3451.28, 3136.090000000001, 789.89, 204.0, 7176.299999999995, 2616.380000000001, 599.9000000000001, 966.2399999999997, 6912.0, 661.3199999999999, 1247.4999999999998, 725.4400000000002, 1010.1799999999998, 190.55, 637.7299999999999, 921.8800000000001, 783.0699999999998, 891.8599999999999, 676.99, 516.4200000000001, 534.3700000000001, 305.28, 629.31, 3107.0100000000025, 1802.91, 656.68, 5822.350000000005, 324.30000000000007, 1138.03, 261.45, 183.4, 307.53, 238.41, 346.98, 1105.59, 205.86, 440.7999999999999, 115.46000000000001, 344.0, 4377.119999999998, 228.8, 177.15000000000003, 836.4099999999999, 728.0199999999998, 12546.579999999996, 220.10000000000002, 58.08, 28030.88000000004, 3359.4300000000007, 303.74999999999994, 416.08000000000015, 57309.96000000007, 8895.819999999996, 345.82, 477.83000000000004, 7696.570000000002, 1774.6799999999994, 74.39999999999999, 5987.61999999999, 27630.139999999963, 207.35999999999999, 101.19, 6352.6900000000005, 243.94, 1098.4799999999998, 76.5, 1510.6200000000003, 350.06, 763.1400000000003, 1464.1700000000014, 12245.96, 2277.0799999999995, 458.84000000000003, 984.91, 1191.9099999999996, 30.599999999999998, 283.7299999999999, 922.3900000000002, 3663.329999999999, 2084.7900000000004, 259.17, 64.0, 1073.3, 77.3, 109.8, 1793.5800000000002, 2508.109999999999, 3559.9699999999957, 962.3900000000001, 4892.390000000003, 422.46999999999997, 2388.7500000000005, 307.0899999999999, 110.94999999999999, 618.52, 228.91000000000003, 712.8000000000001, 3660.3099999999986, 1676.06, 1257.8700000000001, 486.22, 971.7600000000002, 1708.2199999999993, 1117.0600000000002, 1429.35, 91.8, 112.75, 1624.5400000000004, 1021.4800000000001, 417.2, 743.5299999999997, 1251.3900000000003, 712.8800000000001, 108.81, 450.51, 334.9999999999999, 2698.169999999999, 476.3899999999999, 282.45, 5367.470000000004, 121.18, 3947.28, 1652.1500000000005, 71.4, 1575.8900000000008, 236.01999999999998, 114.60000000000001, 260.68000000000006, 911.94, 112.08, 60.7, 1782.24, 3349.3399999999974, 9606.399999999994, 870.09, 853.6600000000002, 250.26000000000002, 1193.1700000000003, 5459.720000000003, 353.47999999999996, 1074.42, 767.9299999999997, 1520.5800000000004, 333.74, 533.98, 62.63999999999999, 819.2900000000001, 844.8600000000004, 163.20000000000002, 2125.95, 6463.839999999999, 108.21000000000001, 257.7, 358.0, 160.95000000000002, 2718.270000000004, 1327.750000000001, 575.1200000000001, 1010.2699999999998, 744.8499999999998, 679.9299999999998, 329.56, 648.7000000000002, 249.60000000000005, 585.1200000000002, 121.74000000000001, 382.9, 1952.8200000000002, 501.12, 465.67999999999995, 700.64, 1030.4, 399.51, 672.83, 279.9300000000001, 557.62, 944.1, 200.29, 7350.559999999976, 2062.6600000000008, 3834.2599999999993, 4384.9500000000035, 3139.459999999997, 5193.230000000003, 590.0, 211.48999999999992, 276.56, 138.98, 573.03, 258.4, 532.2299999999999, 137.75000000000003, 758.2600000000002, 1132.1399999999996, 93.66, 201.19, 2599.64, 339.98999999999995, 578.9399999999998, 852.7399999999997, 201.20000000000005, 87.4, 1991.9900000000002, 360.0, 142.5, 334.59000000000003, 600.19, 63.75, 300.4199999999999, 2000.86, 15.0, 1362.3899999999996, 1440.2899999999997, 1106.8300000000002, 519.61, 1513.7199999999996, 775.9399999999999, 5732.93, 2218.53, 640.76, 10367.820000000003, 1479.3999999999999, 567.3600000000001, 199.48000000000002, 787.8499999999999, 7121.949999999999, 675.3, 3493.1699999999996, 1308.48, 694.7999999999998, 1107.9299999999996, 350.90000000000003, 3442.999999999997, 745.4200000000002, 437.02, 860.1199999999998, 10214.359999999997, 775.85, 286.93000000000006, 2511.6899999999996, 339.5, 291.36, 233.76000000000005, 192.28, 879.1199999999997, 213.49000000000004, 347.9800000000001, 743.5299999999999, 637.3999999999999, 698.6, 604.8499999999998, 389.03, 389.56, 3090.7400000000007, 892.5, 134.96, 2183.670000000001, 56.160000000000004, 573.4000000000001, 258.28, 729.6700000000002, 328.64000000000004, 3270.010000000002, 741.3499999999998, 869.7600000000002, 572.5600000000001, 3598.81, 222.99, 4058.6300000000006, 534.57, 677.1, 797.9599999999999, 544.0799999999999, 59.8, 2520.0200000000004, 307.7200000000001, 1326.3099999999997, 1544.1299999999994, 457.34000000000003, 621.2299999999999, 75.0, 237.49, 557.45, 27022.519999999993, 1003.06, 213.55, 1390.4999999999998, 712.5, 640.8299999999999, 5955.070000000001, 221.06000000000003, 159.85, 1821.5099999999998, 2359.840000000001, 1591.0099999999989, 3641.3199999999983, 582.5999999999999, 198.82999999999998, 1006.7999999999998, 679.4499999999999, 1150.78, 534.2400000000001, 3651.4900000000007, 196.89, 3408.060000000002, 282.87000000000006, 296.64, 1111.8000000000002, 3493.2899999999986, 286.84, 2043.7200000000003, 2841.609999999998, 590.0, 356.98, 967.74, 1766.7200000000003, 9323.289999999992, 172.94000000000005, 1403.4000000000003, 151.5, 674.6800000000001, 286.9, 1067.56, 5639.669999999998, 165.0, 2488.9399999999996, 422.64, 226.84, 1396.3800000000006, 1238.4699999999996, 1364.5799999999997, 300.94999999999993, 1783.7599999999995, 184.64, 140.33999999999997, 313.8, 437.5999999999999, 1122.41, 564.8999999999999, 8823.470000000005, 449.52, 1215.819999999999, 1220.34, 498.63, 316.2600000000001, 1999.87, 638.33, 333.05, 1159.1100000000001, 1166.77, 1340.3200000000008, 292.0, 206.34999999999997, 285.98, 3616.2900000000004, 458.52, 2443.359999999999, 110.97000000000001, 944.3200000000002, 1745.3599999999992, 251.20999999999998, 205.1, 152.20000000000002, 875.52, 1389.41, 2128.4200000000005, 627.1599999999999, 122.75000000000003, 2911.8099999999995, 1068.8200000000002, 125.8, 3711.3300000000017, 680.1799999999998, 628.78, 2224.4600000000005, 307.76, 483.8000000000001, 209.05999999999995, 263.1400000000001, 5686.180000000006, 3444.390000000001, 1280.85, 586.3399999999999, 276.0599999999999, 619.8399999999999, 670.6600000000002, 918.1999999999995, 91.80000000000001, 3414.8700000000026, 4098.880000000002, 569.0599999999998, 584.5699999999999, 171.42000000000004, 141.86, 1778.5299999999988, 777.5300000000002, 1174.0300000000002, 240.22000000000006, 850.3399999999993, 187.05000000000004, 332.86999999999995, 239.48999999999995, 2052.390000000002, 1384.2500000000002, 270.45000000000005, 732.0699999999999, 6635.980000000004, 1650.8999999999996, 467.04, 118.0, 743.7300000000001, 142.4, 712.4, 2403.9499999999985, 379.65, 1961.1199999999992, 1117.1299999999999, 247.95999999999992, 1996.8800000000015, 396.96999999999997, 637.81, 160.04000000000005, 4950.469999999998, 219.52, 693.3199999999999, 428.89, 146.44000000000003, 271.65000000000003, 657.4199999999998, 1080.38, 1082.9999999999998, 1585.460000000001, 417.6900000000001, 544.1800000000001, 168.22000000000003, 213.85, 727.7400000000002, 257.22999999999996, 1638.4700000000003, 7627.36, 2021.2800000000002, 3070.42, 2077.3800000000015, 1536.8600000000004, 1071.0300000000002, 949.12, 793.2500000000001, 122.64, 1033.3399999999997, 310.97999999999985, 519.44, 2624.2599999999993, 252.1, 1580.22, 346.59999999999997, 1799.0400000000004, 79.19999999999999, 1081.58, 2653.53, 932.9699999999999, 379.65, 358.73999999999995, 2597.570000000002, 1563.0000000000014, 854.26, 176.19000000000003, 84.65, 298.46999999999997, 6291.92999999998, 218.54999999999995, 349.7, 186.39, 387.4399999999998, 486.8200000000001, 232.60000000000002, 3237.5399999999986, 810.13, 59.5, 65.13000000000001, 3119.440000000001, 72.0, 910.0, 172.25, 1478.2400000000002, 64281.55999999995, 2469.4500000000007, 151.3, 308.58000000000004, 2238.129999999999, 99.5, 2297.56, 711.8599999999998, 330.79, 806.4100000000002, 260.38, 6068.769999999995, 180.48, 252.06000000000006, 228.84, 1045.29, 135.73, 1435.8900000000003, 306.55, 1041.68, 799.9, 524.14, 2348.41, 199.85000000000002, 1980.5600000000004, 1079.6599999999996, 333.48, 1000.2399999999993, 736.0999999999998, 610.5899999999998, 491.8599999999999, 2859.3599999999988, 720.5, 339.6, 216.9, 350.75, 668.43, 3068.9400000000005, 1321.8000000000002, 1080.52, 300.04, 79.6, 948.2499999999999, 1647.2600000000007, 296.25, 1140.6999999999998, 720.2599999999999, 282.59999999999997, 2102.8500000000013, 5189.519999999999, 3153.2500000000014, 659.4100000000001, 286.79, 959.7600000000001, 306.71999999999997, 1714.96, 1467.7400000000016, 17180.04000000001, 2717.549999999997, 2617.9500000000003, 1116.0299999999997, 330.0, 25977.16, 178.7, 360.00999999999993, 127.84000000000002, 885.0599999999994, 2462.7900000000004, 230.4, 294.04, 348.8000000000004, 1516.0, 177.70000000000002, 36545.92999999999, 688.86, 558.3199999999998, 324.79999999999995, 4454.42, 277.07000000000005, 2549.2899999999995, 924.6, 256.38, 112.6, 1715.4999999999998, 155.05, 827.5100000000003, 519.75, 485.0, 1158.3599999999994, 1561.78, 3479.52, 499.66999999999985, 328.9799999999999, 1090.5500000000002, 385.6400000000001, 629.6799999999996, 957.6600000000003, 1548.94, 189.5, 409.79999999999984, 209.49, 2055.25, 52.199999999999996, 383.84999999999997, 834.5699999999999, 266.59000000000003, 665.2700000000002, 85.0, 3340.820000000001, 361.62, 312.98, 865.0600000000002, 1255.0, 1527.75, 1525.8400000000006, 2651.46, 1090.1399999999996, 8109.519999999999, 388.5, 216.17, 180.16, 1245.9000000000005, 2156.860000000001, 305.7799999999999, 501.55999999999995, 145.67000000000002, 1005.0900000000001, 3192.54, 3078.450000000001, 2700.8000000000006, 6149.810000000003, 389.59999999999997, 540.4499999999999, 1659.3900000000008, 98.9, 117.24000000000001, 1271.5700000000002, 3204.7700000000013, 17159.52, 1191.1299999999999, 2624.580000000001, 733.05, 506.80000000000007, 243.56, 349.54999999999995, 595.67, 416.90000000000003, 1883.81, 632.9699999999999, 754.6999999999998, 549.62, 2488.6899999999996, 293.82, 155.93, 370.52, 724.4499999999999, 2867.2, 332.64000000000004, 2277.3100000000004, 2561.1100000000006, 580.55, 272.04, 1212.84, 348.80999999999995, 172.25, 346.0900000000001, 1838.8500000000006, 678.2499999999998, 223.85000000000002, 348.99000000000007, 464.56999999999994, 842.6500000000002, 337.3399999999999, 1216.7300000000002, 307.4, 591.4499999999999, 922.1, 376.5800000000001, 158.85, 71.66, 568.5500000000003, 839.14, 4929.659999999999, 561.5699999999999, 90.6, 101.99999999999999, 2422.6400000000003, 730.0600000000002, 660.9499999999996, 3251.07, 3515.68, 439.91999999999996, 322.96000000000004, 1016.3199999999999, 594.0400000000001, 230.21999999999997, 169.54999999999998, 664.5399999999998, 80.7, 8817.780000000002, 2624.6200000000003, 190.24999999999997, 264.70000000000005, 413.59, 2429.7700000000004, 288.62, 196.79, 859.37, 200.14000000000001, 1871.8099999999997, 2588.1299999999997, 890.5100000000001, 6963.8300000000145, 320.46, 4132.060000000001, 1266.08, 294.79999999999995, 821.8800000000006, 76.8, 3415.060000000002, 2264.1900000000005, 1377.19, 3736.970000000005, 635.6600000000001, 2043.0800000000002, 529.7299999999999, 4491.5400000000045, 2874.7200000000007, 929.1899999999999, 676.1099999999999, 328.79999999999995, 473.01999999999987, 505.17999999999995, 917.3399999999999, 4291.210000000002, 1382.0100000000002, 642.8, 631.8999999999999, 440.0, 584.0699999999997, 306.90000000000003, 104.82, 467.65999999999997, 2349.3300000000013, 17286.859999999986, 2890.7500000000005, 643.9400000000002, 1365.4700000000003, 626.65, 147.2, 1506.579999999999, 152.2, 3461.2700000000004, 141.41000000000003, 641.4699999999998, 1659.7499999999998, 151.59, 1308.6100000000001, 409.93000000000006, 5542.419999999988, 728.6600000000002, 15568.739999999985, 225.36, 260.25, 92.46, 725.6400000000001, 7850.799999999981, 6064.460000000003, 144.0, 5964.619999999996, 10176.369999999997, 1334.3400000000006, 152.55, 369.65999999999997, 265.85, 1422.7500000000007, 151.04000000000002, 918.8599999999997, 118.67000000000002, 493.63999999999993, 1049.3700000000003, 375.09999999999997, 45.599999999999994, 915.9300000000002, 182.24999999999997, 987.3000000000005, 4369.39, 191.46999999999994, 50260.83000000001, 158.75, 4037.0100000000034, 433.8599999999999, 52399.78999999983, 147.35000000000002, 3073.0899999999992, 191.95, 5151.79, 1102.93, 212.05, 1256.03, 2703.2300000000005, 597.9099999999999, 144.2, 5683.150000000003, 692.85, 2765.9500000000007, 1825.42, 386.53, 1382.7400000000005, 90.0, 2775.1100000000006, 419.58, 2710.1300000000015, 706.13, 688.9099999999996, 637.5, 1030.61, 469.6599999999998, 3562.6300000000006, 572.04, 4588.309999999998, 965.8800000000003, 354.61999999999995, 935.0500000000002, 915.1300000000002, 288.41, 115.8, 3742.2, 4160.7, 483.40000000000003, 157.2, 446.62000000000006, 658.6400000000002, 621.2900000000002, 1345.6200000000001, 118.75, 112339.12999999952, 424.89, 507.65999999999985, 4506.979999999976, 1085.1200000000008, 289.35999999999996, 2445.9100000000003, 1631.77, 115.34, 562.59, 363.7899999999999, 450.84000000000003, 134.46, 3161.150000000001, 563.3999999999999, 549.4599999999998, 1580.26, 688.32, 4748.519999999996, 429.09000000000003, 197.65, 1915.6599999999999, 4644.000000000001, 4684.76000000001, 853.39, 11173.299999999985, 1012.0, 335.52, 647.6999999999998, 185.39999999999998, 727.5400000000001, 150.60999999999996, 466.70000000000005, 307.75999999999993, 133.84, 2055.73, 1905.8400000000006, 2199.200000000001, 1070.48, 968.5799999999998, 1748.9200000000003, 1490.5000000000005, 2004.980000000001, 169.48000000000002, 89.94000000000001, 632.4000000000001, 3432.8000000000006, 683.1700000000001, 991.1300000000001, 1006.3799999999995, 2187.6900000000005, 3278.8700000000017, 1547.1999999999998, 891.0299999999997, 2048.0700000000006, 1462.7199999999998, 754.1200000000002, 3045.8599999999997, 490.85999999999996, 161.0, 124.35, 2344.8500000000013, 872.44, 213.70000000000002, 280.55, 2546.5299999999993, 1693.4500000000007, 1450.6599999999996, 136.77000000000004, 302.58, 1888.51, 2879.7000000000007, 969.0600000000001, 3050.2200000000003, 12360.080000000004, 120.0, 1163.45, 2583.4300000000017, 333.9699999999999, 530.18, 1501.2400000000002, 492.64999999999986, 112.32000000000001, 437.9600000000001, 559.97, 1021.0999999999997, 4082.6400000000012, 134.04, 3562.740000000002, 595.25, 1910.0100000000007, 4613.209999999997, 176.63, 426.59999999999997, 895.36, 2191.950000000001, 3615.0500000000006, 4705.930000000005, 1041.5200000000002, 166.20000000000002, 1305.3299999999997, 50804.16000000008, 3960.5799999999986, 43.2, 640.14, 383.45, 1858.9600000000007, 2083.24, 2907.6399999999994, 2352.5300000000016, 310.25999999999993, 1560.7900000000004, 119.99999999999999, 2481.13, 508.58000000000004, 477.78999999999996, 1521.6299999999999, 605.0600000000001, 183.85000000000002, 294.25, 4843.739999999999, 462.66, 736.1700000000001, 373.6, 2497.0100000000007, 454.86, 1582.5700000000006, 588.2199999999999, 309.52, 134.7, 2087.129999999999, 668.56, 889.93, 108.97999999999999, 1021.5800000000002, 409.57, 133.50000000000003, 282.92999999999995, 51.0, 1078.9599999999998, 90.6, 163.62000000000003, 174.4, 701.23, 214.92000000000013, 882.1799999999998, 1993.0299999999995, 151.5, 3667.8500000000004, 9173.139999999998, 155.0, 100.5, 66.35000000000001, 235.5599999999999, 557.05, 343.06000000000006, 202.68000000000004, 615.4899999999998, 1247.6899999999998, 202.11, 142.4, 1711.1999999999998, 3117.440000000002, 1043.46, 4580.840000000003, 13.3, 3414.4100000000008, 487.99, 2612.9600000000014, 574.7, 3782.9200000000014, 1475.8099999999997, 1449.3200000000004, 156.75, 2142.73, 2537.830000000002, 2059.45, 1099.2699999999998, 1063.0, 770.0299999999999, 121.05000000000003, 1496.98, 5701.33, 490.21999999999997, 1868.7000000000003, 1051.3700000000006, 387.52, 813.1100000000001, 4230.94, 265.2, 322.08, 4481.669999999998, 363.34000000000003, 1224.06, 470.3599999999999, 2194.4199999999996, 1372.8, 89.05999999999999, 48.0, 112.4, 2661.2400000000007, 2259.88, 1712.8900000000008, 1589.8200000000002, 1403.7000000000003, 985.8600000000004, 1080.4300000000003, 363.9, 869.0000000000002, 479.05000000000007, 635.6500000000001, 259.05000000000007, 119.93000000000002, 2987.1899999999987, 113.64, 1770.4200000000003, 434.34000000000003, 2057.829999999999, 1975.5700000000004, 529.62, 1038.44, 2234.0, 586.31, 443.3399999999999, 1842.1700000000021, 234.34, 547.66, 925.8499999999999, 193.0, 1309.6, 316.24999999999994, 279.05, 611.6099999999999, 2003.0100000000007, 126.6, 321.92, 162.79999999999998, 1155.53, 1064.2800000000002, 446.88000000000005, 340.93, 2291.62, 139.56, 123.8, 538.8100000000001, 475.3699999999999, 1957.32, 806.7900000000005, 356.85, 251.21, 2423.84, 3543.2600000000025, 662.1099999999998, 5822.5099999999975, 1913.2000000000014, 1357.3800000000003, 268.04999999999995, 1299.8099999999993, 275.28, 455.59000000000003, 965.1999999999999, 2018.4199999999998, 330.45, 174.36999999999998, 270.6, 907.0400000000001, 241.08999999999997, 1816.2300000000014, 4198.819999999999, 8356.699999999952, 364.22, 572.2400000000001, 2814.1700000000014, 932.8499999999998, 1939.2200000000005, 4345.009999999998, 2828.880000000003, 170.95, 355.56, 388.25, 532.4399999999999, 952.6599999999997, 1453.3500000000001, 103.25000000000001, 3560.0800000000017, 1939.3500000000004, 2561.68, 3885.8500000000004, 652.8, 289.24, 757.3700000000003, 186.23, 164.22, 824.8699999999998, 2226.8400000000015, 312.54, 788.3800000000001, 2158.0199999999995, 1080.76, 4882.719999999997, 2877.6200000000017, 1432.0, 1530.3600000000006, 227.38999999999996, 217.20999999999995, 2777.630000000001, 1623.3200000000022, 35.400000000000006, 850.4100000000002, 168.63000000000002, 138.6, 114.11, 976.2100000000006, 1033.06, 157.05000000000004, 237.35999999999999, 1525.1900000000005, 39.75, 1310.4600000000014, 549.0899999999998, 602.1999999999997, 363.3299999999999, 1740.5999999999997, 862.9900000000002, 221.97, 393.33, 213.96, 660.0, 11860.780000000028, 14701.499999999998, 1785.1499999999996, 601.56, 406.08, 553.4399999999999, 384.23999999999995, 412.78, 1717.26, 320.58000000000004, 879.0700000000005, 225.85000000000002, 899.6299999999998, 2791.2700000000004, 671.96, 955.2600000000004, 1006.98, 114.55999999999999, 329.9, 609.8499999999999, 385.8, 2881.8900000000035, 2107.3799999999997, 110.46, 96.12, 693.8100000000001, 830.76, 597.09, 271072.69, 236.04, 1400.51, 653.7499999999998, 104.23, 1867.3000000000002, 1932.2300000000002, 291.0499999999999, 844.84, 211.35, 2424.8900000000012, 285.74000000000007, 107.95, 727.8700000000001, 600.4900000000001, 1835.7000000000005, 179.95, 9114.639999999998, 1254.1399999999999, 390.3099999999999, 751.3, 1677.0, 594.7099999999999, 2548.24, 26684.609999999993, 498.95, 52.0, 1196.6100000000008, 628.38, 5355.949999999991, 102.9, 355.04999999999984, 2058.529999999999, 568.9000000000001, 172.9, 2063.8900000000003, 185.67000000000002, 1212.630000000001, 109.13, 2195.1000000000004, 2469.729999999998, 3244.2899999999995, 318.1700000000001, 1435.670000000001, 179.0, 1091.5700000000002, 4759.540000000005, 599.4799999999997, 2745.76, 917.07, 2614.790000000002, 145.19, 856.8800000000003, 307.51000000000005, 1581.8400000000013, 663.81, 180.42000000000002, 1114.4099999999996, 655.58, 268.58, 310.93999999999994, 1889.5900000000038, 380.01999999999987, 2684.790000000001, 9467.35, 5736.549999999998, 1164.55, 1314.4500000000005, 3834.78, 1430.8700000000003, 1389.8400000000001, 1099.98, 1220.2600000000004, 328.19999999999993, 1402.55, 389.64, 563.1499999999999, 627.55, 4960.179999999999, 738.9599999999998, 420.5, 1484.0600000000004, 1625.9700000000007, 79.0, 255.89999999999998, 300.52000000000004, 278.3, 254.11, 2402.2699999999995, 192.60000000000002, 10290.279999999992, 861.42, 139.26000000000002, 1011.8999999999996, 2523.2999999999993, 700.8600000000001, 386.1499999999999, 417.8299999999999, 200.10000000000002, 289.99, 77.4, 679.4399999999999, 197.64, 745.0600000000001, 6.2, 228.99, 1312.9499999999998, 131.45, 7821.359999999974, 173.74, 157.7, 4288.289999999999, 183.43999999999997, 845.55, 353.27, 546.4, 193.39, 2718.6, 2004.4300000000007, 152.88000000000002, 778.5000000000002, 271.84999999999997, 1000.1400000000001, 657.7999999999998, 272.06999999999994, 507.28999999999996, 48.800000000000004, 321.4299999999999, 1127.71, 2179.4099999999985, 2139.7599999999998, 697.5499999999998, 188.03, 1720.2999999999997, 102.44999999999999, 1615.6600000000005, 62.85, 3251.3600000000006, 2743.1500000000024, 3189.809999999998, 288.6, 7772.599999999999, 325.74999999999994, 511.35, 2836.6899999999982, 475.79999999999995, 2678.9500000000016, 563.1500000000001, 1199.23, 1173.1200000000003, 1312.14, 160.12, 125.79, 841.1999999999998, 266.76, 52.2, 14353.400000000007, 710.2799999999999, 2937.09, 713.9499999999999, 327.25, 470.1199999999997, 504.68, 1465.3200000000004, 1439.9400000000005, 690.59, 248.44000000000003, 589.6999999999999, 740.79, 765.32, 285.59999999999997, 1862.0, 324.7, 135.9, 125.65, 554.3800000000001, 1237.8500000000001, 655.7500000000001, 10933.009999999991, 452.5200000000001, 1366.3799999999999, 1246.9599999999996, 1421.2900000000004, 332.6600000000001, 2715.9799999999996, 1025.4399999999998, 616.1500000000001, 3422.1400000000003, 259.9, 404.50000000000006, 134494.7999999995, 827.0500000000001, 1105.0300000000004, 267.88, 1268.9799999999996, 1610.1500000000003, 946.2699999999999, 1316.07, 739.1499999999997, 310.05, 223.88, 2140.0200000000004, 864.6799999999998, 313.53, 1805.0800000000006, 1784.71, 7871.469999999992, 1621.88, 5865.57, 100.9, 290.81999999999994, 1082.4699999999996, 371.19999999999993, 311.69000000000005, 8099.489999999999, 285.67, 289.7499999999999, 58.48999999999999, 483.73, 695.4199999999998, 221.26999999999998, 6838.28, 126.70000000000002, 1436.19, 206.20999999999995, 596.0899999999998, 183.02, 463.8, 147.58999999999997, 1556.26, 1092.88, 114.77000000000002, 1314.4499999999998, 89.94, 279.94, 774.86, 1913.870000000002, 102.12, 202.36999999999995, 292.0099999999999, 326.4, 289.6599999999999, 229.42999999999995, 546.2, 414.87, 490.52, 1542.6599999999999, 1220.38, 6168.139999999994, 472.8299999999998, 156.91, 1253.5300000000004, 308.94, 384.3399999999999, 257.6700000000001, 170.04000000000002, 125.58000000000001, 496.2099999999999, 250.25999999999993, 1850.2200000000041, 852.39, 6631.429999999991, 1591.4299999999998, 360.3099999999999, 457.5999999999999, 1066.15, 568.63, 518.28, 639.1899999999998, 4624.15, 2528.4799999999996, 4255.109999999998, 252.73, 420.73999999999984, 685.7400000000006, 19362.49, 179.9300000000001, 135.92999999999998, 537.0, 7481.469999999994, 735.66, 5031.87, 315.42, 381.0, 121.17000000000002, 1737.6899999999998, 1383.36, 205.23000000000002, 693.9499999999998, 302.0999999999999, 1430.1, 2088.890000000002, 1337.7200000000012, 292.99999999999983, 53855.89999999994, 987.8599999999997, 370.79999999999995, 3101.53, 893.5899999999999, 1689.2599999999998, 545.7099999999998, 1020.9300000000002, 106.2, 982.07, 1043.4099999999996, 735.6700000000002, 773.0300000000002, 870.65, 9358.870000000006, 721.3500000000003, 504.7999999999998, 88.19999999999999, 306.94, 1143.57, 2374.69, 381.32, 470.51, 457.81, 4565.519999999999, 1370.6, 199.59, 237.88, 297.0, 410.48, 876.0, 317.53000000000003, 703.36, 983.0400000000002, 2275.8100000000018, 1422.5200000000007, 319.5, 1159.25, 484.95000000000005, 985.9000000000002, 1550.98, 3509.04, 2760.5600000000013, 340.10999999999984, 1352.7500000000002, 1494.03, 244.8, 266.40000000000003, 358.82, 457.7199999999999, 1493.9599999999994, 2182.8099999999986, 184.19, 10308.84, 406.53000000000003, 1451.5000000000005, 3447.3999999999974, 330.11, 977.9300000000003, 982.4200000000001, 1330.3900000000006, 139.04999999999998, 1219.4, 168.76, 2354.249999999999, 498.73999999999995, 259.45000000000005, 6492.140000000006, 1194.7300000000002, 1327.160000000001, 623.5, 301.28999999999996, 520.8, 5231.629999999997, 4689.370000000004, 311.5499999999999, 254.28000000000006, 956.4499999999998, 1896.9500000000007, 401.4000000000001, 18293.960000000046, 158.15999999999997, 302.82000000000005, 824.5799999999999, 487.7499999999999, 158.79999999999998, 106.56, 1289.5, 1607.55, 135.75, 224.14000000000007, 40.5, 2186.2500000000005, 87.50000000000001, 689.4799999999999, 622.85, 400.55000000000007, 310.62, 411.40999999999997, 4485.220000000001, 15774.669999999996, 1034.1200000000003, 435.22, 7594.029999999993, 3861.0, 1079.6100000000001, 193.64000000000001, 1268.7, 1176.080000000001, 1763.4999999999989, 316.58, 632.4399999999998, 420.29999999999995, 870.1199999999999, 331.18, 894.4100000000002, 101.79999999999998, 328.34999999999997, 1661.4400000000003, 734.9400000000002, 96.6, 5652.890000000003, 305.75, 1778.9599999999998, 403.25, 440.0, 755.75, 322.08, 393.79999999999995, 154.41, 1219.4000000000003, 3278.4100000000035, 408.59999999999997, 612.0600000000001, 197.0, 2247.5099999999993, 300.04999999999995, 1412.3200000000004, 1071.99, 770.0899999999999, 1685.7699999999998, 1756.4399999999998, 316.68000000000006, 631.57, 2515.8400000000015, 475.15, 356.0, 6606.910000000001, 10075.470000000003, 740.7799999999997, 908.2499999999997, 279.56000000000006, 849.2, 98.45, 317.15, 598.2599999999998, 1780.1699999999996, 254.82, 178.95, 156.51, 383.53999999999996, 1488.7800000000002, 119.30000000000001, 1717.36, 408.8, 2379.4900000000002, 2490.739999999998, 721.9400000000002, 716.5699999999998, 605.19, 120.00000000000001, 255.89999999999998, 290.51000000000005, 113.12000000000002, 2287.1500000000005, 240.55, 486.69, 2184.74, 939.7800000000002, 7864.02, 4623.300000000002, 178.39, 3555.4200000000033, 641.94, 4525.299999999999, 3907.01, 479.9399999999999, 5049.949999999998, 574.0199999999999, 694.4000000000002, 1174.3500000000006, 187.4, 310.46999999999997, 59320.790000000066, 924.85, 52.0, 327.97, 570.4999999999999, 165.0, 312.62, 194.00000000000009, 267.13000000000005, 2632.11, 679.68, 161.73999999999995, 311.7099999999999, 188.85000000000002, 1034.6999999999996, 714.96, 1661.0599999999997, 1028.56, 347.87, 170.22000000000003, 574.0699999999999, 2020.5199999999998, 406.09, 346.6, 474.44, 393.53999999999996, 252.42000000000004, 201.60000000000002, 158.04, 457.95999999999987, 115.65, 1882.7100000000016, 768.4399999999998, 277.05000000000007, 2687.0399999999972, 8057.579999999995, 427.93000000000006, 418.9200000000001, 326.0, 913.19, 2314.3199999999993, 602.5100000000001, 1862.5899999999997, 446.94000000000005, 2369.4500000000007, 1862.3999999999999, 2361.910000000001, 168.0, 1221.5600000000002, 3670.29, 1690.26, 596.8499999999999, 5680.9500000000035, 611.81, 306.38, 394.14, 130.64000000000001, 500.0, 1504.93, 231.85999999999996, 2143.24, 107.44999999999999, 288.18, 94.0, 1345.5299999999995, 815.7699999999996, 716.2, 626.3499999999999, 349.09999999999997, 495.74000000000007, 1043.7900000000002, 267.18000000000006, 3450.8400000000024, 1339.0299999999997, 190.53, 774.9000000000001, 528.41, 3957.32, 508.8000000000001, 135.85999999999999, 883.06, 97.7, 43.5, 383.34, 1347.6700000000014, 1422.7400000000002, 93.78, 397.3500000000001, 171.19, 516.7999999999998, 1041.48, 149.29000000000002, 1062.1999999999998, 200.15999999999997, 156.58, 383.6799999999999, 594.0, 3200.0399999999986, 1387.4100000000008, 113.50000000000001, 155.17000000000002, 494.64000000000004, 974.5200000000002, 419.63999999999993, 525.2299999999999, 1360.0200000000011, 179.10000000000005, 434.59, 235.77, 161.64, 214.25999999999988, 234.60000000000002, 126.14, 1038.8000000000002, 7354.620000000002, 334.53, 524.8799999999999, 386.90999999999997, 473.9, 450.7300000000001, 371.55999999999995, 1771.2, 454.1099999999999, 1302.4199999999996, 905.5, 9999.84, 223.99999999999991, 3590.410000000001, 2559.4600000000005, 91.32000000000001, 1134.28, 3079.6900000000023, 648.9599999999999, 1942.160000000002, 1280.5800000000004, 1164.4, 13224.89999999998, 1112.06, 6675.079999999995, 126.99000000000001, 52.83000000000001, 3610.9599999999996, 970.63, 475.86, 996.1099999999994, 250.0, 900.5300000000002, 120.99999999999999, 14533.099999999984, 4013.520000000001, 62.43, 267.0300000000001, 1874.3000000000009, 318.29999999999995, 2899.4500000000007, 387.49000000000007, 412.01000000000005, 440.0, 731.8699999999999, 148.44, 2377.889999999999, 229.32999999999998, 3868.5099999999948, 1477.8100000000009, 1944.3399999999997, 1532.980000000002, 807.57, 502.9000000000001, 110.92000000000002, 538.46, 213.3, 76.28000000000004, 127.86000000000001, 3355.389999999998, 285.7200000000001, 4891.949999999993, 1677.71, 572.3299999999999, 436.0599999999999, 90.12, 418.84999999999997, 217.2, 4705.309999999986, 271.24999999999994, 468.90999999999997, 784.09, 134.55, 1361.44, 173.16000000000003, 186.01000000000002, 680.2900000000001, 1374.4600000000003, 4098.92, 648.78, 2525.0199999999995, 583.2399999999998, 668.39, 900.97, 258.87999999999994, 127.10000000000001, 327.6, 693.6800000000001, 682.9100000000001, 710.9100000000002, 430.3999999999999, 913.6800000000001, 478.53000000000003, 388.5799999999999, 199.8, 1771.7799999999997, 1406.5900000000004, 324.56999999999994, 240.68000000000006, 761.7399999999999, 6710.259999999989, 1267.8700000000003, 48.480000000000004, 216.38999999999996, 1183.23, 2920.159999999999, 104.76, 1001.8799999999999, 298.48, 112.46, 1570.4500000000003, 195.15, 10232.390000000003, 776.8499999999998, 336.40000000000003, 1486.9300000000005, 931.1300000000001, 3437.0700000000024, 301.03, 579.0100000000001, 1534.2599999999998, 675.8, 2859.740000000001, 1186.3500000000001, 3169.210000000001, 243.55000000000004, 709.76, 223.36, 425.32, 12336.80999999997, 1871.6, 664.0000000000001, 800.6399999999999, 564.1899999999998, 447.63999999999993, 603.5, 816.0, 587.5000000000001, 317.84, 877.4399999999999, 922.5300000000001, 560.67, 688.36, 30.0, 971.3999999999995, 306.45, 1505.52, 309.80000000000007, 138.14000000000001, 386.43, 2191.010000000001, 301.32000000000005, 76.32000000000001, 684.3400000000001, 173.05, 2657.130000000002, 2621.830000000002, 2091.49, 323.69, 3415.9599999999996, 657.23, 352.70000000000005, 781.28, 1300.98, 1384.6199999999994, 172.95, 2962.3, 254.1, 230.64000000000001, 136.8, 191.03999999999996, 6464.399999999999, 409.97999999999996, 2648.21, 271.85, 692.5199999999996, 1529.0000000000011, 211.5, 2218.1000000000004, 143.10000000000002, 1038.06, 906.6799999999995, 3217.35, 133.25, 1056.4600000000003, 339.36, 330.02999999999986, 1093.6499999999996, 150.3, 4891.159999999989, 591.8799999999998, 471.39999999999986, 2211.21, 183.95000000000005, 218.25, 415.25000000000006, 5033.4699999999975, 85.0, 1041.5300000000002, 294.12, 162.3, 1322.9499999999998, 1145.7600000000004, 4749.3600000000015, 401.52, 154.88, 775.9600000000003, 34.8, 1094.5900000000001, 196.88000000000005, 910.8399999999997, 144.35999999999996, 44534.3, 2443.3600000000006, 2626.6000000000026, 79.2, 458.57, 2364.250000000002, 524.4099999999997, 694.92, 205.25, 253.04000000000002, 583.7499999999999, 1086.9200000000003, 3180.170000000002, 315.05999999999995, 621.83, 54458.24000000001, 605.08, 270.80000000000007, 104.9, 241.62000000000003, 1047.1100000000001, 475.28, 345.46, 2351.6399999999994, 246.30000000000004, 2171.35, 4919.000000000003, 923.1099999999998, 351.3, 218.75, 1537.0900000000001, 889.2900000000002, 610.0100000000002, 2646.2799999999997, 2192.4, 873.94, 696.8900000000002, 1063.9499999999996, 415.82, 4195.89, 5446.379999999998, 784.5799999999998, 887.4, 3651.2699999999995, 500.7699999999999, 1309.0799999999995, 2218.62, 1799.4399999999998, 1293.41, 1945.33, 2100.6, 1905.4499999999998, 206.97999999999993, 534.66, 885.4699999999998, 532.9399999999999, 1638.7100000000003, 1818.7500000000002, 636.1399999999999, 576.0, 774.84, 836.7899999999998, 2172.2499999999995, 934.5899999999997, 137.37, 382.0300000000001, 33643.08, 1048.4900000000002, 345.3599999999999, 1224.06, 118.94999999999999, 130.74, 3674.0299999999997, 389.27, 233.63000000000002, 160.71000000000004, 110.80000000000001, 2968.269999999999, 712.24, 15577.039999999992, 297.0, 1419.4200000000008, 961.0099999999998, 3093.2400000000002, 831.2299999999998, 65.89, 1936.3200000000004, 874.1300000000001, 211.89000000000001, 3733.849999999997, 149.64000000000001, 351.4399999999999, 312.0499999999999, 4405.879999999997, 488.67999999999967, 325.6299999999999, 497.13999999999993, 483.48, 386.53, 349.35, 181.09, 162.64, 400.76999999999987, 500.62999999999994, 255.49999999999994, 179.17000000000002, 208.58999999999997, 1211.5799999999997, 46.35, 337.2799999999999, 345.84999999999985, 5126.759999999998, 164.68, 1550.9400000000003, 876.0600000000007, 191.94, 1223.7800000000002, 264.62, 1502.8600000000004, 123.10000000000001, 334.2300000000001, 509.5899999999996, 163.54999999999998, 323.0299999999999, 369.50000000000006, 127.08, 207.15000000000003, 380.4300000000001, 2495.8700000000003, 1107.4600000000005, 108.04, 145.35, 404.58000000000004, 6069.410000000001, 35.8, 337.43999999999994, 325.09999999999997, 181.0, 1708.2399999999998, 939.9399999999997, 364.71999999999997, 1677.2099999999994, 656.82, 762.0099999999996, 1657.2799999999997, 4354.160000000003, 428.8899999999999, 104.35000000000001, 454.26000000000005, 799.1199999999999, 396.0299999999999, 634.3000000000001, 98.4, 4194.9, 307.82, 3442.1500000000005, 371.01000000000005, 427.63999999999993, 1054.7299999999998, 1058.9799999999998, 2294.5800000000004, 3233.6799999999994, 1465.1200000000006, 2752.1300000000006, 1126.8200000000004, 168.11999999999998, 1428.17, 153.48000000000002, 715.5100000000001, 41.989999999999995, 2750.8199999999993, 414.27000000000004, 1032.5799999999997, 3049.97, 12393.7, 2714.9700000000007, 563.2099999999997, 101.39999999999999, 1668.3699999999997, 478.78000000000014, 972.1100000000001, 391.98, 3320.260000000001, 1410.29, 35426.12, 646.83, 699.0599999999997, 1437.7600000000002, 211.88000000000002, 408.9000000000001, 3751.94, 851.01, 602.63, 719.81, 245.74999999999994, 439.66, 231.14000000000004, 858.3, 71160.09000000004, 322.98999999999995, 547.8999999999999, 8751.569999999996, 437.70000000000005, 758.9200000000002, 855.02, 437.09999999999997, 1298.5500000000002, 3166.4, 1160.870000000001, 773.9900000000002, 1340.7000000000003, 256.44000000000005, 1074.8099999999995, 137.9, 362.06, 1432.4099999999996, 759.0, 134.8, 632.85, 2263.1200000000003, 1453.16, 1143.1199999999997, 335.32000000000005, 363.08999999999975, 1521.0400000000002, 852.1499999999997, 326.23999999999995, 584.3199999999999, 122.39999999999999, 2225.6099999999988, 79.2, 1352.0000000000002, 217.16000000000003, 2781.5200000000004, 1287.6200000000003, 436.17999999999984, 944.7099999999999, 1121.3899999999999, 294.26000000000005, 817.8599999999999, 17.0, 1060.8899999999999, 320.62, 185.05, 2005.63, 731.8999999999997, 1267.5799999999997, 1842.14, 1429.6399999999996, 285.21000000000004, 336.96, 108.38, 3204.1600000000003, 842.4999999999998, 611.88, 1304.9000000000008, 195.73999999999998, 161.38000000000002, 135.75000000000003, 1635.5800000000008, 612.7799999999999, 232.20999999999998, 423.36, 1309.14, 848.4199999999994, 684.4200000000001, 307.78, 249.00000000000003, 289.35, 6228.37, 636.4499999999999, 1788.6599999999999, 3506.5400000000004, 14569.239999999982, 618.0899999999999, 517.55, 709.3799999999999, 635.4100000000001, 725.1800000000001, 620.4, 518.84, 2336.14, 175.2, 3663.21, 734.1299999999999, 375.00000000000006, 280.52, 2013.4200000000008, 1829.0399999999997, 1824.2300000000005, 3037.860000000002, 656.6899999999999, 348.20000000000005, 897.0400000000003, 5353.630000000001, 37.4, 856.6000000000001, 822.48, 3787.600000000001, 1803.169999999999, 1885.0500000000002, 73.2, 1046.21, 1367.5199999999998, 1009.55, 1037.5900000000001, 331.94999999999993, 197.9, 215.83, 9385.18, 305.54, 5929.650000000001, 338.71000000000004, 1158.79, 529.41, 3874.3400000000033, 6911.4400000000005, 964.1600000000001, 215.47999999999993, 215.07999999999998, 4943.639999999999, 291.04999999999995, 370.68000000000006, 1052.6799999999998, 1863.4699999999996, 365.2700000000001, 592.8999999999999, 384.18000000000006, 740.0199999999999, 537.06, 394.38, 646.3599999999999, 2252.5399999999995, 20776.779999999995, 517.1700000000001, 690.3399999999998, 159.0, 1062.7499999999998, 242.35, 914.9300000000001, 304.25, 2881.280000000001, 849.06, 773.5499999999998, 1295.3000000000006, 1088.0000000000007, 255.12, 314.21999999999997, 994.1, 542.03, 990.8799999999999, 536.6800000000001, 820.0099999999999, 432.1999999999999, 414.2, 3708.3000000000025, 2571.100000000001, 3448.440000000002, 409.0999999999999, 1502.95, 1413.6600000000003, 105.44, 152.94000000000003, 1800.0700000000006, 389.43999999999994, 3658.6599999999994, 2553.6599999999985, 752.4300000000001, 21.95, 5161.910000000003, 990.75, 728.5399999999998, 5264.499999999998, 838.7899999999998, 607.15, 1141.2400000000005, 1368.8399999999995, 411.70000000000016, 328.19999999999993, 559.8699999999999, 810.6000000000001, 566.3799999999999, 1492.28, 2062.0600000000004, 168.3, 1555.5699999999995, 789.2799999999996, 142.5, 302.25, 2220.739999999999, 1328.5500000000006, 286.3, 598.1999999999999, 233.22, 5360.630000000001, 323.92, 632.27, 2560.0, 706.57, 566.56, 274.15000000000003, 226.37000000000003, 2908.310000000002, 1306.2500000000005, 328.15000000000003, 261.6, 967.6599999999999, 373.65000000000003, 326.74999999999994, 207.50000000000003, 408.5899999999998, 594.24, 2981.1700000000005, 3729.069999999994, 248.65999999999994, 1563.25, 26626.79999999999, 151.05, 194.00000000000003, 94.05000000000001, 534.31, 1955.37, 322.4100000000001, 328.58, 101.10000000000001, 565.4600000000002, 847.4500000000002, 1398.9600000000014, 53.5, 1062.7699999999995, 137.4, 494.44000000000017, 6675.709999999999, 395.80000000000007, 211.76999999999998, 658.8799999999999, 2005.9599999999991, 1750.9199999999992, 3419.610000000003, 891.2099999999998, 709.9899999999997, 109.36000000000001, 705.79, 1523.7200000000003, 327.30000000000007, 800.67, 476.9599999999998, 1536.730000000001, 1301.9100000000005, 352.78, 458.77999999999963, 972.0600000000001, 676.2, 362.95, 2157.3999999999996, 1743.1500000000003, 643.7599999999998, 564.5999999999999, 547.4099999999999, 301.12, 94.36, 1382.07, 195.78999999999996, 2896.2400000000016, 1545.2599999999998, 1453.5600000000006, 1695.600000000001, 406.2199999999999, 303.93, 3549.060000000001, 286.7, 161.0, 423.15000000000003, 167.25, 154.35000000000002, 2073.7800000000016, 1983.0300000000007, 196.69999999999996, 127.14, 252.00000000000006, 111.25, 200.26999999999998, 1033.5, 631.1199999999998, 958.7099999999998, 34669.4, 328.78000000000003, 133.56, 302.7, 1857.010000000002, 203.56000000000003, 284.55, 300.85, 616.6299999999999, 287.4, 184.26, 1511.8000000000006, 785.4500000000003, 3611.4399999999987, 381.20000000000005, 598.6000000000005, 609.02, 230.50999999999996, 168472.5, 255.90999999999985, 182.98999999999998, 610.2900000000001, 311.92, 266.97, 5.9, 1841.1800000000007, 2048.13, 208.36, 3463.239999999999, 811.2300000000005, 142.92, 136.0, 1402.6000000000006, 1298.660000000001, 1595.9600000000005, 74.9, 616.87, 752.7700000000001, 223.94999999999996, 305.61, 1793.2900000000025, 544.3, 2477.9600000000014, 331.0, 300.83000000000004, 722.9899999999999, 220.61999999999998, 139.35, 404.29999999999995, 345.75000000000006, 498.79999999999995, 731.4999999999999, 1351.63, 826.5300000000002, 648.2599999999999, 1599.5200000000011, 2888.570000000001, 100.97, 355.25, 400.86, 1328.4300000000007, 462.62999999999994, 777.6, 90.30000000000001, 363.7, 218.1, 900.5299999999999, 874.5900000000001, 1622.1900000000007, 101.69999999999999, 162.7, 466.62, 212.98, 1019.1400000000001, 8957.870000000003, 13027.45000000001, 273.02, 228.06, 244.41, 451.99999999999994, 1244.5900000000001, 6748.8, 1082.8099999999995, 593.7500000000001, 548.12, 1353.4099999999999, 119.62, 339.3, 787.15, 3944.649999999998, 2249.119999999999, 922.12, 379.73, 5539.82, 801.2999999999996, 251.54000000000002, 3261.8900000000017, 281.85, 8276.989999999998, 831.2099999999999, 511.12000000000006, 1077.74, 173.7, 614.6599999999999, 865.6, 113.7, 3604.6600000000003, 1396.7900000000004, 1009.5999999999998, 658.57, 451.4399999999998, 105.84, 313.61999999999995, 233.45000000000002, 936.0799999999999, 463.95, 213.45000000000002, 459.2399999999999, 213.50000000000003, 4017.7400000000007, 330.03, 181.08999999999995, 360.15999999999997, 250.14999999999998, 90.03999999999999, 145.05, 813.52, 241.52999999999997, 498.0799999999999, 482.4699999999999, 3314.4700000000025, 5426.160000000004, 75.66, 129.49, 1171.1599999999999, 618.59, 490.58999999999986, 495.38000000000005, 151.85, 2586.3900000000017, 226.20999999999998, 178.96, 803.2800000000001, 129.45000000000002, 802.25, 333.08, 4402.900000000002, 312.85, 2188.0499999999997, 398.68, 2865.2000000000003, 217.90000000000003, 1154.47, 1680.7200000000007, 1257.5100000000002, 231.1, 688.33, 460.51000000000005, 805.9399999999996, 214.06000000000003, 290.65999999999997, 518.42, 6683.070000000003, 1202.1599999999999, 601.2699999999999, 3789.5199999999995, 8625.800000000001, 874.4299999999995, 115.74, 39.12, 1267.6499999999999, 135.4, 118.98000000000005, 567.1800000000001, 306.72, 1314.73, 4048.0000000000014, 1692.27, 8134.940000000001, 304.24000000000007, 1553.1200000000001, 2991.1900000000005, 129.75, 183.70000000000002, 1536.3400000000001, 1028.0, 65132.759999999995, 324.2399999999999, 2890.080000000003, 1188.3200000000002, 422.6, 225.57999999999996, 1126.0, 477.8599999999999, 657.9000000000001, 112.75, 1998.0, 4798.050000000007, 5309.800000000002, 13810.350000000004, 521.3999999999997, 656.63, 2957.870000000001, 2421.07, 1651.03, 3563.2199999999953, 6741.829999999993, 1103.56, 301.72, 901.2, 3744.680000000001, 606.0500000000002, 1694.0200000000007, 152.95, 292.46999999999997, 4615.310000000001, 576.4000000000001, 756.8200000000005, 1299.09, 256.32, 994.5799999999997, 6828.999999999991, 732.6099999999999, 423.15000000000003, 646.7599999999999, 2129.389999999999, 417.59999999999997, 3.75, 323.00000000000006, 2198.1299999999997, 1281.9599999999996, 6989.9599999999955, 6509.209999999996, 818.2099999999999, 1463.3999999999992, 623.93, 1749.18, 197.3, 223.92000000000002, 2002.4, 1470.3300000000004, 239.39999999999998, 106.83000000000001, 369.34, 789.79, 316.62, 1207.2399999999996, 611.85, 2773.2500000000055, 34.0, 1145.6000000000001, 5512.4, 478.08999999999986, 361.5399999999999, 749.2400000000001, 2210.2100000000005, 161.64, 661.52, 1685.6100000000013, 369.89000000000004, 222.62, 245.94, 10186.739999999996, 412.2899999999998, 311.25, 2206.250000000001, 77.6, 592.74, 80.8, 1545.6199999999992, 1675.130000000003, 110.38000000000002, 243.83999999999997, 1170.6000000000013, 405.53000000000003, 305.61999999999995, 1138.35, 1583.730000000001, 332.29999999999995, 536.9899999999998, 448.1399999999998, 736.2099999999997, 968.2499999999998, 288.4200000000001, 881.12, 288.74000000000007, 547.07, 479.35, 1620.9200000000003, 6406.799999999998, 402.0600000000001, 1574.150000000001, 3332.2300000000023, 479.60999999999996, 349.8800000000001, 460.64, 775.1800000000002, 341.7, 113.5, 197.21999999999997, 315.41, 183.24999999999997, 1090.0299999999997, 413.46, 180.85000000000005, 251.87, 3127.7300000000014, 563.9100000000001, 15926.789999999974, 1869.8200000000015, 1243.4900000000002, 9671.509999999997, 214.32000000000002, 193.44, 281.42, 124.57, 332.41, 342.44999999999993, 144.91, 313.40000000000003, 35.400000000000006, 362.19000000000005, 730.4699999999999, 173.76000000000002, 502.8, 207.74, 817.1199999999999, 2797.3400000000006, 680.0200000000001, 6969.289999999999, 1916.1500000000003, 826.8199999999994, 13.3, 1481.0300000000004, 432.0, 705.1199999999999, 272.4799999999999, 406.34000000000003, 450.4099999999996, 192.33, 1541.47, 717.63, 500.48999999999967, 145.93, 202.26999999999995, 289.77999999999986, 486.9799999999999, 1237.0600000000009, 875.8600000000001, 1706.8799999999999, 362.82000000000005, 3604.679999999996, 2948.1000000000004, 559.5899999999998, 928.76, 379.14000000000004, 1496.5100000000032, 2288.84, 113.44, 183.76000000000002, 621.68, 562.4099999999999, 391.52, 1068.8199999999997, 2588.850000000001, 154.18000000000006, 6996.77999999999, 829.89, 230.25000000000003, 543.05, 2806.7499999999977, 1237.2900000000004, 378.89, 4525.389999999993, 147.27999999999997, 563.2299999999999, 895.6299999999997, 261.90000000000003, 2634.650000000002, 3028.1200000000044, 1868.9100000000021, 692.2299999999997, 4143.500000000005, 390.88, 435.02, 1286.2699999999995, 1178.56, 1277.750000000001, 167.60999999999999, 20.8, 2085.08, 518.67, 308.74, 416.64000000000004, 117.35000000000001, 501.1999999999998, 234.17000000000002, 110.55000000000001, 192.07000000000002, 2154.9700000000003, 319.02, 439.43, 650.41, 348.2599999999998, 251.51999999999998, 344.33, 1834.1, 1006.7100000000003, 384.05999999999995, 1895.9199999999998, 4449.460000000001, 5356.120000000001, 1873.2, 1572.5500000000006, 126.12, 928.6500000000001, 179.0, 1614.3100000000004, 1426.96, 585.0, 295.0, 484.82, 3759.3700000000017, 1463.7300000000002, 1312.14, 736.18, 889.9300000000001, 195.36, 270.90000000000003, 583.4300000000001, 1825.5100000000007, 7790.360000000005, 920.1, 1165.5300000000004, 71.0, 95.85, 357.77, 144.63, 877.5600000000002, 716.0, 146.87, 380.3500000000001, 1012.4399999999999, 745.52, 433.53, 1267.3199999999995, 112.40000000000003, 449.7299999999999, 1050.4900000000005, 1036.5800000000002, 1714.9, 948.48, 339.44, 626.1200000000001, 1063.4, 925.3500000000001, 5583.430000000001, 3184.799999999998, 240.88999999999993, 399.0900000000001, 498.48, 1330.780000000001, 1158.8899999999999, 3040.8799999999956, 219.24, 5228.829999999998, 522.3399999999999, 1420.84, 830.7499999999999, 4458.740000000005, 2447.6000000000004, 304.23999999999995, 2369.4300000000007, 1444.8400000000008, 804.12, 764.7599999999998, 375.85999999999996, 118.80000000000001, 287.62, 288.90999999999997, 1963.9500000000003, 1065.4799999999998, 2713.3400000000015, 1553.9, 2050.079999999999, 1937.2699999999995, 1974.6500000000008, 3790.4600000000055, 1774.0300000000002, 301.99999999999994, 1324.1599999999996, 1022.13, 954.4199999999994, 971.7399999999999, 1611.53, 25.5, 665.7799999999997, 10615.790000000005, 881.2900000000004, 163.3, 231.60999999999999, 783.2199999999999, 739.6999999999998, 116.19999999999999, 140.51999999999998, 606.91, 307.46, 138.32, 345.29999999999995, 294.24, 230.49999999999991, 976.6000000000001, 157.09000000000003, 2335.8699999999994, 4892.24, 413.2, 1109.7299999999998, 380.50000000000017, 10212.439999999984, 454.12, 579.0, 984.5699999999999, 749.7799999999999, 1709.5500000000006, 124.88, 1689.5, 213.78, 329.3399999999999, 251.6999999999999, 294.09999999999997, 1236.97, 1491.08, 3426.93, 1680.8600000000001, 293.1, 2467.35, 158.68, 206.34, 801.0399999999998, 224.90999999999997, 317.76, 3766.6000000000004, 59.9, 1426.3499999999997, 295.63, 587.29, 783.97, 239.91999999999996, 3347.310000000001, 144.0, 203.95, 2474.2300000000005, 383.7499999999999, 418.19, 2082.4300000000003, 1549.9000000000005, 223.82999999999998, 1013.0100000000001, 647.9700000000001, 289.78000000000003, 3556.83, 1564.5599999999995, 384.08000000000004, 204.24, 2249.1699999999996, 226.85, 2728.089999999998, 1058.6999999999998, 113.5, 1941.470000000001, 114.22999999999999, 3103.900000000001, 334.48, 328.65000000000003, 378.1399999999998, 393.48999999999995, 939.3199999999999, 1779.4900000000005, 314.6000000000001, 3494.41, 3094.2699999999977, 417.77000000000004, 190.88, 149.89, 550.06, 908.3300000000003, 314.69000000000005, 3654.269999999996, 382.50000000000006, 1135.0399999999997, 8393.049999999997, 954.9, 171.45, 277.14000000000004, 318.65, 381.97, 269.83, 344.6599999999999, 178.26000000000002, 271.19, 291.48000000000013, 240.0, 577.0299999999999, 1253.3600000000001, 62.60000000000002, 543.7699999999998, 296.5799999999999, 315.12, 763.64, 2117.729999999999, 107.82, 1065.35, 246.03999999999996, 187.83, 1669.8600000000004, 1487.390000000002, 148.42000000000002, 1026.5600000000002, 1415.5300000000007, 925.0400000000001, 501.1099999999998, 550.8000000000001, 1852.4099999999999, 547.0, 126.53000000000002, 498.4199999999999, 654.53, 163.23999999999998, 1114.8300000000006, 244.93999999999997, 7551.310000000004, 82.75, 1344.0500000000004, 644.3, 2328.8399999999997, 2527.920000000001, 6224.199999999992, 2600.34, 1123.82, 645.2600000000001, 892.6299999999999, 888.9800000000004, 96.8, 497.90999999999997, 319.2, 175.2, 489.2099999999999, 307.02, 1963.8100000000018, 6428.700000000004, 243.36, 12036.690000000008, 675.6100000000004, 193.64, 157.61999999999992, 481.26, 2582.930000000001, 228.96, 1154.9500000000007, 98.25, 1278.0700000000004, 587.1500000000001, 1740.0, 1393.06, 178.21999999999997, 384.39, 357.50999999999993, 102.36, 542.23, 488.1999999999999, 312.23, 4348.620000000002, 4757.279999999992, 167.55, 1878.8700000000008, 446.1799999999998, 406.8599999999998, 1329.2899999999993, 588.4200000000001, 495.76999999999975, 376.4499999999999, 173.2, 3976.869999999998, 374.9699999999999, 20275.609999999982, 65.4, 193.39, 336.4, 256.11000000000007, 2686.42, 740.9099999999999, 1259.5600000000002, 31833.680000000037, 508.80000000000007, 411.27000000000004, 203.86999999999995, 7312.799999999998, 678.1099999999999, 653.3799999999999, 2093.940000000002, 2598.8499999999995, 263.92, 31603.55999999998, 977.7099999999999, 2182.7200000000003, 32.65, 755.95, 1184.72, 778.94, 1187.5599999999997, 778.0, 507.8399999999999, 6862.120000000005, 440.06, 4169.569999999999, 598.83, 1979.3700000000003, 684.9099999999999, 759.1699999999998, 4992.319999999998, 100.8, 16042.81999999999, 515.8, 265.76, 403.30000000000007, 334.1599999999999, 303.1599999999999, 2348.6200000000013, 216.3, 388.45, 186.42, 2213.16, 534.24, 2378.6, 120.9, 536.49, 2516.2100000000005, 193240.7100000002, 1687.5600000000004, 486.71999999999997, 487.53000000000014, 131.7, 239.65999999999994, 1737.7, 316.5, 647.3499999999999, 622.43, 725.3199999999998, 675.6899999999999, 1787.7600000000014, 289.96000000000004, 745.58, 137.0, 1800.069999999999, 1125.0700000000002, 697.5400000000002, 194.37, 511.81999999999994, 1240.5900000000001, 414.03999999999996, 396.87000000000006, 376.63999999999993, 2092.3199999999997, 3390.9500000000003, 374.57, 497.5599999999999, 271.04999999999995, 272.22, 612.3800000000001, 1138.0, 288.59999999999997, 673.3, 558.96, 2981.4300000000007, 1145.84, 302.20000000000005, 602.33, 387.3099999999999, 6083.640000000007, 308.47999999999996, 87982.04, 2924.989999999999, 513.2, 206.75000000000003, 639.0200000000001, 764.8799999999999, 153.94, 1844.0200000000002, 546.8100000000001, 723.21, 1048.81, 652.7399999999999, 145.0, 422.70000000000005, 1180.6, 939.37, 3613.200000000002, 2318.5700000000006, 280.8, 223.36, 164.4, 76.5, 887.6700000000002, 98.42, 563.8999999999999, 170.75000000000003, 642.3199999999999, 103.3, 148.86, 267.16, 290.3399999999999, 930.4099999999999, 1487.6, 1932.6500000000003, 480.3100000000001, 147.4, 541.4600000000002, 854.9499999999998, 165.12, 1080.7799999999995, 454.00999999999976, 869.7699999999999, 4311.079999999998, 344.14, 1382.5700000000008, 226.75000000000003, 380.59999999999997, 185.64999999999998, 3558.929999999999, 143.45999999999998, 446.3500000000001, 212.76999999999992, 10640.899999999992, 175.26999999999998, 1242.2999999999997, 1116.68, 1204.4, 2384.62, 1456.8200000000013, 2198.2199999999993, 3827.8599999999988, 993.1799999999998, 382.04000000000013, 2800.09, 2027.8700000000003, 161.67000000000002, 116.00999999999999, 4920.8699999999935, 379.72, 309.36, 184.0000000000001, 1080.8800000000003, 3914.120000000001, 2001.7999999999993, 4539.599999999998, 376.41999999999985, 329.59999999999997, 571.2, 921.7800000000001, 212.67000000000002, 81.44, 1379.9, 527.05, 827.6799999999998, 2007.200000000001, 75.75, 1804.8600000000004, 503.5999999999999, 528.33, 1324.84, 2342.690000000001, 285.56, 547.06, 108.5, 621.66, 691.4899999999999, 91.35000000000001, 2770.540000000001, 992.4899999999999, 133.06000000000003, 1751.1999999999998, 805.4499999999998, 166.08, 3886.9000000000055, 4654.320000000002, 1207.5600000000002, 117.55000000000003, 2638.9399999999996, 1585.1900000000003, 595.42, 2989.5100000000007, 178.75, 1802.9100000000008, 604.6399999999999, 717.9599999999999, 2012.8900000000003, 327.84999999999997, 3135.9799999999996, 205.70000000000002, 1549.3099999999997, 3167.67, 1588.3700000000008, 551.0400000000002, 20033.939999999962, 1371.1799999999998, 14641.079999999993, 287.61, 1932.3499999999997, 184.40000000000003, 2457.83, 239.40999999999997, 3045.730000000001, 5550.960000000007, 4614.899999999999, 290.40000000000003, 717.0799999999996, 200.47, 283.12, 765.3400000000001, 2285.710000000002, 338.95000000000005, 154.95, 2534.640000000001, 401.45, 1712.3299999999992, 773.8399999999996, 815.8900000000001, 1796.52, 10196.590000000006, 137.4, 263.3299999999999, 137.45, 385.1, 522.91, 153.0, 326.4, 5576.090000000005, 139.35, 5396.040000000002, 1195.9400000000005, 2413.539999999998, 3276.4, 1033.0, 3428.5800000000013, 1049.75, 2799.560000000002, 5186.679999999997, 1197.8699999999997, 293.77000000000004, 692.1899999999998, 700.63, 12848.71999999996, 377.44000000000005, 168.23999999999998, 1802.4000000000003, 2773.5, 355.11, 2307.5200000000004, 110.25, 71.4, 658.6199999999999, 1694.1599999999999, 80.64, 1643.6499999999994, 5500.539999999994, 3372.4899999999993, 818.7100000000005, 256.99, 712.78, 15.0, 762.05, 315.6599999999999, 271.20000000000005, 2081.9000000000005, 3915.189999999998, 1143.27, 245.33000000000004, 173.44999999999993, 1213.7299999999998, 56.4, 641.6599999999999, 650.3199999999998, 188.01999999999992, 272.9699999999999, 131.94000000000003, 266.84999999999997, 1802.5399999999995, 1112.95, 225.90000000000003, 1964.300000000001, 106.1, 297.7899999999999, 342.83, 689.9999999999998, 766.6300000000005, 2989.1699999999996, 1186.2100000000003, 1238.05, 512.3100000000001, 546.0400000000001, 5047.41, 7583.519999999986, 699.8100000000001, 1670.5200000000011, 36.559999999999995, 387.6799999999999, 3704.8699999999994, 298.40000000000003, 1987.3300000000004, 1165.09, 889.24, 398.69999999999993, 35.400000000000006, 155.36999999999998, 342.23999999999995, 109.83, 1502.680000000001, 2689.599999999998, 298.35000000000014, 40065.2300000006, 197.73000000000002, 51.56, 901.2000000000002, 598.3, 5191.4100000000135, 114.33999999999999, 311.25999999999993, 208.96999999999997, 1418.03, 25301.539999999997, 5015.359999999997, 141.92, 224.49999999999997, 2055.790000000001, 150.89999999999998, 3113.2000000000003, 539.73, 10488.420000000011, 329.65, 1157.87, 428.17999999999995, 1855.8100000000002, 155.89999999999998, 1719.5800000000006, 650.9599999999999, 237.61, 379.45, 178.51999999999998, 458.9199999999999, 133.35000000000002, 662.2399999999996, 661.3199999999996, 149.84, 864.3799999999998, 111.35000000000001, 690.9999999999998, 201.37, 549.3899999999998, 203.85999999999999, 226.75999999999996, 107.21000000000001, 1095.2900000000004, 95.45, 256.32, 541.3899999999999, 152.05999999999997, 154.55, 112.19999999999999, 110.38000000000001, 181.06999999999994, 798.9899999999999, 72.89999999999999, 222.32999999999996, 366.23, 310.05999999999983, 393.16, 329.35999999999996, 319.88, 1304.0400000000002, 4070.849999999997, 813.6300000000001, 207.50000000000003, 2962.499999999999, 244.08, 397.28999999999996, 184.46, 843.0, 1740.4799999999996, 408.35999999999984, 1321.3700000000006, 704.2499999999999, 142.89000000000001, 380.13, 4301.219999999999, 87.58, 2152.1800000000003, 304.56, 77.50000000000001, 149.57999999999998, 176.68, 358.56000000000006, 56302.48000000001, 482.1999999999998, 1008.5400000000002, 2288.33, 557.3, 12.75, 110.72000000000001, 508.4599999999999, 69.88, 1289.3400000000006, 102.41000000000003, 439.2099999999999, 2548.4399999999996, 1032.4800000000002, 110.62, 255.74999999999994, 228.20000000000002, 562.7900000000001, 135.19, 337.04, 688.1399999999999, 4472.460000000003, 321.78999999999985, 257.54, 285.92, 724.01, 796.4499999999999, 152.68000000000004, 631.35, 20.8, 198.57, 201.11999999999995, 610.2600000000001, 93.35, 674.8899999999995, 76.1, 1954.1400000000008, 380.3899999999997, 415.12999999999994, 144.52000000000004, 223.22, 444.68, 2099.19, 247.39000000000001, 174.79999999999998, 97.69000000000001, 187.29000000000002, 149.32, 120.03000000000002, 1438.16, 523.0, 122.13999999999999, 28.5, 612.7199999999998, 389.7799999999999, 115.30999999999999, 210.74999999999997, 73.5, 93.82000000000004, 410.92999999999995, 661.5899999999998, 403.1199999999999, 70.02000000000001, 357.20000000000005, 4012.0099999999966, 165.05, 521.0099999999996, 2088.6, 178.33999999999997, 172.29000000000002, 74.4, 300.02, 6647.039999999999, 363.64999999999986, 170.16, 306.46000000000004, 2119.4100000000003, 720.5200000000001, 618.5, 2254.99, 318.0, 396.3299999999999, 101.69999999999999, 2002.2500000000014, 453.0, 247.44000000000005, 3859.8200000000015, 489.6, 2564.5600000000018, 2537.1300000000006, 336.12999999999994, 3352.789999999998, 1231.5, 343.45000000000005, 680.8399999999997, 90.47999999999999, 689.95, 101.34, 3202.9199999999996, 155.83, 9068.260000000002, 2106.52, 2996.4999999999995, 564.4499999999999, 842.3099999999995, 2587.099999999998, 168.31000000000003, 222.40000000000003, 250897.8500000001, 754.6399999999998, 113.48, 421.89999999999986, 271.0, 7938.619999999992, 198.80000000000007, 352.6899999999999, 220.1, 1392.9100000000008, 314.40000000000015, 5457.499999999971, 180.7, 111.15000000000002, 653.3, 1785.940000000001, 574.4400000000002, 1096.0499999999995, 198.5800000000001, 331.28, 112.54999999999998, 1059.3900000000006, 931.4999999999999, 681.91, 784.33, 152.65, 8408.099999999999, 1019.5200000000001, 962.0199999999998, 2888.7499999999995, 2725.05, 160.35000000000002, 179.34, 612.08, 566.5799999999998, 653.3499999999999, 399.19, 371.62, 665.0900000000001, 453.40000000000003, 530.1500000000001, 592.1600000000001, 1608.1900000000005, 389.15, 302.46000000000004, 1384.8600000000006, 1153.2400000000005, 202.65, 962.4100000000001, 1231.3099999999995, 7452.78, 2106.84, 104.0, 476.34999999999997, 1228.9699999999996, 1574.31, 1766.1700000000003, 1843.7500000000007, 358.94999999999993, 616.4699999999999, 49.8, 304.25, 1897.12, 1090.2399999999996, 284.46, 207.79999999999998, 957.9699999999995, 243.76000000000005, 973.8399999999999, 683.68, 5304.960000000002, 150.34999999999997, 1338.6899999999998, 160.41999999999996, 1973.4000000000017, 507.40999999999997, 121.4, 2551.1800000000017, 600.07, 216.07000000000005, 232.48000000000002, 299.34000000000003, 481.7500000000001, 621.75, 641.92, 2038.1700000000003, 305.28000000000003, 1041.61, 443.0, 6330.040000000005, 158.95, 5443.860000000001, 5163.750000000006, 93.75, 734.9000000000001, 7210.900000000001, 2484.7599999999993, 2071.7699999999986, 592.9699999999998, 440.0, 1796.480000000001, 804.5999999999999, 987.0999999999998, 1504.6100000000006, 422.58000000000004, 2073.09, 2136.4900000000002, 2507.21, 596.1, 804.02, 95.34, 349.27000000000004, 4314.72, 509.41999999999985, 103.3, 2167.0399999999995, 2338.6000000000004, 2614.8499999999995, 324.24000000000007, 149.48000000000002, 1213.16, 801.51, 25.5, 168.6, 283.15000000000003, 3036.339999999998, 204.0, 175.92000000000002, 335.86, 110.38, 173.90000000000003, 180.60000000000002, 64.32, 178.04999999999998, 1966.9300000000019, 1837.28], \"y0\": \" \", \"yaxis\": \"y\"}],\n",
              "                        {\"boxmode\": \"group\", \"legend\": {\"tracegroupgap\": 0}, \"template\": {\"data\": {\"bar\": [{\"error_x\": {\"color\": \"#2a3f5f\"}, \"error_y\": {\"color\": \"#2a3f5f\"}, \"marker\": {\"line\": {\"color\": \"#E5ECF6\", \"width\": 0.5}}, \"type\": \"bar\"}], \"barpolar\": [{\"marker\": {\"line\": {\"color\": \"#E5ECF6\", \"width\": 0.5}}, \"type\": \"barpolar\"}], \"carpet\": [{\"aaxis\": {\"endlinecolor\": \"#2a3f5f\", \"gridcolor\": \"white\", \"linecolor\": \"white\", \"minorgridcolor\": \"white\", \"startlinecolor\": \"#2a3f5f\"}, \"baxis\": {\"endlinecolor\": \"#2a3f5f\", \"gridcolor\": \"white\", \"linecolor\": \"white\", \"minorgridcolor\": \"white\", \"startlinecolor\": \"#2a3f5f\"}, \"type\": \"carpet\"}], \"choropleth\": [{\"colorbar\": {\"outlinewidth\": 0, \"ticks\": \"\"}, \"type\": \"choropleth\"}], \"contour\": [{\"colorbar\": {\"outlinewidth\": 0, \"ticks\": \"\"}, \"colorscale\": [[0.0, \"#0d0887\"], [0.1111111111111111, \"#46039f\"], [0.2222222222222222, \"#7201a8\"], [0.3333333333333333, \"#9c179e\"], [0.4444444444444444, \"#bd3786\"], [0.5555555555555556, \"#d8576b\"], [0.6666666666666666, \"#ed7953\"], [0.7777777777777778, \"#fb9f3a\"], [0.8888888888888888, \"#fdca26\"], [1.0, \"#f0f921\"]], \"type\": \"contour\"}], \"contourcarpet\": [{\"colorbar\": {\"outlinewidth\": 0, \"ticks\": \"\"}, \"type\": \"contourcarpet\"}], \"heatmap\": [{\"colorbar\": {\"outlinewidth\": 0, \"ticks\": \"\"}, \"colorscale\": [[0.0, \"#0d0887\"], [0.1111111111111111, \"#46039f\"], [0.2222222222222222, \"#7201a8\"], [0.3333333333333333, \"#9c179e\"], [0.4444444444444444, \"#bd3786\"], [0.5555555555555556, \"#d8576b\"], [0.6666666666666666, \"#ed7953\"], [0.7777777777777778, \"#fb9f3a\"], [0.8888888888888888, \"#fdca26\"], [1.0, \"#f0f921\"]], \"type\": \"heatmap\"}], \"heatmapgl\": [{\"colorbar\": {\"outlinewidth\": 0, \"ticks\": \"\"}, \"colorscale\": [[0.0, \"#0d0887\"], [0.1111111111111111, \"#46039f\"], [0.2222222222222222, \"#7201a8\"], [0.3333333333333333, \"#9c179e\"], [0.4444444444444444, \"#bd3786\"], [0.5555555555555556, \"#d8576b\"], [0.6666666666666666, \"#ed7953\"], [0.7777777777777778, \"#fb9f3a\"], [0.8888888888888888, \"#fdca26\"], [1.0, \"#f0f921\"]], \"type\": \"heatmapgl\"}], \"histogram\": [{\"marker\": {\"colorbar\": {\"outlinewidth\": 0, \"ticks\": \"\"}}, \"type\": \"histogram\"}], \"histogram2d\": [{\"colorbar\": {\"outlinewidth\": 0, \"ticks\": \"\"}, \"colorscale\": [[0.0, \"#0d0887\"], [0.1111111111111111, \"#46039f\"], [0.2222222222222222, \"#7201a8\"], [0.3333333333333333, \"#9c179e\"], [0.4444444444444444, \"#bd3786\"], [0.5555555555555556, \"#d8576b\"], [0.6666666666666666, \"#ed7953\"], [0.7777777777777778, \"#fb9f3a\"], [0.8888888888888888, \"#fdca26\"], [1.0, \"#f0f921\"]], \"type\": \"histogram2d\"}], \"histogram2dcontour\": [{\"colorbar\": {\"outlinewidth\": 0, \"ticks\": \"\"}, \"colorscale\": [[0.0, \"#0d0887\"], [0.1111111111111111, \"#46039f\"], [0.2222222222222222, \"#7201a8\"], [0.3333333333333333, \"#9c179e\"], [0.4444444444444444, \"#bd3786\"], [0.5555555555555556, \"#d8576b\"], [0.6666666666666666, \"#ed7953\"], [0.7777777777777778, \"#fb9f3a\"], [0.8888888888888888, \"#fdca26\"], [1.0, \"#f0f921\"]], \"type\": \"histogram2dcontour\"}], \"mesh3d\": [{\"colorbar\": {\"outlinewidth\": 0, \"ticks\": \"\"}, \"type\": \"mesh3d\"}], \"parcoords\": [{\"line\": {\"colorbar\": {\"outlinewidth\": 0, \"ticks\": \"\"}}, \"type\": \"parcoords\"}], \"pie\": [{\"automargin\": true, \"type\": \"pie\"}], \"scatter\": [{\"marker\": {\"colorbar\": {\"outlinewidth\": 0, \"ticks\": \"\"}}, \"type\": \"scatter\"}], \"scatter3d\": [{\"line\": {\"colorbar\": {\"outlinewidth\": 0, \"ticks\": \"\"}}, \"marker\": {\"colorbar\": {\"outlinewidth\": 0, \"ticks\": \"\"}}, \"type\": \"scatter3d\"}], \"scattercarpet\": [{\"marker\": {\"colorbar\": {\"outlinewidth\": 0, \"ticks\": \"\"}}, \"type\": \"scattercarpet\"}], \"scattergeo\": [{\"marker\": {\"colorbar\": {\"outlinewidth\": 0, \"ticks\": \"\"}}, \"type\": \"scattergeo\"}], \"scattergl\": [{\"marker\": {\"colorbar\": {\"outlinewidth\": 0, \"ticks\": \"\"}}, \"type\": \"scattergl\"}], \"scattermapbox\": [{\"marker\": {\"colorbar\": {\"outlinewidth\": 0, \"ticks\": \"\"}}, \"type\": \"scattermapbox\"}], \"scatterpolar\": [{\"marker\": {\"colorbar\": {\"outlinewidth\": 0, \"ticks\": \"\"}}, \"type\": \"scatterpolar\"}], \"scatterpolargl\": [{\"marker\": {\"colorbar\": {\"outlinewidth\": 0, \"ticks\": \"\"}}, \"type\": \"scatterpolargl\"}], \"scatterternary\": [{\"marker\": {\"colorbar\": {\"outlinewidth\": 0, \"ticks\": \"\"}}, \"type\": \"scatterternary\"}], \"surface\": [{\"colorbar\": {\"outlinewidth\": 0, \"ticks\": \"\"}, \"colorscale\": [[0.0, \"#0d0887\"], [0.1111111111111111, \"#46039f\"], [0.2222222222222222, \"#7201a8\"], [0.3333333333333333, \"#9c179e\"], [0.4444444444444444, \"#bd3786\"], [0.5555555555555556, \"#d8576b\"], [0.6666666666666666, \"#ed7953\"], [0.7777777777777778, \"#fb9f3a\"], [0.8888888888888888, \"#fdca26\"], [1.0, \"#f0f921\"]], \"type\": \"surface\"}], \"table\": [{\"cells\": {\"fill\": {\"color\": \"#EBF0F8\"}, \"line\": {\"color\": \"white\"}}, \"header\": {\"fill\": {\"color\": \"#C8D4E3\"}, \"line\": {\"color\": \"white\"}}, \"type\": \"table\"}]}, \"layout\": {\"annotationdefaults\": {\"arrowcolor\": \"#2a3f5f\", \"arrowhead\": 0, \"arrowwidth\": 1}, \"coloraxis\": {\"colorbar\": {\"outlinewidth\": 0, \"ticks\": \"\"}}, \"colorscale\": {\"diverging\": [[0, \"#8e0152\"], [0.1, \"#c51b7d\"], [0.2, \"#de77ae\"], [0.3, \"#f1b6da\"], [0.4, \"#fde0ef\"], [0.5, \"#f7f7f7\"], [0.6, \"#e6f5d0\"], [0.7, \"#b8e186\"], [0.8, \"#7fbc41\"], [0.9, \"#4d9221\"], [1, \"#276419\"]], \"sequential\": [[0.0, \"#0d0887\"], [0.1111111111111111, \"#46039f\"], [0.2222222222222222, \"#7201a8\"], [0.3333333333333333, \"#9c179e\"], [0.4444444444444444, \"#bd3786\"], [0.5555555555555556, \"#d8576b\"], [0.6666666666666666, \"#ed7953\"], [0.7777777777777778, \"#fb9f3a\"], [0.8888888888888888, \"#fdca26\"], [1.0, \"#f0f921\"]], \"sequentialminus\": [[0.0, \"#0d0887\"], [0.1111111111111111, \"#46039f\"], [0.2222222222222222, \"#7201a8\"], [0.3333333333333333, \"#9c179e\"], [0.4444444444444444, \"#bd3786\"], [0.5555555555555556, \"#d8576b\"], [0.6666666666666666, \"#ed7953\"], [0.7777777777777778, \"#fb9f3a\"], [0.8888888888888888, \"#fdca26\"], [1.0, \"#f0f921\"]]}, \"colorway\": [\"#636efa\", \"#EF553B\", \"#00cc96\", \"#ab63fa\", \"#FFA15A\", \"#19d3f3\", \"#FF6692\", \"#B6E880\", \"#FF97FF\", \"#FECB52\"], \"font\": {\"color\": \"#2a3f5f\"}, \"geo\": {\"bgcolor\": \"white\", \"lakecolor\": \"white\", \"landcolor\": \"#E5ECF6\", \"showlakes\": true, \"showland\": true, \"subunitcolor\": \"white\"}, \"hoverlabel\": {\"align\": \"left\"}, \"hovermode\": \"closest\", \"mapbox\": {\"style\": \"light\"}, \"paper_bgcolor\": \"white\", \"plot_bgcolor\": \"#E5ECF6\", \"polar\": {\"angularaxis\": {\"gridcolor\": \"white\", \"linecolor\": \"white\", \"ticks\": \"\"}, \"bgcolor\": \"#E5ECF6\", \"radialaxis\": {\"gridcolor\": \"white\", \"linecolor\": \"white\", \"ticks\": \"\"}}, \"scene\": {\"xaxis\": {\"backgroundcolor\": \"#E5ECF6\", \"gridcolor\": \"white\", \"gridwidth\": 2, \"linecolor\": \"white\", \"showbackground\": true, \"ticks\": \"\", \"zerolinecolor\": \"white\"}, \"yaxis\": {\"backgroundcolor\": \"#E5ECF6\", \"gridcolor\": \"white\", \"gridwidth\": 2, \"linecolor\": \"white\", \"showbackground\": true, \"ticks\": \"\", \"zerolinecolor\": \"white\"}, \"zaxis\": {\"backgroundcolor\": \"#E5ECF6\", \"gridcolor\": \"white\", \"gridwidth\": 2, \"linecolor\": \"white\", \"showbackground\": true, \"ticks\": \"\", \"zerolinecolor\": \"white\"}}, \"shapedefaults\": {\"line\": {\"color\": \"#2a3f5f\"}}, \"ternary\": {\"aaxis\": {\"gridcolor\": \"white\", \"linecolor\": \"white\", \"ticks\": \"\"}, \"baxis\": {\"gridcolor\": \"white\", \"linecolor\": \"white\", \"ticks\": \"\"}, \"bgcolor\": \"#E5ECF6\", \"caxis\": {\"gridcolor\": \"white\", \"linecolor\": \"white\", \"ticks\": \"\"}}, \"title\": {\"x\": 0.05}, \"xaxis\": {\"automargin\": true, \"gridcolor\": \"white\", \"linecolor\": \"white\", \"ticks\": \"\", \"title\": {\"standoff\": 15}, \"zerolinecolor\": \"white\", \"zerolinewidth\": 2}, \"yaxis\": {\"automargin\": true, \"gridcolor\": \"white\", \"linecolor\": \"white\", \"ticks\": \"\", \"title\": {\"standoff\": 15}, \"zerolinecolor\": \"white\", \"zerolinewidth\": 2}}}, \"title\": {\"text\": \"Monetary Boxplot\"}, \"xaxis\": {\"anchor\": \"y\", \"domain\": [0.0, 1.0], \"title\": {\"text\": \"clusters\"}}, \"yaxis\": {\"anchor\": \"x\", \"domain\": [0.0, 1.0], \"title\": {\"text\": \"monetary\"}}},\n",
              "                        {\"responsive\": true}\n",
              "                    ).then(function(){\n",
              "                            \n",
              "var gd = document.getElementById('eae95f39-df90-4583-b338-297d1f48c8a3');\n",
              "var x = new MutationObserver(function (mutations, observer) {{\n",
              "        var display = window.getComputedStyle(gd).display;\n",
              "        if (!display || display === 'none') {{\n",
              "            console.log([gd, 'removed!']);\n",
              "            Plotly.purge(gd);\n",
              "            observer.disconnect();\n",
              "        }}\n",
              "}});\n",
              "\n",
              "// Listen for the removal of the full notebook cells\n",
              "var notebookContainer = gd.closest('#notebook-container');\n",
              "if (notebookContainer) {{\n",
              "    x.observe(notebookContainer, {childList: true});\n",
              "}}\n",
              "\n",
              "// Listen for the clearing of the current output cell\n",
              "var outputEl = gd.closest('.output');\n",
              "if (outputEl) {{\n",
              "    x.observe(outputEl, {childList: true});\n",
              "}}\n",
              "\n",
              "                        })\n",
              "                };\n",
              "                \n",
              "            </script>\n",
              "        </div>\n",
              "</body>\n",
              "</html>"
            ]
          },
          "metadata": {
            "tags": []
          }
        }
      ]
    },
    {
      "cell_type": "markdown",
      "metadata": {
        "id": "CbBrwdps0nT8"
      },
      "source": [
        "## Model Evaluation"
      ]
    },
    {
      "cell_type": "code",
      "metadata": {
        "id": "0qH7dfcw0qcW",
        "colab": {
          "base_uri": "https://localhost:8080/"
        },
        "outputId": "c2b275dc-7182-4cfb-9d37-bb6e9daf1a9e"
      },
      "source": [
        "# validation using DBI\r\n",
        "davies_bouldin_score(cust_df, labels)"
      ],
      "execution_count": 33,
      "outputs": [
        {
          "output_type": "execute_result",
          "data": {
            "text/plain": [
              "0.38663749549235477"
            ]
          },
          "metadata": {
            "tags": []
          },
          "execution_count": 33
        }
      ]
    }
  ]
}